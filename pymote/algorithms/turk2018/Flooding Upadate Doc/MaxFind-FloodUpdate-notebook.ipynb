{
 "cells": [
  {
   "cell_type": "code",
   "execution_count": null,
   "metadata": {
    "collapsed": false
   },
   "outputs": [],
   "source": [
    "%load_ext autoreload\n",
    "%autoreload 2\n",
    "%reload_ext autoreload"
   ]
  },
  {
   "cell_type": "markdown",
   "metadata": {},
   "source": [
    "# Maximum Find"
   ]
  },
  {
   "cell_type": "markdown",
   "metadata": {},
   "source": [
    "### FloodingUpdate\n",
    "* *Raspodijeljeni* algoritmi se implementiraju kao podklase od `NodeAlgorithm`. Raspodijeljeni algoritmi mogu koristiti samo informacije spremljene u samoj memoriji čvora te one dobivene očitanjem osjetila koje pojeduje čvor.\n",
    "\n",
    "Svaki node prosljeđuje poruku svojim susjedima dokle god informacija koju primi osvježuju njegovo znanje odnosno zadovoljava uvijet prosljeđivanja. "
   ]
  },
  {
   "cell_type": "code",
   "execution_count": null,
   "metadata": {
    "collapsed": false
   },
   "outputs": [],
   "source": [
    "from pymote.message import Message\n",
    "from pymote.algorithm import NodeAlgorithm\n",
    "\n",
    "class FloodingUpdate(NodeAlgorithm):\n",
    "    \"\"\"\n",
    "    This is modified Flooding algorithm (Santoro2007 p.13) so that every node\n",
    "    continues to forward flood messages as long as information gathered is updating its knowledge.\n",
    "    Note: does not have global termination detection\n",
    "    \"\"\"\n",
    "    required_params = ('dataKey',)\n",
    "    default_params = {'neighborsKey':'Neighbors','msgKey':'MessageCount'}\n",
    "    \n",
    "    def initializer(self):\n",
    "        \"\"\" Starts in every node satisfying initiator condition. \"\"\"\n",
    "        for node in self.network.nodes():\n",
    "            node.memory[self.neighborsKey] = node.compositeSensor.read()['Neighbors'] #removing sender from destination\n",
    "            if self.initiator_condition(node):\n",
    "                self.network.outbox.insert(0, Message(destination=node,\n",
    "                                                     header=NodeAlgorithm.INI))\n",
    "                node.memory['msgKey']=0\n",
    "                node.status = 'FLOODING'\n",
    "            \n",
    "            \n",
    "\n",
    "    def flooding(self, node, message):\n",
    "        if message.header == NodeAlgorithm.INI:\n",
    "            node.send(Message(header='Flood',\n",
    "                              data=self.initiator_data(node)))\n",
    "            node.memory['msgKey'] = node.memory['msgKey']+ len(list(node.memory[self.neighborsKey]))\n",
    "\n",
    "        if message.header == 'Flood':\n",
    "            updated_data = self.handle_flood_message(node, message)\n",
    "            if updated_data:\n",
    "                destination_nodes = list(node.memory[self.neighborsKey])\n",
    "                destination_nodes.remove(message.source) # send to every neighbor-sender\n",
    "                \n",
    "                node.memory['msgKey']=node.memory['msgKey']+len(destination_nodes)\n",
    "                node.send(Message(destination=destination_nodes,header='Flood',\n",
    "                                  data=updated_data))\n",
    "\n",
    "    def initiator_condition(self, node):\n",
    "        raise NotImplementedError\n",
    "\n",
    "    def initiator_data(self, node):\n",
    "        raise NotImplementedError\n",
    "\n",
    "    def handle_flood_message(self, node, message):\n",
    "        raise NotImplementedError\n",
    "\n",
    "    STATUS = {'FLOODING': flooding,  # init,term\n",
    "              }\n"
   ]
  },
  {
   "cell_type": "markdown",
   "metadata": {},
   "source": [
    "### Temperature Sensor"
   ]
  },
  {
   "cell_type": "code",
   "execution_count": null,
   "metadata": {
    "collapsed": false
   },
   "outputs": [],
   "source": [
    "from pymote.sensor import Sensor\n",
    "import random\n",
    "class TempSensor(Sensor):\n",
    "\n",
    "    def read(self,node):\n",
    "        return {'Temperature': random.randrange(-15,40,1)}\n"
   ]
  },
  {
   "cell_type": "markdown",
   "metadata": {},
   "source": [
    "### MaxFind\n",
    "Ukoliko primi poruku s temperaturom većom od njemu trenutno poznate najveće temperature prosljeđuje poruku susjedima."
   ]
  },
  {
   "cell_type": "code",
   "execution_count": null,
   "metadata": {
    "collapsed": false
   },
   "outputs": [],
   "source": [
    "class MaxFind(FloodingUpdate):\n",
    "\n",
    "    default_params = {'temperatureKey':'Temperature','neighborsKey': 'Neighbors','maxKey':'Max'}\n",
    "    def initiator_condition(self, node):\n",
    "        #svi će biti iniciatori        \n",
    "        node.compositeSensor=(TempSensor,'Temperature')\n",
    "        node.memory[self.temperatureKey]=node.compositeSensor.read()['Temperature']\n",
    "        node.memory[self.maxKey]=node.memory[self.temperatureKey]      \n",
    "        #trenutna najveća je njegova, jedina koju ima    \n",
    "        return node.memory[self.maxKey] is not None\n",
    "\n",
    "    def initiator_data(self, node):\n",
    "        #node.memory[self.msgKey] = 1\n",
    "        return node.memory[self.maxKey]\n",
    "        #ovdje ne smije biti read, jer bi svaki puta očitao drugačiju temperaturu\n",
    "                      \n",
    "    def handle_flood_message(self, node, message):\n",
    "        \n",
    "        if message.data > node.memory[self.maxKey]:\n",
    "            node.memory[self.maxKey]=message.data\n",
    "            #node.memory[self.msgKey]=node.memory[self.msgKey]+1\n",
    "            #node.memory[self.msgKey]=node.memory[self.msgKey]+\n",
    "            return message.data\n",
    "\n",
    "\n",
    "    STATUS = {'FLOODING':FloodingUpdate.STATUS.get('FLOODING'),  # init,term \n",
    "             }"
   ]
  },
  {
   "cell_type": "markdown",
   "metadata": {},
   "source": [
    "## Eksperimentalna analiza"
   ]
  },
  {
   "cell_type": "code",
   "execution_count": null,
   "metadata": {
    "collapsed": true
   },
   "outputs": [],
   "source": [
    "from pymote.networkgenerator import NetworkGenerator\n",
    "from pymote.network import Network\n",
    "from pymote.npickle import write_pickle, read_pickle"
   ]
  },
  {
   "cell_type": "markdown",
   "metadata": {},
   "source": [
    "### Random Mreža"
   ]
  },
  {
   "cell_type": "code",
   "execution_count": null,
   "metadata": {
    "collapsed": false,
    "scrolled": true
   },
   "outputs": [],
   "source": [
    "net_gen = NetworkGenerator(15)\n",
    "net = net_gen.generate_random_network()\n",
    "write_pickle(net,'mrezaRandom.tar.gz')"
   ]
  },
  {
   "cell_type": "code",
   "execution_count": null,
   "metadata": {
    "collapsed": false
   },
   "outputs": [],
   "source": [
    "net.show() #po gašenju izaziva Dead Kernel"
   ]
  },
  {
   "cell_type": "markdown",
   "metadata": {},
   "source": [
    "### Mreža Lanac (n = 4, m = 5)"
   ]
  },
  {
   "cell_type": "code",
   "execution_count": null,
   "metadata": {
    "collapsed": false
   },
   "outputs": [],
   "source": [
    "net = Network()\n",
    "n = 5\n",
    "u = 100\n",
    "for i in range(0,n*u,u):\n",
    "    node = net.add_node(pos=[1,i])\n",
    "    node.commRange=110\n",
    "    \n",
    "write_pickle(net,'mrezaList.tar.gz')"
   ]
  },
  {
   "cell_type": "markdown",
   "metadata": {},
   "source": [
    "### Mreža Zvijezda (n = 4, m = 5)"
   ]
  },
  {
   "cell_type": "code",
   "execution_count": null,
   "metadata": {
    "collapsed": false
   },
   "outputs": [],
   "source": [
    "net = Network()\n",
    "n = 3\n",
    "for i in range(100,(n+1)*100,100):\n",
    "    node= net.add_node(pos=[i,i])\n",
    "    node.commRange=200\n",
    "\n",
    "node= net.add_node(pos=[100,300])\n",
    "node.commRange=200\n",
    "node= net.add_node(pos=[300,100])\n",
    "node.commRange=200\n",
    "\n",
    "write_pickle(net,'mrezaZvijezda.tar.gz')"
   ]
  },
  {
   "cell_type": "markdown",
   "metadata": {},
   "source": [
    "## Simulacija"
   ]
  },
  {
   "cell_type": "code",
   "execution_count": 1,
   "metadata": {
    "collapsed": false
   },
   "outputs": [],
   "source": [
    "#Import Classes- classes defind in notebook won't be used\n",
    "from pymote.algorithms.turk2018.UpdateMax import MaxFind"
   ]
  },
  {
   "cell_type": "code",
   "execution_count": 2,
   "metadata": {
    "collapsed": false,
    "scrolled": true
   },
   "outputs": [
    {
     "name": "stdout",
     "output_type": "stream",
     "text": [
      "DEBUG   [simulation.py]: Simulation 0x10a4fe18 created successfully.\n"
     ]
    },
    {
     "name": "stderr",
     "output_type": "stream",
     "text": [
      "DEBUG:pymote.simulation:Simulation 0x10a4fe18 created successfully.\n"
     ]
    },
    {
     "name": "stdout",
     "output_type": "stream",
     "text": [
      "WARNING [__init__.py]: Environment variable PYMOTE_SETTINGS_MODULE is undefined, using global_settings.\n"
     ]
    },
    {
     "name": "stderr",
     "output_type": "stream",
     "text": [
      "WARNING:pymote:Environment variable PYMOTE_SETTINGS_MODULE is undefined, using global_settings.\n"
     ]
    },
    {
     "name": "stdout",
     "output_type": "stream",
     "text": [
      "DEBUG   [simulation.py]: [MaxFind] Step 1 finished\n"
     ]
    },
    {
     "name": "stderr",
     "output_type": "stream",
     "text": [
      "DEBUG:pymote.simulation:[MaxFind] Step 1 finished\n"
     ]
    },
    {
     "name": "stdout",
     "output_type": "stream",
     "text": [
      "DEBUG   [simulation.py]: [MaxFind] Step 2 finished\n"
     ]
    },
    {
     "name": "stderr",
     "output_type": "stream",
     "text": [
      "DEBUG:pymote.simulation:[MaxFind] Step 2 finished\n"
     ]
    },
    {
     "name": "stdout",
     "output_type": "stream",
     "text": [
      "DEBUG   [simulation.py]: [MaxFind] Step 3 finished\n"
     ]
    },
    {
     "name": "stderr",
     "output_type": "stream",
     "text": [
      "DEBUG:pymote.simulation:[MaxFind] Step 3 finished\n"
     ]
    },
    {
     "name": "stdout",
     "output_type": "stream",
     "text": [
      "DEBUG   [simulation.py]: [MaxFind] Step 4 finished\n"
     ]
    },
    {
     "name": "stderr",
     "output_type": "stream",
     "text": [
      "DEBUG:pymote.simulation:[MaxFind] Step 4 finished\n"
     ]
    },
    {
     "name": "stdout",
     "output_type": "stream",
     "text": [
      "DEBUG   [simulation.py]: [MaxFind] Step 5 finished\n"
     ]
    },
    {
     "name": "stderr",
     "output_type": "stream",
     "text": [
      "DEBUG:pymote.simulation:[MaxFind] Step 5 finished\n"
     ]
    },
    {
     "name": "stdout",
     "output_type": "stream",
     "text": [
      "DEBUG   [simulation.py]: [MaxFind] Step 6 finished\n"
     ]
    },
    {
     "name": "stderr",
     "output_type": "stream",
     "text": [
      "DEBUG:pymote.simulation:[MaxFind] Step 6 finished\n"
     ]
    },
    {
     "name": "stdout",
     "output_type": "stream",
     "text": [
      "DEBUG   [simulation.py]: [MaxFind] Step 7 finished\n"
     ]
    },
    {
     "name": "stderr",
     "output_type": "stream",
     "text": [
      "DEBUG:pymote.simulation:[MaxFind] Step 7 finished\n"
     ]
    },
    {
     "name": "stdout",
     "output_type": "stream",
     "text": [
      "DEBUG   [simulation.py]: [MaxFind] Step 8 finished\n"
     ]
    },
    {
     "name": "stderr",
     "output_type": "stream",
     "text": [
      "DEBUG:pymote.simulation:[MaxFind] Step 8 finished\n"
     ]
    },
    {
     "name": "stdout",
     "output_type": "stream",
     "text": [
      "DEBUG   [simulation.py]: [MaxFind] Step 9 finished\n"
     ]
    },
    {
     "name": "stderr",
     "output_type": "stream",
     "text": [
      "DEBUG:pymote.simulation:[MaxFind] Step 9 finished\n"
     ]
    },
    {
     "name": "stdout",
     "output_type": "stream",
     "text": [
      "DEBUG   [simulation.py]: [MaxFind] Step 10 finished\n"
     ]
    },
    {
     "name": "stderr",
     "output_type": "stream",
     "text": [
      "DEBUG:pymote.simulation:[MaxFind] Step 10 finished\n"
     ]
    },
    {
     "name": "stdout",
     "output_type": "stream",
     "text": [
      "DEBUG   [simulation.py]: [MaxFind] Algorithm finished\n"
     ]
    },
    {
     "name": "stderr",
     "output_type": "stream",
     "text": [
      "DEBUG:pymote.simulation:[MaxFind] Algorithm finished\n"
     ]
    },
    {
     "name": "stdout",
     "output_type": "stream",
     "text": [
      "INFO    [simulation.py]: Simulation has finished. There are no algorithms left to run. To run it from the start use sim.reset().\n"
     ]
    },
    {
     "name": "stderr",
     "output_type": "stream",
     "text": [
      "INFO:pymote.simulation:Simulation has finished. There are no algorithms left to run. To run it from the start use sim.reset().\n"
     ]
    },
    {
     "name": "stdout",
     "output_type": "stream",
     "text": [
      "33\n",
      "{'Neighbors': [<Node id=187>], 'Max': 33, 'Temperature': 11, 'msgKey': 1}\n",
      "FLOODING\n",
      "33\n",
      "{'Neighbors': [<Node id=188>, <Node id=186>], 'Max': 33, 'Temperature': 30, 'msgKey': 3}\n",
      "FLOODING\n",
      "33\n",
      "{'Neighbors': [<Node id=187>, <Node id=189>], 'Max': 33, 'Temperature': 10, 'msgKey': 4}\n",
      "FLOODING\n",
      "33\n",
      "{'Neighbors': [<Node id=188>, <Node id=190>], 'Max': 33, 'Temperature': -12, 'msgKey': 3}\n",
      "FLOODING\n",
      "33\n",
      "{'Neighbors': [<Node id=189>], 'Max': 33, 'Temperature': 33, 'msgKey': 1}\n",
      "FLOODING\n",
      "Number of nodes:\n",
      "5\n",
      "Number of edges:\n",
      "4\n",
      "Total number of messages:\n",
      "12\n"
     ]
    }
   ],
   "source": [
    "from pymote.networkgenerator import NetworkGenerator\n",
    "from pymote.network import Network\n",
    "from pymote.npickle import write_pickle, read_pickle\n",
    "\n",
    "from pymote.simulation import Simulation\n",
    "\n",
    "#net = read_pickle('mrezaRandom.tar.gz') \n",
    "net = read_pickle('mrezaList.tar.gz')\n",
    "#net = read_pickle('mrezaZvijezda.tar.gz')\n",
    "\n",
    "net.algorithms = ( (MaxFind, {'dataKey':'D'}), )\n",
    "sim = Simulation(net)\n",
    "sim.run()\n",
    "\n",
    "suma=0\n",
    "\n",
    "for node in net.nodes():\n",
    "    print node.memory['Max']\n",
    "    print node.memory\n",
    "    print node.status\n",
    "    suma=suma+node.memory['msgKey']\n",
    "print \"Number of nodes:\"\n",
    "print len(list(net.nodes()))\n",
    "print \"Number of edges:\"\n",
    "print len(list(net.edges()))\n",
    "print \"Total number of messages:\"\n",
    "print suma"
   ]
  }
 ],
 "metadata": {
  "kernelspec": {
   "display_name": "Python 2",
   "language": "python",
   "name": "python2"
  },
  "language_info": {
   "codemirror_mode": {
    "name": "ipython",
    "version": 2
   },
   "file_extension": ".py",
   "mimetype": "text/x-python",
   "name": "python",
   "nbconvert_exporter": "python",
   "pygments_lexer": "ipython2",
   "version": "2.7.10"
  }
 },
 "nbformat": 4,
 "nbformat_minor": 0
}
