{
 "cells": [
  {
   "cell_type": "markdown",
   "metadata": {},
   "source": [
    "# Saturation - Maximum Finding And Finding Eccentricties"
   ]
  },
  {
   "cell_type": "code",
   "execution_count": 1,
   "metadata": {
    "collapsed": false
   },
   "outputs": [],
   "source": [
    "%load_ext autoreload\n",
    "%autoreload 2\n",
    "%reload_ext autoreload"
   ]
  },
  {
   "cell_type": "markdown",
   "metadata": {},
   "source": [
    "### Computation in Trees\n",
    "Saturation is basic and useful technique that can be employed to efficiently solve any problems in TREES regardless of the number of initiators and their location"
   ]
  },
  {
   "cell_type": "code",
   "execution_count": 2,
   "metadata": {
    "collapsed": false
   },
   "outputs": [
    {
     "name": "stdout",
     "output_type": "stream",
     "text": [
      "WARNING [__init__.py]: Environment variable PYMOTE_SETTINGS_MODULE is undefined, using global_settings.\n"
     ]
    },
    {
     "name": "stderr",
     "output_type": "stream",
     "text": [
      "WARNING:pymote:Environment variable PYMOTE_SETTINGS_MODULE is undefined, using global_settings.\n"
     ]
    }
   ],
   "source": [
    "from pymote import NetworkGenerator\n",
    "from pymote.simulation import Simulation\n",
    "from networkx import minimum_spanning_tree\n",
    "from pymote.npickle import write_pickle\n",
    "\n",
    "net_gen = NetworkGenerator(30)\n",
    "net = net_gen.generate_random_network()\n",
    "graph_tree = minimum_spanning_tree(net)\n",
    "net.adj = graph_tree.adj"
   ]
  },
  {
   "cell_type": "code",
   "execution_count": null,
   "metadata": {
    "collapsed": true
   },
   "outputs": [],
   "source": []
  },
  {
   "cell_type": "markdown",
   "metadata": {},
   "source": [
    "## Saturation"
   ]
  },
  {
   "cell_type": "code",
   "execution_count": null,
   "metadata": {
    "collapsed": false
   },
   "outputs": [],
   "source": [
    "from pymote.algorithms.turk2018.saturation import Saturation\n",
    "net.algorithms = (Saturation, )\n",
    "write_pickle(net,'mrezaSaturation.tar.gz')"
   ]
  },
  {
   "cell_type": "markdown",
   "metadata": {},
   "source": [
    "## MaxFind"
   ]
  },
  {
   "cell_type": "code",
   "execution_count": null,
   "metadata": {
    "collapsed": false
   },
   "outputs": [],
   "source": [
    "from pymote.algorithms.turk2018.maximumfind import MaxFind\n",
    "net.algorithms = (MaxFind, )\n",
    "write_pickle(net,'mrezaMaxFind.tar.gz')"
   ]
  },
  {
   "cell_type": "markdown",
   "metadata": {},
   "source": [
    "## FindEcc"
   ]
  },
  {
   "cell_type": "code",
   "execution_count": 3,
   "metadata": {
    "collapsed": false
   },
   "outputs": [],
   "source": [
    "from pymote.algorithms.turk2018.findingeccentricities import FindEccentricities\n",
    "\n",
    "net.algorithms = (FindEccentricities, )\n",
    "write_pickle(net,'mrezaEccFind.tar.gz')"
   ]
  },
  {
   "cell_type": "markdown",
   "metadata": {},
   "source": [
    "### Simulation"
   ]
  },
  {
   "cell_type": "code",
   "execution_count": 4,
   "metadata": {
    "collapsed": false
   },
   "outputs": [
    {
     "name": "stdout",
     "output_type": "stream",
     "text": [
      "DEBUG   [simulation.py]: Simulation 0x10f278f0 created successfully.\n"
     ]
    },
    {
     "name": "stderr",
     "output_type": "stream",
     "text": [
      "DEBUG:pymote.simulation:Simulation 0x10f278f0 created successfully.\n"
     ]
    },
    {
     "name": "stdout",
     "output_type": "stream",
     "text": [
      "DEBUG   [simulation.py]: [FindEccentricities] Step 1 finished\n"
     ]
    },
    {
     "name": "stderr",
     "output_type": "stream",
     "text": [
      "DEBUG:pymote.simulation:[FindEccentricities] Step 1 finished\n"
     ]
    },
    {
     "name": "stdout",
     "output_type": "stream",
     "text": [
      "DEBUG   [simulation.py]: [FindEccentricities] Step 2 finished\n"
     ]
    },
    {
     "name": "stderr",
     "output_type": "stream",
     "text": [
      "DEBUG:pymote.simulation:[FindEccentricities] Step 2 finished\n"
     ]
    },
    {
     "name": "stdout",
     "output_type": "stream",
     "text": [
      "DEBUG   [simulation.py]: [FindEccentricities] Step 3 finished\n"
     ]
    },
    {
     "name": "stderr",
     "output_type": "stream",
     "text": [
      "DEBUG:pymote.simulation:[FindEccentricities] Step 3 finished\n"
     ]
    },
    {
     "name": "stdout",
     "output_type": "stream",
     "text": [
      "DEBUG   [simulation.py]: [FindEccentricities] Step 4 finished\n"
     ]
    },
    {
     "name": "stderr",
     "output_type": "stream",
     "text": [
      "DEBUG:pymote.simulation:[FindEccentricities] Step 4 finished\n"
     ]
    },
    {
     "name": "stdout",
     "output_type": "stream",
     "text": [
      "DEBUG   [simulation.py]: [FindEccentricities] Step 5 finished\n"
     ]
    },
    {
     "name": "stderr",
     "output_type": "stream",
     "text": [
      "DEBUG:pymote.simulation:[FindEccentricities] Step 5 finished\n"
     ]
    },
    {
     "name": "stdout",
     "output_type": "stream",
     "text": [
      "DEBUG   [simulation.py]: [FindEccentricities] Step 6 finished\n"
     ]
    },
    {
     "name": "stderr",
     "output_type": "stream",
     "text": [
      "DEBUG:pymote.simulation:[FindEccentricities] Step 6 finished\n"
     ]
    },
    {
     "name": "stdout",
     "output_type": "stream",
     "text": [
      "DEBUG   [simulation.py]: [FindEccentricities] Step 7 finished\n"
     ]
    },
    {
     "name": "stderr",
     "output_type": "stream",
     "text": [
      "DEBUG:pymote.simulation:[FindEccentricities] Step 7 finished\n"
     ]
    },
    {
     "name": "stdout",
     "output_type": "stream",
     "text": [
      "DEBUG   [simulation.py]: [FindEccentricities] Step 8 finished\n"
     ]
    },
    {
     "name": "stderr",
     "output_type": "stream",
     "text": [
      "DEBUG:pymote.simulation:[FindEccentricities] Step 8 finished\n"
     ]
    },
    {
     "name": "stdout",
     "output_type": "stream",
     "text": [
      "DEBUG   [simulation.py]: [FindEccentricities] Step 9 finished\n"
     ]
    },
    {
     "name": "stderr",
     "output_type": "stream",
     "text": [
      "DEBUG:pymote.simulation:[FindEccentricities] Step 9 finished\n"
     ]
    },
    {
     "name": "stdout",
     "output_type": "stream",
     "text": [
      "DEBUG   [simulation.py]: [FindEccentricities] Step 10 finished\n"
     ]
    },
    {
     "name": "stderr",
     "output_type": "stream",
     "text": [
      "DEBUG:pymote.simulation:[FindEccentricities] Step 10 finished\n"
     ]
    },
    {
     "name": "stdout",
     "output_type": "stream",
     "text": [
      "DEBUG   [simulation.py]: [FindEccentricities] Step 11 finished\n"
     ]
    },
    {
     "name": "stderr",
     "output_type": "stream",
     "text": [
      "DEBUG:pymote.simulation:[FindEccentricities] Step 11 finished\n"
     ]
    },
    {
     "name": "stdout",
     "output_type": "stream",
     "text": [
      "DEBUG   [simulation.py]: [FindEccentricities] Step 12 finished\n"
     ]
    },
    {
     "name": "stderr",
     "output_type": "stream",
     "text": [
      "DEBUG:pymote.simulation:[FindEccentricities] Step 12 finished\n"
     ]
    },
    {
     "name": "stdout",
     "output_type": "stream",
     "text": [
      "DEBUG   [simulation.py]: [FindEccentricities] Step 13 finished\n"
     ]
    },
    {
     "name": "stderr",
     "output_type": "stream",
     "text": [
      "DEBUG:pymote.simulation:[FindEccentricities] Step 13 finished\n"
     ]
    },
    {
     "name": "stdout",
     "output_type": "stream",
     "text": [
      "DEBUG   [simulation.py]: [FindEccentricities] Step 14 finished\n"
     ]
    },
    {
     "name": "stderr",
     "output_type": "stream",
     "text": [
      "DEBUG:pymote.simulation:[FindEccentricities] Step 14 finished\n"
     ]
    },
    {
     "name": "stdout",
     "output_type": "stream",
     "text": [
      "DEBUG   [simulation.py]: [FindEccentricities] Step 15 finished\n"
     ]
    },
    {
     "name": "stderr",
     "output_type": "stream",
     "text": [
      "DEBUG:pymote.simulation:[FindEccentricities] Step 15 finished\n"
     ]
    },
    {
     "name": "stdout",
     "output_type": "stream",
     "text": [
      "DEBUG   [simulation.py]: [FindEccentricities] Step 16 finished\n"
     ]
    },
    {
     "name": "stderr",
     "output_type": "stream",
     "text": [
      "DEBUG:pymote.simulation:[FindEccentricities] Step 16 finished\n"
     ]
    },
    {
     "name": "stdout",
     "output_type": "stream",
     "text": [
      "DEBUG   [simulation.py]: [FindEccentricities] Step 17 finished\n"
     ]
    },
    {
     "name": "stderr",
     "output_type": "stream",
     "text": [
      "DEBUG:pymote.simulation:[FindEccentricities] Step 17 finished\n"
     ]
    },
    {
     "name": "stdout",
     "output_type": "stream",
     "text": [
      "DEBUG   [simulation.py]: [FindEccentricities] Step 18 finished\n"
     ]
    },
    {
     "name": "stderr",
     "output_type": "stream",
     "text": [
      "DEBUG:pymote.simulation:[FindEccentricities] Step 18 finished\n"
     ]
    },
    {
     "name": "stdout",
     "output_type": "stream",
     "text": [
      "DEBUG   [simulation.py]: [FindEccentricities] Step 19 finished\n"
     ]
    },
    {
     "name": "stderr",
     "output_type": "stream",
     "text": [
      "DEBUG:pymote.simulation:[FindEccentricities] Step 19 finished\n"
     ]
    },
    {
     "name": "stdout",
     "output_type": "stream",
     "text": [
      "DEBUG   [simulation.py]: [FindEccentricities] Step 20 finished\n"
     ]
    },
    {
     "name": "stderr",
     "output_type": "stream",
     "text": [
      "DEBUG:pymote.simulation:[FindEccentricities] Step 20 finished\n"
     ]
    },
    {
     "name": "stdout",
     "output_type": "stream",
     "text": [
      "DEBUG   [simulation.py]: [FindEccentricities] Step 21 finished\n"
     ]
    },
    {
     "name": "stderr",
     "output_type": "stream",
     "text": [
      "DEBUG:pymote.simulation:[FindEccentricities] Step 21 finished\n"
     ]
    },
    {
     "name": "stdout",
     "output_type": "stream",
     "text": [
      "DEBUG   [simulation.py]: [FindEccentricities] Step 22 finished\n"
     ]
    },
    {
     "name": "stderr",
     "output_type": "stream",
     "text": [
      "DEBUG:pymote.simulation:[FindEccentricities] Step 22 finished\n"
     ]
    },
    {
     "name": "stdout",
     "output_type": "stream",
     "text": [
      "DEBUG   [simulation.py]: [FindEccentricities] Step 23 finished\n"
     ]
    },
    {
     "name": "stderr",
     "output_type": "stream",
     "text": [
      "DEBUG:pymote.simulation:[FindEccentricities] Step 23 finished\n"
     ]
    },
    {
     "name": "stdout",
     "output_type": "stream",
     "text": [
      "DEBUG   [simulation.py]: [FindEccentricities] Step 24 finished\n"
     ]
    },
    {
     "name": "stderr",
     "output_type": "stream",
     "text": [
      "DEBUG:pymote.simulation:[FindEccentricities] Step 24 finished\n"
     ]
    },
    {
     "name": "stdout",
     "output_type": "stream",
     "text": [
      "DEBUG   [simulation.py]: [FindEccentricities] Step 25 finished\n"
     ]
    },
    {
     "name": "stderr",
     "output_type": "stream",
     "text": [
      "DEBUG:pymote.simulation:[FindEccentricities] Step 25 finished\n"
     ]
    },
    {
     "name": "stdout",
     "output_type": "stream",
     "text": [
      "DEBUG   [simulation.py]: [FindEccentricities] Step 26 finished\n"
     ]
    },
    {
     "name": "stderr",
     "output_type": "stream",
     "text": [
      "DEBUG:pymote.simulation:[FindEccentricities] Step 26 finished\n"
     ]
    },
    {
     "name": "stdout",
     "output_type": "stream",
     "text": [
      "DEBUG   [simulation.py]: [FindEccentricities] Step 27 finished\n"
     ]
    },
    {
     "name": "stderr",
     "output_type": "stream",
     "text": [
      "DEBUG:pymote.simulation:[FindEccentricities] Step 27 finished\n"
     ]
    },
    {
     "name": "stdout",
     "output_type": "stream",
     "text": [
      "DEBUG   [simulation.py]: [FindEccentricities] Step 28 finished\n"
     ]
    },
    {
     "name": "stderr",
     "output_type": "stream",
     "text": [
      "DEBUG:pymote.simulation:[FindEccentricities] Step 28 finished\n"
     ]
    },
    {
     "name": "stdout",
     "output_type": "stream",
     "text": [
      "DEBUG   [simulation.py]: [FindEccentricities] Step 29 finished\n"
     ]
    },
    {
     "name": "stderr",
     "output_type": "stream",
     "text": [
      "DEBUG:pymote.simulation:[FindEccentricities] Step 29 finished\n"
     ]
    },
    {
     "name": "stdout",
     "output_type": "stream",
     "text": [
      "DEBUG   [simulation.py]: [FindEccentricities] Step 30 finished\n"
     ]
    },
    {
     "name": "stderr",
     "output_type": "stream",
     "text": [
      "DEBUG:pymote.simulation:[FindEccentricities] Step 30 finished\n"
     ]
    },
    {
     "name": "stdout",
     "output_type": "stream",
     "text": [
      "DEBUG   [simulation.py]: [FindEccentricities] Step 31 finished\n"
     ]
    },
    {
     "name": "stderr",
     "output_type": "stream",
     "text": [
      "DEBUG:pymote.simulation:[FindEccentricities] Step 31 finished\n"
     ]
    },
    {
     "name": "stdout",
     "output_type": "stream",
     "text": [
      "DEBUG   [simulation.py]: [FindEccentricities] Step 32 finished\n"
     ]
    },
    {
     "name": "stderr",
     "output_type": "stream",
     "text": [
      "DEBUG:pymote.simulation:[FindEccentricities] Step 32 finished\n"
     ]
    },
    {
     "name": "stdout",
     "output_type": "stream",
     "text": [
      "DEBUG   [simulation.py]: [FindEccentricities] Step 33 finished\n"
     ]
    },
    {
     "name": "stderr",
     "output_type": "stream",
     "text": [
      "DEBUG:pymote.simulation:[FindEccentricities] Step 33 finished\n"
     ]
    },
    {
     "name": "stdout",
     "output_type": "stream",
     "text": [
      "DEBUG   [simulation.py]: [FindEccentricities] Step 34 finished\n"
     ]
    },
    {
     "name": "stderr",
     "output_type": "stream",
     "text": [
      "DEBUG:pymote.simulation:[FindEccentricities] Step 34 finished\n"
     ]
    },
    {
     "name": "stdout",
     "output_type": "stream",
     "text": [
      "DEBUG   [simulation.py]: [FindEccentricities] Step 35 finished\n"
     ]
    },
    {
     "name": "stderr",
     "output_type": "stream",
     "text": [
      "DEBUG:pymote.simulation:[FindEccentricities] Step 35 finished\n"
     ]
    },
    {
     "name": "stdout",
     "output_type": "stream",
     "text": [
      "DEBUG   [simulation.py]: [FindEccentricities] Algorithm finished\n"
     ]
    },
    {
     "name": "stderr",
     "output_type": "stream",
     "text": [
      "DEBUG:pymote.simulation:[FindEccentricities] Algorithm finished\n"
     ]
    },
    {
     "name": "stdout",
     "output_type": "stream",
     "text": [
      "INFO    [simulation.py]: Simulation has finished. There are no algorithms left to run. To run it from the start use sim.reset().\n"
     ]
    },
    {
     "name": "stderr",
     "output_type": "stream",
     "text": [
      "INFO:pymote.simulation:Simulation has finished. There are no algorithms left to run. To run it from the start use sim.reset().\n"
     ]
    }
   ],
   "source": [
    "sim = Simulation(net);\n",
    "sim.run();\n",
    "#write_pickle(net,'mreza.tar.gz');"
   ]
  },
  {
   "cell_type": "markdown",
   "metadata": {},
   "source": [
    "### Post simulation"
   ]
  },
  {
   "cell_type": "code",
   "execution_count": 6,
   "metadata": {
    "collapsed": false
   },
   "outputs": [
    {
     "name": "stdout",
     "output_type": "stream",
     "text": [
      "1\tDONE\n",
      "2\tDONE\n",
      "3\tDONE\n",
      "4\tDONE\n",
      "5\tDONE\n",
      "6\tDONE\n",
      "7\tDONE\n",
      "8\tDONE\n",
      "9\tDONE\n",
      "10\tDONE\n",
      "11\tDONE\n",
      "12\tDONE\n",
      "13\tDONE\n",
      "14\tDONE\n",
      "15\tDONE\n",
      "16\tDONE\n",
      "17\tDONE\n",
      "18\tDONE\n",
      "19\tDONE\n",
      "20\tDONE\n",
      "21\tDONE\n",
      "22\tDONE\n",
      "23\tDONE\n",
      "24\tDONE\n",
      "25\tDONE\n",
      "26\tDONE\n",
      "27\tDONE\n",
      "28\tDONE\n",
      "29\tDONE\n",
      "30\tDONE\n"
     ]
    }
   ],
   "source": [
    "#Saturation\n",
    "for node in net.nodes():\n",
    "    if node.status==\"SATURATED\":\n",
    "        print \"%d\\t%s\\t parent:%d\" % (node.id, node.status, node.memory['Parent'].id)\n",
    "    else:\n",
    "        print \"%d\\t%s\" % (node.id, node.status)        "
   ]
  },
  {
   "cell_type": "code",
   "execution_count": null,
   "metadata": {
    "collapsed": false
   },
   "outputs": [],
   "source": [
    "#MaxFind\n",
    "for node in net.nodes():\n",
    "    print \"%s\\t%d\\t%d\" % (node.status, node.memory['Temperature'],  node.memory['Max'])"
   ]
  },
  {
   "cell_type": "code",
   "execution_count": 5,
   "metadata": {
    "collapsed": false
   },
   "outputs": [
    {
     "name": "stdout",
     "output_type": "stream",
     "text": [
      "DONE\t13\n",
      "DONE\t8\n",
      "DONE\t8\n",
      "DONE\t9\n",
      "DONE\t12\n",
      "DONE\t9\n",
      "DONE\t11\n",
      "DONE\t13\n",
      "DONE\t8\n",
      "DONE\t13\n",
      "DONE\t8\n",
      "DONE\t9\n",
      "DONE\t11\n",
      "DONE\t9\n",
      "DONE\t10\n",
      "DONE\t13\n",
      "DONE\t8\n",
      "DONE\t13\n",
      "DONE\t9\n",
      "DONE\t7\n",
      "DONE\t7\n",
      "DONE\t12\n",
      "DONE\t11\n",
      "DONE\t13\n",
      "DONE\t8\n",
      "DONE\t9\n",
      "DONE\t10\n",
      "DONE\t9\n",
      "DONE\t12\n",
      "DONE\t8\n"
     ]
    }
   ],
   "source": [
    "#FindEccentricities\n",
    "for node in net.nodes():\n",
    "    print \"%s\\t%d\" % (node.status, node.memory['eccentricity'])"
   ]
  },
  {
   "cell_type": "code",
   "execution_count": null,
   "metadata": {
    "collapsed": true
   },
   "outputs": [],
   "source": []
  }
 ],
 "metadata": {
  "kernelspec": {
   "display_name": "Python 2",
   "language": "python",
   "name": "python2"
  },
  "language_info": {
   "codemirror_mode": {
    "name": "ipython",
    "version": 2
   },
   "file_extension": ".py",
   "mimetype": "text/x-python",
   "name": "python",
   "nbconvert_exporter": "python",
   "pygments_lexer": "ipython2",
   "version": "2.7.10"
  }
 },
 "nbformat": 4,
 "nbformat_minor": 0
}
