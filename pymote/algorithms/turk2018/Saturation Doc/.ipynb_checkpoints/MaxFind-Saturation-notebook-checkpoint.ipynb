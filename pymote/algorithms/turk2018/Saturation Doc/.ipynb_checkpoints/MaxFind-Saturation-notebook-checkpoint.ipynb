{
 "cells": [
  {
   "cell_type": "markdown",
   "metadata": {},
   "source": [
    "# Saturation - Maximum Find"
   ]
  },
  {
   "cell_type": "code",
   "execution_count": 19,
   "metadata": {
    "collapsed": false
   },
   "outputs": [
    {
     "name": "stdout",
     "output_type": "stream",
     "text": [
      "The autoreload extension is already loaded. To reload it, use:\n",
      "  %reload_ext autoreload\n"
     ]
    }
   ],
   "source": [
    "%load_ext autoreload\n",
    "%autoreload 2\n",
    "%reload_ext autoreload"
   ]
  },
  {
   "cell_type": "markdown",
   "metadata": {},
   "source": [
    "## Algoritmi"
   ]
  },
  {
   "cell_type": "markdown",
   "metadata": {},
   "source": [
    "### TODO: Building Tree"
   ]
  },
  {
   "cell_type": "code",
   "execution_count": null,
   "metadata": {
    "collapsed": false
   },
   "outputs": [],
   "source": []
  },
  {
   "cell_type": "markdown",
   "metadata": {},
   "source": [
    "\n",
    "\n",
    "### Saturation (Plug-in Full-Saturation)"
   ]
  },
  {
   "cell_type": "code",
   "execution_count": 37,
   "metadata": {
    "collapsed": false
   },
   "outputs": [],
   "source": [
    "# -*- coding: utf-8 -*-\n",
    "from pymote.algorithm import NodeAlgorithm\n",
    "from pymote.message import Message\n",
    "\n",
    "class Saturation(NodeAlgorithm): \n",
    "    \n",
    "    #required_params = ('informationKey', 'treeKey',) # must have ','\n",
    "    required_params = ('informationKey',) # must have ','\n",
    "    default_params = {'treeNeighbors': 'Neighbors','parentKey' : 'Parent', 'treeKey': 'Tree'}\n",
    "\n",
    "    #TODO: treeKey now serves as treeNeighbors, and treeNeighbors as treeKey - necessary to SWAP them\n",
    "    #      should treeKey be in required_params?!\n",
    "    \n",
    "    def initializer(self):\n",
    "        ini_nodes = []\n",
    "        for node in self.network.nodes():\n",
    "            node.memory[self.treeNeighbors] = node.compositeSensor.read()['Neighbors']\n",
    "            node.memory[self.treeKey]= list(node.memory[self.treeNeighbors])\n",
    "            self.initialize(node)\n",
    "            node.status = 'AVAILABLE'\n",
    "            if self.informationKey in node.memory:\n",
    "                node.status = 'AVAILABLE'\n",
    "                ini_nodes.append(node)\n",
    "        for ini_node in ini_nodes:\n",
    "            self.network.outbox.insert(0, Message(header=NodeAlgorithm.INI,destination=ini_node))  # to je spontani impuls   \n",
    "\n",
    "        \n",
    "    def available(self, node, message):\n",
    "\n",
    "        #inicijatori\n",
    "        if message.header == NodeAlgorithm.INI: #Spontaneously\n",
    "            node.send(Message(header='Activate', data='Activate'))\n",
    "            #initialize() mislim da ipak treba biti u initalizeru\n",
    "            if len(node.memory[self.treeNeighbors])==1 : #ako je čvor list\n",
    "                node.memory[self.parentKey] = list(node.memory[self.treeNeighbors])\n",
    "                updated_data=self.prepare_message(node)\n",
    "                node.send(Message(header='M', data = updated_data, destination = node.memory[self.parentKey]))\n",
    "                node.status = 'PROCESSING'\n",
    "            else:\n",
    "                node.status = 'ACTIVE' #izvrši se\n",
    "                \n",
    "        if message.header == 'Activate':\n",
    "            destination_nodes = list(node.memory[self.treeNeighbors])\n",
    "            print \"message.source:\"\n",
    "            print type(message.source)\n",
    "            print message.source\n",
    "            \n",
    "            node.send(Message(header='Activate', data='Activate', destination=destination_nodes.remove(message.source)))\n",
    "            print destination_nodes\n",
    "            #initialize() mislim da ipak treba biti u initalizeru            \n",
    "            if len(node.memory[self.treeNeighbors])==1 :\n",
    "                node.memory[self.parentKey] = list(node.memory[self.treeNeighbors])                \n",
    "                updated_data=self.prepare_message(node)\n",
    "                node.send(Message(header='M', data=updated_data, destination=node.memory[self.parentKey]))\n",
    "                #dal prepare?\n",
    "                node.status = 'PROCESSING'\n",
    "            else:\n",
    "                node.status='ACTIVE' #izvrši se\n",
    "    \n",
    "    def active(self, node, message):  \n",
    "        \n",
    "\n",
    "        if message.header=='M':\n",
    "            self.process_message(node,message)\n",
    "            ###ključno\n",
    "            node.memory[self.treeNeighbors].remove(message.source) # ne radi?\n",
    "\n",
    "            ##izgleda da neki ostanu bez susjeda kao posljedica ovoga, ne, trebali bi uci u processing jopš u availabele\n",
    "            \n",
    "            if len(node.memory[self.treeNeighbors])==1 :\n",
    "                node.memory[self.parentKey] = list(node.memory[self.treeNeighbors])                \n",
    "                updated_data=self.prepare_message(node)\n",
    "                node.send(Message(header='M', data=updated_data, destination=node.memory[self.parentKey]))\n",
    "                node.status = 'PROCESSING'\n",
    "\n",
    "    def processing(self, node, message):\n",
    "        if message.header==\"M\":           \n",
    "            self.process_message(node,message)\n",
    "            #self.resolve(node)\n",
    "            node.staus='SATURATED'\n",
    "        #if message.header==\"Notification\":\n",
    "            #print \"Nebi smio biti tu\"\n",
    "            \n",
    "    def prepare_message(self,node):\n",
    "        raise NotImplementedError\n",
    "        \n",
    "    def process_message(self, node, message):\n",
    "        raise NotImplementedError\n",
    "\n",
    "    def initialize(self, node):\n",
    "        raise NotImplementedError\n",
    "                \n",
    "    def resolve(self,node):\n",
    "        raise NotImplementedError\n",
    "        \n",
    "    STATUS = {\n",
    "              'AVAILABLE': available,\n",
    "              'ACTIVE': active,\n",
    "              'PROCESSING': processing,\n",
    "              'SATURATED': resolve,\n",
    "             }"
   ]
  },
  {
   "cell_type": "markdown",
   "metadata": {},
   "source": [
    "### MaxFind"
   ]
  },
  {
   "cell_type": "code",
   "execution_count": 38,
   "metadata": {
    "collapsed": false
   },
   "outputs": [],
   "source": [
    "# -*- coding: utf-8 -*-\n",
    "from pymote.sensor import TempSensor\n",
    "\n",
    "class MaxFind(Saturation):\n",
    "    #required_params = ('dataKey',) \n",
    "    default_params = {'temperatureKey':'Temperature','maxKey':'Max'}\n",
    "\n",
    "    def processing(self,node,message):\n",
    "        if message.header==\"M\":\n",
    "            self.process_message(node,message)\n",
    "            #node.status = 'SATURATED'\n",
    "            self.resolve(node)\n",
    "            \n",
    "        if message.header==\"Notification\":\n",
    "            destination_nodes = node.memory[self.treeKey]\n",
    "            #print destination_nodes\n",
    "            #print node.memory[self.parentKey]\n",
    "            #print type(node.memory[self.parentKey])\n",
    "            #print node.memory[self.parentKey][0]\n",
    "            \n",
    "            self.process_message(node,message)\n",
    "            destination_nodes.remove(node.memory[self.parentKey][0])            \n",
    "            \n",
    "            node.send(Message(header='Notification', data=node.memory[self.maxKey], destination=destination_nodes))\n",
    "            \n",
    "            if node.memory[self.temperatureKey]==message.data:\n",
    "                node.status=\"MAXIMUM\"\n",
    "            else:\n",
    "                node.status=\"SMALLER\"\n",
    "    \n",
    "    def initialize(self, node):\n",
    "        node.compositeSensor=(TempSensor,'Temperature')\n",
    "        node.memory[self.temperatureKey]=node.compositeSensor.read()['Temperature']\n",
    "        node.memory[self.maxKey]=node.memory[self.temperatureKey]   \n",
    "        #return node.memory[self.maxKey] is not None    \n",
    "    \n",
    "    def prepare_message(self,node):\n",
    "        return node.memory[self.maxKey]\n",
    "                   \n",
    "    def process_message(self,node,message):\n",
    "        #print message.data\n",
    "        if message.data>node.memory[self.maxKey]:\n",
    "            node.memory[self.maxKey] = message.data\n",
    "    \n",
    "    def resolve(self,node):\n",
    "        #print \"TU SAM\"\n",
    "        destination_nodes = node.memory[self.treeKey]  #garantira topologiju      \n",
    "        #print destination_nodes\n",
    "        #print node.memory[self.parentKey]\n",
    "        destination_nodes.remove(node.memory[self.parentKey][0]) #garantira topologiju        \n",
    "        \n",
    "        node.send(Message(header='Notification', data=node.memory[self.maxKey], destination=destination_nodes))        \n",
    "\n",
    "        if node.memory[self.temperatureKey] == node.memory[self.maxKey]:\n",
    "            node.status='MAXIMUM'\n",
    "        else :\n",
    "            node.status='SMALLER'\n",
    "    \n",
    "                                                 \n",
    "    def mini(self,node,message):\n",
    "        print \"MAXIMUM\"\n",
    "    def larger(self,node,message):\n",
    "        print \"SMALLER\"\n",
    "    \n",
    "    STATUS = {\n",
    "              'MAXIMUM' : mini,\n",
    "              'SMALLER' : larger,\n",
    "              'AVAILABLE': Saturation.STATUS.get('AVAILABLE'),\n",
    "              'ACTIVE': Saturation.STATUS.get('ACTIVE'),\n",
    "              #'PROCESSING':Saturation.STATUS.get('PROCESSING'), #redefinirali smo processing\n",
    "              'PROCESSING':processing, #redefinirali smo processing\n",
    "              #'SATURATED':Saturation.STATUS.get('SATURATED'),\n",
    "              'SATURATED':resolve,\n",
    "        \n",
    "        #svaka metoda vezana uz status mora imati self,node,message\n",
    "        #procedure primaju self po defaultu kao prvi argument, \n",
    "        #ako je procedura definirana kao def procedura(self,node) \n",
    "        #krivo je zvati self.procedura(self,node), \n",
    "        #ispravno je     self.procedura(node)\n",
    "             }    "
   ]
  },
  {
   "cell_type": "markdown",
   "metadata": {},
   "source": [
    "### Random Mreža"
   ]
  },
  {
   "cell_type": "code",
   "execution_count": 7,
   "metadata": {
    "collapsed": false
   },
   "outputs": [
    {
     "name": "stdout",
     "output_type": "stream",
     "text": [
      "WARNING [__init__.py]: Environment variable PYMOTE_SETTINGS_MODULE is undefined, using global_settings.\n"
     ]
    },
    {
     "name": "stderr",
     "output_type": "stream",
     "text": [
      "WARNING:pymote:Environment variable PYMOTE_SETTINGS_MODULE is undefined, using global_settings.\n"
     ]
    }
   ],
   "source": [
    "from pymote.networkgenerator import NetworkGenerator\n",
    "from pymote.npickle import write_pickle, read_pickle\n",
    "#net_gen = NetworkGenerator(3)\n",
    "net_gen = NetworkGenerator(5)\n",
    "#net_gen = NetworkGenerator(15)\n",
    "#net_gen = NetworkGenerator(500)\n",
    "net = net_gen.generate_random_network()"
   ]
  },
  {
   "cell_type": "code",
   "execution_count": null,
   "metadata": {
    "collapsed": false
   },
   "outputs": [],
   "source": [
    "net.show() #po gašenju izaziva Dead Kernel"
   ]
  },
  {
   "cell_type": "markdown",
   "metadata": {},
   "source": [
    "### Mreža stablo"
   ]
  },
  {
   "cell_type": "code",
   "execution_count": 39,
   "metadata": {
    "collapsed": false
   },
   "outputs": [],
   "source": [
    "from pymote.network import Network\n",
    "net = Network()\n",
    "root=net.add_node(pos=[300,500])\n",
    "root.commRange=150\n",
    "node=net.add_node(pos=[200,400])\n",
    "node.commRange=150\n",
    "node=net.add_node(pos=[400,400])\n",
    "node.commRange=150\n",
    "\n",
    "node=net.add_node(pos=[100,300])\n",
    "node.commRange=150\n",
    "\n",
    "node=net.add_node(pos=[250,300])\n",
    "node.commRange=150\n",
    "node=net.add_node(pos=[500,300])\n",
    "node.commRange=150\n",
    "node=net.add_node(pos=[450,200])\n",
    "node.commRange=150\n",
    "node=net.add_node(pos=[10,200])\n",
    "node.commRange=150"
   ]
  },
  {
   "cell_type": "markdown",
   "metadata": {},
   "source": [
    "### Mreža Lanac (n = 4, m = 5)"
   ]
  },
  {
   "cell_type": "code",
   "execution_count": null,
   "metadata": {
    "collapsed": false
   },
   "outputs": [],
   "source": [
    "from pymote.network import Network\n",
    "net = Network()\n",
    "n = 5\n",
    "u = 100\n",
    "\n",
    "for i in range(0,n*u,u):\n",
    "    node = net.add_node(pos=[1,i])\n",
    "    node.commRange=110"
   ]
  },
  {
   "cell_type": "markdown",
   "metadata": {},
   "source": [
    "### Mreža Zvijezda (n = 4, m = 5)"
   ]
  },
  {
   "cell_type": "code",
   "execution_count": null,
   "metadata": {
    "collapsed": false
   },
   "outputs": [],
   "source": [
    "from pymote.network import Network\n",
    "net = Network()\n",
    "n = 5\n",
    "for i in range(100,(n+1)*100,100):\n",
    "    node= net.add_node(pos=[i,i])\n",
    "    node.commRange=200\n",
    "\n",
    "node= net.add_node(pos=[100,300])\n",
    "node.commRange=200\n",
    "node= net.add_node(pos=[300,100])\n",
    "node.commRange=200"
   ]
  },
  {
   "cell_type": "markdown",
   "metadata": {},
   "source": [
    "### Simulacija"
   ]
  },
  {
   "cell_type": "code",
   "execution_count": null,
   "metadata": {
    "collapsed": false
   },
   "outputs": [],
   "source": [
    "%load_ext autoreload\n",
    "%autoreload 2\n",
    "%reload_ext autoreload\n",
    "\n",
    "from pymote.algorithms.saturation import Saturation\n",
    "from pymote.algorithms.maximumfind import MaxFind"
   ]
  },
  {
   "cell_type": "code",
   "execution_count": 40,
   "metadata": {
    "collapsed": false,
    "scrolled": true
   },
   "outputs": [
    {
     "name": "stdout",
     "output_type": "stream",
     "text": [
      "The autoreload extension is already loaded. To reload it, use:\n",
      "  %reload_ext autoreload\n"
     ]
    }
   ],
   "source": [
    "%load_ext autoreload\n",
    "%autoreload 2\n",
    "%reload_ext autoreload\n",
    "from pymote.npickle import write_pickle, read_pickle\n",
    "from pymote.simulation import Simulation\n",
    "\n",
    "#net = read_pickle('mrezaRandom.tar.gz') \n",
    "#net = read_pickle('mrezaList.tar.gz')\n",
    "#net = read_pickle('mrezaZvijezda.tar.gz')\n",
    "#net = read_pickle('mrezaStablo.tar.gz')\n",
    "\n",
    "from pymote.network import Network\n",
    "net = Network()\n",
    "root=net.add_node(pos=[300,500])\n",
    "root.commRange=150\n",
    "node=net.add_node(pos=[200,400])\n",
    "node.commRange=150\n",
    "node=net.add_node(pos=[400,400])\n",
    "node.commRange=150\n",
    "node=net.add_node(pos=[100,300])\n",
    "node.commRange=150\n",
    "node=net.add_node(pos=[250,300])\n",
    "node.commRange=150\n",
    "node=net.add_node(pos=[500,300])\n",
    "node.commRange=150\n",
    "node=net.add_node(pos=[450,200])\n",
    "node.commRange=150\n",
    "node=net.add_node(pos=[10,200])\n",
    "node.commRange=150\n",
    "\n",
    "net.algorithms = ( (MaxFind,{'informationKey':'I'}), )\n",
    "some_node = net.nodes()[4]# uzimamo prvi cvor u listi cvorova mreze\n",
    "some_node.memory['I'] = 'Activate'\n",
    "\n",
    "#some_node_2 = net.nodes()[1]# uzimamo prvi cvor u listi cvorova mreze\n",
    "#some_node_2.memory['I'] = 'Activate'\n",
    "\n",
    "\n",
    "write_pickle(net,'mrezaStabloAfter.tar.gz')\n",
    "\n"
   ]
  },
  {
   "cell_type": "code",
   "execution_count": 41,
   "metadata": {
    "collapsed": false
   },
   "outputs": [
    {
     "name": "stdout",
     "output_type": "stream",
     "text": [
      "DEBUG   [simulation.py]: Simulation 0x10f497d8 created successfully.\n"
     ]
    },
    {
     "name": "stderr",
     "output_type": "stream",
     "text": [
      "DEBUG:pymote.simulation:Simulation 0x10f497d8 created successfully.\n"
     ]
    },
    {
     "name": "stdout",
     "output_type": "stream",
     "text": [
      "DEBUG   [simulation.py]: [MaxFind] Step 1 finished\n"
     ]
    },
    {
     "name": "stderr",
     "output_type": "stream",
     "text": [
      "DEBUG:pymote.simulation:[MaxFind] Step 1 finished\n"
     ]
    },
    {
     "name": "stdout",
     "output_type": "stream",
     "text": [
      "DEBUG   [simulation.py]: [MaxFind] Step 2 finished\n"
     ]
    },
    {
     "name": "stderr",
     "output_type": "stream",
     "text": [
      "DEBUG:pymote.simulation:[MaxFind] Step 2 finished\n"
     ]
    },
    {
     "name": "stdout",
     "output_type": "stream",
     "text": [
      "DEBUG   [simulation.py]: [MaxFind] Step 3 finished\n"
     ]
    },
    {
     "name": "stderr",
     "output_type": "stream",
     "text": [
      "DEBUG:pymote.simulation:[MaxFind] Step 3 finished\n"
     ]
    },
    {
     "name": "stdout",
     "output_type": "stream",
     "text": [
      "message.source:\n",
      "<class 'pymote.node.Node'>\n",
      "<Node id=122>\n"
     ]
    },
    {
     "ename": "NameError",
     "evalue": "global name 'detination_nodes' is not defined",
     "output_type": "error",
     "traceback": [
      "\u001b[1;31m---------------------------------------------------------------------------\u001b[0m",
      "\u001b[1;31mNameError\u001b[0m                                 Traceback (most recent call last)",
      "\u001b[1;32m<ipython-input-41-59b9ee34bf2b>\u001b[0m in \u001b[0;36m<module>\u001b[1;34m()\u001b[0m\n\u001b[0;32m      1\u001b[0m \u001b[0msim\u001b[0m \u001b[1;33m=\u001b[0m \u001b[0mSimulation\u001b[0m\u001b[1;33m(\u001b[0m\u001b[0mnet\u001b[0m\u001b[1;33m)\u001b[0m\u001b[1;33m\u001b[0m\u001b[0m\n\u001b[1;32m----> 2\u001b[1;33m \u001b[0msim\u001b[0m\u001b[1;33m.\u001b[0m\u001b[0mrun\u001b[0m\u001b[1;33m(\u001b[0m\u001b[1;33m)\u001b[0m\u001b[1;33m\u001b[0m\u001b[0m\n\u001b[0m\u001b[0;32m      3\u001b[0m \u001b[1;33m\u001b[0m\u001b[0m\n\u001b[0;32m      4\u001b[0m \u001b[1;33m\u001b[0m\u001b[0m\n\u001b[0;32m      5\u001b[0m \u001b[1;31m#write_pickle(net,'mrezaStabloAfter.tar.gz')\u001b[0m\u001b[1;33m\u001b[0m\u001b[1;33m\u001b[0m\u001b[0m\n",
      "\u001b[1;32mC:\\Users\\admin\\Documents\\WinPython\\WinPython-32bit-2.7.10.3\\python-2.7.10\\src\\pymote\\pymote\\simulation.pyc\u001b[0m in \u001b[0;36mrun\u001b[1;34m(self, steps)\u001b[0m\n\u001b[0;32m     54\u001b[0m                 \u001b[0mself\u001b[0m\u001b[1;33m.\u001b[0m\u001b[0memit\u001b[0m\u001b[1;33m(\u001b[0m\u001b[0mSIGNAL\u001b[0m\u001b[1;33m(\u001b[0m\u001b[1;34m'redraw()'\u001b[0m\u001b[1;33m)\u001b[0m\u001b[1;33m)\u001b[0m\u001b[1;33m\u001b[0m\u001b[0m\n\u001b[0;32m     55\u001b[0m                 \u001b[1;32mbreak\u001b[0m\u001b[1;33m\u001b[0m\u001b[0m\n\u001b[1;32m---> 56\u001b[1;33m             \u001b[0mself\u001b[0m\u001b[1;33m.\u001b[0m\u001b[0mrun_algorithm\u001b[0m\u001b[1;33m(\u001b[0m\u001b[0malgorithm\u001b[0m\u001b[1;33m)\u001b[0m\u001b[1;33m\u001b[0m\u001b[0m\n\u001b[0m\u001b[0;32m     57\u001b[0m             \u001b[0mself\u001b[0m\u001b[1;33m.\u001b[0m\u001b[0memit\u001b[0m\u001b[1;33m(\u001b[0m\u001b[0mSIGNAL\u001b[0m\u001b[1;33m(\u001b[0m\u001b[1;34m'redraw()'\u001b[0m\u001b[1;33m)\u001b[0m\u001b[1;33m)\u001b[0m\u001b[1;33m\u001b[0m\u001b[0m\n\u001b[0;32m     58\u001b[0m             \u001b[1;32mif\u001b[0m \u001b[0mself\u001b[0m\u001b[1;33m.\u001b[0m\u001b[0mstepsLeft\u001b[0m \u001b[1;33m>=\u001b[0m \u001b[1;36m0\u001b[0m\u001b[1;33m:\u001b[0m\u001b[1;33m\u001b[0m\u001b[0m\n",
      "\u001b[1;32mC:\\Users\\admin\\Documents\\WinPython\\WinPython-32bit-2.7.10.3\\python-2.7.10\\src\\pymote\\pymote\\simulation.pyc\u001b[0m in \u001b[0;36mrun_algorithm\u001b[1;34m(self, algorithm)\u001b[0m\n\u001b[0;32m     78\u001b[0m                 \u001b[0mself\u001b[0m\u001b[1;33m.\u001b[0m\u001b[0mnetwork\u001b[0m\u001b[1;33m.\u001b[0m\u001b[0mcommunicate\u001b[0m\u001b[1;33m(\u001b[0m\u001b[1;33m)\u001b[0m\u001b[1;33m\u001b[0m\u001b[0m\n\u001b[0;32m     79\u001b[0m                 \u001b[1;32mfor\u001b[0m \u001b[0mnode\u001b[0m \u001b[1;32min\u001b[0m \u001b[0mself\u001b[0m\u001b[1;33m.\u001b[0m\u001b[0mnetwork\u001b[0m\u001b[1;33m.\u001b[0m\u001b[0mnodes\u001b[0m\u001b[1;33m(\u001b[0m\u001b[1;33m)\u001b[0m\u001b[1;33m:\u001b[0m\u001b[1;33m\u001b[0m\u001b[0m\n\u001b[1;32m---> 80\u001b[1;33m                     \u001b[0mnodeTerminated\u001b[0m \u001b[1;33m=\u001b[0m \u001b[0malgorithm\u001b[0m\u001b[1;33m.\u001b[0m\u001b[0mstep\u001b[0m\u001b[1;33m(\u001b[0m\u001b[0mnode\u001b[0m\u001b[1;33m)\u001b[0m\u001b[1;33m\u001b[0m\u001b[0m\n\u001b[0m\u001b[0;32m     81\u001b[0m                 self.emit(SIGNAL('updateLog(QString)'),\n\u001b[0;32m     82\u001b[0m                           \u001b[1;34m'[%s] Step %d finished'\u001b[0m \u001b[1;33m%\u001b[0m\u001b[1;33m\u001b[0m\u001b[0m\n",
      "\u001b[1;32mC:\\Users\\admin\\Documents\\WinPython\\WinPython-32bit-2.7.10.3\\python-2.7.10\\src\\pymote\\pymote\\algorithm.pyc\u001b[0m in \u001b[0;36mstep\u001b[1;34m(self, node)\u001b[0m\n\u001b[0;32m    137\u001b[0m             \u001b[1;32mif\u001b[0m \u001b[1;33m(\u001b[0m\u001b[0mmessage\u001b[0m\u001b[1;33m.\u001b[0m\u001b[0mdestination\u001b[0m \u001b[1;33m==\u001b[0m \u001b[0mNone\u001b[0m \u001b[1;32mor\u001b[0m \u001b[0mmessage\u001b[0m\u001b[1;33m.\u001b[0m\u001b[0mdestination\u001b[0m \u001b[1;33m==\u001b[0m \u001b[0mnode\u001b[0m\u001b[1;33m)\u001b[0m\u001b[1;33m:\u001b[0m\u001b[1;33m\u001b[0m\u001b[0m\n\u001b[0;32m    138\u001b[0m                 \u001b[1;31m# when destination is None it is broadcast message\u001b[0m\u001b[1;33m\u001b[0m\u001b[1;33m\u001b[0m\u001b[0m\n\u001b[1;32m--> 139\u001b[1;33m                 \u001b[1;32mreturn\u001b[0m \u001b[0mself\u001b[0m\u001b[1;33m.\u001b[0m\u001b[0m_process_message\u001b[0m\u001b[1;33m(\u001b[0m\u001b[0mnode\u001b[0m\u001b[1;33m,\u001b[0m \u001b[0mmessage\u001b[0m\u001b[1;33m)\u001b[0m\u001b[1;33m\u001b[0m\u001b[0m\n\u001b[0m\u001b[0;32m    140\u001b[0m             \u001b[1;32melif\u001b[0m \u001b[1;33m(\u001b[0m\u001b[0mmessage\u001b[0m\u001b[1;33m.\u001b[0m\u001b[0mnexthop\u001b[0m \u001b[1;33m==\u001b[0m \u001b[0mnode\u001b[0m\u001b[1;33m.\u001b[0m\u001b[0mid\u001b[0m\u001b[1;33m)\u001b[0m\u001b[1;33m:\u001b[0m\u001b[1;33m\u001b[0m\u001b[0m\n\u001b[0;32m    141\u001b[0m                 \u001b[0mself\u001b[0m\u001b[1;33m.\u001b[0m\u001b[0m_forward_message\u001b[0m\u001b[1;33m(\u001b[0m\u001b[0mnode\u001b[0m\u001b[1;33m,\u001b[0m \u001b[0mmessage\u001b[0m\u001b[1;33m)\u001b[0m\u001b[1;33m\u001b[0m\u001b[0m\n",
      "\u001b[1;32mC:\\Users\\admin\\Documents\\WinPython\\WinPython-32bit-2.7.10.3\\python-2.7.10\\src\\pymote\\pymote\\algorithm.pyc\u001b[0m in \u001b[0;36m_process_message\u001b[1;34m(self, node, message)\u001b[0m\n\u001b[0;32m    152\u001b[0m         return self.__class__.STATUS.get(node.status, self.statuserr)(self,\n\u001b[0;32m    153\u001b[0m                                                                     \u001b[0mnode\u001b[0m\u001b[1;33m,\u001b[0m\u001b[1;33m\u001b[0m\u001b[0m\n\u001b[1;32m--> 154\u001b[1;33m                                                                     message)\n\u001b[0m\u001b[0;32m    155\u001b[0m \u001b[1;33m\u001b[0m\u001b[0m\n\u001b[0;32m    156\u001b[0m     \u001b[1;32mdef\u001b[0m \u001b[0mstatuserr\u001b[0m\u001b[1;33m(\u001b[0m\u001b[0mself\u001b[0m\u001b[1;33m,\u001b[0m \u001b[0mnode\u001b[0m\u001b[1;33m,\u001b[0m \u001b[0mmessage\u001b[0m\u001b[1;33m)\u001b[0m\u001b[1;33m:\u001b[0m\u001b[1;33m\u001b[0m\u001b[0m\n",
      "\u001b[1;32m<ipython-input-37-98a585f34ea4>\u001b[0m in \u001b[0;36mavailable\u001b[1;34m(self, node, message)\u001b[0m\n\u001b[0;32m     47\u001b[0m \u001b[1;33m\u001b[0m\u001b[0m\n\u001b[0;32m     48\u001b[0m             \u001b[0mnode\u001b[0m\u001b[1;33m.\u001b[0m\u001b[0msend\u001b[0m\u001b[1;33m(\u001b[0m\u001b[0mMessage\u001b[0m\u001b[1;33m(\u001b[0m\u001b[0mheader\u001b[0m\u001b[1;33m=\u001b[0m\u001b[1;34m'Activate'\u001b[0m\u001b[1;33m,\u001b[0m \u001b[0mdata\u001b[0m\u001b[1;33m=\u001b[0m\u001b[1;34m'Activate'\u001b[0m\u001b[1;33m,\u001b[0m \u001b[0mdestination\u001b[0m\u001b[1;33m=\u001b[0m\u001b[0mdestination_nodes\u001b[0m\u001b[1;33m.\u001b[0m\u001b[0mremove\u001b[0m\u001b[1;33m(\u001b[0m\u001b[0mmessage\u001b[0m\u001b[1;33m.\u001b[0m\u001b[0msource\u001b[0m\u001b[1;33m)\u001b[0m\u001b[1;33m)\u001b[0m\u001b[1;33m)\u001b[0m\u001b[1;33m\u001b[0m\u001b[0m\n\u001b[1;32m---> 49\u001b[1;33m             \u001b[1;32mprint\u001b[0m \u001b[0mdetination_nodes\u001b[0m\u001b[1;33m\u001b[0m\u001b[0m\n\u001b[0m\u001b[0;32m     50\u001b[0m             \u001b[1;31m#initialize() mislim da ipak treba biti u initalizeru\u001b[0m\u001b[1;33m\u001b[0m\u001b[1;33m\u001b[0m\u001b[0m\n\u001b[0;32m     51\u001b[0m             \u001b[1;32mif\u001b[0m \u001b[0mlen\u001b[0m\u001b[1;33m(\u001b[0m\u001b[0mnode\u001b[0m\u001b[1;33m.\u001b[0m\u001b[0mmemory\u001b[0m\u001b[1;33m[\u001b[0m\u001b[0mself\u001b[0m\u001b[1;33m.\u001b[0m\u001b[0mtreeNeighbors\u001b[0m\u001b[1;33m]\u001b[0m\u001b[1;33m)\u001b[0m\u001b[1;33m==\u001b[0m\u001b[1;36m1\u001b[0m \u001b[1;33m:\u001b[0m\u001b[1;33m\u001b[0m\u001b[0m\n",
      "\u001b[1;31mNameError\u001b[0m: global name 'detination_nodes' is not defined"
     ]
    }
   ],
   "source": [
    "sim = Simulation(net)\n",
    "sim.run()\n",
    "\n",
    "\n",
    "#write_pickle(net,'mrezaStabloAfter.tar.gz')\n",
    "#write_pickle(net,'mrezaStabloAfter.txt')\n",
    "\n",
    "suma=0\n",
    "\n",
    "print \"Number of nodes:\"\n",
    "print len(list(net.nodes()))\n",
    "print \"Number of edges:\"\n",
    "print len(list(net.edges()))\n",
    "print \"Total number of messages:\"\n",
    "print suma\n",
    "\n",
    "for node in net.nodes():\n",
    "    #print node.memory['Max']\n",
    "    print node.id\n",
    "    print node.memory\n",
    "    print node.status\n",
    "    #suma=suma+node.memory['msgKey']"
   ]
  },
  {
   "cell_type": "code",
   "execution_count": null,
   "metadata": {
    "collapsed": true
   },
   "outputs": [],
   "source": [
    "net.show()"
   ]
  },
  {
   "cell_type": "code",
   "execution_count": null,
   "metadata": {
    "collapsed": false
   },
   "outputs": [],
   "source": [
    "print node.memory\n",
    "#list(node.memory['Neighbors']).remove(node.memory['Parent'])\n",
    "\n",
    "type(node.memory['Neighbors'])\n",
    "node.memory['Neighbors'].remove(node.memory['Neighbors'][0])\n",
    "print node.memory"
   ]
  },
  {
   "cell_type": "code",
   "execution_count": null,
   "metadata": {
    "collapsed": false
   },
   "outputs": [],
   "source": [
    "print node.memory"
   ]
  }
 ],
 "metadata": {
  "kernelspec": {
   "display_name": "Python 2",
   "language": "python",
   "name": "python2"
  },
  "language_info": {
   "codemirror_mode": {
    "name": "ipython",
    "version": 2
   },
   "file_extension": ".py",
   "mimetype": "text/x-python",
   "name": "python",
   "nbconvert_exporter": "python",
   "pygments_lexer": "ipython2",
   "version": "2.7.10"
  }
 },
 "nbformat": 4,
 "nbformat_minor": 0
}
