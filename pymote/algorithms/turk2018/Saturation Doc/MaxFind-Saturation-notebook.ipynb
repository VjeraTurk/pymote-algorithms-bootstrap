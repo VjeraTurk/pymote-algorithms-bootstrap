{
 "cells": [
  {
   "cell_type": "markdown",
   "metadata": {},
   "source": [
    "# Saturation - Maximum Find"
   ]
  },
  {
   "cell_type": "code",
   "execution_count": 19,
   "metadata": {
    "collapsed": false
   },
   "outputs": [
    {
     "name": "stdout",
     "output_type": "stream",
     "text": [
      "The autoreload extension is already loaded. To reload it, use:\n",
      "  %reload_ext autoreload\n"
     ]
    }
   ],
   "source": [
    "%load_ext autoreload\n",
    "%autoreload 2\n",
    "%reload_ext autoreload"
   ]
  },
  {
   "cell_type": "markdown",
   "metadata": {},
   "source": [
    "## Algoritmi"
   ]
  },
  {
   "cell_type": "markdown",
   "metadata": {},
   "source": [
    "### TODO: Building Tree"
   ]
  },
  {
   "cell_type": "code",
   "execution_count": null,
   "metadata": {
    "collapsed": false
   },
   "outputs": [],
   "source": []
  },
  {
   "cell_type": "markdown",
   "metadata": {},
   "source": [
    "\n",
    "\n",
    "### Saturation (Plug-in Full-Saturation)"
   ]
  },
  {
   "cell_type": "code",
   "execution_count": 42,
   "metadata": {
    "collapsed": false
   },
   "outputs": [],
   "source": [
    "# -*- coding: utf-8 -*-\n",
    "from pymote.algorithm import NodeAlgorithm\n",
    "from pymote.message import Message\n",
    "\n",
    "class Saturation(NodeAlgorithm): \n",
    "    \n",
    "    #required_params = ('informationKey', 'treeKey',) # must have ','\n",
    "    required_params = ('informationKey',) # must have ','\n",
    "    default_params = {'treeNeighbors': 'Neighbors','parentKey' : 'Parent', 'treeKey': 'Tree'}\n",
    "\n",
    "    #TODO: treeKey now serves as treeNeighbors, and treeNeighbors as treeKey - necessary to SWAP them\n",
    "    #      should treeKey be in required_params?!\n",
    "    \n",
    "    def initializer(self):\n",
    "        ini_nodes = []\n",
    "        for node in self.network.nodes():\n",
    "            node.memory[self.treeNeighbors] = node.compositeSensor.read()['Neighbors']\n",
    "            node.memory[self.treeKey]= list(node.memory[self.treeNeighbors])\n",
    "            self.initialize(node)\n",
    "            node.status = 'AVAILABLE'\n",
    "            if self.informationKey in node.memory:\n",
    "                node.status = 'AVAILABLE'\n",
    "                ini_nodes.append(node)\n",
    "        for ini_node in ini_nodes:\n",
    "            self.network.outbox.insert(0, Message(header=NodeAlgorithm.INI,destination=ini_node))  # to je spontani impuls   \n",
    "\n",
    "        \n",
    "    def available(self, node, message):\n",
    "\n",
    "        #inicijatori\n",
    "        if message.header == NodeAlgorithm.INI: #Spontaneously\n",
    "            node.send(Message(header='Activate', data='Activate'))\n",
    "            #initialize() mislim da ipak treba biti u initalizeru\n",
    "            if len(node.memory[self.treeNeighbors])==1 : #ako je čvor list\n",
    "                node.memory[self.parentKey] = list(node.memory[self.treeNeighbors])\n",
    "                updated_data=self.prepare_message(node)\n",
    "                node.send(Message(header='M', data = updated_data, destination = node.memory[self.parentKey]))\n",
    "                node.status = 'PROCESSING'\n",
    "            else:\n",
    "                node.status = 'ACTIVE' #izvrši se\n",
    "                \n",
    "        if message.header == 'Activate':\n",
    "            destination_nodes = list(node.memory[self.treeNeighbors])\n",
    "            print \"message.source:\"\n",
    "            print type(message.source)\n",
    "            print message.source\n",
    "            \n",
    "            node.send(Message(header='Activate', data='Activate', destination=destination_nodes.remove(message.source)))\n",
    "            print destination_nodes\n",
    "            #initialize() mislim da ipak treba biti u initalizeru            \n",
    "            if len(node.memory[self.treeNeighbors])==1 :\n",
    "                node.memory[self.parentKey] = list(node.memory[self.treeNeighbors])                \n",
    "                updated_data=self.prepare_message(node)\n",
    "                node.send(Message(header='M', data=updated_data, destination=node.memory[self.parentKey]))\n",
    "                #dal prepare?\n",
    "                node.status = 'PROCESSING'\n",
    "            else:\n",
    "                node.status='ACTIVE' #izvrši se\n",
    "    \n",
    "    def active(self, node, message):  \n",
    "        \n",
    "\n",
    "        if message.header=='M':\n",
    "            self.process_message(node,message)\n",
    "            ###ključno\n",
    "            node.memory[self.treeNeighbors].remove(message.source) # ne radi?\n",
    "\n",
    "            ##izgleda da neki ostanu bez susjeda kao posljedica ovoga, ne, trebali bi uci u processing jopš u availabele\n",
    "            \n",
    "            if len(node.memory[self.treeNeighbors])==1 :\n",
    "                node.memory[self.parentKey] = list(node.memory[self.treeNeighbors])                \n",
    "                updated_data=self.prepare_message(node)\n",
    "                node.send(Message(header='M', data=updated_data, destination=node.memory[self.parentKey]))\n",
    "                node.status = 'PROCESSING'\n",
    "\n",
    "    def processing(self, node, message):\n",
    "        if message.header==\"M\":           \n",
    "            self.process_message(node,message)\n",
    "            #self.resolve(node)\n",
    "            node.staus='SATURATED'\n",
    "        #if message.header==\"Notification\":\n",
    "            #print \"Nebi smio biti tu\"\n",
    "            \n",
    "    def prepare_message(self,node):\n",
    "        raise NotImplementedError\n",
    "        \n",
    "    def process_message(self, node, message):\n",
    "        raise NotImplementedError\n",
    "\n",
    "    def initialize(self, node):\n",
    "        raise NotImplementedError\n",
    "                \n",
    "    def resolve(self,node):\n",
    "        raise NotImplementedError\n",
    "        \n",
    "    STATUS = {\n",
    "              'AVAILABLE': available,\n",
    "              'ACTIVE': active,\n",
    "              'PROCESSING': processing,\n",
    "              'SATURATED': resolve,\n",
    "             }"
   ]
  },
  {
   "cell_type": "markdown",
   "metadata": {},
   "source": [
    "### MaxFind"
   ]
  },
  {
   "cell_type": "code",
   "execution_count": 43,
   "metadata": {
    "collapsed": false
   },
   "outputs": [],
   "source": [
    "# -*- coding: utf-8 -*-\n",
    "from pymote.sensor import TempSensor\n",
    "\n",
    "class MaxFind(Saturation):\n",
    "    #required_params = ('dataKey',) \n",
    "    default_params = {'temperatureKey':'Temperature','maxKey':'Max'}\n",
    "\n",
    "    def processing(self,node,message):\n",
    "        if message.header==\"M\":\n",
    "            self.process_message(node,message)\n",
    "            #node.status = 'SATURATED'\n",
    "            self.resolve(node)\n",
    "            \n",
    "        if message.header==\"Notification\":\n",
    "            destination_nodes = node.memory[self.treeKey]\n",
    "            #print destination_nodes\n",
    "            #print node.memory[self.parentKey]\n",
    "            #print type(node.memory[self.parentKey])\n",
    "            #print node.memory[self.parentKey][0]\n",
    "            \n",
    "            self.process_message(node,message)\n",
    "            destination_nodes.remove(node.memory[self.parentKey][0])            \n",
    "            \n",
    "            node.send(Message(header='Notification', data=node.memory[self.maxKey], destination=destination_nodes))\n",
    "            \n",
    "            if node.memory[self.temperatureKey]==message.data:\n",
    "                node.status=\"MAXIMUM\"\n",
    "            else:\n",
    "                node.status=\"SMALLER\"\n",
    "    \n",
    "    def initialize(self, node):\n",
    "        node.compositeSensor=(TempSensor,'Temperature')\n",
    "        node.memory[self.temperatureKey]=node.compositeSensor.read()['Temperature']\n",
    "        node.memory[self.maxKey]=node.memory[self.temperatureKey]   \n",
    "        #return node.memory[self.maxKey] is not None    \n",
    "    \n",
    "    def prepare_message(self,node):\n",
    "        return node.memory[self.maxKey]\n",
    "                   \n",
    "    def process_message(self,node,message):\n",
    "        #print message.data\n",
    "        if message.data>node.memory[self.maxKey]:\n",
    "            node.memory[self.maxKey] = message.data\n",
    "    \n",
    "    def resolve(self,node):\n",
    "        #print \"TU SAM\"\n",
    "        destination_nodes = node.memory[self.treeKey]  #garantira topologiju      \n",
    "        #print destination_nodes\n",
    "        #print node.memory[self.parentKey]\n",
    "        destination_nodes.remove(node.memory[self.parentKey][0]) #garantira topologiju        \n",
    "        \n",
    "        node.send(Message(header='Notification', data=node.memory[self.maxKey], destination=destination_nodes))        \n",
    "\n",
    "        if node.memory[self.temperatureKey] == node.memory[self.maxKey]:\n",
    "            node.status='MAXIMUM'\n",
    "        else :\n",
    "            node.status='SMALLER'\n",
    "    \n",
    "                                                 \n",
    "    def mini(self,node,message):\n",
    "        print \"MAXIMUM\"\n",
    "    def larger(self,node,message):\n",
    "        print \"SMALLER\"\n",
    "    \n",
    "    STATUS = {\n",
    "              'MAXIMUM' : mini,\n",
    "              'SMALLER' : larger,\n",
    "              'AVAILABLE': Saturation.STATUS.get('AVAILABLE'),\n",
    "              'ACTIVE': Saturation.STATUS.get('ACTIVE'),\n",
    "              #'PROCESSING':Saturation.STATUS.get('PROCESSING'), #redefinirali smo processing\n",
    "              'PROCESSING':processing, #redefinirali smo processing\n",
    "              #'SATURATED':Saturation.STATUS.get('SATURATED'),\n",
    "              'SATURATED':resolve,\n",
    "        \n",
    "        #svaka metoda vezana uz status mora imati self,node,message\n",
    "        #procedure primaju self po defaultu kao prvi argument, \n",
    "        #ako je procedura definirana kao def procedura(self,node) \n",
    "        #krivo je zvati self.procedura(self,node), \n",
    "        #ispravno je     self.procedura(node)\n",
    "             }    "
   ]
  },
  {
   "cell_type": "markdown",
   "metadata": {},
   "source": [
    "### Random Mreža"
   ]
  },
  {
   "cell_type": "code",
   "execution_count": 44,
   "metadata": {
    "collapsed": false
   },
   "outputs": [],
   "source": [
    "from pymote.networkgenerator import NetworkGenerator\n",
    "from pymote.npickle import write_pickle, read_pickle\n",
    "#net_gen = NetworkGenerator(3)\n",
    "net_gen = NetworkGenerator(5)\n",
    "#net_gen = NetworkGenerator(15)\n",
    "#net_gen = NetworkGenerator(500)\n",
    "net = net_gen.generate_random_network()"
   ]
  },
  {
   "cell_type": "code",
   "execution_count": null,
   "metadata": {
    "collapsed": false
   },
   "outputs": [],
   "source": [
    "net.show() #po gašenju izaziva Dead Kernel"
   ]
  },
  {
   "cell_type": "markdown",
   "metadata": {},
   "source": [
    "### Mreža stablo"
   ]
  },
  {
   "cell_type": "code",
   "execution_count": 45,
   "metadata": {
    "collapsed": false
   },
   "outputs": [],
   "source": [
    "from pymote.network import Network\n",
    "net = Network()\n",
    "root=net.add_node(pos=[300,500])\n",
    "root.commRange=150\n",
    "node=net.add_node(pos=[200,400])\n",
    "node.commRange=150\n",
    "node=net.add_node(pos=[400,400])\n",
    "node.commRange=150\n",
    "\n",
    "node=net.add_node(pos=[100,300])\n",
    "node.commRange=150\n",
    "\n",
    "node=net.add_node(pos=[250,300])\n",
    "node.commRange=150\n",
    "node=net.add_node(pos=[500,300])\n",
    "node.commRange=150\n",
    "node=net.add_node(pos=[450,200])\n",
    "node.commRange=150\n",
    "node=net.add_node(pos=[10,200])\n",
    "node.commRange=150"
   ]
  },
  {
   "cell_type": "markdown",
   "metadata": {},
   "source": [
    "### Mreža Lanac (n = 4, m = 5)"
   ]
  },
  {
   "cell_type": "code",
   "execution_count": null,
   "metadata": {
    "collapsed": false
   },
   "outputs": [],
   "source": [
    "from pymote.network import Network\n",
    "net = Network()\n",
    "n = 5\n",
    "u = 100\n",
    "\n",
    "for i in range(0,n*u,u):\n",
    "    node = net.add_node(pos=[1,i])\n",
    "    node.commRange=110"
   ]
  },
  {
   "cell_type": "markdown",
   "metadata": {},
   "source": [
    "### Mreža Zvijezda (n = 4, m = 5)"
   ]
  },
  {
   "cell_type": "code",
   "execution_count": null,
   "metadata": {
    "collapsed": false
   },
   "outputs": [],
   "source": [
    "from pymote.network import Network\n",
    "net = Network()\n",
    "n = 5\n",
    "for i in range(100,(n+1)*100,100):\n",
    "    node= net.add_node(pos=[i,i])\n",
    "    node.commRange=200\n",
    "\n",
    "node= net.add_node(pos=[100,300])\n",
    "node.commRange=200\n",
    "node= net.add_node(pos=[300,100])\n",
    "node.commRange=200"
   ]
  },
  {
   "cell_type": "markdown",
   "metadata": {},
   "source": [
    "### Simulacija"
   ]
  },
  {
   "cell_type": "code",
   "execution_count": null,
   "metadata": {
    "collapsed": false
   },
   "outputs": [],
   "source": [
    "%load_ext autoreload\n",
    "%autoreload 2\n",
    "%reload_ext autoreload\n",
    "\n",
    "from pymote.algorithms.saturation import Saturation\n",
    "from pymote.algorithms.maximumfind import MaxFind"
   ]
  },
  {
   "cell_type": "code",
   "execution_count": 46,
   "metadata": {
    "collapsed": false,
    "scrolled": true
   },
   "outputs": [
    {
     "name": "stdout",
     "output_type": "stream",
     "text": [
      "The autoreload extension is already loaded. To reload it, use:\n",
      "  %reload_ext autoreload\n"
     ]
    }
   ],
   "source": [
    "%load_ext autoreload\n",
    "%autoreload 2\n",
    "%reload_ext autoreload\n",
    "from pymote.npickle import write_pickle, read_pickle\n",
    "from pymote.simulation import Simulation\n",
    "\n",
    "#net = read_pickle('mrezaRandom.tar.gz') \n",
    "#net = read_pickle('mrezaList.tar.gz')\n",
    "#net = read_pickle('mrezaZvijezda.tar.gz')\n",
    "#net = read_pickle('mrezaStablo.tar.gz')\n",
    "\n",
    "from pymote.network import Network\n",
    "net = Network()\n",
    "root=net.add_node(pos=[300,500])\n",
    "root.commRange=150\n",
    "node=net.add_node(pos=[200,400])\n",
    "node.commRange=150\n",
    "node=net.add_node(pos=[400,400])\n",
    "node.commRange=150\n",
    "node=net.add_node(pos=[100,300])\n",
    "node.commRange=150\n",
    "node=net.add_node(pos=[250,300])\n",
    "node.commRange=150\n",
    "node=net.add_node(pos=[500,300])\n",
    "node.commRange=150\n",
    "node=net.add_node(pos=[450,200])\n",
    "node.commRange=150\n",
    "node=net.add_node(pos=[10,200])\n",
    "node.commRange=150\n",
    "\n",
    "net.algorithms = ( (MaxFind,{'informationKey':'I'}), )\n",
    "some_node = net.nodes()[4]# uzimamo prvi cvor u listi cvorova mreze\n",
    "some_node.memory['I'] = 'Activate'\n",
    "\n",
    "#some_node_2 = net.nodes()[1]# uzimamo prvi cvor u listi cvorova mreze\n",
    "#some_node_2.memory['I'] = 'Activate'\n",
    "\n",
    "\n",
    "write_pickle(net,'mrezaStabloAfter.tar.gz')\n",
    "\n"
   ]
  },
  {
   "cell_type": "code",
   "execution_count": 47,
   "metadata": {
    "collapsed": false
   },
   "outputs": [
    {
     "name": "stdout",
     "output_type": "stream",
     "text": [
      "DEBUG   [simulation.py]: Simulation 0x10f490f8 created successfully.\n"
     ]
    },
    {
     "name": "stderr",
     "output_type": "stream",
     "text": [
      "DEBUG:pymote.simulation:Simulation 0x10f490f8 created successfully.\n"
     ]
    },
    {
     "name": "stdout",
     "output_type": "stream",
     "text": [
      "DEBUG   [simulation.py]: [MaxFind] Step 1 finished\n"
     ]
    },
    {
     "name": "stderr",
     "output_type": "stream",
     "text": [
      "DEBUG:pymote.simulation:[MaxFind] Step 1 finished\n"
     ]
    },
    {
     "name": "stdout",
     "output_type": "stream",
     "text": [
      "DEBUG   [simulation.py]: [MaxFind] Step 2 finished\n"
     ]
    },
    {
     "name": "stderr",
     "output_type": "stream",
     "text": [
      "DEBUG:pymote.simulation:[MaxFind] Step 2 finished\n"
     ]
    },
    {
     "name": "stdout",
     "output_type": "stream",
     "text": [
      "DEBUG   [simulation.py]: [MaxFind] Step 3 finished\n"
     ]
    },
    {
     "name": "stderr",
     "output_type": "stream",
     "text": [
      "DEBUG:pymote.simulation:[MaxFind] Step 3 finished\n"
     ]
    },
    {
     "name": "stdout",
     "output_type": "stream",
     "text": [
      "message.source:\n",
      "<class 'pymote.node.Node'>\n",
      "<Node id=143>\n",
      "[<Node id=142>, <Node id=139>]\n",
      "DEBUG   [simulation.py]: [MaxFind] Step 4 finished\n"
     ]
    },
    {
     "name": "stderr",
     "output_type": "stream",
     "text": [
      "DEBUG:pymote.simulation:[MaxFind] Step 4 finished\n"
     ]
    },
    {
     "name": "stdout",
     "output_type": "stream",
     "text": [
      "DEBUG   [simulation.py]: [MaxFind] Step 5 finished\n"
     ]
    },
    {
     "name": "stderr",
     "output_type": "stream",
     "text": [
      "DEBUG:pymote.simulation:[MaxFind] Step 5 finished\n"
     ]
    },
    {
     "name": "stdout",
     "output_type": "stream",
     "text": [
      "message.source:\n",
      "<class 'pymote.node.Node'>\n",
      "<Node id=140>\n",
      "[<Node id=141>]\n",
      "message.source:\n",
      "<class 'pymote.node.Node'>\n",
      "<Node id=140>\n",
      "[<Node id=146>]\n",
      "DEBUG   [simulation.py]: [MaxFind] Step 6 finished\n"
     ]
    },
    {
     "name": "stderr",
     "output_type": "stream",
     "text": [
      "DEBUG:pymote.simulation:[MaxFind] Step 6 finished\n"
     ]
    },
    {
     "name": "stdout",
     "output_type": "stream",
     "text": [
      "DEBUG   [simulation.py]: [MaxFind] Step 7 finished\n"
     ]
    },
    {
     "name": "stderr",
     "output_type": "stream",
     "text": [
      "DEBUG:pymote.simulation:[MaxFind] Step 7 finished\n"
     ]
    },
    {
     "name": "stdout",
     "output_type": "stream",
     "text": [
      "message.source:\n",
      "<class 'pymote.node.Node'>\n",
      "<Node id=139>\n",
      "[<Node id=144>]\n",
      "message.source:\n",
      "<class 'pymote.node.Node'>\n",
      "<Node id=142>\n",
      "[]\n",
      "DEBUG   [simulation.py]: [MaxFind] Step 8 finished\n"
     ]
    },
    {
     "name": "stderr",
     "output_type": "stream",
     "text": [
      "DEBUG:pymote.simulation:[MaxFind] Step 8 finished\n"
     ]
    },
    {
     "name": "stdout",
     "output_type": "stream",
     "text": [
      "DEBUG   [simulation.py]: [MaxFind] Step 9 finished\n"
     ]
    },
    {
     "name": "stderr",
     "output_type": "stream",
     "text": [
      "DEBUG:pymote.simulation:[MaxFind] Step 9 finished\n"
     ]
    },
    {
     "name": "stdout",
     "output_type": "stream",
     "text": [
      "message.source:\n",
      "<class 'pymote.node.Node'>\n",
      "<Node id=141>\n",
      "[<Node id=145>]\n",
      "DEBUG   [simulation.py]: [MaxFind] Step 10 finished\n"
     ]
    },
    {
     "name": "stderr",
     "output_type": "stream",
     "text": [
      "DEBUG:pymote.simulation:[MaxFind] Step 10 finished\n"
     ]
    },
    {
     "name": "stdout",
     "output_type": "stream",
     "text": [
      "DEBUG   [simulation.py]: [MaxFind] Step 11 finished\n"
     ]
    },
    {
     "name": "stderr",
     "output_type": "stream",
     "text": [
      "DEBUG:pymote.simulation:[MaxFind] Step 11 finished\n"
     ]
    },
    {
     "name": "stdout",
     "output_type": "stream",
     "text": [
      "message.source:\n",
      "<class 'pymote.node.Node'>\n",
      "<Node id=144>\n",
      "[]\n",
      "DEBUG   [simulation.py]: [MaxFind] Step 12 finished\n"
     ]
    },
    {
     "name": "stderr",
     "output_type": "stream",
     "text": [
      "DEBUG:pymote.simulation:[MaxFind] Step 12 finished\n"
     ]
    },
    {
     "name": "stdout",
     "output_type": "stream",
     "text": [
      "DEBUG   [simulation.py]: [MaxFind] Step 13 finished\n"
     ]
    },
    {
     "name": "stderr",
     "output_type": "stream",
     "text": [
      "DEBUG:pymote.simulation:[MaxFind] Step 13 finished\n"
     ]
    },
    {
     "name": "stdout",
     "output_type": "stream",
     "text": [
      "DEBUG   [simulation.py]: [MaxFind] Step 14 finished\n"
     ]
    },
    {
     "name": "stderr",
     "output_type": "stream",
     "text": [
      "DEBUG:pymote.simulation:[MaxFind] Step 14 finished\n"
     ]
    },
    {
     "name": "stdout",
     "output_type": "stream",
     "text": [
      "DEBUG   [simulation.py]: [MaxFind] Step 15 finished\n"
     ]
    },
    {
     "name": "stderr",
     "output_type": "stream",
     "text": [
      "DEBUG:pymote.simulation:[MaxFind] Step 15 finished\n"
     ]
    },
    {
     "name": "stdout",
     "output_type": "stream",
     "text": [
      "DEBUG   [simulation.py]: [MaxFind] Step 16 finished\n"
     ]
    },
    {
     "name": "stderr",
     "output_type": "stream",
     "text": [
      "DEBUG:pymote.simulation:[MaxFind] Step 16 finished\n"
     ]
    },
    {
     "name": "stdout",
     "output_type": "stream",
     "text": [
      "DEBUG   [simulation.py]: [MaxFind] Step 17 finished\n"
     ]
    },
    {
     "name": "stderr",
     "output_type": "stream",
     "text": [
      "DEBUG:pymote.simulation:[MaxFind] Step 17 finished\n"
     ]
    },
    {
     "name": "stdout",
     "output_type": "stream",
     "text": [
      "DEBUG   [simulation.py]: [MaxFind] Step 18 finished\n"
     ]
    },
    {
     "name": "stderr",
     "output_type": "stream",
     "text": [
      "DEBUG:pymote.simulation:[MaxFind] Step 18 finished\n"
     ]
    },
    {
     "name": "stdout",
     "output_type": "stream",
     "text": [
      "DEBUG   [simulation.py]: [MaxFind] Step 19 finished\n"
     ]
    },
    {
     "name": "stderr",
     "output_type": "stream",
     "text": [
      "DEBUG:pymote.simulation:[MaxFind] Step 19 finished\n"
     ]
    },
    {
     "name": "stdout",
     "output_type": "stream",
     "text": [
      "DEBUG   [simulation.py]: [MaxFind] Step 20 finished\n"
     ]
    },
    {
     "name": "stderr",
     "output_type": "stream",
     "text": [
      "DEBUG:pymote.simulation:[MaxFind] Step 20 finished\n"
     ]
    },
    {
     "name": "stdout",
     "output_type": "stream",
     "text": [
      "DEBUG   [simulation.py]: [MaxFind] Step 21 finished\n"
     ]
    },
    {
     "name": "stderr",
     "output_type": "stream",
     "text": [
      "DEBUG:pymote.simulation:[MaxFind] Step 21 finished\n"
     ]
    },
    {
     "name": "stdout",
     "output_type": "stream",
     "text": [
      "DEBUG   [simulation.py]: [MaxFind] Step 22 finished\n"
     ]
    },
    {
     "name": "stderr",
     "output_type": "stream",
     "text": [
      "DEBUG:pymote.simulation:[MaxFind] Step 22 finished\n"
     ]
    },
    {
     "name": "stdout",
     "output_type": "stream",
     "text": [
      "DEBUG   [simulation.py]: [MaxFind] Step 23 finished\n"
     ]
    },
    {
     "name": "stderr",
     "output_type": "stream",
     "text": [
      "DEBUG:pymote.simulation:[MaxFind] Step 23 finished\n"
     ]
    },
    {
     "name": "stdout",
     "output_type": "stream",
     "text": [
      "DEBUG   [simulation.py]: [MaxFind] Step 24 finished\n"
     ]
    },
    {
     "name": "stderr",
     "output_type": "stream",
     "text": [
      "DEBUG:pymote.simulation:[MaxFind] Step 24 finished\n"
     ]
    },
    {
     "name": "stdout",
     "output_type": "stream",
     "text": [
      "DEBUG   [simulation.py]: [MaxFind] Step 25 finished\n"
     ]
    },
    {
     "name": "stderr",
     "output_type": "stream",
     "text": [
      "DEBUG:pymote.simulation:[MaxFind] Step 25 finished\n"
     ]
    },
    {
     "name": "stdout",
     "output_type": "stream",
     "text": [
      "DEBUG   [simulation.py]: [MaxFind] Algorithm finished\n"
     ]
    },
    {
     "name": "stderr",
     "output_type": "stream",
     "text": [
      "DEBUG:pymote.simulation:[MaxFind] Algorithm finished\n"
     ]
    },
    {
     "name": "stdout",
     "output_type": "stream",
     "text": [
      "INFO    [simulation.py]: Simulation has finished. There are no algorithms left to run. To run it from the start use sim.reset().\n"
     ]
    },
    {
     "name": "stderr",
     "output_type": "stream",
     "text": [
      "INFO:pymote.simulation:Simulation has finished. There are no algorithms left to run. To run it from the start use sim.reset().\n"
     ]
    },
    {
     "name": "stdout",
     "output_type": "stream",
     "text": [
      "Number of nodes:\n",
      "8\n",
      "Number of edges:\n",
      "7\n",
      "Total number of messages:\n",
      "0\n",
      "139\n",
      "{'Neighbors': [<Node id=141>], 'Max': 37, 'Tree': [<Node id=140>], 'Temperature': 30, 'Parent': [<Node id=141>]}\n",
      "SMALLER\n",
      "140\n",
      "{'Neighbors': [<Node id=139>], 'Max': 37, 'Tree': [<Node id=142>, <Node id=143>], 'Temperature': 37, 'Parent': [<Node id=139>]}\n",
      "MAXIMUM\n",
      "141\n",
      "{'Neighbors': [<Node id=139>], 'Max': 37, 'Tree': [<Node id=144>], 'Temperature': 2, 'Parent': [<Node id=139>]}\n",
      "SMALLER\n",
      "142\n",
      "{'Neighbors': [<Node id=140>], 'Max': 37, 'Tree': [<Node id=146>], 'Temperature': 31, 'Parent': [<Node id=140>]}\n",
      "SMALLER\n",
      "143\n",
      "{'Neighbors': [<Node id=140>], 'Temperature': 3, 'Parent': [<Node id=140>], 'I': 'Activate', 'Max': 37, 'Tree': []}\n",
      "SMALLER\n",
      "144\n",
      "{'Neighbors': [<Node id=141>], 'Max': 37, 'Tree': [<Node id=145>], 'Temperature': 20, 'Parent': [<Node id=141>]}\n",
      "SMALLER\n",
      "145\n",
      "{'Neighbors': [<Node id=144>], 'Max': 37, 'Tree': [], 'Temperature': 35, 'Parent': [<Node id=144>]}\n",
      "SMALLER\n",
      "146\n",
      "{'Neighbors': [<Node id=142>], 'Max': 37, 'Tree': [], 'Temperature': 4, 'Parent': [<Node id=142>]}\n",
      "SMALLER\n"
     ]
    }
   ],
   "source": [
    "sim = Simulation(net)\n",
    "sim.run()\n",
    "\n",
    "\n",
    "#write_pickle(net,'mrezaStabloAfter.tar.gz')\n",
    "#write_pickle(net,'mrezaStabloAfter.txt')\n",
    "\n",
    "suma=0\n",
    "\n",
    "print \"Number of nodes:\"\n",
    "print len(list(net.nodes()))\n",
    "print \"Number of edges:\"\n",
    "print len(list(net.edges()))\n",
    "print \"Total number of messages:\"\n",
    "print suma\n",
    "\n",
    "for node in net.nodes():\n",
    "    #print node.memory['Max']\n",
    "    print node.id\n",
    "    print node.memory\n",
    "    print node.status\n",
    "    #suma=suma+node.memory['msgKey']"
   ]
  },
  {
   "cell_type": "code",
   "execution_count": null,
   "metadata": {
    "collapsed": true
   },
   "outputs": [],
   "source": [
    "net.show()"
   ]
  },
  {
   "cell_type": "code",
   "execution_count": null,
   "metadata": {
    "collapsed": false
   },
   "outputs": [],
   "source": [
    "print node.memory\n",
    "#list(node.memory['Neighbors']).remove(node.memory['Parent'])\n",
    "\n",
    "type(node.memory['Neighbors'])\n",
    "node.memory['Neighbors'].remove(node.memory['Neighbors'][0])\n",
    "print node.memory"
   ]
  },
  {
   "cell_type": "code",
   "execution_count": null,
   "metadata": {
    "collapsed": false
   },
   "outputs": [],
   "source": [
    "print node.memory"
   ]
  }
 ],
 "metadata": {
  "kernelspec": {
   "display_name": "Python 2",
   "language": "python",
   "name": "python2"
  },
  "language_info": {
   "codemirror_mode": {
    "name": "ipython",
    "version": 2
   },
   "file_extension": ".py",
   "mimetype": "text/x-python",
   "name": "python",
   "nbconvert_exporter": "python",
   "pygments_lexer": "ipython2",
   "version": "2.7.10"
  }
 },
 "nbformat": 4,
 "nbformat_minor": 0
}
