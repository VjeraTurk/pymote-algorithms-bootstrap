{
 "cells": [
  {
   "cell_type": "markdown",
   "metadata": {},
   "source": [
    "# Saturation - Maximum Find"
   ]
  },
  {
   "cell_type": "code",
   "execution_count": 14,
   "metadata": {
    "collapsed": false
   },
   "outputs": [],
   "source": [
    "%load_ext autoreload\n",
    "%autoreload 2\n",
    "%reload_ext autoreload"
   ]
  },
  {
   "cell_type": "code",
   "execution_count": 15,
   "metadata": {
    "collapsed": false
   },
   "outputs": [],
   "source": [
    "#from pymote.algorithms.saturation import Saturation\n",
    "#from pymote.algorithms.maximumfind import MaxFind"
   ]
  },
  {
   "cell_type": "markdown",
   "metadata": {},
   "source": [
    "## Algoritmi\n",
    "\n",
    "### Saturation (Plug-in Full-Saturation)"
   ]
  },
  {
   "cell_type": "code",
   "execution_count": 6,
   "metadata": {
    "collapsed": false
   },
   "outputs": [],
   "source": [
    "from pymote.algorithm import NodeAlgorithm\n",
    "from pymote.message import Message\n",
    "\n",
    "class Saturation(NodeAlgorithm): \n",
    "    \n",
    "    required_params = ('informationKey',) # must have ','\n",
    "    default_params = {'neighborsKey': 'Neighbors','parentKey' : 'Parent'}\n",
    "\n",
    "    def initializer(self):\n",
    "        ini_nodes = []\n",
    "        for node in self.network.nodes():\n",
    "            node.memory[self.neighborsKey] = node.compositeSensor.read()['Neighbors']\n",
    "            self.initialize(node)\n",
    "            node.status = 'AVAILABLE'\n",
    "            if self.informationKey in node.memory:\n",
    "                node.status = 'AVAILABLE'\n",
    "                ini_nodes.append(node)\n",
    "        for ini_node in ini_nodes:\n",
    "            self.network.outbox.insert(0, Message(header=NodeAlgorithm.INI,destination=ini_node))  # to je spontani impuls   \n",
    "\n",
    "        \n",
    "    def available(self, node, message):\n",
    "\n",
    "        #inicijatori\n",
    "        if message.header == NodeAlgorithm.INI:\n",
    "            node.send(Message(header='Activate', data='Activate'))\n",
    "            #initialize() mislim da ipak treba biti u initalizeru\n",
    "            if len(node.memory[self.neighborsKey])==1 : #ako je čvor list\n",
    "                node.memory[self.parentKey] = list(node.memory[self.neighborsKey])\n",
    "                updated_data=self.prepare_message(node)\n",
    "                node.send(Message(header='M', data = updated_data, destination = node.memory[self.parentKey]))\n",
    "                node.status = 'PROCESSING'\n",
    "            else:\n",
    "                node.status = 'ACTIVE' #izvrši se\n",
    "                \n",
    "        if message.header == 'Activate':\n",
    "            destination_nodes = list(node.memory[self.neighborsKey])\n",
    "            node.send(Message(header='Activate', data='Activate', destination=destination_nodes.remove(message.source)))\n",
    "            if len(node.memory[self.neighborsKey])==1 :\n",
    "                node.memory[self.parentKey] = list(node.memory[self.neighborsKey])                \n",
    "                node.send(Message(header='Notification', data=self.prepare_message(node), destination=node.memory[self.parentKey]))\n",
    "                #dal prepare?\n",
    "                node.status = 'PROCESSING'\n",
    "            else:\n",
    "                node.status='ACTIVE' #izvrši se\n",
    "    \n",
    "    def active(self, node, message):\n",
    "        \n",
    "        if message.header=='Notification':\n",
    "            self.process_message(node,message)\n",
    "            print len(node.memory[self.neighborsKey])            \n",
    "            node.memory[self.neighborsKey].remove(message.source) # ne radi?\n",
    "            print len(node.memory[self.neighborsKey])\n",
    "\n",
    "            if len(node.memory[self.neighborsKey])==1 :\n",
    "                node.memory[self.parentKey] = list(node.memory[self.neighborsKey])                \n",
    "                node.send(Message(header='M', data='hi', destination=node.memory[self.parentKey]))\n",
    "                self.status = 'PROCESSING'\n",
    "\n",
    "    def processing(self, node, message):\n",
    "        raise NotImplementedError   \n",
    "    \n",
    "    def prepare_message(node):\n",
    "        raise NotImplementedError\n",
    "        \n",
    "    def process_message(self, node, message):\n",
    "        raise NotImplementedError\n",
    "\n",
    "    def initialize(self, node):\n",
    "        raise NotImplementedError\n",
    "\n",
    "        \n",
    "    def resolution():\n",
    "        raise NotImplementedError    \n",
    "       \n",
    "    \n",
    "    def resolve(self):\n",
    "        self.status='SATURATED'\n",
    "        self.resolution()\n",
    "    \n",
    "    def test(self,node):\n",
    "        raise NotImplementedError\n",
    "        \n",
    "        \n",
    "\n",
    "\n",
    "    STATUS = {\n",
    "              'AVAILABLE': available,\n",
    "              'ACTIVE': active,\n",
    "              'PROCESSING': processing,\n",
    "              'SATURATED': resolution,\n",
    "             }"
   ]
  },
  {
   "cell_type": "markdown",
   "metadata": {},
   "source": [
    "### MaxFind"
   ]
  },
  {
   "cell_type": "code",
   "execution_count": 10,
   "metadata": {
    "collapsed": false
   },
   "outputs": [],
   "source": [
    "# -*- coding: utf-8 -*-\n",
    "from pymote.sensor import TempSensor\n",
    "\n",
    "class MaxFind(Saturation):\n",
    "    #required_params = ('dataKey',) \n",
    "    default_params = {'temperatureKey':'Temperature','maxKey':'Max'}\n",
    "\n",
    "    def processing(self,node,message):\n",
    "        \n",
    "        if message.header==\"Notification\":\n",
    "            destination_nodes = list(node.memory[self.neighborsKey])\n",
    "            destination_nodes.remove(node.memory[self.parentKey])\n",
    "            node.send(Message(header='Notification', data=node.memory[self.MaxKey]))\n",
    "            if node.memory[self.TempKey]==message.data:\n",
    "                node.status=\"MAXIMUM\"\n",
    "            else:\n",
    "                node.status=\"SMALLER\"\n",
    "    \n",
    "    def initialize(self, node):\n",
    "        node.compositeSensor=(TempSensor,'Temperature')\n",
    "        node.memory[self.temperatureKey]=node.compositeSensor.read()['Temperature']\n",
    "        node.memory[self.maxKey]=node.memory[self.temperatureKey]   \n",
    "        #return node.memory[self.maxKey] is not None    \n",
    "        print node.memory[self.maxKey]\n",
    "    \n",
    "    def prepare_message(self,node):\n",
    "        return node.memory[self.maxKey]\n",
    "                   \n",
    "    def process_message(self,node,message):\n",
    "        print message.data\n",
    "        if message.data>node.memory[self.maxKey]:\n",
    "            node.memory[self.maxKey] = message.data\n",
    "    \n",
    "    def resolve():\n",
    "        destination_nodes = list(node.memory[self.neighborsKey])\n",
    "        destination_nodes.remove(node.memory[self.parentKey])\n",
    "        node.send(Message(header='Resolution', data=node.memory[self.maxKey]), destination=destination_nodes)\n",
    "        \n",
    "        if node.memory[self.temperatureKey] == node.memory[self.maxKey]:\n",
    "            node.status='MAXIMUM'\n",
    "        else :\n",
    "            node.status='SMALL'\n",
    "                                                 \n",
    "    def mini():\n",
    "        print \"MAXIMUM\"\n",
    "    def larger():\n",
    "        print \"SMALLER\"\n",
    "    \n",
    "    STATUS = {\n",
    "              'MAXIMUM' : mini,\n",
    "              'SMALLER' : larger,\n",
    "              'AVAILABLE': Saturation.STATUS.get('AVAILABLE'),\n",
    "              'ACTIVE': Saturation.STATUS.get('ACTIVE'),\n",
    "              'PROCESSING':processing, #redefinirali smo processing\n",
    "              'SATURATED':Saturation.STATUS.get('SATURATED'),\n",
    "             }    "
   ]
  },
  {
   "cell_type": "markdown",
   "metadata": {},
   "source": [
    "### Random Mreža"
   ]
  },
  {
   "cell_type": "code",
   "execution_count": 3,
   "metadata": {
    "collapsed": false
   },
   "outputs": [
    {
     "name": "stdout",
     "output_type": "stream",
     "text": [
      "WARNING [__init__.py]: Environment variable PYMOTE_SETTINGS_MODULE is undefined, using global_settings.\n"
     ]
    },
    {
     "name": "stderr",
     "output_type": "stream",
     "text": [
      "WARNING:pymote:Environment variable PYMOTE_SETTINGS_MODULE is undefined, using global_settings.\n"
     ]
    }
   ],
   "source": [
    "from pymote.networkgenerator import NetworkGenerator\n",
    "from pymote.npickle import write_pickle, read_pickle\n",
    "net_gen = NetworkGenerator(3)\n",
    "#net_gen = NetworkGenerator(5)\n",
    "#net_gen = NetworkGenerator(15)\n",
    "#net_gen = NetworkGenerator(500)\n",
    "net = net_gen.generate_random_network()\n",
    "\n",
    "write_pickle(net,'mrezaRandom.tar.gz')"
   ]
  },
  {
   "cell_type": "code",
   "execution_count": 10,
   "metadata": {
    "collapsed": false
   },
   "outputs": [],
   "source": [
    "#net.show() #po gašenju izaziva Dead Kernel"
   ]
  },
  {
   "cell_type": "markdown",
   "metadata": {},
   "source": [
    "### Mreža stablo"
   ]
  },
  {
   "cell_type": "code",
   "execution_count": 8,
   "metadata": {
    "collapsed": false
   },
   "outputs": [],
   "source": [
    "from pymote.network import Network\n",
    "net = Network()\n",
    "root=net.add_node(pos=[300,500])\n",
    "root.commRange=150\n",
    "node=net.add_node(pos=[200,400])\n",
    "node.commRange=150\n",
    "node=net.add_node(pos=[400,400])\n",
    "node.commRange=150\n",
    "\n",
    "node=net.add_node(pos=[100,300])\n",
    "node.commRange=150\n",
    "\n",
    "node=net.add_node(pos=[250,300])\n",
    "node.commRange=150\n",
    "node=net.add_node(pos=[500,300])\n",
    "node.commRange=150\n",
    "\n",
    "from pymote.npickle import write_pickle, read_pickle\n",
    "write_pickle(net,'mrezaStablo.tar.gz')"
   ]
  },
  {
   "cell_type": "markdown",
   "metadata": {},
   "source": [
    "### Mreža Lanac (n = 4, m = 5)"
   ]
  },
  {
   "cell_type": "code",
   "execution_count": null,
   "metadata": {
    "collapsed": false
   },
   "outputs": [],
   "source": [
    "from pymote.network import Network\n",
    "net = Network()\n",
    "n = 5\n",
    "u = 100\n",
    "\n",
    "for i in range(0,n*u,u):\n",
    "    node = net.add_node(pos=[1,i])\n",
    "    node.commRange=110\n",
    "    \n",
    "from pymote.npickle import write_pickle, read_pickle\n",
    "write_pickle(net,'mrezaList.tar.gz') "
   ]
  },
  {
   "cell_type": "markdown",
   "metadata": {},
   "source": [
    "### Mreža Zvijezda (n = 4, m = 5)"
   ]
  },
  {
   "cell_type": "code",
   "execution_count": null,
   "metadata": {
    "collapsed": false
   },
   "outputs": [],
   "source": [
    "from pymote.network import Network\n",
    "net = Network()\n",
    "n = 5\n",
    "for i in range(100,(n+1)*100,100):\n",
    "    node= net.add_node(pos=[i,i])\n",
    "    node.commRange=200\n",
    "\n",
    "node= net.add_node(pos=[100,300])\n",
    "node.commRange=200\n",
    "node= net.add_node(pos=[300,100])\n",
    "node.commRange=200\n",
    "\n",
    "from pymote.npickle import write_pickle, read_pickle\n",
    "write_pickle(net,'mrezaZvijezda.tar.gz')"
   ]
  },
  {
   "cell_type": "markdown",
   "metadata": {},
   "source": [
    "### Simulacija"
   ]
  },
  {
   "cell_type": "code",
   "execution_count": 11,
   "metadata": {
    "collapsed": false,
    "scrolled": true
   },
   "outputs": [
    {
     "name": "stdout",
     "output_type": "stream",
     "text": [
      "DEBUG   [simulation.py]: Simulation 0x10c483c8 created successfully.\n"
     ]
    },
    {
     "name": "stderr",
     "output_type": "stream",
     "text": [
      "DEBUG:pymote.simulation:Simulation 0x10c483c8 created successfully.\n"
     ]
    },
    {
     "name": "stdout",
     "output_type": "stream",
     "text": [
      "18\n",
      "15\n",
      "-4\n",
      "-1\n",
      "22\n",
      "26\n",
      "DEBUG   [simulation.py]: [MaxFind] Step 1 finished\n"
     ]
    },
    {
     "name": "stderr",
     "output_type": "stream",
     "text": [
      "DEBUG:pymote.simulation:[MaxFind] Step 1 finished\n"
     ]
    },
    {
     "name": "stdout",
     "output_type": "stream",
     "text": [
      "DEBUG   [simulation.py]: [MaxFind] Step 2 finished\n"
     ]
    },
    {
     "name": "stderr",
     "output_type": "stream",
     "text": [
      "DEBUG:pymote.simulation:[MaxFind] Step 2 finished\n"
     ]
    },
    {
     "name": "stdout",
     "output_type": "stream",
     "text": [
      "DEBUG   [simulation.py]: [MaxFind] Step 3 finished\n"
     ]
    },
    {
     "name": "stderr",
     "output_type": "stream",
     "text": [
      "DEBUG:pymote.simulation:[MaxFind] Step 3 finished\n"
     ]
    },
    {
     "name": "stdout",
     "output_type": "stream",
     "text": [
      "DEBUG   [simulation.py]: [MaxFind] Step 4 finished\n"
     ]
    },
    {
     "name": "stderr",
     "output_type": "stream",
     "text": [
      "DEBUG:pymote.simulation:[MaxFind] Step 4 finished\n"
     ]
    },
    {
     "name": "stdout",
     "output_type": "stream",
     "text": [
      "DEBUG   [simulation.py]: [MaxFind] Step 5 finished\n"
     ]
    },
    {
     "name": "stderr",
     "output_type": "stream",
     "text": [
      "DEBUG:pymote.simulation:[MaxFind] Step 5 finished\n"
     ]
    },
    {
     "name": "stdout",
     "output_type": "stream",
     "text": [
      "DEBUG   [simulation.py]: [MaxFind] Step 6 finished\n"
     ]
    },
    {
     "name": "stderr",
     "output_type": "stream",
     "text": [
      "DEBUG:pymote.simulation:[MaxFind] Step 6 finished\n"
     ]
    },
    {
     "name": "stdout",
     "output_type": "stream",
     "text": [
      "22\n",
      "3\n",
      "2\n",
      "DEBUG   [simulation.py]: [MaxFind] Step 7 finished\n"
     ]
    },
    {
     "name": "stderr",
     "output_type": "stream",
     "text": [
      "DEBUG:pymote.simulation:[MaxFind] Step 7 finished\n"
     ]
    },
    {
     "name": "stdout",
     "output_type": "stream",
     "text": [
      "DEBUG   [simulation.py]: [MaxFind] Step 8 finished\n"
     ]
    },
    {
     "name": "stderr",
     "output_type": "stream",
     "text": [
      "DEBUG:pymote.simulation:[MaxFind] Step 8 finished\n"
     ]
    },
    {
     "name": "stdout",
     "output_type": "stream",
     "text": [
      "-1\n",
      "2\n",
      "1\n",
      "26\n",
      "2\n",
      "1\n",
      "DEBUG   [simulation.py]: [MaxFind] Step 9 finished\n"
     ]
    },
    {
     "name": "stderr",
     "output_type": "stream",
     "text": [
      "DEBUG:pymote.simulation:[MaxFind] Step 9 finished\n"
     ]
    },
    {
     "name": "stdout",
     "output_type": "stream",
     "text": [
      "DEBUG   [simulation.py]: [MaxFind] Step 10 finished\n"
     ]
    },
    {
     "name": "stderr",
     "output_type": "stream",
     "text": [
      "DEBUG:pymote.simulation:[MaxFind] Step 10 finished\n"
     ]
    },
    {
     "name": "stdout",
     "output_type": "stream",
     "text": [
      "DEBUG   [simulation.py]: [MaxFind] Step 11 finished\n"
     ]
    },
    {
     "name": "stderr",
     "output_type": "stream",
     "text": [
      "DEBUG:pymote.simulation:[MaxFind] Step 11 finished\n"
     ]
    },
    {
     "name": "stdout",
     "output_type": "stream",
     "text": [
      "DEBUG   [simulation.py]: [MaxFind] Step 12 finished\n"
     ]
    },
    {
     "name": "stderr",
     "output_type": "stream",
     "text": [
      "DEBUG:pymote.simulation:[MaxFind] Step 12 finished\n"
     ]
    },
    {
     "name": "stdout",
     "output_type": "stream",
     "text": [
      "DEBUG   [simulation.py]: [MaxFind] Algorithm finished\n"
     ]
    },
    {
     "name": "stderr",
     "output_type": "stream",
     "text": [
      "DEBUG:pymote.simulation:[MaxFind] Algorithm finished\n"
     ]
    },
    {
     "name": "stdout",
     "output_type": "stream",
     "text": [
      "INFO    [simulation.py]: Simulation has finished. There are no algorithms left to run. To run it from the start use sim.reset().\n"
     ]
    },
    {
     "name": "stderr",
     "output_type": "stream",
     "text": [
      "INFO:pymote.simulation:Simulation has finished. There are no algorithms left to run. To run it from the start use sim.reset().\n"
     ]
    },
    {
     "name": "stdout",
     "output_type": "stream",
     "text": [
      "Number of nodes:\n",
      "6\n",
      "Number of edges:\n",
      "5\n",
      "Total number of messages:\n",
      "0\n",
      "{'I': 'Activate', 'Neighbors': [<Node id=11>, <Node id=12>], 'Temperature': 18, 'Max': 18}\n",
      "ACTIVE\n",
      "{'I': 'Activate', 'Neighbors': [<Node id=10>], 'Temperature': 15, 'Parent': [<Node id=10>], 'Max': 22}\n",
      "ACTIVE\n",
      "{'Neighbors': [<Node id=10>], 'Max': 26, 'Temperature': -4, 'Parent': [<Node id=10>]}\n",
      "ACTIVE\n",
      "{'Neighbors': [<Node id=11>], 'Max': -1, 'Temperature': -1, 'Parent': [<Node id=11>]}\n",
      "PROCESSING\n",
      "{'Neighbors': [<Node id=11>], 'Max': 22, 'Temperature': 22, 'Parent': [<Node id=11>]}\n",
      "PROCESSING\n",
      "{'Neighbors': [<Node id=12>], 'Max': 26, 'Temperature': 26, 'Parent': [<Node id=12>]}\n",
      "PROCESSING\n"
     ]
    }
   ],
   "source": [
    "from pymote.networkgenerator import NetworkGenerator\n",
    "from pymote.simulation import Simulation\n",
    "from pymote.npickle import write_pickle, read_pickle\n",
    "\n",
    "#net = read_pickle('mrezaRandom.tar.gz') \n",
    "#net = read_pickle('mrezaList.tar.gz')\n",
    "#net = read_pickle('mrezaZvijezda.tar.gz')\n",
    "net = read_pickle('mrezaStablo.tar.gz')\n",
    "\n",
    "net.algorithms = ( (MaxFind,{'informationKey':'I'}), )\n",
    "\n",
    "some_node = net.nodes()[0]# uzimamo prvi cvor u listi cvorova mreze\n",
    "some_node_2 = net.nodes()[1]# uzimamo prvi cvor u listi cvorova mreze\n",
    "some_node.memory['I'] = 'Activate'\n",
    "some_node_2.memory['I'] = 'Activate'\n",
    "\n",
    "\n",
    "sim = Simulation(net)\n",
    "sim.run()\n",
    "\n",
    "suma=0\n",
    "\n",
    "print \"Number of nodes:\"\n",
    "print len(list(net.nodes()))\n",
    "print \"Number of edges:\"\n",
    "print len(list(net.edges()))\n",
    "print \"Total number of messages:\"\n",
    "print suma\n",
    "\n",
    "for node in net.nodes():\n",
    "    #print node.memory['Max']\n",
    "    print node.memory\n",
    "    print node.status\n",
    "    #suma=suma+node.memory['msgKey']"
   ]
  },
  {
   "cell_type": "code",
   "execution_count": 25,
   "metadata": {
    "collapsed": true
   },
   "outputs": [],
   "source": [
    "net.show()"
   ]
  },
  {
   "cell_type": "code",
   "execution_count": null,
   "metadata": {
    "collapsed": true
   },
   "outputs": [],
   "source": []
  }
 ],
 "metadata": {
  "kernelspec": {
   "display_name": "Python 2",
   "language": "python",
   "name": "python2"
  },
  "language_info": {
   "codemirror_mode": {
    "name": "ipython",
    "version": 2
   },
   "file_extension": ".py",
   "mimetype": "text/x-python",
   "name": "python",
   "nbconvert_exporter": "python",
   "pygments_lexer": "ipython2",
   "version": "2.7.10"
  }
 },
 "nbformat": 4,
 "nbformat_minor": 0
}
