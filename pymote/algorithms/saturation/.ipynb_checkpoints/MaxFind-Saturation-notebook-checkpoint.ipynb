{
 "cells": [
  {
   "cell_type": "markdown",
   "metadata": {},
   "source": [
    "# Saturation - Maximum Find"
   ]
  },
  {
   "cell_type": "code",
   "execution_count": 11,
   "metadata": {
    "collapsed": false
   },
   "outputs": [
    {
     "name": "stdout",
     "output_type": "stream",
     "text": [
      "The autoreload extension is already loaded. To reload it, use:\n",
      "  %reload_ext autoreload\n"
     ]
    }
   ],
   "source": [
    "%load_ext autoreload\n",
    "%autoreload 2\n",
    "%reload_ext autoreload"
   ]
  },
  {
   "cell_type": "markdown",
   "metadata": {},
   "source": [
    "## Algoritmi"
   ]
  },
  {
   "cell_type": "markdown",
   "metadata": {},
   "source": [
    "### TODO: Building Tree"
   ]
  },
  {
   "cell_type": "code",
   "execution_count": null,
   "metadata": {
    "collapsed": false
   },
   "outputs": [],
   "source": [
    "from pymote.algorithm import NodeAlgorithm\n",
    "from pymote.message import Message\n",
    "\n",
    "\n",
    "class Flood(NodeAlgorithm):\n",
    "    required_params = ('informationKey',)\n",
    "    default_params = {'neighborsKey': 'Neighbors'}\n",
    "\n",
    "    def initializer(self):\n",
    "        ini_nodes = []\n",
    "        for node in self.network.nodes():\n",
    "            node.memory[self.neighborsKey] = \\\n",
    "                node.compositeSensor.read()['Neighbors']\n",
    "            node.status = 'IDLE'\n",
    "            if self.informationKey in node.memory:\n",
    "                node.status = 'INITIATOR'\n",
    "                ini_nodes.append(node)\n",
    "        for ini_node in ini_nodes:\n",
    "            self.network.outbox.insert(0, Message(header=NodeAlgorithm.INI,\n",
    "                                                 destination=ini_node))\n",
    "\n",
    "    def initiator(self, node, message):\n",
    "        if message.header == NodeAlgorithm.INI:\n",
    "            # default destination: send to every neighbor\n",
    "            node.send(Message(header='Information',\n",
    "                              data=node.memory[self.informationKey]))\n",
    "            node.status = 'DONE'\n",
    "\n",
    "    def idle(self, node, message):\n",
    "        if message.header == 'Information':\n",
    "            node.memory[self.informationKey] = message.data\n",
    "            destination_nodes = list(node.memory[self.neighborsKey])\n",
    "            # send to every neighbor-sender\n",
    "            destination_nodes.remove(message.source)\n",
    "            if destination_nodes:\n",
    "                node.send(Message(destination=destination_nodes,\n",
    "                                  header='Information',\n",
    "                                  data=message.data))\n",
    "        node.status = 'DONE'\n",
    "\n",
    "    def done(self, node, message):\n",
    "        pass\n",
    "\n",
    "    STATUS = {\n",
    "              'INITIATOR': initiator,\n",
    "              'IDLE': idle,\n",
    "              'DONE': done,\n",
    "             }\n"
   ]
  },
  {
   "cell_type": "markdown",
   "metadata": {},
   "source": [
    "\n",
    "\n",
    "### Saturation (Plug-in Full-Saturation)"
   ]
  },
  {
   "cell_type": "code",
   "execution_count": 12,
   "metadata": {
    "collapsed": false
   },
   "outputs": [],
   "source": [
    "# -*- coding: utf-8 -*-\n",
    "from pymote.algorithm import NodeAlgorithm\n",
    "from pymote.message import Message\n",
    "\n",
    "class Saturation(NodeAlgorithm): \n",
    "    \n",
    "    #required_params = ('informationKey', 'treeKey',) # must have ','\n",
    "    required_params = ('informationKey',) # must have ','\n",
    "    default_params = {'treeNeighbors': 'Neighbors','parentKey' : 'Parent', 'treeKey': 'Tree'}\n",
    "\n",
    "    #TODO: treeKey now serves as treeNeighbors, and treeNeighbors as treeKey - necessary to SWAP them\n",
    "    #      should treeKey be in required_params?!\n",
    "    \n",
    "    def initializer(self):\n",
    "        ini_nodes = []\n",
    "        for node in self.network.nodes():\n",
    "            node.memory[self.treeNeighbors] = node.compositeSensor.read()['Neighbors']\n",
    "            node.memory[self.treeKey]= list(node.memory[self.treeNeighbors])\n",
    "            self.initialize(node)\n",
    "            node.status = 'AVAILABLE'\n",
    "            if self.informationKey in node.memory:\n",
    "                node.status = 'AVAILABLE'\n",
    "                ini_nodes.append(node)\n",
    "        for ini_node in ini_nodes:\n",
    "            self.network.outbox.insert(0, Message(header=NodeAlgorithm.INI,destination=ini_node))  # to je spontani impuls   \n",
    "\n",
    "        \n",
    "    def available(self, node, message):\n",
    "\n",
    "        #inicijatori\n",
    "        if message.header == NodeAlgorithm.INI: #Spontaneously\n",
    "            node.send(Message(header='Activate', data='Activate'))\n",
    "            #initialize() mislim da ipak treba biti u initalizeru\n",
    "            if len(node.memory[self.treeNeighbors])==1 : #ako je čvor list\n",
    "                node.memory[self.parentKey] = list(node.memory[self.treeNeighbors])\n",
    "                updated_data=self.prepare_message(node)\n",
    "                node.send(Message(header='M', data = updated_data, destination = node.memory[self.parentKey]))\n",
    "                node.status = 'PROCESSING'\n",
    "            else:\n",
    "                node.status = 'ACTIVE' #izvrši se\n",
    "                \n",
    "        if message.header == 'Activate':\n",
    "            destination_nodes = list(node.memory[self.treeNeighbors])\n",
    "            print \"message.source:\"\n",
    "            print type(message.source)\n",
    "            print message.source\n",
    "            \n",
    "            node.send(Message(header='Activate', data='Activate', destination=destination_nodes.remove(message.source)))\n",
    "            #initialize() mislim da ipak treba biti u initalizeru            \n",
    "            if len(node.memory[self.treeNeighbors])==1 :\n",
    "                node.memory[self.parentKey] = list(node.memory[self.treeNeighbors])                \n",
    "                updated_data=self.prepare_message(node)\n",
    "                node.send(Message(header='M', data=updated_data, destination=node.memory[self.parentKey]))\n",
    "                #dal prepare?\n",
    "                node.status = 'PROCESSING'\n",
    "            else:\n",
    "                node.status='ACTIVE' #izvrši se\n",
    "    \n",
    "    def active(self, node, message):  \n",
    "        \n",
    "\n",
    "        if message.header=='M':\n",
    "            self.process_message(node,message)\n",
    "            ###ključno\n",
    "            node.memory[self.treeNeighbors].remove(message.source) # ne radi?\n",
    "\n",
    "            ##izgleda da neki ostanu bez susjeda kao posljedica ovoga, ne, trebali bi uci u processing jopš u availabele\n",
    "            \n",
    "            if len(node.memory[self.treeNeighbors])==1 :\n",
    "                node.memory[self.parentKey] = list(node.memory[self.treeNeighbors])                \n",
    "                updated_data=self.prepare_message(node)\n",
    "                node.send(Message(header='M', data=updated_data, destination=node.memory[self.parentKey]))\n",
    "                node.status = 'PROCESSING'\n",
    "\n",
    "    def processing(self, node, message):\n",
    "        if message.header==\"M\":           \n",
    "            self.process_message(node,message)\n",
    "            #self.resolve(node)\n",
    "            node.staus='SATURATED'\n",
    "        #if message.header==\"Notification\":\n",
    "            #print \"Nebi smio biti tu\"\n",
    "            \n",
    "    def prepare_message(self,node):\n",
    "        raise NotImplementedError\n",
    "        \n",
    "    def process_message(self, node, message):\n",
    "        raise NotImplementedError\n",
    "\n",
    "    def initialize(self, node):\n",
    "        raise NotImplementedError\n",
    "                \n",
    "    def resolve(self,node):\n",
    "        raise NotImplementedError\n",
    "        \n",
    "    STATUS = {\n",
    "              'AVAILABLE': available,\n",
    "              'ACTIVE': active,\n",
    "              'PROCESSING': processing,\n",
    "              'SATURATED': resolve,\n",
    "             }"
   ]
  },
  {
   "cell_type": "markdown",
   "metadata": {},
   "source": [
    "### MaxFind"
   ]
  },
  {
   "cell_type": "code",
   "execution_count": 13,
   "metadata": {
    "collapsed": false
   },
   "outputs": [],
   "source": [
    "# -*- coding: utf-8 -*-\n",
    "from pymote.sensor import TempSensor\n",
    "\n",
    "class MaxFind(Saturation):\n",
    "    #required_params = ('dataKey',) \n",
    "    default_params = {'temperatureKey':'Temperature','maxKey':'Max'}\n",
    "\n",
    "    def processing(self,node,message):\n",
    "        if message.header==\"M\":\n",
    "            self.process_message(node,message)\n",
    "            #node.status = 'SATURATED'\n",
    "            self.resolve(node)\n",
    "            \n",
    "        if message.header==\"Notification\":\n",
    "            destination_nodes = node.memory[self.treeKey]\n",
    "            #print destination_nodes\n",
    "            #print node.memory[self.parentKey]\n",
    "            #print type(node.memory[self.parentKey])\n",
    "            #print node.memory[self.parentKey][0]\n",
    "            \n",
    "            self.process_message(node,message)\n",
    "            destination_nodes.remove(node.memory[self.parentKey][0])            \n",
    "            \n",
    "            node.send(Message(header='Notification', data=node.memory[self.maxKey], destination=destination_nodes))\n",
    "            \n",
    "            if node.memory[self.temperatureKey]==message.data:\n",
    "                node.status=\"MAXIMUM\"\n",
    "            else:\n",
    "                node.status=\"SMALLER\"\n",
    "    \n",
    "    def initialize(self, node):\n",
    "        node.compositeSensor=(TempSensor,'Temperature')\n",
    "        node.memory[self.temperatureKey]=node.compositeSensor.read()['Temperature']\n",
    "        node.memory[self.maxKey]=node.memory[self.temperatureKey]   \n",
    "        #return node.memory[self.maxKey] is not None    \n",
    "    \n",
    "    def prepare_message(self,node):\n",
    "        return node.memory[self.maxKey]\n",
    "                   \n",
    "    def process_message(self,node,message):\n",
    "        #print message.data\n",
    "        if message.data>node.memory[self.maxKey]:\n",
    "            node.memory[self.maxKey] = message.data\n",
    "    \n",
    "    def resolve(self,node):\n",
    "        #print \"TU SAM\"\n",
    "        destination_nodes = node.memory[self.treeKey]  #garantira topologiju      \n",
    "        #print destination_nodes\n",
    "        #print node.memory[self.parentKey]\n",
    "        destination_nodes.remove(node.memory[self.parentKey][0]) #garantira topologiju        \n",
    "        \n",
    "        node.send(Message(header='Notification', data=node.memory[self.maxKey], destination=destination_nodes))        \n",
    "\n",
    "        if node.memory[self.temperatureKey] == node.memory[self.maxKey]:\n",
    "            node.status='MAXIMUM'\n",
    "        else :\n",
    "            node.status='SMALLER'\n",
    "    \n",
    "                                                 \n",
    "    def mini(self,node,message):\n",
    "        print \"MAXIMUM\"\n",
    "    def larger(self,node,message):\n",
    "        print \"SMALLER\"\n",
    "    \n",
    "    STATUS = {\n",
    "              'MAXIMUM' : mini,\n",
    "              'SMALLER' : larger,\n",
    "              'AVAILABLE': Saturation.STATUS.get('AVAILABLE'),\n",
    "              'ACTIVE': Saturation.STATUS.get('ACTIVE'),\n",
    "              #'PROCESSING':Saturation.STATUS.get('PROCESSING'), #redefinirali smo processing\n",
    "              'PROCESSING':processing, #redefinirali smo processing\n",
    "              #'SATURATED':Saturation.STATUS.get('SATURATED'),\n",
    "              'SATURATED':resolve,\n",
    "        \n",
    "        #svaka metoda vezana uz status mora imati self,node,message\n",
    "        #procedure primaju self po defaultu kao prvi argument, \n",
    "        #ako je procedura definirana kao def procedura(self,node) \n",
    "        #krivo je zvati self.procedura(self,node), \n",
    "        #ispravno je     self.procedura(node)\n",
    "             }    "
   ]
  },
  {
   "cell_type": "markdown",
   "metadata": {},
   "source": [
    "### Random Mreža"
   ]
  },
  {
   "cell_type": "code",
   "execution_count": null,
   "metadata": {
    "collapsed": false
   },
   "outputs": [],
   "source": [
    "from pymote.networkgenerator import NetworkGenerator\n",
    "from pymote.npickle import write_pickle, read_pickle\n",
    "#net_gen = NetworkGenerator(3)\n",
    "net_gen = NetworkGenerator(5)\n",
    "#net_gen = NetworkGenerator(15)\n",
    "#net_gen = NetworkGenerator(500)\n",
    "net = net_gen.generate_random_network()\n",
    "\n",
    "write_pickle(net,'mrezaRandom.tar.gz')"
   ]
  },
  {
   "cell_type": "code",
   "execution_count": null,
   "metadata": {
    "collapsed": false
   },
   "outputs": [],
   "source": [
    "net.show() #po gašenju izaziva Dead Kernel"
   ]
  },
  {
   "cell_type": "markdown",
   "metadata": {},
   "source": [
    "### Mreža stablo"
   ]
  },
  {
   "cell_type": "code",
   "execution_count": 14,
   "metadata": {
    "collapsed": false
   },
   "outputs": [],
   "source": [
    "from pymote.network import Network\n",
    "net = Network()\n",
    "root=net.add_node(pos=[300,500])\n",
    "root.commRange=150\n",
    "node=net.add_node(pos=[200,400])\n",
    "node.commRange=150\n",
    "node=net.add_node(pos=[400,400])\n",
    "node.commRange=150\n",
    "\n",
    "node=net.add_node(pos=[100,300])\n",
    "node.commRange=150\n",
    "\n",
    "node=net.add_node(pos=[250,300])\n",
    "node.commRange=150\n",
    "node=net.add_node(pos=[500,300])\n",
    "node.commRange=150\n",
    "node=net.add_node(pos=[450,200])\n",
    "node.commRange=150\n",
    "node=net.add_node(pos=[10,200])\n",
    "node.commRange=150\n",
    "\n",
    "from pymote.npickle import write_pickle, read_pickle\n",
    "write_pickle(net,'mrezaStablo.tar.gz')"
   ]
  },
  {
   "cell_type": "markdown",
   "metadata": {},
   "source": [
    "### Mreža Lanac (n = 4, m = 5)"
   ]
  },
  {
   "cell_type": "code",
   "execution_count": null,
   "metadata": {
    "collapsed": false
   },
   "outputs": [],
   "source": [
    "from pymote.network import Network\n",
    "net = Network()\n",
    "n = 5\n",
    "u = 100\n",
    "\n",
    "for i in range(0,n*u,u):\n",
    "    node = net.add_node(pos=[1,i])\n",
    "    node.commRange=110\n",
    "    \n",
    "from pymote.npickle import write_pickle, read_pickle\n",
    "write_pickle(net,'mrezaList.tar.gz') "
   ]
  },
  {
   "cell_type": "markdown",
   "metadata": {},
   "source": [
    "### Mreža Zvijezda (n = 4, m = 5)"
   ]
  },
  {
   "cell_type": "code",
   "execution_count": null,
   "metadata": {
    "collapsed": false
   },
   "outputs": [],
   "source": [
    "from pymote.network import Network\n",
    "net = Network()\n",
    "n = 5\n",
    "for i in range(100,(n+1)*100,100):\n",
    "    node= net.add_node(pos=[i,i])\n",
    "    node.commRange=200\n",
    "\n",
    "node= net.add_node(pos=[100,300])\n",
    "node.commRange=200\n",
    "node= net.add_node(pos=[300,100])\n",
    "node.commRange=200\n",
    "\n",
    "from pymote.npickle import write_pickle, read_pickle\n",
    "write_pickle(net,'mrezaZvijezda.tar.gz')"
   ]
  },
  {
   "cell_type": "markdown",
   "metadata": {},
   "source": [
    "### Simulacija"
   ]
  },
  {
   "cell_type": "code",
   "execution_count": 11,
   "metadata": {
    "collapsed": false
   },
   "outputs": [
    {
     "name": "stdout",
     "output_type": "stream",
     "text": [
      "The autoreload extension is already loaded. To reload it, use:\n",
      "  %reload_ext autoreload\n"
     ]
    }
   ],
   "source": [
    "%load_ext autoreload\n",
    "%autoreload 2\n",
    "%reload_ext autoreload\n",
    "\n",
    "from pymote.algorithms.saturation import Saturation\n",
    "from pymote.algorithms.maximumfind import MaxFind"
   ]
  },
  {
   "cell_type": "code",
   "execution_count": 15,
   "metadata": {
    "collapsed": false,
    "scrolled": true
   },
   "outputs": [
    {
     "name": "stdout",
     "output_type": "stream",
     "text": [
      "DEBUG   [simulation.py]: Simulation 0x10e521c0 created successfully.\n"
     ]
    },
    {
     "name": "stderr",
     "output_type": "stream",
     "text": [
      "DEBUG:pymote.simulation:Simulation 0x10e521c0 created successfully.\n"
     ]
    },
    {
     "name": "stdout",
     "output_type": "stream",
     "text": [
      "DEBUG   [simulation.py]: [MaxFind] Step 1 finished\n"
     ]
    },
    {
     "name": "stderr",
     "output_type": "stream",
     "text": [
      "DEBUG:pymote.simulation:[MaxFind] Step 1 finished\n"
     ]
    },
    {
     "name": "stdout",
     "output_type": "stream",
     "text": [
      "DEBUG   [simulation.py]: [MaxFind] Step 2 finished\n"
     ]
    },
    {
     "name": "stderr",
     "output_type": "stream",
     "text": [
      "DEBUG:pymote.simulation:[MaxFind] Step 2 finished\n"
     ]
    },
    {
     "name": "stdout",
     "output_type": "stream",
     "text": [
      "DEBUG   [simulation.py]: [MaxFind] Step 3 finished\n"
     ]
    },
    {
     "name": "stderr",
     "output_type": "stream",
     "text": [
      "DEBUG:pymote.simulation:[MaxFind] Step 3 finished\n"
     ]
    },
    {
     "name": "stdout",
     "output_type": "stream",
     "text": [
      "message.source:\n",
      "<class 'pymote.node.Node'>\n",
      "<Node id=5>\n",
      "DEBUG   [simulation.py]: [MaxFind] Step 4 finished\n"
     ]
    },
    {
     "name": "stderr",
     "output_type": "stream",
     "text": [
      "DEBUG:pymote.simulation:[MaxFind] Step 4 finished\n"
     ]
    },
    {
     "name": "stdout",
     "output_type": "stream",
     "text": [
      "DEBUG   [simulation.py]: [MaxFind] Step 5 finished\n"
     ]
    },
    {
     "name": "stderr",
     "output_type": "stream",
     "text": [
      "DEBUG:pymote.simulation:[MaxFind] Step 5 finished\n"
     ]
    },
    {
     "name": "stdout",
     "output_type": "stream",
     "text": [
      "message.source:\n",
      "<class 'pymote.node.Node'>\n",
      "<Node id=2>\n",
      "message.source:\n",
      "<class 'pymote.node.Node'>\n",
      "<Node id=2>\n",
      "DEBUG   [simulation.py]: [MaxFind] Step 6 finished\n"
     ]
    },
    {
     "name": "stderr",
     "output_type": "stream",
     "text": [
      "DEBUG:pymote.simulation:[MaxFind] Step 6 finished\n"
     ]
    },
    {
     "name": "stdout",
     "output_type": "stream",
     "text": [
      "DEBUG   [simulation.py]: [MaxFind] Step 7 finished\n"
     ]
    },
    {
     "name": "stderr",
     "output_type": "stream",
     "text": [
      "DEBUG:pymote.simulation:[MaxFind] Step 7 finished\n"
     ]
    },
    {
     "name": "stdout",
     "output_type": "stream",
     "text": [
      "message.source:\n",
      "<class 'pymote.node.Node'>\n",
      "<Node id=1>\n",
      "message.source:\n",
      "<class 'pymote.node.Node'>\n",
      "<Node id=4>\n",
      "DEBUG   [simulation.py]: [MaxFind] Step 8 finished\n"
     ]
    },
    {
     "name": "stderr",
     "output_type": "stream",
     "text": [
      "DEBUG:pymote.simulation:[MaxFind] Step 8 finished\n"
     ]
    },
    {
     "name": "stdout",
     "output_type": "stream",
     "text": [
      "DEBUG   [simulation.py]: [MaxFind] Step 9 finished\n"
     ]
    },
    {
     "name": "stderr",
     "output_type": "stream",
     "text": [
      "DEBUG:pymote.simulation:[MaxFind] Step 9 finished\n"
     ]
    },
    {
     "name": "stdout",
     "output_type": "stream",
     "text": [
      "message.source:\n",
      "<class 'pymote.node.Node'>\n",
      "<Node id=3>\n",
      "DEBUG   [simulation.py]: [MaxFind] Step 10 finished\n"
     ]
    },
    {
     "name": "stderr",
     "output_type": "stream",
     "text": [
      "DEBUG:pymote.simulation:[MaxFind] Step 10 finished\n"
     ]
    },
    {
     "name": "stdout",
     "output_type": "stream",
     "text": [
      "DEBUG   [simulation.py]: [MaxFind] Step 11 finished\n"
     ]
    },
    {
     "name": "stderr",
     "output_type": "stream",
     "text": [
      "DEBUG:pymote.simulation:[MaxFind] Step 11 finished\n"
     ]
    },
    {
     "name": "stdout",
     "output_type": "stream",
     "text": [
      "message.source:\n",
      "<class 'pymote.node.Node'>\n",
      "<Node id=6>\n",
      "DEBUG   [simulation.py]: [MaxFind] Step 12 finished\n"
     ]
    },
    {
     "name": "stderr",
     "output_type": "stream",
     "text": [
      "DEBUG:pymote.simulation:[MaxFind] Step 12 finished\n"
     ]
    },
    {
     "name": "stdout",
     "output_type": "stream",
     "text": [
      "DEBUG   [simulation.py]: [MaxFind] Step 13 finished\n"
     ]
    },
    {
     "name": "stderr",
     "output_type": "stream",
     "text": [
      "DEBUG:pymote.simulation:[MaxFind] Step 13 finished\n"
     ]
    },
    {
     "name": "stdout",
     "output_type": "stream",
     "text": [
      "DEBUG   [simulation.py]: [MaxFind] Step 14 finished\n"
     ]
    },
    {
     "name": "stderr",
     "output_type": "stream",
     "text": [
      "DEBUG:pymote.simulation:[MaxFind] Step 14 finished\n"
     ]
    },
    {
     "name": "stdout",
     "output_type": "stream",
     "text": [
      "DEBUG   [simulation.py]: [MaxFind] Step 15 finished\n"
     ]
    },
    {
     "name": "stderr",
     "output_type": "stream",
     "text": [
      "DEBUG:pymote.simulation:[MaxFind] Step 15 finished\n"
     ]
    },
    {
     "name": "stdout",
     "output_type": "stream",
     "text": [
      "DEBUG   [simulation.py]: [MaxFind] Step 16 finished\n"
     ]
    },
    {
     "name": "stderr",
     "output_type": "stream",
     "text": [
      "DEBUG:pymote.simulation:[MaxFind] Step 16 finished\n"
     ]
    },
    {
     "name": "stdout",
     "output_type": "stream",
     "text": [
      "DEBUG   [simulation.py]: [MaxFind] Step 17 finished\n"
     ]
    },
    {
     "name": "stderr",
     "output_type": "stream",
     "text": [
      "DEBUG:pymote.simulation:[MaxFind] Step 17 finished\n"
     ]
    },
    {
     "name": "stdout",
     "output_type": "stream",
     "text": [
      "DEBUG   [simulation.py]: [MaxFind] Step 18 finished\n"
     ]
    },
    {
     "name": "stderr",
     "output_type": "stream",
     "text": [
      "DEBUG:pymote.simulation:[MaxFind] Step 18 finished\n"
     ]
    },
    {
     "name": "stdout",
     "output_type": "stream",
     "text": [
      "DEBUG   [simulation.py]: [MaxFind] Step 19 finished\n"
     ]
    },
    {
     "name": "stderr",
     "output_type": "stream",
     "text": [
      "DEBUG:pymote.simulation:[MaxFind] Step 19 finished\n"
     ]
    },
    {
     "name": "stdout",
     "output_type": "stream",
     "text": [
      "DEBUG   [simulation.py]: [MaxFind] Step 20 finished\n"
     ]
    },
    {
     "name": "stderr",
     "output_type": "stream",
     "text": [
      "DEBUG:pymote.simulation:[MaxFind] Step 20 finished\n"
     ]
    },
    {
     "name": "stdout",
     "output_type": "stream",
     "text": [
      "DEBUG   [simulation.py]: [MaxFind] Step 21 finished\n"
     ]
    },
    {
     "name": "stderr",
     "output_type": "stream",
     "text": [
      "DEBUG:pymote.simulation:[MaxFind] Step 21 finished\n"
     ]
    },
    {
     "name": "stdout",
     "output_type": "stream",
     "text": [
      "DEBUG   [simulation.py]: [MaxFind] Step 22 finished\n"
     ]
    },
    {
     "name": "stderr",
     "output_type": "stream",
     "text": [
      "DEBUG:pymote.simulation:[MaxFind] Step 22 finished\n"
     ]
    },
    {
     "name": "stdout",
     "output_type": "stream",
     "text": [
      "DEBUG   [simulation.py]: [MaxFind] Step 23 finished\n"
     ]
    },
    {
     "name": "stderr",
     "output_type": "stream",
     "text": [
      "DEBUG:pymote.simulation:[MaxFind] Step 23 finished\n"
     ]
    },
    {
     "name": "stdout",
     "output_type": "stream",
     "text": [
      "DEBUG   [simulation.py]: [MaxFind] Step 24 finished\n"
     ]
    },
    {
     "name": "stderr",
     "output_type": "stream",
     "text": [
      "DEBUG:pymote.simulation:[MaxFind] Step 24 finished\n"
     ]
    },
    {
     "name": "stdout",
     "output_type": "stream",
     "text": [
      "DEBUG   [simulation.py]: [MaxFind] Step 25 finished\n"
     ]
    },
    {
     "name": "stderr",
     "output_type": "stream",
     "text": [
      "DEBUG:pymote.simulation:[MaxFind] Step 25 finished\n"
     ]
    },
    {
     "name": "stdout",
     "output_type": "stream",
     "text": [
      "DEBUG   [simulation.py]: [MaxFind] Algorithm finished\n"
     ]
    },
    {
     "name": "stderr",
     "output_type": "stream",
     "text": [
      "DEBUG:pymote.simulation:[MaxFind] Algorithm finished\n"
     ]
    },
    {
     "name": "stdout",
     "output_type": "stream",
     "text": [
      "INFO    [simulation.py]: Simulation has finished. There are no algorithms left to run. To run it from the start use sim.reset().\n"
     ]
    },
    {
     "name": "stderr",
     "output_type": "stream",
     "text": [
      "INFO:pymote.simulation:Simulation has finished. There are no algorithms left to run. To run it from the start use sim.reset().\n"
     ]
    },
    {
     "name": "stdout",
     "output_type": "stream",
     "text": [
      "Number of nodes:\n",
      "8\n",
      "Number of edges:\n",
      "7\n",
      "Total number of messages:\n",
      "0\n",
      "1\n",
      "{'Neighbors': [<Node id=3>], 'Max': 33, 'Tree': [<Node id=2>], 'Temperature': -5, 'Parent': [<Node id=3>]}\n",
      "SMALLER\n",
      "2\n",
      "{'Neighbors': [<Node id=1>], 'Max': 33, 'Tree': [<Node id=4>, <Node id=5>], 'Temperature': 29, 'Parent': [<Node id=1>]}\n",
      "SMALLER\n",
      "3\n",
      "{'Neighbors': [<Node id=1>], 'Max': 33, 'Tree': [<Node id=6>], 'Temperature': -12, 'Parent': [<Node id=1>]}\n",
      "SMALLER\n",
      "4\n",
      "{'Neighbors': [<Node id=2>], 'Max': 33, 'Tree': [<Node id=8>], 'Temperature': -13, 'Parent': [<Node id=2>]}\n",
      "SMALLER\n",
      "5\n",
      "{'Neighbors': [<Node id=2>], 'Temperature': 18, 'Parent': [<Node id=2>], 'I': 'Activate', 'Max': 33, 'Tree': []}\n",
      "SMALLER\n",
      "6\n",
      "{'Neighbors': [<Node id=3>], 'Max': 33, 'Tree': [<Node id=7>], 'Temperature': -12, 'Parent': [<Node id=3>]}\n",
      "SMALLER\n",
      "7\n",
      "{'Neighbors': [<Node id=6>], 'Max': 33, 'Tree': [], 'Temperature': 20, 'Parent': [<Node id=6>]}\n",
      "SMALLER\n",
      "8\n",
      "{'Neighbors': [<Node id=4>], 'Max': 33, 'Tree': [], 'Temperature': 33, 'Parent': [<Node id=4>]}\n",
      "MAXIMUM\n"
     ]
    }
   ],
   "source": [
    "from pymote.npickle import write_pickle, read_pickle\n",
    "from pymote.simulation import Simulation\n",
    "\n",
    "#net = read_pickle('mrezaRandom.tar.gz') \n",
    "#net = read_pickle('mrezaList.tar.gz')\n",
    "#net = read_pickle('mrezaZvijezda.tar.gz')\n",
    "net = read_pickle('mrezaStablo.tar.gz')\n",
    "\n",
    "net.algorithms = ( (MaxFind,{'informationKey':'I'}), )\n",
    "some_node = net.nodes()[4]# uzimamo prvi cvor u listi cvorova mreze\n",
    "some_node.memory['I'] = 'Activate'\n",
    "\n",
    "#some_node_2 = net.nodes()[1]# uzimamo prvi cvor u listi cvorova mreze\n",
    "#some_node_2.memory['I'] = 'Activate'\n",
    "\n",
    "sim = Simulation(net)\n",
    "sim.run()\n",
    "\n",
    "\n",
    "write_pickle(net,'mrezaStabloAfter.tar.gz')\n",
    "write_pickle(net,'mrezaStabloAfter.txt')\n",
    "\n",
    "suma=0\n",
    "\n",
    "print \"Number of nodes:\"\n",
    "print len(list(net.nodes()))\n",
    "print \"Number of edges:\"\n",
    "print len(list(net.edges()))\n",
    "print \"Total number of messages:\"\n",
    "print suma\n",
    "\n",
    "for node in net.nodes():\n",
    "    #print node.memory['Max']\n",
    "    print node.id\n",
    "    print node.memory\n",
    "    print node.status\n",
    "    #suma=suma+node.memory['msgKey']"
   ]
  },
  {
   "cell_type": "code",
   "execution_count": null,
   "metadata": {
    "collapsed": true
   },
   "outputs": [],
   "source": [
    "net.show()"
   ]
  },
  {
   "cell_type": "code",
   "execution_count": null,
   "metadata": {
    "collapsed": false
   },
   "outputs": [],
   "source": [
    "print node.memory\n",
    "#list(node.memory['Neighbors']).remove(node.memory['Parent'])\n",
    "\n",
    "type(node.memory['Neighbors'])\n",
    "node.memory['Neighbors'].remove(node.memory['Neighbors'][0])\n",
    "print node.memory"
   ]
  },
  {
   "cell_type": "code",
   "execution_count": null,
   "metadata": {
    "collapsed": false
   },
   "outputs": [],
   "source": [
    "print node.memory"
   ]
  }
 ],
 "metadata": {
  "kernelspec": {
   "display_name": "Python 2",
   "language": "python",
   "name": "python2"
  },
  "language_info": {
   "codemirror_mode": {
    "name": "ipython",
    "version": 2
   },
   "file_extension": ".py",
   "mimetype": "text/x-python",
   "name": "python",
   "nbconvert_exporter": "python",
   "pygments_lexer": "ipython2",
   "version": "2.7.10"
  }
 },
 "nbformat": 4,
 "nbformat_minor": 0
}
