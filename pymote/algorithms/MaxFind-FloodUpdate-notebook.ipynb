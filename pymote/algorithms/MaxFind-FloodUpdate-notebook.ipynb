{
 "cells": [
  {
   "cell_type": "markdown",
   "metadata": {},
   "source": [
    "# Maximum Find"
   ]
  },
  {
   "cell_type": "code",
   "execution_count": 2,
   "metadata": {
    "collapsed": false
   },
   "outputs": [
    {
     "name": "stdout",
     "output_type": "stream",
     "text": [
      "The autoreload extension is already loaded. To reload it, use:\n",
      "  %reload_ext autoreload\n"
     ]
    }
   ],
   "source": [
    "%load_ext autoreload\n",
    "%autoreload 2\n",
    "%reload_ext autoreload\n",
    "from pymote.message import Message\n",
    "from pymote.algorithm import NodeAlgorithm"
   ]
  },
  {
   "cell_type": "markdown",
   "metadata": {},
   "source": [
    "### Algoritmi\n",
    "\n",
    "### FloodingUpdate\n",
    "* *Raspodijeljeni* algoritmi se implementiraju kao podklase od `NodeAlgorithm`. Raspodijeljeni algoritmi mogu koristiti samo informacije spremljene u samoj memoriji čvora te one dobivene očitanjem osjetila koje pojeduje čvor.\n",
    "\n",
    "Svaki node prosljeđuje poruku svojim susjedima dokle god informacija koju primi osvježuju njegovo znanje odnosno zadovoljava uvijet prosljeđivanja. "
   ]
  },
  {
   "cell_type": "code",
   "execution_count": 3,
   "metadata": {
    "collapsed": false
   },
   "outputs": [],
   "source": [
    "class FloodingUpdate(NodeAlgorithm):\n",
    "    \"\"\"\n",
    "    This is modified Flooding algorithm (Santoro2007 p.13) so that every node\n",
    "    continues to forward flood messages as long as information gathered is updating its knowledge.\n",
    "    Note: does not have global termination detection\n",
    "    \"\"\"\n",
    "    required_params = ('dataKey',)\n",
    "    default_params = {'neighborsKey':'Neighbors','msgKey':'MessageCount'}\n",
    "    \n",
    "    def initializer(self):\n",
    "        \"\"\" Starts in every node satisfying initiator condition. \"\"\"\n",
    "        for node in self.network.nodes():\n",
    "            node.memory[self.neighborsKey] = node.compositeSensor.read()['Neighbors'] #removing sender from destination\n",
    "            if self.initiator_condition(node):\n",
    "                self.network.outbox.insert(0, Message(destination=node,\n",
    "                                                     header=NodeAlgorithm.INI))\n",
    "                node.memory['msgKey']=0\n",
    "                node.status = 'FLOODING'\n",
    "            \n",
    "            \n",
    "\n",
    "    def flooding(self, node, message):\n",
    "        if message.header == NodeAlgorithm.INI:\n",
    "            node.send(Message(header='Flood',\n",
    "                              data=self.initiator_data(node)))\n",
    "            node.memory['msgKey'] = node.memory['msgKey']+ len(list(node.memory[self.neighborsKey]))\n",
    "\n",
    "        if message.header == 'Flood':\n",
    "            updated_data = self.handle_flood_message(node, message)\n",
    "            if updated_data:\n",
    "                destination_nodes = list(node.memory[self.neighborsKey])\n",
    "                destination_nodes.remove(message.source) # send to every neighbor-sender\n",
    "                \n",
    "                node.memory['msgKey']=node.memory['msgKey']+len(destination_nodes)\n",
    "                node.send(Message(destination=destination_nodes,header='Flood',\n",
    "                                  data=updated_data))\n",
    "\n",
    "    def initiator_condition(self, node):\n",
    "        raise NotImplementedError\n",
    "\n",
    "    def initiator_data(self, node):\n",
    "        raise NotImplementedError\n",
    "\n",
    "    def handle_flood_message(self, node, message):\n",
    "        raise NotImplementedError\n",
    "\n",
    "    STATUS = {'FLOODING': flooding,  # init,term\n",
    "              }\n"
   ]
  },
  {
   "cell_type": "markdown",
   "metadata": {},
   "source": [
    "### MaxFind\n",
    "Ukoliko primi poruku s temperaturom većom od njemu trenutno poznate najveće temperature prosljeđuje poruku susjedima."
   ]
  },
  {
   "cell_type": "code",
   "execution_count": 4,
   "metadata": {
    "collapsed": true
   },
   "outputs": [],
   "source": [
    "# -*- coding: utf-8 -*-\n",
    "#from pymote.algorithms.floodingupdate import FloodingUpdate\n",
    "from pymote.sensor import TempSensor"
   ]
  },
  {
   "cell_type": "code",
   "execution_count": 5,
   "metadata": {
    "collapsed": false
   },
   "outputs": [],
   "source": [
    "\n",
    "class MaxFind(FloodingUpdate):\n",
    "    #required_params = ('dataKey',) \n",
    "    default_params = {'temperatureKey':'Temperature','neighborsKey': 'Neighbors','maxKey':'Max'}\n",
    "    def initiator_condition(self, node):\n",
    "        #svi će biti iniciatori        \n",
    "        node.compositeSensor=(TempSensor,'Temperature')\n",
    "        node.memory[self.temperatureKey]=node.compositeSensor.read()['Temperature']\n",
    "        node.memory[self.maxKey]=node.memory[self.temperatureKey]      \n",
    "        #trenutna najveća je njegova, jedina koju ima    \n",
    "        return node.memory[self.maxKey] is not None\n",
    "\n",
    "    def initiator_data(self, node):\n",
    "        #node.memory[self.msgKey] = 1\n",
    "        return node.memory[self.maxKey]\n",
    "        #ovdje ne smije biti read, jer bi svaki puta očitao drugačiju temperaturu\n",
    "                      \n",
    "    def handle_flood_message(self, node, message):\n",
    "        \n",
    "        if message.data > node.memory[self.maxKey]:\n",
    "            node.memory[self.maxKey]=message.data\n",
    "            #node.memory[self.msgKey]=node.memory[self.msgKey]+1\n",
    "            #node.memory[self.msgKey]=node.memory[self.msgKey]+\n",
    "            return message.data\n",
    "\n",
    "\n",
    "    STATUS = {'FLOODING':FloodingUpdate.STATUS.get('FLOODING'),  # init,term\n",
    "              \n",
    "             }"
   ]
  },
  {
   "cell_type": "markdown",
   "metadata": {},
   "source": [
    "### Random Mreža"
   ]
  },
  {
   "cell_type": "code",
   "execution_count": 25,
   "metadata": {
    "collapsed": false,
    "scrolled": true
   },
   "outputs": [
    {
     "name": "stdout",
     "output_type": "stream",
     "text": [
      "The autoreload extension is already loaded. To reload it, use:\n",
      "  %reload_ext autoreload\n",
      "DEBUG   [simulation.py]: Simulation 0x13139620 created successfully.\n"
     ]
    },
    {
     "name": "stderr",
     "output_type": "stream",
     "text": [
      "DEBUG:pymote.simulation:Simulation 0x13139620 created successfully.\n"
     ]
    },
    {
     "name": "stdout",
     "output_type": "stream",
     "text": [
      "DEBUG   [simulation.py]: [MaxFind] Step 1 finished\n"
     ]
    },
    {
     "name": "stderr",
     "output_type": "stream",
     "text": [
      "DEBUG:pymote.simulation:[MaxFind] Step 1 finished\n"
     ]
    },
    {
     "name": "stdout",
     "output_type": "stream",
     "text": [
      "DEBUG   [simulation.py]: [MaxFind] Step 2 finished\n"
     ]
    },
    {
     "name": "stderr",
     "output_type": "stream",
     "text": [
      "DEBUG:pymote.simulation:[MaxFind] Step 2 finished\n"
     ]
    },
    {
     "name": "stdout",
     "output_type": "stream",
     "text": [
      "DEBUG   [simulation.py]: [MaxFind] Step 3 finished\n"
     ]
    },
    {
     "name": "stderr",
     "output_type": "stream",
     "text": [
      "DEBUG:pymote.simulation:[MaxFind] Step 3 finished\n"
     ]
    },
    {
     "name": "stdout",
     "output_type": "stream",
     "text": [
      "DEBUG   [simulation.py]: [MaxFind] Step 4 finished\n"
     ]
    },
    {
     "name": "stderr",
     "output_type": "stream",
     "text": [
      "DEBUG:pymote.simulation:[MaxFind] Step 4 finished\n"
     ]
    },
    {
     "name": "stdout",
     "output_type": "stream",
     "text": [
      "DEBUG   [simulation.py]: [MaxFind] Step 5 finished\n"
     ]
    },
    {
     "name": "stderr",
     "output_type": "stream",
     "text": [
      "DEBUG:pymote.simulation:[MaxFind] Step 5 finished\n"
     ]
    },
    {
     "name": "stdout",
     "output_type": "stream",
     "text": [
      "DEBUG   [simulation.py]: [MaxFind] Step 6 finished\n"
     ]
    },
    {
     "name": "stderr",
     "output_type": "stream",
     "text": [
      "DEBUG:pymote.simulation:[MaxFind] Step 6 finished\n"
     ]
    },
    {
     "name": "stdout",
     "output_type": "stream",
     "text": [
      "DEBUG   [simulation.py]: [MaxFind] Step 7 finished\n"
     ]
    },
    {
     "name": "stderr",
     "output_type": "stream",
     "text": [
      "DEBUG:pymote.simulation:[MaxFind] Step 7 finished\n"
     ]
    },
    {
     "name": "stdout",
     "output_type": "stream",
     "text": [
      "DEBUG   [simulation.py]: [MaxFind] Step 8 finished\n"
     ]
    },
    {
     "name": "stderr",
     "output_type": "stream",
     "text": [
      "DEBUG:pymote.simulation:[MaxFind] Step 8 finished\n"
     ]
    },
    {
     "name": "stdout",
     "output_type": "stream",
     "text": [
      "DEBUG   [simulation.py]: [MaxFind] Step 9 finished\n"
     ]
    },
    {
     "name": "stderr",
     "output_type": "stream",
     "text": [
      "DEBUG:pymote.simulation:[MaxFind] Step 9 finished\n"
     ]
    },
    {
     "name": "stdout",
     "output_type": "stream",
     "text": [
      "DEBUG   [simulation.py]: [MaxFind] Step 10 finished\n"
     ]
    },
    {
     "name": "stderr",
     "output_type": "stream",
     "text": [
      "DEBUG:pymote.simulation:[MaxFind] Step 10 finished\n"
     ]
    },
    {
     "name": "stdout",
     "output_type": "stream",
     "text": [
      "DEBUG   [simulation.py]: [MaxFind] Step 11 finished\n"
     ]
    },
    {
     "name": "stderr",
     "output_type": "stream",
     "text": [
      "DEBUG:pymote.simulation:[MaxFind] Step 11 finished\n"
     ]
    },
    {
     "name": "stdout",
     "output_type": "stream",
     "text": [
      "DEBUG   [simulation.py]: [MaxFind] Step 12 finished\n"
     ]
    },
    {
     "name": "stderr",
     "output_type": "stream",
     "text": [
      "DEBUG:pymote.simulation:[MaxFind] Step 12 finished\n"
     ]
    },
    {
     "name": "stdout",
     "output_type": "stream",
     "text": [
      "DEBUG   [simulation.py]: [MaxFind] Step 13 finished\n"
     ]
    },
    {
     "name": "stderr",
     "output_type": "stream",
     "text": [
      "DEBUG:pymote.simulation:[MaxFind] Step 13 finished\n"
     ]
    },
    {
     "name": "stdout",
     "output_type": "stream",
     "text": [
      "DEBUG   [simulation.py]: [MaxFind] Step 14 finished\n"
     ]
    },
    {
     "name": "stderr",
     "output_type": "stream",
     "text": [
      "DEBUG:pymote.simulation:[MaxFind] Step 14 finished\n"
     ]
    },
    {
     "name": "stdout",
     "output_type": "stream",
     "text": [
      "DEBUG   [simulation.py]: [MaxFind] Step 15 finished\n"
     ]
    },
    {
     "name": "stderr",
     "output_type": "stream",
     "text": [
      "DEBUG:pymote.simulation:[MaxFind] Step 15 finished\n"
     ]
    },
    {
     "name": "stdout",
     "output_type": "stream",
     "text": [
      "DEBUG   [simulation.py]: [MaxFind] Step 16 finished\n"
     ]
    },
    {
     "name": "stderr",
     "output_type": "stream",
     "text": [
      "DEBUG:pymote.simulation:[MaxFind] Step 16 finished\n"
     ]
    },
    {
     "name": "stdout",
     "output_type": "stream",
     "text": [
      "DEBUG   [simulation.py]: [MaxFind] Step 17 finished\n"
     ]
    },
    {
     "name": "stderr",
     "output_type": "stream",
     "text": [
      "DEBUG:pymote.simulation:[MaxFind] Step 17 finished\n"
     ]
    },
    {
     "name": "stdout",
     "output_type": "stream",
     "text": [
      "DEBUG   [simulation.py]: [MaxFind] Step 18 finished\n"
     ]
    },
    {
     "name": "stderr",
     "output_type": "stream",
     "text": [
      "DEBUG:pymote.simulation:[MaxFind] Step 18 finished\n"
     ]
    },
    {
     "name": "stdout",
     "output_type": "stream",
     "text": [
      "DEBUG   [simulation.py]: [MaxFind] Step 19 finished\n"
     ]
    },
    {
     "name": "stderr",
     "output_type": "stream",
     "text": [
      "DEBUG:pymote.simulation:[MaxFind] Step 19 finished\n"
     ]
    },
    {
     "name": "stdout",
     "output_type": "stream",
     "text": [
      "DEBUG   [simulation.py]: [MaxFind] Step 20 finished\n"
     ]
    },
    {
     "name": "stderr",
     "output_type": "stream",
     "text": [
      "DEBUG:pymote.simulation:[MaxFind] Step 20 finished\n"
     ]
    },
    {
     "name": "stdout",
     "output_type": "stream",
     "text": [
      "DEBUG   [simulation.py]: [MaxFind] Step 21 finished\n"
     ]
    },
    {
     "name": "stderr",
     "output_type": "stream",
     "text": [
      "DEBUG:pymote.simulation:[MaxFind] Step 21 finished\n"
     ]
    },
    {
     "name": "stdout",
     "output_type": "stream",
     "text": [
      "DEBUG   [simulation.py]: [MaxFind] Step 22 finished\n"
     ]
    },
    {
     "name": "stderr",
     "output_type": "stream",
     "text": [
      "DEBUG:pymote.simulation:[MaxFind] Step 22 finished\n"
     ]
    },
    {
     "name": "stdout",
     "output_type": "stream",
     "text": [
      "DEBUG   [simulation.py]: [MaxFind] Step 23 finished\n"
     ]
    },
    {
     "name": "stderr",
     "output_type": "stream",
     "text": [
      "DEBUG:pymote.simulation:[MaxFind] Step 23 finished\n"
     ]
    },
    {
     "name": "stdout",
     "output_type": "stream",
     "text": [
      "DEBUG   [simulation.py]: [MaxFind] Step 24 finished\n"
     ]
    },
    {
     "name": "stderr",
     "output_type": "stream",
     "text": [
      "DEBUG:pymote.simulation:[MaxFind] Step 24 finished\n"
     ]
    },
    {
     "name": "stdout",
     "output_type": "stream",
     "text": [
      "DEBUG   [simulation.py]: [MaxFind] Step 25 finished\n"
     ]
    },
    {
     "name": "stderr",
     "output_type": "stream",
     "text": [
      "DEBUG:pymote.simulation:[MaxFind] Step 25 finished\n"
     ]
    },
    {
     "name": "stdout",
     "output_type": "stream",
     "text": [
      "DEBUG   [simulation.py]: [MaxFind] Step 26 finished\n"
     ]
    },
    {
     "name": "stderr",
     "output_type": "stream",
     "text": [
      "DEBUG:pymote.simulation:[MaxFind] Step 26 finished\n"
     ]
    },
    {
     "name": "stdout",
     "output_type": "stream",
     "text": [
      "DEBUG   [simulation.py]: [MaxFind] Step 27 finished\n"
     ]
    },
    {
     "name": "stderr",
     "output_type": "stream",
     "text": [
      "DEBUG:pymote.simulation:[MaxFind] Step 27 finished\n"
     ]
    },
    {
     "name": "stdout",
     "output_type": "stream",
     "text": [
      "DEBUG   [simulation.py]: [MaxFind] Step 28 finished\n"
     ]
    },
    {
     "name": "stderr",
     "output_type": "stream",
     "text": [
      "DEBUG:pymote.simulation:[MaxFind] Step 28 finished\n"
     ]
    },
    {
     "name": "stdout",
     "output_type": "stream",
     "text": [
      "DEBUG   [simulation.py]: [MaxFind] Step 29 finished\n"
     ]
    },
    {
     "name": "stderr",
     "output_type": "stream",
     "text": [
      "DEBUG:pymote.simulation:[MaxFind] Step 29 finished\n"
     ]
    },
    {
     "name": "stdout",
     "output_type": "stream",
     "text": [
      "DEBUG   [simulation.py]: [MaxFind] Step 30 finished\n"
     ]
    },
    {
     "name": "stderr",
     "output_type": "stream",
     "text": [
      "DEBUG:pymote.simulation:[MaxFind] Step 30 finished\n"
     ]
    },
    {
     "name": "stdout",
     "output_type": "stream",
     "text": [
      "DEBUG   [simulation.py]: [MaxFind] Step 31 finished\n"
     ]
    },
    {
     "name": "stderr",
     "output_type": "stream",
     "text": [
      "DEBUG:pymote.simulation:[MaxFind] Step 31 finished\n"
     ]
    },
    {
     "name": "stdout",
     "output_type": "stream",
     "text": [
      "DEBUG   [simulation.py]: [MaxFind] Step 32 finished\n"
     ]
    },
    {
     "name": "stderr",
     "output_type": "stream",
     "text": [
      "DEBUG:pymote.simulation:[MaxFind] Step 32 finished\n"
     ]
    },
    {
     "name": "stdout",
     "output_type": "stream",
     "text": [
      "DEBUG   [simulation.py]: [MaxFind] Step 33 finished\n"
     ]
    },
    {
     "name": "stderr",
     "output_type": "stream",
     "text": [
      "DEBUG:pymote.simulation:[MaxFind] Step 33 finished\n"
     ]
    },
    {
     "name": "stdout",
     "output_type": "stream",
     "text": [
      "DEBUG   [simulation.py]: [MaxFind] Step 34 finished\n"
     ]
    },
    {
     "name": "stderr",
     "output_type": "stream",
     "text": [
      "DEBUG:pymote.simulation:[MaxFind] Step 34 finished\n"
     ]
    },
    {
     "name": "stdout",
     "output_type": "stream",
     "text": [
      "DEBUG   [simulation.py]: [MaxFind] Step 35 finished\n"
     ]
    },
    {
     "name": "stderr",
     "output_type": "stream",
     "text": [
      "DEBUG:pymote.simulation:[MaxFind] Step 35 finished\n"
     ]
    },
    {
     "name": "stdout",
     "output_type": "stream",
     "text": [
      "DEBUG   [simulation.py]: [MaxFind] Step 36 finished\n"
     ]
    },
    {
     "name": "stderr",
     "output_type": "stream",
     "text": [
      "DEBUG:pymote.simulation:[MaxFind] Step 36 finished\n"
     ]
    },
    {
     "name": "stdout",
     "output_type": "stream",
     "text": [
      "DEBUG   [simulation.py]: [MaxFind] Step 37 finished\n"
     ]
    },
    {
     "name": "stderr",
     "output_type": "stream",
     "text": [
      "DEBUG:pymote.simulation:[MaxFind] Step 37 finished\n"
     ]
    },
    {
     "name": "stdout",
     "output_type": "stream",
     "text": [
      "DEBUG   [simulation.py]: [MaxFind] Step 38 finished\n"
     ]
    },
    {
     "name": "stderr",
     "output_type": "stream",
     "text": [
      "DEBUG:pymote.simulation:[MaxFind] Step 38 finished\n"
     ]
    },
    {
     "name": "stdout",
     "output_type": "stream",
     "text": [
      "DEBUG   [simulation.py]: [MaxFind] Step 39 finished\n"
     ]
    },
    {
     "name": "stderr",
     "output_type": "stream",
     "text": [
      "DEBUG:pymote.simulation:[MaxFind] Step 39 finished\n"
     ]
    },
    {
     "name": "stdout",
     "output_type": "stream",
     "text": [
      "DEBUG   [simulation.py]: [MaxFind] Step 40 finished\n"
     ]
    },
    {
     "name": "stderr",
     "output_type": "stream",
     "text": [
      "DEBUG:pymote.simulation:[MaxFind] Step 40 finished\n"
     ]
    },
    {
     "name": "stdout",
     "output_type": "stream",
     "text": [
      "DEBUG   [simulation.py]: [MaxFind] Step 41 finished\n"
     ]
    },
    {
     "name": "stderr",
     "output_type": "stream",
     "text": [
      "DEBUG:pymote.simulation:[MaxFind] Step 41 finished\n"
     ]
    },
    {
     "name": "stdout",
     "output_type": "stream",
     "text": [
      "DEBUG   [simulation.py]: [MaxFind] Step 42 finished\n"
     ]
    },
    {
     "name": "stderr",
     "output_type": "stream",
     "text": [
      "DEBUG:pymote.simulation:[MaxFind] Step 42 finished\n"
     ]
    },
    {
     "name": "stdout",
     "output_type": "stream",
     "text": [
      "DEBUG   [simulation.py]: [MaxFind] Step 43 finished\n"
     ]
    },
    {
     "name": "stderr",
     "output_type": "stream",
     "text": [
      "DEBUG:pymote.simulation:[MaxFind] Step 43 finished\n"
     ]
    },
    {
     "name": "stdout",
     "output_type": "stream",
     "text": [
      "DEBUG   [simulation.py]: [MaxFind] Step 44 finished\n"
     ]
    },
    {
     "name": "stderr",
     "output_type": "stream",
     "text": [
      "DEBUG:pymote.simulation:[MaxFind] Step 44 finished\n"
     ]
    },
    {
     "name": "stdout",
     "output_type": "stream",
     "text": [
      "DEBUG   [simulation.py]: [MaxFind] Step 45 finished\n"
     ]
    },
    {
     "name": "stderr",
     "output_type": "stream",
     "text": [
      "DEBUG:pymote.simulation:[MaxFind] Step 45 finished\n"
     ]
    },
    {
     "name": "stdout",
     "output_type": "stream",
     "text": [
      "DEBUG   [simulation.py]: [MaxFind] Step 46 finished\n"
     ]
    },
    {
     "name": "stderr",
     "output_type": "stream",
     "text": [
      "DEBUG:pymote.simulation:[MaxFind] Step 46 finished\n"
     ]
    },
    {
     "name": "stdout",
     "output_type": "stream",
     "text": [
      "DEBUG   [simulation.py]: [MaxFind] Step 47 finished\n"
     ]
    },
    {
     "name": "stderr",
     "output_type": "stream",
     "text": [
      "DEBUG:pymote.simulation:[MaxFind] Step 47 finished\n"
     ]
    },
    {
     "name": "stdout",
     "output_type": "stream",
     "text": [
      "DEBUG   [simulation.py]: [MaxFind] Step 48 finished\n"
     ]
    },
    {
     "name": "stderr",
     "output_type": "stream",
     "text": [
      "DEBUG:pymote.simulation:[MaxFind] Step 48 finished\n"
     ]
    },
    {
     "name": "stdout",
     "output_type": "stream",
     "text": [
      "DEBUG   [simulation.py]: [MaxFind] Step 49 finished\n"
     ]
    },
    {
     "name": "stderr",
     "output_type": "stream",
     "text": [
      "DEBUG:pymote.simulation:[MaxFind] Step 49 finished\n"
     ]
    },
    {
     "name": "stdout",
     "output_type": "stream",
     "text": [
      "DEBUG   [simulation.py]: [MaxFind] Step 50 finished\n"
     ]
    },
    {
     "name": "stderr",
     "output_type": "stream",
     "text": [
      "DEBUG:pymote.simulation:[MaxFind] Step 50 finished\n"
     ]
    },
    {
     "name": "stdout",
     "output_type": "stream",
     "text": [
      "DEBUG   [simulation.py]: [MaxFind] Step 51 finished\n"
     ]
    },
    {
     "name": "stderr",
     "output_type": "stream",
     "text": [
      "DEBUG:pymote.simulation:[MaxFind] Step 51 finished\n"
     ]
    },
    {
     "name": "stdout",
     "output_type": "stream",
     "text": [
      "DEBUG   [simulation.py]: [MaxFind] Step 52 finished\n"
     ]
    },
    {
     "name": "stderr",
     "output_type": "stream",
     "text": [
      "DEBUG:pymote.simulation:[MaxFind] Step 52 finished\n"
     ]
    },
    {
     "name": "stdout",
     "output_type": "stream",
     "text": [
      "DEBUG   [simulation.py]: [MaxFind] Step 53 finished\n"
     ]
    },
    {
     "name": "stderr",
     "output_type": "stream",
     "text": [
      "DEBUG:pymote.simulation:[MaxFind] Step 53 finished\n"
     ]
    },
    {
     "name": "stdout",
     "output_type": "stream",
     "text": [
      "DEBUG   [simulation.py]: [MaxFind] Step 54 finished\n"
     ]
    },
    {
     "name": "stderr",
     "output_type": "stream",
     "text": [
      "DEBUG:pymote.simulation:[MaxFind] Step 54 finished\n"
     ]
    },
    {
     "name": "stdout",
     "output_type": "stream",
     "text": [
      "DEBUG   [simulation.py]: [MaxFind] Step 55 finished\n"
     ]
    },
    {
     "name": "stderr",
     "output_type": "stream",
     "text": [
      "DEBUG:pymote.simulation:[MaxFind] Step 55 finished\n"
     ]
    },
    {
     "name": "stdout",
     "output_type": "stream",
     "text": [
      "DEBUG   [simulation.py]: [MaxFind] Step 56 finished\n"
     ]
    },
    {
     "name": "stderr",
     "output_type": "stream",
     "text": [
      "DEBUG:pymote.simulation:[MaxFind] Step 56 finished\n"
     ]
    },
    {
     "name": "stdout",
     "output_type": "stream",
     "text": [
      "DEBUG   [simulation.py]: [MaxFind] Step 57 finished\n"
     ]
    },
    {
     "name": "stderr",
     "output_type": "stream",
     "text": [
      "DEBUG:pymote.simulation:[MaxFind] Step 57 finished\n"
     ]
    },
    {
     "name": "stdout",
     "output_type": "stream",
     "text": [
      "DEBUG   [simulation.py]: [MaxFind] Step 58 finished\n"
     ]
    },
    {
     "name": "stderr",
     "output_type": "stream",
     "text": [
      "DEBUG:pymote.simulation:[MaxFind] Step 58 finished\n"
     ]
    },
    {
     "name": "stdout",
     "output_type": "stream",
     "text": [
      "DEBUG   [simulation.py]: [MaxFind] Step 59 finished\n"
     ]
    },
    {
     "name": "stderr",
     "output_type": "stream",
     "text": [
      "DEBUG:pymote.simulation:[MaxFind] Step 59 finished\n"
     ]
    },
    {
     "name": "stdout",
     "output_type": "stream",
     "text": [
      "DEBUG   [simulation.py]: [MaxFind] Step 60 finished\n"
     ]
    },
    {
     "name": "stderr",
     "output_type": "stream",
     "text": [
      "DEBUG:pymote.simulation:[MaxFind] Step 60 finished\n"
     ]
    },
    {
     "name": "stdout",
     "output_type": "stream",
     "text": [
      "DEBUG   [simulation.py]: [MaxFind] Step 61 finished\n"
     ]
    },
    {
     "name": "stderr",
     "output_type": "stream",
     "text": [
      "DEBUG:pymote.simulation:[MaxFind] Step 61 finished\n"
     ]
    },
    {
     "name": "stdout",
     "output_type": "stream",
     "text": [
      "DEBUG   [simulation.py]: [MaxFind] Step 62 finished\n"
     ]
    },
    {
     "name": "stderr",
     "output_type": "stream",
     "text": [
      "DEBUG:pymote.simulation:[MaxFind] Step 62 finished\n"
     ]
    },
    {
     "name": "stdout",
     "output_type": "stream",
     "text": [
      "DEBUG   [simulation.py]: [MaxFind] Step 63 finished\n"
     ]
    },
    {
     "name": "stderr",
     "output_type": "stream",
     "text": [
      "DEBUG:pymote.simulation:[MaxFind] Step 63 finished\n"
     ]
    },
    {
     "name": "stdout",
     "output_type": "stream",
     "text": [
      "DEBUG   [simulation.py]: [MaxFind] Step 64 finished\n"
     ]
    },
    {
     "name": "stderr",
     "output_type": "stream",
     "text": [
      "DEBUG:pymote.simulation:[MaxFind] Step 64 finished\n"
     ]
    },
    {
     "name": "stdout",
     "output_type": "stream",
     "text": [
      "DEBUG   [simulation.py]: [MaxFind] Step 65 finished\n"
     ]
    },
    {
     "name": "stderr",
     "output_type": "stream",
     "text": [
      "DEBUG:pymote.simulation:[MaxFind] Step 65 finished\n"
     ]
    },
    {
     "name": "stdout",
     "output_type": "stream",
     "text": [
      "DEBUG   [simulation.py]: [MaxFind] Step 66 finished\n"
     ]
    },
    {
     "name": "stderr",
     "output_type": "stream",
     "text": [
      "DEBUG:pymote.simulation:[MaxFind] Step 66 finished\n"
     ]
    },
    {
     "name": "stdout",
     "output_type": "stream",
     "text": [
      "DEBUG   [simulation.py]: [MaxFind] Step 67 finished\n"
     ]
    },
    {
     "name": "stderr",
     "output_type": "stream",
     "text": [
      "DEBUG:pymote.simulation:[MaxFind] Step 67 finished\n"
     ]
    },
    {
     "name": "stdout",
     "output_type": "stream",
     "text": [
      "DEBUG   [simulation.py]: [MaxFind] Step 68 finished\n"
     ]
    },
    {
     "name": "stderr",
     "output_type": "stream",
     "text": [
      "DEBUG:pymote.simulation:[MaxFind] Step 68 finished\n"
     ]
    },
    {
     "name": "stdout",
     "output_type": "stream",
     "text": [
      "DEBUG   [simulation.py]: [MaxFind] Step 69 finished\n"
     ]
    },
    {
     "name": "stderr",
     "output_type": "stream",
     "text": [
      "DEBUG:pymote.simulation:[MaxFind] Step 69 finished\n"
     ]
    },
    {
     "name": "stdout",
     "output_type": "stream",
     "text": [
      "DEBUG   [simulation.py]: [MaxFind] Step 70 finished\n"
     ]
    },
    {
     "name": "stderr",
     "output_type": "stream",
     "text": [
      "DEBUG:pymote.simulation:[MaxFind] Step 70 finished\n"
     ]
    },
    {
     "name": "stdout",
     "output_type": "stream",
     "text": [
      "DEBUG   [simulation.py]: [MaxFind] Step 71 finished\n"
     ]
    },
    {
     "name": "stderr",
     "output_type": "stream",
     "text": [
      "DEBUG:pymote.simulation:[MaxFind] Step 71 finished\n"
     ]
    },
    {
     "name": "stdout",
     "output_type": "stream",
     "text": [
      "DEBUG   [simulation.py]: [MaxFind] Step 72 finished\n"
     ]
    },
    {
     "name": "stderr",
     "output_type": "stream",
     "text": [
      "DEBUG:pymote.simulation:[MaxFind] Step 72 finished\n"
     ]
    },
    {
     "name": "stdout",
     "output_type": "stream",
     "text": [
      "DEBUG   [simulation.py]: [MaxFind] Step 73 finished\n"
     ]
    },
    {
     "name": "stderr",
     "output_type": "stream",
     "text": [
      "DEBUG:pymote.simulation:[MaxFind] Step 73 finished\n"
     ]
    },
    {
     "name": "stdout",
     "output_type": "stream",
     "text": [
      "DEBUG   [simulation.py]: [MaxFind] Step 74 finished\n"
     ]
    },
    {
     "name": "stderr",
     "output_type": "stream",
     "text": [
      "DEBUG:pymote.simulation:[MaxFind] Step 74 finished\n"
     ]
    },
    {
     "name": "stdout",
     "output_type": "stream",
     "text": [
      "DEBUG   [simulation.py]: [MaxFind] Step 75 finished\n"
     ]
    },
    {
     "name": "stderr",
     "output_type": "stream",
     "text": [
      "DEBUG:pymote.simulation:[MaxFind] Step 75 finished\n"
     ]
    },
    {
     "name": "stdout",
     "output_type": "stream",
     "text": [
      "DEBUG   [simulation.py]: [MaxFind] Step 76 finished\n"
     ]
    },
    {
     "name": "stderr",
     "output_type": "stream",
     "text": [
      "DEBUG:pymote.simulation:[MaxFind] Step 76 finished\n"
     ]
    },
    {
     "name": "stdout",
     "output_type": "stream",
     "text": [
      "DEBUG   [simulation.py]: [MaxFind] Step 77 finished\n"
     ]
    },
    {
     "name": "stderr",
     "output_type": "stream",
     "text": [
      "DEBUG:pymote.simulation:[MaxFind] Step 77 finished\n"
     ]
    },
    {
     "name": "stdout",
     "output_type": "stream",
     "text": [
      "DEBUG   [simulation.py]: [MaxFind] Step 78 finished\n"
     ]
    },
    {
     "name": "stderr",
     "output_type": "stream",
     "text": [
      "DEBUG:pymote.simulation:[MaxFind] Step 78 finished\n"
     ]
    },
    {
     "name": "stdout",
     "output_type": "stream",
     "text": [
      "DEBUG   [simulation.py]: [MaxFind] Step 79 finished\n"
     ]
    },
    {
     "name": "stderr",
     "output_type": "stream",
     "text": [
      "DEBUG:pymote.simulation:[MaxFind] Step 79 finished\n"
     ]
    },
    {
     "name": "stdout",
     "output_type": "stream",
     "text": [
      "DEBUG   [simulation.py]: [MaxFind] Step 80 finished\n"
     ]
    },
    {
     "name": "stderr",
     "output_type": "stream",
     "text": [
      "DEBUG:pymote.simulation:[MaxFind] Step 80 finished\n"
     ]
    },
    {
     "name": "stdout",
     "output_type": "stream",
     "text": [
      "DEBUG   [simulation.py]: [MaxFind] Step 81 finished\n"
     ]
    },
    {
     "name": "stderr",
     "output_type": "stream",
     "text": [
      "DEBUG:pymote.simulation:[MaxFind] Step 81 finished\n"
     ]
    },
    {
     "name": "stdout",
     "output_type": "stream",
     "text": [
      "DEBUG   [simulation.py]: [MaxFind] Step 82 finished\n"
     ]
    },
    {
     "name": "stderr",
     "output_type": "stream",
     "text": [
      "DEBUG:pymote.simulation:[MaxFind] Step 82 finished\n"
     ]
    },
    {
     "name": "stdout",
     "output_type": "stream",
     "text": [
      "DEBUG   [simulation.py]: [MaxFind] Step 83 finished\n"
     ]
    },
    {
     "name": "stderr",
     "output_type": "stream",
     "text": [
      "DEBUG:pymote.simulation:[MaxFind] Step 83 finished\n"
     ]
    },
    {
     "name": "stdout",
     "output_type": "stream",
     "text": [
      "DEBUG   [simulation.py]: [MaxFind] Step 84 finished\n"
     ]
    },
    {
     "name": "stderr",
     "output_type": "stream",
     "text": [
      "DEBUG:pymote.simulation:[MaxFind] Step 84 finished\n"
     ]
    },
    {
     "name": "stdout",
     "output_type": "stream",
     "text": [
      "DEBUG   [simulation.py]: [MaxFind] Step 85 finished\n"
     ]
    },
    {
     "name": "stderr",
     "output_type": "stream",
     "text": [
      "DEBUG:pymote.simulation:[MaxFind] Step 85 finished\n"
     ]
    },
    {
     "name": "stdout",
     "output_type": "stream",
     "text": [
      "DEBUG   [simulation.py]: [MaxFind] Step 86 finished\n"
     ]
    },
    {
     "name": "stderr",
     "output_type": "stream",
     "text": [
      "DEBUG:pymote.simulation:[MaxFind] Step 86 finished\n"
     ]
    },
    {
     "name": "stdout",
     "output_type": "stream",
     "text": [
      "DEBUG   [simulation.py]: [MaxFind] Step 87 finished\n"
     ]
    },
    {
     "name": "stderr",
     "output_type": "stream",
     "text": [
      "DEBUG:pymote.simulation:[MaxFind] Step 87 finished\n"
     ]
    },
    {
     "name": "stdout",
     "output_type": "stream",
     "text": [
      "DEBUG   [simulation.py]: [MaxFind] Step 88 finished\n"
     ]
    },
    {
     "name": "stderr",
     "output_type": "stream",
     "text": [
      "DEBUG:pymote.simulation:[MaxFind] Step 88 finished\n"
     ]
    },
    {
     "name": "stdout",
     "output_type": "stream",
     "text": [
      "DEBUG   [simulation.py]: [MaxFind] Step 89 finished\n"
     ]
    },
    {
     "name": "stderr",
     "output_type": "stream",
     "text": [
      "DEBUG:pymote.simulation:[MaxFind] Step 89 finished\n"
     ]
    },
    {
     "name": "stdout",
     "output_type": "stream",
     "text": [
      "DEBUG   [simulation.py]: [MaxFind] Step 90 finished\n"
     ]
    },
    {
     "name": "stderr",
     "output_type": "stream",
     "text": [
      "DEBUG:pymote.simulation:[MaxFind] Step 90 finished\n"
     ]
    },
    {
     "name": "stdout",
     "output_type": "stream",
     "text": [
      "DEBUG   [simulation.py]: [MaxFind] Step 91 finished\n"
     ]
    },
    {
     "name": "stderr",
     "output_type": "stream",
     "text": [
      "DEBUG:pymote.simulation:[MaxFind] Step 91 finished\n"
     ]
    },
    {
     "name": "stdout",
     "output_type": "stream",
     "text": [
      "DEBUG   [simulation.py]: [MaxFind] Step 92 finished\n"
     ]
    },
    {
     "name": "stderr",
     "output_type": "stream",
     "text": [
      "DEBUG:pymote.simulation:[MaxFind] Step 92 finished\n"
     ]
    },
    {
     "name": "stdout",
     "output_type": "stream",
     "text": [
      "DEBUG   [simulation.py]: [MaxFind] Step 93 finished\n"
     ]
    },
    {
     "name": "stderr",
     "output_type": "stream",
     "text": [
      "DEBUG:pymote.simulation:[MaxFind] Step 93 finished\n"
     ]
    },
    {
     "name": "stdout",
     "output_type": "stream",
     "text": [
      "DEBUG   [simulation.py]: [MaxFind] Step 94 finished\n"
     ]
    },
    {
     "name": "stderr",
     "output_type": "stream",
     "text": [
      "DEBUG:pymote.simulation:[MaxFind] Step 94 finished\n"
     ]
    },
    {
     "name": "stdout",
     "output_type": "stream",
     "text": [
      "DEBUG   [simulation.py]: [MaxFind] Step 95 finished\n"
     ]
    },
    {
     "name": "stderr",
     "output_type": "stream",
     "text": [
      "DEBUG:pymote.simulation:[MaxFind] Step 95 finished\n"
     ]
    },
    {
     "name": "stdout",
     "output_type": "stream",
     "text": [
      "DEBUG   [simulation.py]: [MaxFind] Step 96 finished\n"
     ]
    },
    {
     "name": "stderr",
     "output_type": "stream",
     "text": [
      "DEBUG:pymote.simulation:[MaxFind] Step 96 finished\n"
     ]
    },
    {
     "name": "stdout",
     "output_type": "stream",
     "text": [
      "DEBUG   [simulation.py]: [MaxFind] Step 97 finished\n"
     ]
    },
    {
     "name": "stderr",
     "output_type": "stream",
     "text": [
      "DEBUG:pymote.simulation:[MaxFind] Step 97 finished\n"
     ]
    },
    {
     "name": "stdout",
     "output_type": "stream",
     "text": [
      "DEBUG   [simulation.py]: [MaxFind] Step 98 finished\n"
     ]
    },
    {
     "name": "stderr",
     "output_type": "stream",
     "text": [
      "DEBUG:pymote.simulation:[MaxFind] Step 98 finished\n"
     ]
    },
    {
     "name": "stdout",
     "output_type": "stream",
     "text": [
      "DEBUG   [simulation.py]: [MaxFind] Step 99 finished\n"
     ]
    },
    {
     "name": "stderr",
     "output_type": "stream",
     "text": [
      "DEBUG:pymote.simulation:[MaxFind] Step 99 finished\n"
     ]
    },
    {
     "name": "stdout",
     "output_type": "stream",
     "text": [
      "DEBUG   [simulation.py]: [MaxFind] Step 100 finished\n"
     ]
    },
    {
     "name": "stderr",
     "output_type": "stream",
     "text": [
      "DEBUG:pymote.simulation:[MaxFind] Step 100 finished\n"
     ]
    },
    {
     "name": "stdout",
     "output_type": "stream",
     "text": [
      "DEBUG   [simulation.py]: [MaxFind] Step 101 finished\n"
     ]
    },
    {
     "name": "stderr",
     "output_type": "stream",
     "text": [
      "DEBUG:pymote.simulation:[MaxFind] Step 101 finished\n"
     ]
    },
    {
     "name": "stdout",
     "output_type": "stream",
     "text": [
      "DEBUG   [simulation.py]: [MaxFind] Step 102 finished\n"
     ]
    },
    {
     "name": "stderr",
     "output_type": "stream",
     "text": [
      "DEBUG:pymote.simulation:[MaxFind] Step 102 finished\n"
     ]
    },
    {
     "name": "stdout",
     "output_type": "stream",
     "text": [
      "DEBUG   [simulation.py]: [MaxFind] Step 103 finished\n"
     ]
    },
    {
     "name": "stderr",
     "output_type": "stream",
     "text": [
      "DEBUG:pymote.simulation:[MaxFind] Step 103 finished\n"
     ]
    },
    {
     "name": "stdout",
     "output_type": "stream",
     "text": [
      "DEBUG   [simulation.py]: [MaxFind] Step 104 finished\n"
     ]
    },
    {
     "name": "stderr",
     "output_type": "stream",
     "text": [
      "DEBUG:pymote.simulation:[MaxFind] Step 104 finished\n"
     ]
    },
    {
     "name": "stdout",
     "output_type": "stream",
     "text": [
      "DEBUG   [simulation.py]: [MaxFind] Step 105 finished\n"
     ]
    },
    {
     "name": "stderr",
     "output_type": "stream",
     "text": [
      "DEBUG:pymote.simulation:[MaxFind] Step 105 finished\n"
     ]
    },
    {
     "name": "stdout",
     "output_type": "stream",
     "text": [
      "DEBUG   [simulation.py]: [MaxFind] Step 106 finished\n"
     ]
    },
    {
     "name": "stderr",
     "output_type": "stream",
     "text": [
      "DEBUG:pymote.simulation:[MaxFind] Step 106 finished\n"
     ]
    },
    {
     "name": "stdout",
     "output_type": "stream",
     "text": [
      "DEBUG   [simulation.py]: [MaxFind] Step 107 finished\n"
     ]
    },
    {
     "name": "stderr",
     "output_type": "stream",
     "text": [
      "DEBUG:pymote.simulation:[MaxFind] Step 107 finished\n"
     ]
    },
    {
     "name": "stdout",
     "output_type": "stream",
     "text": [
      "DEBUG   [simulation.py]: [MaxFind] Step 108 finished\n"
     ]
    },
    {
     "name": "stderr",
     "output_type": "stream",
     "text": [
      "DEBUG:pymote.simulation:[MaxFind] Step 108 finished\n"
     ]
    },
    {
     "name": "stdout",
     "output_type": "stream",
     "text": [
      "DEBUG   [simulation.py]: [MaxFind] Step 109 finished\n"
     ]
    },
    {
     "name": "stderr",
     "output_type": "stream",
     "text": [
      "DEBUG:pymote.simulation:[MaxFind] Step 109 finished\n"
     ]
    },
    {
     "name": "stdout",
     "output_type": "stream",
     "text": [
      "DEBUG   [simulation.py]: [MaxFind] Step 110 finished\n"
     ]
    },
    {
     "name": "stderr",
     "output_type": "stream",
     "text": [
      "DEBUG:pymote.simulation:[MaxFind] Step 110 finished\n"
     ]
    },
    {
     "name": "stdout",
     "output_type": "stream",
     "text": [
      "DEBUG   [simulation.py]: [MaxFind] Step 111 finished\n"
     ]
    },
    {
     "name": "stderr",
     "output_type": "stream",
     "text": [
      "DEBUG:pymote.simulation:[MaxFind] Step 111 finished\n"
     ]
    },
    {
     "name": "stdout",
     "output_type": "stream",
     "text": [
      "DEBUG   [simulation.py]: [MaxFind] Step 112 finished\n"
     ]
    },
    {
     "name": "stderr",
     "output_type": "stream",
     "text": [
      "DEBUG:pymote.simulation:[MaxFind] Step 112 finished\n"
     ]
    },
    {
     "name": "stdout",
     "output_type": "stream",
     "text": [
      "DEBUG   [simulation.py]: [MaxFind] Step 113 finished\n"
     ]
    },
    {
     "name": "stderr",
     "output_type": "stream",
     "text": [
      "DEBUG:pymote.simulation:[MaxFind] Step 113 finished\n"
     ]
    },
    {
     "name": "stdout",
     "output_type": "stream",
     "text": [
      "DEBUG   [simulation.py]: [MaxFind] Step 114 finished\n"
     ]
    },
    {
     "name": "stderr",
     "output_type": "stream",
     "text": [
      "DEBUG:pymote.simulation:[MaxFind] Step 114 finished\n"
     ]
    },
    {
     "name": "stdout",
     "output_type": "stream",
     "text": [
      "DEBUG   [simulation.py]: [MaxFind] Step 115 finished\n"
     ]
    },
    {
     "name": "stderr",
     "output_type": "stream",
     "text": [
      "DEBUG:pymote.simulation:[MaxFind] Step 115 finished\n"
     ]
    },
    {
     "name": "stdout",
     "output_type": "stream",
     "text": [
      "DEBUG   [simulation.py]: [MaxFind] Step 116 finished\n"
     ]
    },
    {
     "name": "stderr",
     "output_type": "stream",
     "text": [
      "DEBUG:pymote.simulation:[MaxFind] Step 116 finished\n"
     ]
    },
    {
     "name": "stdout",
     "output_type": "stream",
     "text": [
      "DEBUG   [simulation.py]: [MaxFind] Step 117 finished\n"
     ]
    },
    {
     "name": "stderr",
     "output_type": "stream",
     "text": [
      "DEBUG:pymote.simulation:[MaxFind] Step 117 finished\n"
     ]
    },
    {
     "name": "stdout",
     "output_type": "stream",
     "text": [
      "DEBUG   [simulation.py]: [MaxFind] Step 118 finished\n"
     ]
    },
    {
     "name": "stderr",
     "output_type": "stream",
     "text": [
      "DEBUG:pymote.simulation:[MaxFind] Step 118 finished\n"
     ]
    },
    {
     "name": "stdout",
     "output_type": "stream",
     "text": [
      "DEBUG   [simulation.py]: [MaxFind] Step 119 finished\n"
     ]
    },
    {
     "name": "stderr",
     "output_type": "stream",
     "text": [
      "DEBUG:pymote.simulation:[MaxFind] Step 119 finished\n"
     ]
    },
    {
     "name": "stdout",
     "output_type": "stream",
     "text": [
      "DEBUG   [simulation.py]: [MaxFind] Step 120 finished\n"
     ]
    },
    {
     "name": "stderr",
     "output_type": "stream",
     "text": [
      "DEBUG:pymote.simulation:[MaxFind] Step 120 finished\n"
     ]
    },
    {
     "name": "stdout",
     "output_type": "stream",
     "text": [
      "DEBUG   [simulation.py]: [MaxFind] Step 121 finished\n"
     ]
    },
    {
     "name": "stderr",
     "output_type": "stream",
     "text": [
      "DEBUG:pymote.simulation:[MaxFind] Step 121 finished\n"
     ]
    },
    {
     "name": "stdout",
     "output_type": "stream",
     "text": [
      "DEBUG   [simulation.py]: [MaxFind] Step 122 finished\n"
     ]
    },
    {
     "name": "stderr",
     "output_type": "stream",
     "text": [
      "DEBUG:pymote.simulation:[MaxFind] Step 122 finished\n"
     ]
    },
    {
     "name": "stdout",
     "output_type": "stream",
     "text": [
      "DEBUG   [simulation.py]: [MaxFind] Step 123 finished\n"
     ]
    },
    {
     "name": "stderr",
     "output_type": "stream",
     "text": [
      "DEBUG:pymote.simulation:[MaxFind] Step 123 finished\n"
     ]
    },
    {
     "name": "stdout",
     "output_type": "stream",
     "text": [
      "DEBUG   [simulation.py]: [MaxFind] Step 124 finished\n"
     ]
    },
    {
     "name": "stderr",
     "output_type": "stream",
     "text": [
      "DEBUG:pymote.simulation:[MaxFind] Step 124 finished\n"
     ]
    },
    {
     "name": "stdout",
     "output_type": "stream",
     "text": [
      "DEBUG   [simulation.py]: [MaxFind] Step 125 finished\n"
     ]
    },
    {
     "name": "stderr",
     "output_type": "stream",
     "text": [
      "DEBUG:pymote.simulation:[MaxFind] Step 125 finished\n"
     ]
    },
    {
     "name": "stdout",
     "output_type": "stream",
     "text": [
      "DEBUG   [simulation.py]: [MaxFind] Step 126 finished\n"
     ]
    },
    {
     "name": "stderr",
     "output_type": "stream",
     "text": [
      "DEBUG:pymote.simulation:[MaxFind] Step 126 finished\n"
     ]
    },
    {
     "name": "stdout",
     "output_type": "stream",
     "text": [
      "DEBUG   [simulation.py]: [MaxFind] Step 127 finished\n"
     ]
    },
    {
     "name": "stderr",
     "output_type": "stream",
     "text": [
      "DEBUG:pymote.simulation:[MaxFind] Step 127 finished\n"
     ]
    },
    {
     "name": "stdout",
     "output_type": "stream",
     "text": [
      "DEBUG   [simulation.py]: [MaxFind] Step 128 finished\n"
     ]
    },
    {
     "name": "stderr",
     "output_type": "stream",
     "text": [
      "DEBUG:pymote.simulation:[MaxFind] Step 128 finished\n"
     ]
    },
    {
     "name": "stdout",
     "output_type": "stream",
     "text": [
      "DEBUG   [simulation.py]: [MaxFind] Step 129 finished\n"
     ]
    },
    {
     "name": "stderr",
     "output_type": "stream",
     "text": [
      "DEBUG:pymote.simulation:[MaxFind] Step 129 finished\n"
     ]
    },
    {
     "name": "stdout",
     "output_type": "stream",
     "text": [
      "DEBUG   [simulation.py]: [MaxFind] Step 130 finished\n"
     ]
    },
    {
     "name": "stderr",
     "output_type": "stream",
     "text": [
      "DEBUG:pymote.simulation:[MaxFind] Step 130 finished\n"
     ]
    },
    {
     "name": "stdout",
     "output_type": "stream",
     "text": [
      "DEBUG   [simulation.py]: [MaxFind] Step 131 finished\n"
     ]
    },
    {
     "name": "stderr",
     "output_type": "stream",
     "text": [
      "DEBUG:pymote.simulation:[MaxFind] Step 131 finished\n"
     ]
    },
    {
     "name": "stdout",
     "output_type": "stream",
     "text": [
      "DEBUG   [simulation.py]: [MaxFind] Step 132 finished\n"
     ]
    },
    {
     "name": "stderr",
     "output_type": "stream",
     "text": [
      "DEBUG:pymote.simulation:[MaxFind] Step 132 finished\n"
     ]
    },
    {
     "name": "stdout",
     "output_type": "stream",
     "text": [
      "DEBUG   [simulation.py]: [MaxFind] Step 133 finished\n"
     ]
    },
    {
     "name": "stderr",
     "output_type": "stream",
     "text": [
      "DEBUG:pymote.simulation:[MaxFind] Step 133 finished\n"
     ]
    },
    {
     "name": "stdout",
     "output_type": "stream",
     "text": [
      "DEBUG   [simulation.py]: [MaxFind] Step 134 finished\n"
     ]
    },
    {
     "name": "stderr",
     "output_type": "stream",
     "text": [
      "DEBUG:pymote.simulation:[MaxFind] Step 134 finished\n"
     ]
    },
    {
     "name": "stdout",
     "output_type": "stream",
     "text": [
      "DEBUG   [simulation.py]: [MaxFind] Step 135 finished\n"
     ]
    },
    {
     "name": "stderr",
     "output_type": "stream",
     "text": [
      "DEBUG:pymote.simulation:[MaxFind] Step 135 finished\n"
     ]
    },
    {
     "name": "stdout",
     "output_type": "stream",
     "text": [
      "DEBUG   [simulation.py]: [MaxFind] Step 136 finished\n"
     ]
    },
    {
     "name": "stderr",
     "output_type": "stream",
     "text": [
      "DEBUG:pymote.simulation:[MaxFind] Step 136 finished\n"
     ]
    },
    {
     "name": "stdout",
     "output_type": "stream",
     "text": [
      "DEBUG   [simulation.py]: [MaxFind] Step 137 finished\n"
     ]
    },
    {
     "name": "stderr",
     "output_type": "stream",
     "text": [
      "DEBUG:pymote.simulation:[MaxFind] Step 137 finished\n"
     ]
    },
    {
     "name": "stdout",
     "output_type": "stream",
     "text": [
      "DEBUG   [simulation.py]: [MaxFind] Step 138 finished\n"
     ]
    },
    {
     "name": "stderr",
     "output_type": "stream",
     "text": [
      "DEBUG:pymote.simulation:[MaxFind] Step 138 finished\n"
     ]
    },
    {
     "name": "stdout",
     "output_type": "stream",
     "text": [
      "DEBUG   [simulation.py]: [MaxFind] Step 139 finished\n"
     ]
    },
    {
     "name": "stderr",
     "output_type": "stream",
     "text": [
      "DEBUG:pymote.simulation:[MaxFind] Step 139 finished\n"
     ]
    },
    {
     "name": "stdout",
     "output_type": "stream",
     "text": [
      "DEBUG   [simulation.py]: [MaxFind] Step 140 finished\n"
     ]
    },
    {
     "name": "stderr",
     "output_type": "stream",
     "text": [
      "DEBUG:pymote.simulation:[MaxFind] Step 140 finished\n"
     ]
    },
    {
     "name": "stdout",
     "output_type": "stream",
     "text": [
      "DEBUG   [simulation.py]: [MaxFind] Step 141 finished\n"
     ]
    },
    {
     "name": "stderr",
     "output_type": "stream",
     "text": [
      "DEBUG:pymote.simulation:[MaxFind] Step 141 finished\n"
     ]
    },
    {
     "name": "stdout",
     "output_type": "stream",
     "text": [
      "DEBUG   [simulation.py]: [MaxFind] Step 142 finished\n"
     ]
    },
    {
     "name": "stderr",
     "output_type": "stream",
     "text": [
      "DEBUG:pymote.simulation:[MaxFind] Step 142 finished\n"
     ]
    },
    {
     "name": "stdout",
     "output_type": "stream",
     "text": [
      "DEBUG   [simulation.py]: [MaxFind] Step 143 finished\n"
     ]
    },
    {
     "name": "stderr",
     "output_type": "stream",
     "text": [
      "DEBUG:pymote.simulation:[MaxFind] Step 143 finished\n"
     ]
    },
    {
     "name": "stdout",
     "output_type": "stream",
     "text": [
      "DEBUG   [simulation.py]: [MaxFind] Step 144 finished\n"
     ]
    },
    {
     "name": "stderr",
     "output_type": "stream",
     "text": [
      "DEBUG:pymote.simulation:[MaxFind] Step 144 finished\n"
     ]
    },
    {
     "name": "stdout",
     "output_type": "stream",
     "text": [
      "DEBUG   [simulation.py]: [MaxFind] Step 145 finished\n"
     ]
    },
    {
     "name": "stderr",
     "output_type": "stream",
     "text": [
      "DEBUG:pymote.simulation:[MaxFind] Step 145 finished\n"
     ]
    },
    {
     "name": "stdout",
     "output_type": "stream",
     "text": [
      "DEBUG   [simulation.py]: [MaxFind] Step 146 finished\n"
     ]
    },
    {
     "name": "stderr",
     "output_type": "stream",
     "text": [
      "DEBUG:pymote.simulation:[MaxFind] Step 146 finished\n"
     ]
    },
    {
     "name": "stdout",
     "output_type": "stream",
     "text": [
      "DEBUG   [simulation.py]: [MaxFind] Step 147 finished\n"
     ]
    },
    {
     "name": "stderr",
     "output_type": "stream",
     "text": [
      "DEBUG:pymote.simulation:[MaxFind] Step 147 finished\n"
     ]
    },
    {
     "name": "stdout",
     "output_type": "stream",
     "text": [
      "DEBUG   [simulation.py]: [MaxFind] Step 148 finished\n"
     ]
    },
    {
     "name": "stderr",
     "output_type": "stream",
     "text": [
      "DEBUG:pymote.simulation:[MaxFind] Step 148 finished\n"
     ]
    },
    {
     "name": "stdout",
     "output_type": "stream",
     "text": [
      "DEBUG   [simulation.py]: [MaxFind] Step 149 finished\n"
     ]
    },
    {
     "name": "stderr",
     "output_type": "stream",
     "text": [
      "DEBUG:pymote.simulation:[MaxFind] Step 149 finished\n"
     ]
    },
    {
     "name": "stdout",
     "output_type": "stream",
     "text": [
      "DEBUG   [simulation.py]: [MaxFind] Step 150 finished\n"
     ]
    },
    {
     "name": "stderr",
     "output_type": "stream",
     "text": [
      "DEBUG:pymote.simulation:[MaxFind] Step 150 finished\n"
     ]
    },
    {
     "name": "stdout",
     "output_type": "stream",
     "text": [
      "DEBUG   [simulation.py]: [MaxFind] Step 151 finished\n"
     ]
    },
    {
     "name": "stderr",
     "output_type": "stream",
     "text": [
      "DEBUG:pymote.simulation:[MaxFind] Step 151 finished\n"
     ]
    },
    {
     "name": "stdout",
     "output_type": "stream",
     "text": [
      "DEBUG   [simulation.py]: [MaxFind] Step 152 finished\n"
     ]
    },
    {
     "name": "stderr",
     "output_type": "stream",
     "text": [
      "DEBUG:pymote.simulation:[MaxFind] Step 152 finished\n"
     ]
    },
    {
     "name": "stdout",
     "output_type": "stream",
     "text": [
      "DEBUG   [simulation.py]: [MaxFind] Step 153 finished\n"
     ]
    },
    {
     "name": "stderr",
     "output_type": "stream",
     "text": [
      "DEBUG:pymote.simulation:[MaxFind] Step 153 finished\n"
     ]
    },
    {
     "name": "stdout",
     "output_type": "stream",
     "text": [
      "DEBUG   [simulation.py]: [MaxFind] Step 154 finished\n"
     ]
    },
    {
     "name": "stderr",
     "output_type": "stream",
     "text": [
      "DEBUG:pymote.simulation:[MaxFind] Step 154 finished\n"
     ]
    },
    {
     "name": "stdout",
     "output_type": "stream",
     "text": [
      "DEBUG   [simulation.py]: [MaxFind] Step 155 finished\n"
     ]
    },
    {
     "name": "stderr",
     "output_type": "stream",
     "text": [
      "DEBUG:pymote.simulation:[MaxFind] Step 155 finished\n"
     ]
    },
    {
     "name": "stdout",
     "output_type": "stream",
     "text": [
      "DEBUG   [simulation.py]: [MaxFind] Step 156 finished\n"
     ]
    },
    {
     "name": "stderr",
     "output_type": "stream",
     "text": [
      "DEBUG:pymote.simulation:[MaxFind] Step 156 finished\n"
     ]
    },
    {
     "name": "stdout",
     "output_type": "stream",
     "text": [
      "DEBUG   [simulation.py]: [MaxFind] Step 157 finished\n"
     ]
    },
    {
     "name": "stderr",
     "output_type": "stream",
     "text": [
      "DEBUG:pymote.simulation:[MaxFind] Step 157 finished\n"
     ]
    },
    {
     "name": "stdout",
     "output_type": "stream",
     "text": [
      "DEBUG   [simulation.py]: [MaxFind] Step 158 finished\n"
     ]
    },
    {
     "name": "stderr",
     "output_type": "stream",
     "text": [
      "DEBUG:pymote.simulation:[MaxFind] Step 158 finished\n"
     ]
    },
    {
     "name": "stdout",
     "output_type": "stream",
     "text": [
      "DEBUG   [simulation.py]: [MaxFind] Step 159 finished\n"
     ]
    },
    {
     "name": "stderr",
     "output_type": "stream",
     "text": [
      "DEBUG:pymote.simulation:[MaxFind] Step 159 finished\n"
     ]
    },
    {
     "name": "stdout",
     "output_type": "stream",
     "text": [
      "DEBUG   [simulation.py]: [MaxFind] Step 160 finished\n"
     ]
    },
    {
     "name": "stderr",
     "output_type": "stream",
     "text": [
      "DEBUG:pymote.simulation:[MaxFind] Step 160 finished\n"
     ]
    },
    {
     "name": "stdout",
     "output_type": "stream",
     "text": [
      "DEBUG   [simulation.py]: [MaxFind] Step 161 finished\n"
     ]
    },
    {
     "name": "stderr",
     "output_type": "stream",
     "text": [
      "DEBUG:pymote.simulation:[MaxFind] Step 161 finished\n"
     ]
    },
    {
     "name": "stdout",
     "output_type": "stream",
     "text": [
      "DEBUG   [simulation.py]: [MaxFind] Step 162 finished\n"
     ]
    },
    {
     "name": "stderr",
     "output_type": "stream",
     "text": [
      "DEBUG:pymote.simulation:[MaxFind] Step 162 finished\n"
     ]
    },
    {
     "name": "stdout",
     "output_type": "stream",
     "text": [
      "DEBUG   [simulation.py]: [MaxFind] Step 163 finished\n"
     ]
    },
    {
     "name": "stderr",
     "output_type": "stream",
     "text": [
      "DEBUG:pymote.simulation:[MaxFind] Step 163 finished\n"
     ]
    },
    {
     "name": "stdout",
     "output_type": "stream",
     "text": [
      "DEBUG   [simulation.py]: [MaxFind] Step 164 finished\n"
     ]
    },
    {
     "name": "stderr",
     "output_type": "stream",
     "text": [
      "DEBUG:pymote.simulation:[MaxFind] Step 164 finished\n"
     ]
    },
    {
     "name": "stdout",
     "output_type": "stream",
     "text": [
      "DEBUG   [simulation.py]: [MaxFind] Step 165 finished\n"
     ]
    },
    {
     "name": "stderr",
     "output_type": "stream",
     "text": [
      "DEBUG:pymote.simulation:[MaxFind] Step 165 finished\n"
     ]
    },
    {
     "name": "stdout",
     "output_type": "stream",
     "text": [
      "DEBUG   [simulation.py]: [MaxFind] Step 166 finished\n"
     ]
    },
    {
     "name": "stderr",
     "output_type": "stream",
     "text": [
      "DEBUG:pymote.simulation:[MaxFind] Step 166 finished\n"
     ]
    },
    {
     "name": "stdout",
     "output_type": "stream",
     "text": [
      "DEBUG   [simulation.py]: [MaxFind] Step 167 finished\n"
     ]
    },
    {
     "name": "stderr",
     "output_type": "stream",
     "text": [
      "DEBUG:pymote.simulation:[MaxFind] Step 167 finished\n"
     ]
    },
    {
     "name": "stdout",
     "output_type": "stream",
     "text": [
      "DEBUG   [simulation.py]: [MaxFind] Step 168 finished\n"
     ]
    },
    {
     "name": "stderr",
     "output_type": "stream",
     "text": [
      "DEBUG:pymote.simulation:[MaxFind] Step 168 finished\n"
     ]
    },
    {
     "name": "stdout",
     "output_type": "stream",
     "text": [
      "DEBUG   [simulation.py]: [MaxFind] Step 169 finished\n"
     ]
    },
    {
     "name": "stderr",
     "output_type": "stream",
     "text": [
      "DEBUG:pymote.simulation:[MaxFind] Step 169 finished\n"
     ]
    },
    {
     "name": "stdout",
     "output_type": "stream",
     "text": [
      "DEBUG   [simulation.py]: [MaxFind] Step 170 finished\n"
     ]
    },
    {
     "name": "stderr",
     "output_type": "stream",
     "text": [
      "DEBUG:pymote.simulation:[MaxFind] Step 170 finished\n"
     ]
    },
    {
     "name": "stdout",
     "output_type": "stream",
     "text": [
      "DEBUG   [simulation.py]: [MaxFind] Step 171 finished\n"
     ]
    },
    {
     "name": "stderr",
     "output_type": "stream",
     "text": [
      "DEBUG:pymote.simulation:[MaxFind] Step 171 finished\n"
     ]
    },
    {
     "name": "stdout",
     "output_type": "stream",
     "text": [
      "DEBUG   [simulation.py]: [MaxFind] Step 172 finished\n"
     ]
    },
    {
     "name": "stderr",
     "output_type": "stream",
     "text": [
      "DEBUG:pymote.simulation:[MaxFind] Step 172 finished\n"
     ]
    },
    {
     "name": "stdout",
     "output_type": "stream",
     "text": [
      "DEBUG   [simulation.py]: [MaxFind] Step 173 finished\n"
     ]
    },
    {
     "name": "stderr",
     "output_type": "stream",
     "text": [
      "DEBUG:pymote.simulation:[MaxFind] Step 173 finished\n"
     ]
    },
    {
     "name": "stdout",
     "output_type": "stream",
     "text": [
      "DEBUG   [simulation.py]: [MaxFind] Step 174 finished\n"
     ]
    },
    {
     "name": "stderr",
     "output_type": "stream",
     "text": [
      "DEBUG:pymote.simulation:[MaxFind] Step 174 finished\n"
     ]
    },
    {
     "name": "stdout",
     "output_type": "stream",
     "text": [
      "DEBUG   [simulation.py]: [MaxFind] Step 175 finished\n"
     ]
    },
    {
     "name": "stderr",
     "output_type": "stream",
     "text": [
      "DEBUG:pymote.simulation:[MaxFind] Step 175 finished\n"
     ]
    },
    {
     "name": "stdout",
     "output_type": "stream",
     "text": [
      "DEBUG   [simulation.py]: [MaxFind] Step 176 finished\n"
     ]
    },
    {
     "name": "stderr",
     "output_type": "stream",
     "text": [
      "DEBUG:pymote.simulation:[MaxFind] Step 176 finished\n"
     ]
    },
    {
     "name": "stdout",
     "output_type": "stream",
     "text": [
      "DEBUG   [simulation.py]: [MaxFind] Step 177 finished\n"
     ]
    },
    {
     "name": "stderr",
     "output_type": "stream",
     "text": [
      "DEBUG:pymote.simulation:[MaxFind] Step 177 finished\n"
     ]
    },
    {
     "name": "stdout",
     "output_type": "stream",
     "text": [
      "DEBUG   [simulation.py]: [MaxFind] Step 178 finished\n"
     ]
    },
    {
     "name": "stderr",
     "output_type": "stream",
     "text": [
      "DEBUG:pymote.simulation:[MaxFind] Step 178 finished\n"
     ]
    },
    {
     "name": "stdout",
     "output_type": "stream",
     "text": [
      "DEBUG   [simulation.py]: [MaxFind] Step 179 finished\n"
     ]
    },
    {
     "name": "stderr",
     "output_type": "stream",
     "text": [
      "DEBUG:pymote.simulation:[MaxFind] Step 179 finished\n"
     ]
    },
    {
     "name": "stdout",
     "output_type": "stream",
     "text": [
      "DEBUG   [simulation.py]: [MaxFind] Step 180 finished\n"
     ]
    },
    {
     "name": "stderr",
     "output_type": "stream",
     "text": [
      "DEBUG:pymote.simulation:[MaxFind] Step 180 finished\n"
     ]
    },
    {
     "name": "stdout",
     "output_type": "stream",
     "text": [
      "DEBUG   [simulation.py]: [MaxFind] Step 181 finished\n"
     ]
    },
    {
     "name": "stderr",
     "output_type": "stream",
     "text": [
      "DEBUG:pymote.simulation:[MaxFind] Step 181 finished\n"
     ]
    },
    {
     "name": "stdout",
     "output_type": "stream",
     "text": [
      "DEBUG   [simulation.py]: [MaxFind] Step 182 finished\n"
     ]
    },
    {
     "name": "stderr",
     "output_type": "stream",
     "text": [
      "DEBUG:pymote.simulation:[MaxFind] Step 182 finished\n"
     ]
    },
    {
     "name": "stdout",
     "output_type": "stream",
     "text": [
      "DEBUG   [simulation.py]: [MaxFind] Step 183 finished\n"
     ]
    },
    {
     "name": "stderr",
     "output_type": "stream",
     "text": [
      "DEBUG:pymote.simulation:[MaxFind] Step 183 finished\n"
     ]
    },
    {
     "name": "stdout",
     "output_type": "stream",
     "text": [
      "DEBUG   [simulation.py]: [MaxFind] Step 184 finished\n"
     ]
    },
    {
     "name": "stderr",
     "output_type": "stream",
     "text": [
      "DEBUG:pymote.simulation:[MaxFind] Step 184 finished\n"
     ]
    },
    {
     "name": "stdout",
     "output_type": "stream",
     "text": [
      "DEBUG   [simulation.py]: [MaxFind] Step 185 finished\n"
     ]
    },
    {
     "name": "stderr",
     "output_type": "stream",
     "text": [
      "DEBUG:pymote.simulation:[MaxFind] Step 185 finished\n"
     ]
    },
    {
     "name": "stdout",
     "output_type": "stream",
     "text": [
      "DEBUG   [simulation.py]: [MaxFind] Step 186 finished\n"
     ]
    },
    {
     "name": "stderr",
     "output_type": "stream",
     "text": [
      "DEBUG:pymote.simulation:[MaxFind] Step 186 finished\n"
     ]
    },
    {
     "name": "stdout",
     "output_type": "stream",
     "text": [
      "DEBUG   [simulation.py]: [MaxFind] Step 187 finished\n"
     ]
    },
    {
     "name": "stderr",
     "output_type": "stream",
     "text": [
      "DEBUG:pymote.simulation:[MaxFind] Step 187 finished\n"
     ]
    },
    {
     "name": "stdout",
     "output_type": "stream",
     "text": [
      "DEBUG   [simulation.py]: [MaxFind] Step 188 finished\n"
     ]
    },
    {
     "name": "stderr",
     "output_type": "stream",
     "text": [
      "DEBUG:pymote.simulation:[MaxFind] Step 188 finished\n"
     ]
    },
    {
     "name": "stdout",
     "output_type": "stream",
     "text": [
      "DEBUG   [simulation.py]: [MaxFind] Step 189 finished\n"
     ]
    },
    {
     "name": "stderr",
     "output_type": "stream",
     "text": [
      "DEBUG:pymote.simulation:[MaxFind] Step 189 finished\n"
     ]
    },
    {
     "name": "stdout",
     "output_type": "stream",
     "text": [
      "DEBUG   [simulation.py]: [MaxFind] Step 190 finished\n"
     ]
    },
    {
     "name": "stderr",
     "output_type": "stream",
     "text": [
      "DEBUG:pymote.simulation:[MaxFind] Step 190 finished\n"
     ]
    },
    {
     "name": "stdout",
     "output_type": "stream",
     "text": [
      "DEBUG   [simulation.py]: [MaxFind] Step 191 finished\n"
     ]
    },
    {
     "name": "stderr",
     "output_type": "stream",
     "text": [
      "DEBUG:pymote.simulation:[MaxFind] Step 191 finished\n"
     ]
    },
    {
     "name": "stdout",
     "output_type": "stream",
     "text": [
      "DEBUG   [simulation.py]: [MaxFind] Step 192 finished\n"
     ]
    },
    {
     "name": "stderr",
     "output_type": "stream",
     "text": [
      "DEBUG:pymote.simulation:[MaxFind] Step 192 finished\n"
     ]
    },
    {
     "name": "stdout",
     "output_type": "stream",
     "text": [
      "DEBUG   [simulation.py]: [MaxFind] Step 193 finished\n"
     ]
    },
    {
     "name": "stderr",
     "output_type": "stream",
     "text": [
      "DEBUG:pymote.simulation:[MaxFind] Step 193 finished\n"
     ]
    },
    {
     "name": "stdout",
     "output_type": "stream",
     "text": [
      "DEBUG   [simulation.py]: [MaxFind] Step 194 finished\n"
     ]
    },
    {
     "name": "stderr",
     "output_type": "stream",
     "text": [
      "DEBUG:pymote.simulation:[MaxFind] Step 194 finished\n"
     ]
    },
    {
     "name": "stdout",
     "output_type": "stream",
     "text": [
      "DEBUG   [simulation.py]: [MaxFind] Step 195 finished\n"
     ]
    },
    {
     "name": "stderr",
     "output_type": "stream",
     "text": [
      "DEBUG:pymote.simulation:[MaxFind] Step 195 finished\n"
     ]
    },
    {
     "name": "stdout",
     "output_type": "stream",
     "text": [
      "DEBUG   [simulation.py]: [MaxFind] Step 196 finished\n"
     ]
    },
    {
     "name": "stderr",
     "output_type": "stream",
     "text": [
      "DEBUG:pymote.simulation:[MaxFind] Step 196 finished\n"
     ]
    },
    {
     "name": "stdout",
     "output_type": "stream",
     "text": [
      "DEBUG   [simulation.py]: [MaxFind] Step 197 finished\n"
     ]
    },
    {
     "name": "stderr",
     "output_type": "stream",
     "text": [
      "DEBUG:pymote.simulation:[MaxFind] Step 197 finished\n"
     ]
    },
    {
     "name": "stdout",
     "output_type": "stream",
     "text": [
      "DEBUG   [simulation.py]: [MaxFind] Step 198 finished\n"
     ]
    },
    {
     "name": "stderr",
     "output_type": "stream",
     "text": [
      "DEBUG:pymote.simulation:[MaxFind] Step 198 finished\n"
     ]
    },
    {
     "name": "stdout",
     "output_type": "stream",
     "text": [
      "DEBUG   [simulation.py]: [MaxFind] Step 199 finished\n"
     ]
    },
    {
     "name": "stderr",
     "output_type": "stream",
     "text": [
      "DEBUG:pymote.simulation:[MaxFind] Step 199 finished\n"
     ]
    },
    {
     "name": "stdout",
     "output_type": "stream",
     "text": [
      "DEBUG   [simulation.py]: [MaxFind] Step 200 finished\n"
     ]
    },
    {
     "name": "stderr",
     "output_type": "stream",
     "text": [
      "DEBUG:pymote.simulation:[MaxFind] Step 200 finished\n"
     ]
    },
    {
     "name": "stdout",
     "output_type": "stream",
     "text": [
      "DEBUG   [simulation.py]: [MaxFind] Step 201 finished\n"
     ]
    },
    {
     "name": "stderr",
     "output_type": "stream",
     "text": [
      "DEBUG:pymote.simulation:[MaxFind] Step 201 finished\n"
     ]
    },
    {
     "name": "stdout",
     "output_type": "stream",
     "text": [
      "DEBUG   [simulation.py]: [MaxFind] Step 202 finished\n"
     ]
    },
    {
     "name": "stderr",
     "output_type": "stream",
     "text": [
      "DEBUG:pymote.simulation:[MaxFind] Step 202 finished\n"
     ]
    },
    {
     "name": "stdout",
     "output_type": "stream",
     "text": [
      "DEBUG   [simulation.py]: [MaxFind] Step 203 finished\n"
     ]
    },
    {
     "name": "stderr",
     "output_type": "stream",
     "text": [
      "DEBUG:pymote.simulation:[MaxFind] Step 203 finished\n"
     ]
    },
    {
     "name": "stdout",
     "output_type": "stream",
     "text": [
      "DEBUG   [simulation.py]: [MaxFind] Step 204 finished\n"
     ]
    },
    {
     "name": "stderr",
     "output_type": "stream",
     "text": [
      "DEBUG:pymote.simulation:[MaxFind] Step 204 finished\n"
     ]
    },
    {
     "name": "stdout",
     "output_type": "stream",
     "text": [
      "DEBUG   [simulation.py]: [MaxFind] Step 205 finished\n"
     ]
    },
    {
     "name": "stderr",
     "output_type": "stream",
     "text": [
      "DEBUG:pymote.simulation:[MaxFind] Step 205 finished\n"
     ]
    },
    {
     "name": "stdout",
     "output_type": "stream",
     "text": [
      "DEBUG   [simulation.py]: [MaxFind] Step 206 finished\n"
     ]
    },
    {
     "name": "stderr",
     "output_type": "stream",
     "text": [
      "DEBUG:pymote.simulation:[MaxFind] Step 206 finished\n"
     ]
    },
    {
     "name": "stdout",
     "output_type": "stream",
     "text": [
      "DEBUG   [simulation.py]: [MaxFind] Step 207 finished\n"
     ]
    },
    {
     "name": "stderr",
     "output_type": "stream",
     "text": [
      "DEBUG:pymote.simulation:[MaxFind] Step 207 finished\n"
     ]
    },
    {
     "name": "stdout",
     "output_type": "stream",
     "text": [
      "DEBUG   [simulation.py]: [MaxFind] Step 208 finished\n"
     ]
    },
    {
     "name": "stderr",
     "output_type": "stream",
     "text": [
      "DEBUG:pymote.simulation:[MaxFind] Step 208 finished\n"
     ]
    },
    {
     "name": "stdout",
     "output_type": "stream",
     "text": [
      "DEBUG   [simulation.py]: [MaxFind] Step 209 finished\n"
     ]
    },
    {
     "name": "stderr",
     "output_type": "stream",
     "text": [
      "DEBUG:pymote.simulation:[MaxFind] Step 209 finished\n"
     ]
    },
    {
     "name": "stdout",
     "output_type": "stream",
     "text": [
      "DEBUG   [simulation.py]: [MaxFind] Step 210 finished\n"
     ]
    },
    {
     "name": "stderr",
     "output_type": "stream",
     "text": [
      "DEBUG:pymote.simulation:[MaxFind] Step 210 finished\n"
     ]
    },
    {
     "name": "stdout",
     "output_type": "stream",
     "text": [
      "DEBUG   [simulation.py]: [MaxFind] Step 211 finished\n"
     ]
    },
    {
     "name": "stderr",
     "output_type": "stream",
     "text": [
      "DEBUG:pymote.simulation:[MaxFind] Step 211 finished\n"
     ]
    },
    {
     "name": "stdout",
     "output_type": "stream",
     "text": [
      "DEBUG   [simulation.py]: [MaxFind] Step 212 finished\n"
     ]
    },
    {
     "name": "stderr",
     "output_type": "stream",
     "text": [
      "DEBUG:pymote.simulation:[MaxFind] Step 212 finished\n"
     ]
    },
    {
     "name": "stdout",
     "output_type": "stream",
     "text": [
      "DEBUG   [simulation.py]: [MaxFind] Step 213 finished\n"
     ]
    },
    {
     "name": "stderr",
     "output_type": "stream",
     "text": [
      "DEBUG:pymote.simulation:[MaxFind] Step 213 finished\n"
     ]
    },
    {
     "name": "stdout",
     "output_type": "stream",
     "text": [
      "DEBUG   [simulation.py]: [MaxFind] Step 214 finished\n"
     ]
    },
    {
     "name": "stderr",
     "output_type": "stream",
     "text": [
      "DEBUG:pymote.simulation:[MaxFind] Step 214 finished\n"
     ]
    },
    {
     "name": "stdout",
     "output_type": "stream",
     "text": [
      "DEBUG   [simulation.py]: [MaxFind] Step 215 finished\n"
     ]
    },
    {
     "name": "stderr",
     "output_type": "stream",
     "text": [
      "DEBUG:pymote.simulation:[MaxFind] Step 215 finished\n"
     ]
    },
    {
     "name": "stdout",
     "output_type": "stream",
     "text": [
      "DEBUG   [simulation.py]: [MaxFind] Step 216 finished\n"
     ]
    },
    {
     "name": "stderr",
     "output_type": "stream",
     "text": [
      "DEBUG:pymote.simulation:[MaxFind] Step 216 finished\n"
     ]
    },
    {
     "name": "stdout",
     "output_type": "stream",
     "text": [
      "DEBUG   [simulation.py]: [MaxFind] Step 217 finished\n"
     ]
    },
    {
     "name": "stderr",
     "output_type": "stream",
     "text": [
      "DEBUG:pymote.simulation:[MaxFind] Step 217 finished\n"
     ]
    },
    {
     "name": "stdout",
     "output_type": "stream",
     "text": [
      "DEBUG   [simulation.py]: [MaxFind] Step 218 finished\n"
     ]
    },
    {
     "name": "stderr",
     "output_type": "stream",
     "text": [
      "DEBUG:pymote.simulation:[MaxFind] Step 218 finished\n"
     ]
    },
    {
     "name": "stdout",
     "output_type": "stream",
     "text": [
      "DEBUG   [simulation.py]: [MaxFind] Step 219 finished\n"
     ]
    },
    {
     "name": "stderr",
     "output_type": "stream",
     "text": [
      "DEBUG:pymote.simulation:[MaxFind] Step 219 finished\n"
     ]
    },
    {
     "name": "stdout",
     "output_type": "stream",
     "text": [
      "DEBUG   [simulation.py]: [MaxFind] Step 220 finished\n"
     ]
    },
    {
     "name": "stderr",
     "output_type": "stream",
     "text": [
      "DEBUG:pymote.simulation:[MaxFind] Step 220 finished\n"
     ]
    },
    {
     "name": "stdout",
     "output_type": "stream",
     "text": [
      "DEBUG   [simulation.py]: [MaxFind] Step 221 finished\n"
     ]
    },
    {
     "name": "stderr",
     "output_type": "stream",
     "text": [
      "DEBUG:pymote.simulation:[MaxFind] Step 221 finished\n"
     ]
    },
    {
     "name": "stdout",
     "output_type": "stream",
     "text": [
      "DEBUG   [simulation.py]: [MaxFind] Step 222 finished\n"
     ]
    },
    {
     "name": "stderr",
     "output_type": "stream",
     "text": [
      "DEBUG:pymote.simulation:[MaxFind] Step 222 finished\n"
     ]
    },
    {
     "name": "stdout",
     "output_type": "stream",
     "text": [
      "DEBUG   [simulation.py]: [MaxFind] Step 223 finished\n"
     ]
    },
    {
     "name": "stderr",
     "output_type": "stream",
     "text": [
      "DEBUG:pymote.simulation:[MaxFind] Step 223 finished\n"
     ]
    },
    {
     "name": "stdout",
     "output_type": "stream",
     "text": [
      "DEBUG   [simulation.py]: [MaxFind] Step 224 finished\n"
     ]
    },
    {
     "name": "stderr",
     "output_type": "stream",
     "text": [
      "DEBUG:pymote.simulation:[MaxFind] Step 224 finished\n"
     ]
    },
    {
     "name": "stdout",
     "output_type": "stream",
     "text": [
      "DEBUG   [simulation.py]: [MaxFind] Step 225 finished\n"
     ]
    },
    {
     "name": "stderr",
     "output_type": "stream",
     "text": [
      "DEBUG:pymote.simulation:[MaxFind] Step 225 finished\n"
     ]
    },
    {
     "name": "stdout",
     "output_type": "stream",
     "text": [
      "DEBUG   [simulation.py]: [MaxFind] Step 226 finished\n"
     ]
    },
    {
     "name": "stderr",
     "output_type": "stream",
     "text": [
      "DEBUG:pymote.simulation:[MaxFind] Step 226 finished\n"
     ]
    },
    {
     "name": "stdout",
     "output_type": "stream",
     "text": [
      "DEBUG   [simulation.py]: [MaxFind] Step 227 finished\n"
     ]
    },
    {
     "name": "stderr",
     "output_type": "stream",
     "text": [
      "DEBUG:pymote.simulation:[MaxFind] Step 227 finished\n"
     ]
    },
    {
     "name": "stdout",
     "output_type": "stream",
     "text": [
      "DEBUG   [simulation.py]: [MaxFind] Step 228 finished\n"
     ]
    },
    {
     "name": "stderr",
     "output_type": "stream",
     "text": [
      "DEBUG:pymote.simulation:[MaxFind] Step 228 finished\n"
     ]
    },
    {
     "name": "stdout",
     "output_type": "stream",
     "text": [
      "DEBUG   [simulation.py]: [MaxFind] Step 229 finished\n"
     ]
    },
    {
     "name": "stderr",
     "output_type": "stream",
     "text": [
      "DEBUG:pymote.simulation:[MaxFind] Step 229 finished\n"
     ]
    },
    {
     "name": "stdout",
     "output_type": "stream",
     "text": [
      "DEBUG   [simulation.py]: [MaxFind] Step 230 finished\n"
     ]
    },
    {
     "name": "stderr",
     "output_type": "stream",
     "text": [
      "DEBUG:pymote.simulation:[MaxFind] Step 230 finished\n"
     ]
    },
    {
     "name": "stdout",
     "output_type": "stream",
     "text": [
      "DEBUG   [simulation.py]: [MaxFind] Step 231 finished\n"
     ]
    },
    {
     "name": "stderr",
     "output_type": "stream",
     "text": [
      "DEBUG:pymote.simulation:[MaxFind] Step 231 finished\n"
     ]
    },
    {
     "name": "stdout",
     "output_type": "stream",
     "text": [
      "DEBUG   [simulation.py]: [MaxFind] Step 232 finished\n"
     ]
    },
    {
     "name": "stderr",
     "output_type": "stream",
     "text": [
      "DEBUG:pymote.simulation:[MaxFind] Step 232 finished\n"
     ]
    },
    {
     "name": "stdout",
     "output_type": "stream",
     "text": [
      "DEBUG   [simulation.py]: [MaxFind] Step 233 finished\n"
     ]
    },
    {
     "name": "stderr",
     "output_type": "stream",
     "text": [
      "DEBUG:pymote.simulation:[MaxFind] Step 233 finished\n"
     ]
    },
    {
     "name": "stdout",
     "output_type": "stream",
     "text": [
      "DEBUG   [simulation.py]: [MaxFind] Step 234 finished\n"
     ]
    },
    {
     "name": "stderr",
     "output_type": "stream",
     "text": [
      "DEBUG:pymote.simulation:[MaxFind] Step 234 finished\n"
     ]
    },
    {
     "name": "stdout",
     "output_type": "stream",
     "text": [
      "DEBUG   [simulation.py]: [MaxFind] Step 235 finished\n"
     ]
    },
    {
     "name": "stderr",
     "output_type": "stream",
     "text": [
      "DEBUG:pymote.simulation:[MaxFind] Step 235 finished\n"
     ]
    },
    {
     "name": "stdout",
     "output_type": "stream",
     "text": [
      "DEBUG   [simulation.py]: [MaxFind] Step 236 finished\n"
     ]
    },
    {
     "name": "stderr",
     "output_type": "stream",
     "text": [
      "DEBUG:pymote.simulation:[MaxFind] Step 236 finished\n"
     ]
    },
    {
     "name": "stdout",
     "output_type": "stream",
     "text": [
      "DEBUG   [simulation.py]: [MaxFind] Step 237 finished\n"
     ]
    },
    {
     "name": "stderr",
     "output_type": "stream",
     "text": [
      "DEBUG:pymote.simulation:[MaxFind] Step 237 finished\n"
     ]
    },
    {
     "name": "stdout",
     "output_type": "stream",
     "text": [
      "DEBUG   [simulation.py]: [MaxFind] Step 238 finished\n"
     ]
    },
    {
     "name": "stderr",
     "output_type": "stream",
     "text": [
      "DEBUG:pymote.simulation:[MaxFind] Step 238 finished\n"
     ]
    },
    {
     "name": "stdout",
     "output_type": "stream",
     "text": [
      "DEBUG   [simulation.py]: [MaxFind] Step 239 finished\n"
     ]
    },
    {
     "name": "stderr",
     "output_type": "stream",
     "text": [
      "DEBUG:pymote.simulation:[MaxFind] Step 239 finished\n"
     ]
    },
    {
     "name": "stdout",
     "output_type": "stream",
     "text": [
      "DEBUG   [simulation.py]: [MaxFind] Step 240 finished\n"
     ]
    },
    {
     "name": "stderr",
     "output_type": "stream",
     "text": [
      "DEBUG:pymote.simulation:[MaxFind] Step 240 finished\n"
     ]
    },
    {
     "name": "stdout",
     "output_type": "stream",
     "text": [
      "DEBUG   [simulation.py]: [MaxFind] Step 241 finished\n"
     ]
    },
    {
     "name": "stderr",
     "output_type": "stream",
     "text": [
      "DEBUG:pymote.simulation:[MaxFind] Step 241 finished\n"
     ]
    },
    {
     "name": "stdout",
     "output_type": "stream",
     "text": [
      "DEBUG   [simulation.py]: [MaxFind] Step 242 finished\n"
     ]
    },
    {
     "name": "stderr",
     "output_type": "stream",
     "text": [
      "DEBUG:pymote.simulation:[MaxFind] Step 242 finished\n"
     ]
    },
    {
     "name": "stdout",
     "output_type": "stream",
     "text": [
      "DEBUG   [simulation.py]: [MaxFind] Step 243 finished\n"
     ]
    },
    {
     "name": "stderr",
     "output_type": "stream",
     "text": [
      "DEBUG:pymote.simulation:[MaxFind] Step 243 finished\n"
     ]
    },
    {
     "name": "stdout",
     "output_type": "stream",
     "text": [
      "DEBUG   [simulation.py]: [MaxFind] Step 244 finished\n"
     ]
    },
    {
     "name": "stderr",
     "output_type": "stream",
     "text": [
      "DEBUG:pymote.simulation:[MaxFind] Step 244 finished\n"
     ]
    },
    {
     "name": "stdout",
     "output_type": "stream",
     "text": [
      "DEBUG   [simulation.py]: [MaxFind] Step 245 finished\n"
     ]
    },
    {
     "name": "stderr",
     "output_type": "stream",
     "text": [
      "DEBUG:pymote.simulation:[MaxFind] Step 245 finished\n"
     ]
    },
    {
     "name": "stdout",
     "output_type": "stream",
     "text": [
      "DEBUG   [simulation.py]: [MaxFind] Step 246 finished\n"
     ]
    },
    {
     "name": "stderr",
     "output_type": "stream",
     "text": [
      "DEBUG:pymote.simulation:[MaxFind] Step 246 finished\n"
     ]
    },
    {
     "name": "stdout",
     "output_type": "stream",
     "text": [
      "DEBUG   [simulation.py]: [MaxFind] Step 247 finished\n"
     ]
    },
    {
     "name": "stderr",
     "output_type": "stream",
     "text": [
      "DEBUG:pymote.simulation:[MaxFind] Step 247 finished\n"
     ]
    },
    {
     "name": "stdout",
     "output_type": "stream",
     "text": [
      "DEBUG   [simulation.py]: [MaxFind] Step 248 finished\n"
     ]
    },
    {
     "name": "stderr",
     "output_type": "stream",
     "text": [
      "DEBUG:pymote.simulation:[MaxFind] Step 248 finished\n"
     ]
    },
    {
     "name": "stdout",
     "output_type": "stream",
     "text": [
      "DEBUG   [simulation.py]: [MaxFind] Step 249 finished\n"
     ]
    },
    {
     "name": "stderr",
     "output_type": "stream",
     "text": [
      "DEBUG:pymote.simulation:[MaxFind] Step 249 finished\n"
     ]
    },
    {
     "name": "stdout",
     "output_type": "stream",
     "text": [
      "DEBUG   [simulation.py]: [MaxFind] Step 250 finished\n"
     ]
    },
    {
     "name": "stderr",
     "output_type": "stream",
     "text": [
      "DEBUG:pymote.simulation:[MaxFind] Step 250 finished\n"
     ]
    },
    {
     "name": "stdout",
     "output_type": "stream",
     "text": [
      "DEBUG   [simulation.py]: [MaxFind] Step 251 finished\n"
     ]
    },
    {
     "name": "stderr",
     "output_type": "stream",
     "text": [
      "DEBUG:pymote.simulation:[MaxFind] Step 251 finished\n"
     ]
    },
    {
     "name": "stdout",
     "output_type": "stream",
     "text": [
      "DEBUG   [simulation.py]: [MaxFind] Step 252 finished\n"
     ]
    },
    {
     "name": "stderr",
     "output_type": "stream",
     "text": [
      "DEBUG:pymote.simulation:[MaxFind] Step 252 finished\n"
     ]
    },
    {
     "name": "stdout",
     "output_type": "stream",
     "text": [
      "DEBUG   [simulation.py]: [MaxFind] Step 253 finished\n"
     ]
    },
    {
     "name": "stderr",
     "output_type": "stream",
     "text": [
      "DEBUG:pymote.simulation:[MaxFind] Step 253 finished\n"
     ]
    },
    {
     "name": "stdout",
     "output_type": "stream",
     "text": [
      "DEBUG   [simulation.py]: [MaxFind] Step 254 finished\n"
     ]
    },
    {
     "name": "stderr",
     "output_type": "stream",
     "text": [
      "DEBUG:pymote.simulation:[MaxFind] Step 254 finished\n"
     ]
    },
    {
     "name": "stdout",
     "output_type": "stream",
     "text": [
      "DEBUG   [simulation.py]: [MaxFind] Step 255 finished\n"
     ]
    },
    {
     "name": "stderr",
     "output_type": "stream",
     "text": [
      "DEBUG:pymote.simulation:[MaxFind] Step 255 finished\n"
     ]
    },
    {
     "name": "stdout",
     "output_type": "stream",
     "text": [
      "DEBUG   [simulation.py]: [MaxFind] Step 256 finished\n"
     ]
    },
    {
     "name": "stderr",
     "output_type": "stream",
     "text": [
      "DEBUG:pymote.simulation:[MaxFind] Step 256 finished\n"
     ]
    },
    {
     "name": "stdout",
     "output_type": "stream",
     "text": [
      "DEBUG   [simulation.py]: [MaxFind] Step 257 finished\n"
     ]
    },
    {
     "name": "stderr",
     "output_type": "stream",
     "text": [
      "DEBUG:pymote.simulation:[MaxFind] Step 257 finished\n"
     ]
    },
    {
     "name": "stdout",
     "output_type": "stream",
     "text": [
      "DEBUG   [simulation.py]: [MaxFind] Step 258 finished\n"
     ]
    },
    {
     "name": "stderr",
     "output_type": "stream",
     "text": [
      "DEBUG:pymote.simulation:[MaxFind] Step 258 finished\n"
     ]
    },
    {
     "name": "stdout",
     "output_type": "stream",
     "text": [
      "DEBUG   [simulation.py]: [MaxFind] Step 259 finished\n"
     ]
    },
    {
     "name": "stderr",
     "output_type": "stream",
     "text": [
      "DEBUG:pymote.simulation:[MaxFind] Step 259 finished\n"
     ]
    },
    {
     "name": "stdout",
     "output_type": "stream",
     "text": [
      "DEBUG   [simulation.py]: [MaxFind] Step 260 finished\n"
     ]
    },
    {
     "name": "stderr",
     "output_type": "stream",
     "text": [
      "DEBUG:pymote.simulation:[MaxFind] Step 260 finished\n"
     ]
    },
    {
     "name": "stdout",
     "output_type": "stream",
     "text": [
      "DEBUG   [simulation.py]: [MaxFind] Step 261 finished\n"
     ]
    },
    {
     "name": "stderr",
     "output_type": "stream",
     "text": [
      "DEBUG:pymote.simulation:[MaxFind] Step 261 finished\n"
     ]
    },
    {
     "name": "stdout",
     "output_type": "stream",
     "text": [
      "DEBUG   [simulation.py]: [MaxFind] Step 262 finished\n"
     ]
    },
    {
     "name": "stderr",
     "output_type": "stream",
     "text": [
      "DEBUG:pymote.simulation:[MaxFind] Step 262 finished\n"
     ]
    },
    {
     "name": "stdout",
     "output_type": "stream",
     "text": [
      "DEBUG   [simulation.py]: [MaxFind] Step 263 finished\n"
     ]
    },
    {
     "name": "stderr",
     "output_type": "stream",
     "text": [
      "DEBUG:pymote.simulation:[MaxFind] Step 263 finished\n"
     ]
    },
    {
     "name": "stdout",
     "output_type": "stream",
     "text": [
      "DEBUG   [simulation.py]: [MaxFind] Step 264 finished\n"
     ]
    },
    {
     "name": "stderr",
     "output_type": "stream",
     "text": [
      "DEBUG:pymote.simulation:[MaxFind] Step 264 finished\n"
     ]
    },
    {
     "name": "stdout",
     "output_type": "stream",
     "text": [
      "DEBUG   [simulation.py]: [MaxFind] Step 265 finished\n"
     ]
    },
    {
     "name": "stderr",
     "output_type": "stream",
     "text": [
      "DEBUG:pymote.simulation:[MaxFind] Step 265 finished\n"
     ]
    },
    {
     "name": "stdout",
     "output_type": "stream",
     "text": [
      "DEBUG   [simulation.py]: [MaxFind] Step 266 finished\n"
     ]
    },
    {
     "name": "stderr",
     "output_type": "stream",
     "text": [
      "DEBUG:pymote.simulation:[MaxFind] Step 266 finished\n"
     ]
    },
    {
     "name": "stdout",
     "output_type": "stream",
     "text": [
      "DEBUG   [simulation.py]: [MaxFind] Step 267 finished\n"
     ]
    },
    {
     "name": "stderr",
     "output_type": "stream",
     "text": [
      "DEBUG:pymote.simulation:[MaxFind] Step 267 finished\n"
     ]
    },
    {
     "name": "stdout",
     "output_type": "stream",
     "text": [
      "DEBUG   [simulation.py]: [MaxFind] Step 268 finished\n"
     ]
    },
    {
     "name": "stderr",
     "output_type": "stream",
     "text": [
      "DEBUG:pymote.simulation:[MaxFind] Step 268 finished\n"
     ]
    },
    {
     "name": "stdout",
     "output_type": "stream",
     "text": [
      "DEBUG   [simulation.py]: [MaxFind] Step 269 finished\n"
     ]
    },
    {
     "name": "stderr",
     "output_type": "stream",
     "text": [
      "DEBUG:pymote.simulation:[MaxFind] Step 269 finished\n"
     ]
    },
    {
     "name": "stdout",
     "output_type": "stream",
     "text": [
      "DEBUG   [simulation.py]: [MaxFind] Step 270 finished\n"
     ]
    },
    {
     "name": "stderr",
     "output_type": "stream",
     "text": [
      "DEBUG:pymote.simulation:[MaxFind] Step 270 finished\n"
     ]
    },
    {
     "name": "stdout",
     "output_type": "stream",
     "text": [
      "DEBUG   [simulation.py]: [MaxFind] Step 271 finished\n"
     ]
    },
    {
     "name": "stderr",
     "output_type": "stream",
     "text": [
      "DEBUG:pymote.simulation:[MaxFind] Step 271 finished\n"
     ]
    },
    {
     "name": "stdout",
     "output_type": "stream",
     "text": [
      "DEBUG   [simulation.py]: [MaxFind] Step 272 finished\n"
     ]
    },
    {
     "name": "stderr",
     "output_type": "stream",
     "text": [
      "DEBUG:pymote.simulation:[MaxFind] Step 272 finished\n"
     ]
    },
    {
     "name": "stdout",
     "output_type": "stream",
     "text": [
      "DEBUG   [simulation.py]: [MaxFind] Step 273 finished\n"
     ]
    },
    {
     "name": "stderr",
     "output_type": "stream",
     "text": [
      "DEBUG:pymote.simulation:[MaxFind] Step 273 finished\n"
     ]
    },
    {
     "name": "stdout",
     "output_type": "stream",
     "text": [
      "DEBUG   [simulation.py]: [MaxFind] Step 274 finished\n"
     ]
    },
    {
     "name": "stderr",
     "output_type": "stream",
     "text": [
      "DEBUG:pymote.simulation:[MaxFind] Step 274 finished\n"
     ]
    },
    {
     "name": "stdout",
     "output_type": "stream",
     "text": [
      "DEBUG   [simulation.py]: [MaxFind] Step 275 finished\n"
     ]
    },
    {
     "name": "stderr",
     "output_type": "stream",
     "text": [
      "DEBUG:pymote.simulation:[MaxFind] Step 275 finished\n"
     ]
    },
    {
     "name": "stdout",
     "output_type": "stream",
     "text": [
      "DEBUG   [simulation.py]: [MaxFind] Step 276 finished\n"
     ]
    },
    {
     "name": "stderr",
     "output_type": "stream",
     "text": [
      "DEBUG:pymote.simulation:[MaxFind] Step 276 finished\n"
     ]
    },
    {
     "name": "stdout",
     "output_type": "stream",
     "text": [
      "DEBUG   [simulation.py]: [MaxFind] Step 277 finished\n"
     ]
    },
    {
     "name": "stderr",
     "output_type": "stream",
     "text": [
      "DEBUG:pymote.simulation:[MaxFind] Step 277 finished\n"
     ]
    },
    {
     "name": "stdout",
     "output_type": "stream",
     "text": [
      "DEBUG   [simulation.py]: [MaxFind] Step 278 finished\n"
     ]
    },
    {
     "name": "stderr",
     "output_type": "stream",
     "text": [
      "DEBUG:pymote.simulation:[MaxFind] Step 278 finished\n"
     ]
    },
    {
     "name": "stdout",
     "output_type": "stream",
     "text": [
      "DEBUG   [simulation.py]: [MaxFind] Step 279 finished\n"
     ]
    },
    {
     "name": "stderr",
     "output_type": "stream",
     "text": [
      "DEBUG:pymote.simulation:[MaxFind] Step 279 finished\n"
     ]
    },
    {
     "name": "stdout",
     "output_type": "stream",
     "text": [
      "DEBUG   [simulation.py]: [MaxFind] Step 280 finished\n"
     ]
    },
    {
     "name": "stderr",
     "output_type": "stream",
     "text": [
      "DEBUG:pymote.simulation:[MaxFind] Step 280 finished\n"
     ]
    },
    {
     "name": "stdout",
     "output_type": "stream",
     "text": [
      "DEBUG   [simulation.py]: [MaxFind] Step 281 finished\n"
     ]
    },
    {
     "name": "stderr",
     "output_type": "stream",
     "text": [
      "DEBUG:pymote.simulation:[MaxFind] Step 281 finished\n"
     ]
    },
    {
     "name": "stdout",
     "output_type": "stream",
     "text": [
      "DEBUG   [simulation.py]: [MaxFind] Step 282 finished\n"
     ]
    },
    {
     "name": "stderr",
     "output_type": "stream",
     "text": [
      "DEBUG:pymote.simulation:[MaxFind] Step 282 finished\n"
     ]
    },
    {
     "name": "stdout",
     "output_type": "stream",
     "text": [
      "DEBUG   [simulation.py]: [MaxFind] Step 283 finished\n"
     ]
    },
    {
     "name": "stderr",
     "output_type": "stream",
     "text": [
      "DEBUG:pymote.simulation:[MaxFind] Step 283 finished\n"
     ]
    },
    {
     "name": "stdout",
     "output_type": "stream",
     "text": [
      "DEBUG   [simulation.py]: [MaxFind] Step 284 finished\n"
     ]
    },
    {
     "name": "stderr",
     "output_type": "stream",
     "text": [
      "DEBUG:pymote.simulation:[MaxFind] Step 284 finished\n"
     ]
    },
    {
     "name": "stdout",
     "output_type": "stream",
     "text": [
      "DEBUG   [simulation.py]: [MaxFind] Step 285 finished\n"
     ]
    },
    {
     "name": "stderr",
     "output_type": "stream",
     "text": [
      "DEBUG:pymote.simulation:[MaxFind] Step 285 finished\n"
     ]
    },
    {
     "name": "stdout",
     "output_type": "stream",
     "text": [
      "DEBUG   [simulation.py]: [MaxFind] Step 286 finished\n"
     ]
    },
    {
     "name": "stderr",
     "output_type": "stream",
     "text": [
      "DEBUG:pymote.simulation:[MaxFind] Step 286 finished\n"
     ]
    },
    {
     "name": "stdout",
     "output_type": "stream",
     "text": [
      "DEBUG   [simulation.py]: [MaxFind] Step 287 finished\n"
     ]
    },
    {
     "name": "stderr",
     "output_type": "stream",
     "text": [
      "DEBUG:pymote.simulation:[MaxFind] Step 287 finished\n"
     ]
    },
    {
     "name": "stdout",
     "output_type": "stream",
     "text": [
      "DEBUG   [simulation.py]: [MaxFind] Step 288 finished\n"
     ]
    },
    {
     "name": "stderr",
     "output_type": "stream",
     "text": [
      "DEBUG:pymote.simulation:[MaxFind] Step 288 finished\n"
     ]
    },
    {
     "name": "stdout",
     "output_type": "stream",
     "text": [
      "DEBUG   [simulation.py]: [MaxFind] Step 289 finished\n"
     ]
    },
    {
     "name": "stderr",
     "output_type": "stream",
     "text": [
      "DEBUG:pymote.simulation:[MaxFind] Step 289 finished\n"
     ]
    },
    {
     "name": "stdout",
     "output_type": "stream",
     "text": [
      "DEBUG   [simulation.py]: [MaxFind] Step 290 finished\n"
     ]
    },
    {
     "name": "stderr",
     "output_type": "stream",
     "text": [
      "DEBUG:pymote.simulation:[MaxFind] Step 290 finished\n"
     ]
    },
    {
     "name": "stdout",
     "output_type": "stream",
     "text": [
      "DEBUG   [simulation.py]: [MaxFind] Step 291 finished\n"
     ]
    },
    {
     "name": "stderr",
     "output_type": "stream",
     "text": [
      "DEBUG:pymote.simulation:[MaxFind] Step 291 finished\n"
     ]
    },
    {
     "name": "stdout",
     "output_type": "stream",
     "text": [
      "DEBUG   [simulation.py]: [MaxFind] Step 292 finished\n"
     ]
    },
    {
     "name": "stderr",
     "output_type": "stream",
     "text": [
      "DEBUG:pymote.simulation:[MaxFind] Step 292 finished\n"
     ]
    },
    {
     "name": "stdout",
     "output_type": "stream",
     "text": [
      "DEBUG   [simulation.py]: [MaxFind] Step 293 finished\n"
     ]
    },
    {
     "name": "stderr",
     "output_type": "stream",
     "text": [
      "DEBUG:pymote.simulation:[MaxFind] Step 293 finished\n"
     ]
    },
    {
     "name": "stdout",
     "output_type": "stream",
     "text": [
      "DEBUG   [simulation.py]: [MaxFind] Step 294 finished\n"
     ]
    },
    {
     "name": "stderr",
     "output_type": "stream",
     "text": [
      "DEBUG:pymote.simulation:[MaxFind] Step 294 finished\n"
     ]
    },
    {
     "name": "stdout",
     "output_type": "stream",
     "text": [
      "DEBUG   [simulation.py]: [MaxFind] Step 295 finished\n"
     ]
    },
    {
     "name": "stderr",
     "output_type": "stream",
     "text": [
      "DEBUG:pymote.simulation:[MaxFind] Step 295 finished\n"
     ]
    },
    {
     "name": "stdout",
     "output_type": "stream",
     "text": [
      "DEBUG   [simulation.py]: [MaxFind] Step 296 finished\n"
     ]
    },
    {
     "name": "stderr",
     "output_type": "stream",
     "text": [
      "DEBUG:pymote.simulation:[MaxFind] Step 296 finished\n"
     ]
    },
    {
     "name": "stdout",
     "output_type": "stream",
     "text": [
      "DEBUG   [simulation.py]: [MaxFind] Step 297 finished\n"
     ]
    },
    {
     "name": "stderr",
     "output_type": "stream",
     "text": [
      "DEBUG:pymote.simulation:[MaxFind] Step 297 finished\n"
     ]
    },
    {
     "name": "stdout",
     "output_type": "stream",
     "text": [
      "DEBUG   [simulation.py]: [MaxFind] Step 298 finished\n"
     ]
    },
    {
     "name": "stderr",
     "output_type": "stream",
     "text": [
      "DEBUG:pymote.simulation:[MaxFind] Step 298 finished\n"
     ]
    },
    {
     "name": "stdout",
     "output_type": "stream",
     "text": [
      "DEBUG   [simulation.py]: [MaxFind] Step 299 finished\n"
     ]
    },
    {
     "name": "stderr",
     "output_type": "stream",
     "text": [
      "DEBUG:pymote.simulation:[MaxFind] Step 299 finished\n"
     ]
    },
    {
     "name": "stdout",
     "output_type": "stream",
     "text": [
      "DEBUG   [simulation.py]: [MaxFind] Step 300 finished\n"
     ]
    },
    {
     "name": "stderr",
     "output_type": "stream",
     "text": [
      "DEBUG:pymote.simulation:[MaxFind] Step 300 finished\n"
     ]
    },
    {
     "name": "stdout",
     "output_type": "stream",
     "text": [
      "DEBUG   [simulation.py]: [MaxFind] Step 301 finished\n"
     ]
    },
    {
     "name": "stderr",
     "output_type": "stream",
     "text": [
      "DEBUG:pymote.simulation:[MaxFind] Step 301 finished\n"
     ]
    },
    {
     "name": "stdout",
     "output_type": "stream",
     "text": [
      "DEBUG   [simulation.py]: [MaxFind] Algorithm finished\n"
     ]
    },
    {
     "name": "stderr",
     "output_type": "stream",
     "text": [
      "DEBUG:pymote.simulation:[MaxFind] Algorithm finished\n"
     ]
    },
    {
     "name": "stdout",
     "output_type": "stream",
     "text": [
      "INFO    [simulation.py]: Simulation has finished. There are no algorithms left to run. To run it from the start use sim.reset().\n"
     ]
    },
    {
     "name": "stderr",
     "output_type": "stream",
     "text": [
      "INFO:pymote.simulation:Simulation has finished. There are no algorithms left to run. To run it from the start use sim.reset().\n"
     ]
    },
    {
     "name": "stdout",
     "output_type": "stream",
     "text": [
      "39\n",
      "{'Neighbors': [<Node id=1420>, <Node id=1356>, <Node id=1521>, <Node id=1272>, <Node id=1496>, <Node id=1488>, <Node id=1255>, <Node id=1080>, <Node id=1051>, <Node id=1269>, <Node id=1137>, <Node id=1412>, <Node id=1359>, <Node id=1296>, <Node id=1174>, <Node id=1087>, <Node id=1246>, <Node id=1102>, <Node id=1202>, <Node id=1170>, <Node id=1120>, <Node id=1401>, <Node id=1132>, <Node id=1171>, <Node id=1527>, <Node id=1058>, <Node id=1389>, <Node id=1358>, <Node id=1275>, <Node id=1449>, <Node id=1517>, <Node id=1126>, <Node id=1396>, <Node id=1520>, <Node id=1386>, <Node id=1509>, <Node id=1078>], 'Max': 39, 'Temperature': -8, 'msgKey': 397}\n",
      "FLOODING\n",
      "39\n",
      "{'Neighbors': [<Node id=1417>, <Node id=1365>, <Node id=1515>, <Node id=1348>, <Node id=1115>, <Node id=1221>, <Node id=1413>, <Node id=1380>, <Node id=1484>, <Node id=1522>, <Node id=1185>, <Node id=1539>, <Node id=1426>, <Node id=1523>, <Node id=1057>, <Node id=1422>, <Node id=1308>, <Node id=1258>, <Node id=1273>, <Node id=1513>, <Node id=1050>, <Node id=1489>, <Node id=1410>, <Node id=1166>, <Node id=1443>, <Node id=1349>, <Node id=1168>, <Node id=1147>, <Node id=1085>, <Node id=1528>, <Node id=1469>, <Node id=1262>, <Node id=1440>, <Node id=1146>, <Node id=1441>, <Node id=1320>, <Node id=1327>, <Node id=1415>, <Node id=1251>, <Node id=1226>, <Node id=1156>, <Node id=1303>, <Node id=1354>, <Node id=1367>], 'Max': 39, 'Temperature': 27, 'msgKey': 259}\n",
      "FLOODING\n",
      "39\n",
      "{'Neighbors': [<Node id=1253>, <Node id=1086>, <Node id=1127>, <Node id=1368>, <Node id=1381>, <Node id=1195>, <Node id=1280>, <Node id=1192>, <Node id=1287>, <Node id=1281>, <Node id=1176>, <Node id=1218>, <Node id=1075>, <Node id=1162>, <Node id=1270>, <Node id=1245>, <Node id=1423>, <Node id=1179>, <Node id=1130>, <Node id=1072>, <Node id=1434>, <Node id=1083>, <Node id=1207>, <Node id=1079>, <Node id=1263>, <Node id=1480>, <Node id=1366>, <Node id=1498>, <Node id=1430>, <Node id=1133>], 'Max': 39, 'Temperature': -4, 'msgKey': 204}\n",
      "FLOODING\n",
      "39\n",
      "{'Neighbors': [<Node id=1411>, <Node id=1458>, <Node id=1071>, <Node id=1116>, <Node id=1424>, <Node id=1106>, <Node id=1311>, <Node id=1175>, <Node id=1252>, <Node id=1088>, <Node id=1362>, <Node id=1286>, <Node id=1236>, <Node id=1064>, <Node id=1237>, <Node id=1068>, <Node id=1301>, <Node id=1144>, <Node id=1335>, <Node id=1204>, <Node id=1266>, <Node id=1199>], 'Max': 39, 'Temperature': -4, 'msgKey': 127}\n",
      "FLOODING\n",
      "39\n",
      "{'Neighbors': [<Node id=1160>, <Node id=1415>, <Node id=1431>, <Node id=1515>, <Node id=1533>, <Node id=1047>, <Node id=1145>, <Node id=1258>, <Node id=1367>, <Node id=1131>, <Node id=1185>, <Node id=1510>, <Node id=1413>, <Node id=1405>, <Node id=1244>, <Node id=1422>, <Node id=1140>, <Node id=1448>, <Node id=1205>, <Node id=1169>, <Node id=1121>, <Node id=1168>, <Node id=1273>, <Node id=1221>, <Node id=1489>, <Node id=1374>, <Node id=1101>, <Node id=1147>, <Node id=1085>, <Node id=1197>, <Node id=1454>, <Node id=1181>, <Node id=1262>, <Node id=1224>, <Node id=1442>, <Node id=1441>, <Node id=1365>, <Node id=1492>, <Node id=1100>, <Node id=1251>, <Node id=1159>, <Node id=1426>, <Node id=1277>, <Node id=1115>, <Node id=1354>, <Node id=1350>], 'Max': 39, 'Temperature': -14, 'msgKey': 181}\n",
      "FLOODING\n",
      "39\n",
      "{'Neighbors': [<Node id=1061>, <Node id=1420>, <Node id=1482>, <Node id=1164>, <Node id=1521>, <Node id=1488>, <Node id=1046>, <Node id=1255>, <Node id=1344>, <Node id=1231>, <Node id=1163>, <Node id=1412>, <Node id=1309>, <Node id=1284>, <Node id=1386>, <Node id=1272>, <Node id=1401>, <Node id=1132>, <Node id=1514>, <Node id=1171>, <Node id=1527>, <Node id=1212>, <Node id=1210>, <Node id=1058>, <Node id=1358>, <Node id=1517>, <Node id=1225>, <Node id=1291>, <Node id=1396>, <Node id=1520>, <Node id=1509>, <Node id=1078>, <Node id=1496>], 'Max': 39, 'Temperature': 7, 'msgKey': 225}\n",
      "FLOODING\n",
      "39\n",
      "{'Neighbors': [<Node id=1418>, <Node id=1106>, <Node id=1180>, <Node id=1242>, <Node id=1504>, <Node id=1076>, <Node id=1283>, <Node id=1151>, <Node id=1499>, <Node id=1335>, <Node id=1107>, <Node id=1222>, <Node id=1088>, <Node id=1362>, <Node id=1427>, <Node id=1540>, <Node id=1248>, <Node id=1506>, <Node id=1070>, <Node id=1143>, <Node id=1189>, <Node id=1068>, <Node id=1390>, <Node id=1468>, <Node id=1424>, <Node id=1391>, <Node id=1157>, <Node id=1290>, <Node id=1266>, <Node id=1199>], 'Max': 39, 'Temperature': -8, 'msgKey': 117}\n",
      "FLOODING\n",
      "39\n",
      "{'Neighbors': [<Node id=1237>, <Node id=1074>, <Node id=1204>, <Node id=1150>, <Node id=1229>, <Node id=1511>, <Node id=1178>, <Node id=1481>, <Node id=1311>, <Node id=1077>, <Node id=1286>, <Node id=1198>, <Node id=1541>, <Node id=1153>, <Node id=1095>, <Node id=1236>, <Node id=1433>, <Node id=1393>, <Node id=1064>, <Node id=1429>, <Node id=1054>], 'Max': 39, 'Temperature': 22, 'msgKey': 121}\n",
      "FLOODING\n",
      "39\n",
      "{'Neighbors': [<Node id=1511>, <Node id=1236>, <Node id=1229>, <Node id=1541>, <Node id=1433>, <Node id=1150>, <Node id=1409>, <Node id=1077>, <Node id=1335>, <Node id=1107>, <Node id=1074>, <Node id=1178>, <Node id=1088>, <Node id=1286>, <Node id=1198>, <Node id=1095>, <Node id=1363>, <Node id=1465>, <Node id=1427>, <Node id=1339>, <Node id=1237>, <Node id=1153>, <Node id=1250>, <Node id=1545>, <Node id=1289>, <Node id=1429>, <Node id=1053>, <Node id=1204>, <Node id=1455>, <Node id=1393>, <Node id=1180>, <Node id=1240>], 'Max': 39, 'Temperature': 16, 'msgKey': 94}\n",
      "FLOODING\n",
      "39\n",
      "{'Neighbors': [<Node id=1228>, <Node id=1419>, <Node id=1216>, <Node id=1471>, <Node id=1092>, <Node id=1524>, <Node id=1397>, <Node id=1103>, <Node id=1376>, <Node id=1096>, <Node id=1473>, <Node id=1097>, <Node id=1208>, <Node id=1334>, <Node id=1436>, <Node id=1497>, <Node id=1191>, <Node id=1421>, <Node id=1544>, <Node id=1062>, <Node id=1502>, <Node id=1261>, <Node id=1136>, <Node id=1379>, <Node id=1059>, <Node id=1516>, <Node id=1485>, <Node id=1152>, <Node id=1184>, <Node id=1214>, <Node id=1342>, <Node id=1373>, <Node id=1315>, <Node id=1531>, <Node id=1065>, <Node id=1182>, <Node id=1265>, <Node id=1227>], 'Max': 39, 'Temperature': 27, 'msgKey': 186}\n",
      "FLOODING\n",
      "39\n",
      "{'Neighbors': [<Node id=1403>, <Node id=1110>, <Node id=1254>, <Node id=1216>, <Node id=1369>, <Node id=1404>, <Node id=1306>, <Node id=1268>, <Node id=1352>, <Node id=1345>, <Node id=1129>, <Node id=1385>, <Node id=1182>, <Node id=1149>, <Node id=1516>, <Node id=1220>, <Node id=1505>, <Node id=1233>, <Node id=1459>, <Node id=1283>, <Node id=1297>, <Node id=1476>, <Node id=1323>, <Node id=1387>, <Node id=1117>, <Node id=1419>, <Node id=1502>, <Node id=1451>, <Node id=1312>, <Node id=1477>, <Node id=1464>, <Node id=1161>, <Node id=1376>, <Node id=1400>, <Node id=1152>, <Node id=1519>, <Node id=1390>, <Node id=1314>, <Node id=1154>, <Node id=1391>, <Node id=1503>, <Node id=1531>, <Node id=1290>, <Node id=1259>, <Node id=1473>, <Node id=1494>], 'Max': 39, 'Temperature': 10, 'msgKey': 181}\n",
      "FLOODING\n",
      "39\n",
      "{'Neighbors': [<Node id=1539>, <Node id=1380>, <Node id=1431>, <Node id=1348>, <Node id=1292>, <Node id=1327>, <Node id=1443>, <Node id=1488>, <Node id=1255>, <Node id=1344>, <Node id=1522>, <Node id=1080>, <Node id=1401>, <Node id=1510>, <Node id=1413>, <Node id=1231>, <Node id=1405>, <Node id=1513>, <Node id=1359>, <Node id=1258>, <Node id=1296>, <Node id=1309>, <Node id=1087>, <Node id=1440>, <Node id=1273>, <Node id=1386>, <Node id=1221>, <Node id=1489>, <Node id=1272>, <Node id=1285>, <Node id=1349>, <Node id=1101>, <Node id=1147>, <Node id=1299>, <Node id=1197>, <Node id=1262>, <Node id=1358>, <Node id=1146>, <Node id=1047>, <Node id=1415>, <Node id=1159>, <Node id=1085>, <Node id=1235>, <Node id=1115>, <Node id=1316>], 'Max': 39, 'Temperature': 28, 'msgKey': 265}\n",
      "FLOODING\n",
      "39\n",
      "{'Neighbors': [<Node id=1061>, <Node id=1420>, <Node id=1482>, <Node id=1164>, <Node id=1521>, <Node id=1488>, <Node id=1046>, <Node id=1255>, <Node id=1344>, <Node id=1517>, <Node id=1051>, <Node id=1231>, <Node id=1137>, <Node id=1163>, <Node id=1412>, <Node id=1359>, <Node id=1284>, <Node id=1386>, <Node id=1272>, <Node id=1401>, <Node id=1132>, <Node id=1514>, <Node id=1120>, <Node id=1527>, <Node id=1212>, <Node id=1210>, <Node id=1358>, <Node id=1269>, <Node id=1225>, <Node id=1291>, <Node id=1396>, <Node id=1520>, <Node id=1171>, <Node id=1509>, <Node id=1078>, <Node id=1496>], 'Max': 39, 'Temperature': 16, 'msgKey': 246}\n",
      "FLOODING\n",
      "39\n",
      "{'Neighbors': [<Node id=1228>, <Node id=1110>, <Node id=1419>, <Node id=1216>, <Node id=1471>, <Node id=1208>, <Node id=1397>, <Node id=1103>, <Node id=1403>, <Node id=1485>, <Node id=1129>, <Node id=1473>, <Node id=1182>, <Node id=1283>, <Node id=1516>, <Node id=1065>, <Node id=1360>, <Node id=1191>, <Node id=1421>, <Node id=1387>, <Node id=1505>, <Node id=1062>, <Node id=1502>, <Node id=1451>, <Node id=1092>, <Node id=1055>, <Node id=1376>, <Node id=1143>, <Node id=1152>, <Node id=1184>, <Node id=1314>, <Node id=1342>, <Node id=1373>, <Node id=1315>, <Node id=1531>, <Node id=1352>, <Node id=1379>, <Node id=1265>, <Node id=1227>, <Node id=1136>], 'Max': 39, 'Temperature': 15, 'msgKey': 352}\n",
      "FLOODING\n",
      "39\n",
      "{'Neighbors': [<Node id=1456>, <Node id=1238>, <Node id=1187>, <Node id=1330>, <Node id=1139>, <Node id=1343>, <Node id=1483>, <Node id=1234>, <Node id=1368>, <Node id=1073>, <Node id=1230>, <Node id=1535>, <Node id=1406>, <Node id=1135>, <Node id=1254>, <Node id=1537>, <Node id=1089>, <Node id=1096>, <Node id=1536>, <Node id=1371>, <Node id=1336>, <Node id=1524>, <Node id=1108>, <Node id=1461>, <Node id=1512>, <Node id=1322>, <Node id=1373>, <Node id=1213>, <Node id=1067>, <Node id=1247>, <Node id=1525>, <Node id=1260>, <Node id=1069>, <Node id=1099>, <Node id=1148>, <Node id=1542>, <Node id=1124>, <Node id=1223>, <Node id=1444>, <Node id=1066>, <Node id=1081>, <Node id=1079>, <Node id=1313>, <Node id=1304>, <Node id=1529>, <Node id=1288>, <Node id=1307>, <Node id=1203>, <Node id=1122>, <Node id=1112>, <Node id=1318>, <Node id=1493>, <Node id=1544>, <Node id=1278>, <Node id=1357>, <Node id=1165>], 'Max': 39, 'Temperature': 29, 'msgKey': 111}\n",
      "FLOODING\n",
      "39\n",
      "{'Neighbors': [<Node id=1257>, <Node id=1058>, <Node id=1356>, <Node id=1267>, <Node id=1507>, <Node id=1098>, <Node id=1420>, <Node id=1051>, <Node id=1119>, <Node id=1269>, <Node id=1520>, <Node id=1518>, <Node id=1163>, <Node id=1432>, <Node id=1372>, <Node id=1111>, <Node id=1194>, <Node id=1132>, <Node id=1407>, <Node id=1171>, <Node id=1527>, <Node id=1324>, <Node id=1210>, <Node id=1094>, <Node id=1514>, <Node id=1249>, <Node id=1521>, <Node id=1463>, <Node id=1428>, <Node id=1225>, <Node id=1517>, <Node id=1082>, <Node id=1264>, <Node id=1239>, <Node id=1256>, <Node id=1317>, <Node id=1509>, <Node id=1496>], 'Max': 39, 'Temperature': -13, 'msgKey': 371}\n",
      "FLOODING\n",
      "39\n",
      "{'Neighbors': [<Node id=1228>, <Node id=1254>, <Node id=1059>, <Node id=1485>, <Node id=1318>, <Node id=1471>, <Node id=1073>, <Node id=1505>, <Node id=1397>, <Node id=1103>, <Node id=1376>, <Node id=1096>, <Node id=1129>, <Node id=1097>, <Node id=1208>, <Node id=1108>, <Node id=1315>, <Node id=1220>, <Node id=1436>, <Node id=1525>, <Node id=1497>, <Node id=1524>, <Node id=1373>, <Node id=1421>, <Node id=1336>, <Node id=1387>, <Node id=1544>, <Node id=1419>, <Node id=1451>, <Node id=1092>, <Node id=1055>, <Node id=1379>, <Node id=1216>, <Node id=1516>, <Node id=1313>, <Node id=1152>, <Node id=1542>, <Node id=1334>, <Node id=1214>, <Node id=1154>, <Node id=1065>, <Node id=1531>, <Node id=1314>, <Node id=1182>, <Node id=1265>, <Node id=1473>, <Node id=1136>], 'Max': 39, 'Temperature': 30, 'msgKey': 185}\n",
      "FLOODING\n",
      "39\n",
      "{'Neighbors': [<Node id=1507>, <Node id=1138>, <Node id=1190>, <Node id=1495>, <Node id=1356>, <Node id=1215>, <Node id=1526>, <Node id=1382>, <Node id=1114>, <Node id=1447>, <Node id=1196>, <Node id=1134>, <Node id=1302>, <Node id=1295>, <Node id=1432>, <Node id=1219>, <Node id=1186>, <Node id=1209>, <Node id=1271>, <Node id=1119>, <Node id=1408>, <Node id=1425>, <Node id=1375>, <Node id=1399>, <Node id=1487>, <Node id=1325>, <Node id=1249>, <Node id=1435>, <Node id=1478>, <Node id=1428>, <Node id=1276>, <Node id=1082>, <Node id=1530>, <Node id=1340>, <Node id=1264>, <Node id=1300>, <Node id=1353>, <Node id=1239>, <Node id=1470>, <Node id=1394>, <Node id=1452>], 'Max': 39, 'Temperature': 36, 'msgKey': 121}\n",
      "FLOODING\n",
      "39\n",
      "{'Neighbors': [<Node id=1106>, <Node id=1074>, <Node id=1150>, <Node id=1236>, <Node id=1237>, <Node id=1458>, <Node id=1424>, <Node id=1088>, <Node id=1362>, <Node id=1286>, <Node id=1266>, <Node id=1335>, <Node id=1049>, <Node id=1116>, <Node id=1311>, <Node id=1053>, <Node id=1252>, <Node id=1204>, <Node id=1180>, <Node id=1071>, <Node id=1199>], 'Max': 39, 'Temperature': 4, 'msgKey': 81}\n",
      "FLOODING\n",
      "39\n",
      "{'Neighbors': [<Node id=1228>, <Node id=1110>, <Node id=1419>, <Node id=1216>, <Node id=1471>, <Node id=1208>, <Node id=1397>, <Node id=1103>, <Node id=1485>, <Node id=1473>, <Node id=1182>, <Node id=1283>, <Node id=1516>, <Node id=1436>, <Node id=1360>, <Node id=1191>, <Node id=1421>, <Node id=1387>, <Node id=1505>, <Node id=1062>, <Node id=1502>, <Node id=1092>, <Node id=1055>, <Node id=1059>, <Node id=1143>, <Node id=1152>, <Node id=1184>, <Node id=1352>, <Node id=1342>, <Node id=1373>, <Node id=1315>, <Node id=1531>, <Node id=1214>, <Node id=1379>, <Node id=1265>, <Node id=1227>, <Node id=1136>], 'Max': 39, 'Temperature': 4, 'msgKey': 289}\n",
      "FLOODING\n",
      "39\n",
      "{'Neighbors': [<Node id=1434>, <Node id=1086>, <Node id=1330>, <Node id=1254>, <Node id=1280>, <Node id=1232>, <Node id=1535>, <Node id=1135>, <Node id=1081>, <Node id=1075>, <Node id=1060>, <Node id=1149>, <Node id=1461>, <Node id=1519>, <Node id=1459>, <Node id=1161>, <Node id=1368>, <Node id=1072>, <Node id=1099>, <Node id=1124>, <Node id=1223>, <Node id=1083>, <Node id=1287>, <Node id=1457>, <Node id=1079>, <Node id=1351>, <Node id=1529>, <Node id=1430>, <Node id=1307>, <Node id=1203>, <Node id=1154>, <Node id=1480>, <Node id=1366>, <Node id=1173>, <Node id=1165>, <Node id=1357>, <Node id=1278>], 'Max': 39, 'Temperature': -1, 'msgKey': 109}\n",
      "FLOODING\n",
      "39\n",
      "{'Neighbors': [<Node id=1187>, <Node id=1355>, <Node id=1330>, <Node id=1139>, <Node id=1483>, <Node id=1145>, <Node id=1331>, <Node id=1525>, <Node id=1073>, <Node id=1123>, <Node id=1230>, <Node id=1406>, <Node id=1135>, <Node id=1537>, <Node id=1089>, <Node id=1096>, <Node id=1060>, <Node id=1371>, <Node id=1336>, <Node id=1097>, <Node id=1524>, <Node id=1108>, <Node id=1398>, <Node id=1512>, <Node id=1322>, <Node id=1497>, <Node id=1373>, <Node id=1213>, <Node id=1234>, <Node id=1350>, <Node id=1247>, <Node id=1148>, <Node id=1099>, <Node id=1542>, <Node id=1124>, <Node id=1223>, <Node id=1274>, <Node id=1313>, <Node id=1304>, <Node id=1529>, <Node id=1288>, <Node id=1238>, <Node id=1112>, <Node id=1378>, <Node id=1318>, <Node id=1493>, <Node id=1544>, <Node id=1500>, <Node id=1444>, <Node id=1357>, <Node id=1165>], 'Max': 39, 'Temperature': -4, 'msgKey': 251}\n",
      "FLOODING\n",
      "39\n",
      "{'Neighbors': [<Node id=1052>, <Node id=1418>, <Node id=1106>, <Node id=1458>, <Node id=1180>, <Node id=1049>, <Node id=1242>, <Node id=1150>, <Node id=1283>, <Node id=1499>, <Node id=1116>, <Node id=1360>, <Node id=1335>, <Node id=1107>, <Node id=1222>, <Node id=1088>, <Node id=1362>, <Node id=1427>, <Node id=1286>, <Node id=1248>, <Node id=1070>, <Node id=1540>, <Node id=1143>, <Node id=1504>, <Node id=1237>, <Node id=1189>, <Node id=1468>, <Node id=1424>, <Node id=1391>, <Node id=1157>, <Node id=1151>, <Node id=1266>, <Node id=1199>], 'Max': 39, 'Temperature': 35, 'msgKey': 129}\n",
      "FLOODING\n",
      "39\n",
      "{'Neighbors': [<Node id=1456>, <Node id=1384>, <Node id=1187>, <Node id=1091>, <Node id=1330>, <Node id=1508>, <Node id=1343>, <Node id=1483>, <Node id=1498>, <Node id=1338>, <Node id=1230>, <Node id=1453>, <Node id=1243>, <Node id=1536>, <Node id=1294>, <Node id=1444>, <Node id=1089>, <Node id=1060>, <Node id=1371>, <Node id=1130>, <Node id=1206>, <Node id=1537>, <Node id=1442>, <Node id=1423>, <Node id=1474>, <Node id=1167>, <Node id=1370>, <Node id=1213>, <Node id=1437>, <Node id=1234>, <Node id=1450>, <Node id=1247>, <Node id=1260>, <Node id=1148>, <Node id=1099>, <Node id=1402>, <Node id=1307>, <Node id=1475>, <Node id=1322>, <Node id=1538>, <Node id=1200>, <Node id=1288>, <Node id=1479>, <Node id=1122>, <Node id=1112>, <Node id=1406>, <Node id=1493>, <Node id=1328>, <Node id=1341>, <Node id=1310>, <Node id=1158>, <Node id=1165>], 'Max': 39, 'Temperature': 35, 'msgKey': 103}\n",
      "FLOODING\n",
      "39\n",
      "{'Neighbors': [<Node id=1052>, <Node id=1418>, <Node id=1151>, <Node id=1241>, <Node id=1506>, <Node id=1242>, <Node id=1217>, <Node id=1076>, <Node id=1411>, <Node id=1499>, <Node id=1424>, <Node id=1106>, <Node id=1222>, <Node id=1175>, <Node id=1088>, <Node id=1362>, <Node id=1540>, <Node id=1248>, <Node id=1118>, <Node id=1252>, <Node id=1113>, <Node id=1504>, <Node id=1068>, <Node id=1189>, <Node id=1144>, <Node id=1468>, <Node id=1391>, <Node id=1157>, <Node id=1290>, <Node id=1266>, <Node id=1199>], 'Max': 39, 'Temperature': 37, 'msgKey': 91}\n",
      "FLOODING\n",
      "39\n",
      "{'Neighbors': [<Node id=1106>, <Node id=1311>, <Node id=1204>, <Node id=1175>, <Node id=1301>, <Node id=1144>, <Node id=1458>, <Node id=1424>, <Node id=1088>, <Node id=1411>, <Node id=1362>, <Node id=1286>, <Node id=1266>, <Node id=1049>, <Node id=1116>, <Node id=1236>, <Node id=1237>, <Node id=1252>, <Node id=1064>, <Node id=1335>, <Node id=1199>], 'Max': 39, 'Temperature': -13, 'msgKey': 121}\n",
      "FLOODING\n",
      "39\n",
      "{'Neighbors': [<Node id=1253>, <Node id=1086>, <Node id=1368>, <Node id=1461>, <Node id=1280>, <Node id=1287>, <Node id=1081>, <Node id=1165>, <Node id=1135>, <Node id=1307>, <Node id=1075>, <Node id=1162>, <Node id=1232>, <Node id=1245>, <Node id=1423>, <Node id=1519>, <Node id=1480>, <Node id=1179>, <Node id=1457>, <Node id=1130>, <Node id=1535>, <Node id=1434>, <Node id=1223>, <Node id=1083>, <Node id=1207>, <Node id=1066>, <Node id=1079>, <Node id=1351>, <Node id=1529>, <Node id=1430>, <Node id=1203>, <Node id=1048>, <Node id=1366>, <Node id=1173>, <Node id=1278>, <Node id=1133>], 'Max': 39, 'Temperature': 3, 'msgKey': 106}\n",
      "FLOODING\n",
      "39\n",
      "{'Neighbors': [<Node id=1238>, <Node id=1304>, <Node id=1330>, <Node id=1139>, <Node id=1529>, <Node id=1318>, <Node id=1471>, <Node id=1357>, <Node id=1535>, <Node id=1135>, <Node id=1254>, <Node id=1103>, <Node id=1096>, <Node id=1060>, <Node id=1371>, <Node id=1097>, <Node id=1149>, <Node id=1108>, <Node id=1461>, <Node id=1220>, <Node id=1525>, <Node id=1459>, <Node id=1524>, <Node id=1373>, <Node id=1512>, <Node id=1067>, <Node id=1336>, <Node id=1099>, <Node id=1062>, <Node id=1124>, <Node id=1223>, <Node id=1376>, <Node id=1313>, <Node id=1152>, <Node id=1542>, <Node id=1203>, <Node id=1129>, <Node id=1154>, <Node id=1315>, <Node id=1544>, <Node id=1278>, <Node id=1165>], 'Max': 39, 'Temperature': -2, 'msgKey': 165}\n",
      "FLOODING\n",
      "39\n",
      "{'Neighbors': [<Node id=1054>, <Node id=1229>, <Node id=1541>, <Node id=1433>, <Node id=1150>, <Node id=1511>, <Node id=1077>, <Node id=1178>, <Node id=1286>, <Node id=1198>, <Node id=1095>, <Node id=1236>, <Node id=1465>, <Node id=1064>, <Node id=1237>, <Node id=1153>, <Node id=1250>, <Node id=1201>, <Node id=1429>, <Node id=1053>, <Node id=1204>, <Node id=1455>, <Node id=1393>, <Node id=1481>, <Node id=1240>], 'Max': 39, 'Temperature': -11, 'msgKey': 193}\n",
      "FLOODING\n",
      "39\n",
      "{'Neighbors': [<Node id=1253>, <Node id=1086>, <Node id=1368>, <Node id=1461>, <Node id=1280>, <Node id=1287>, <Node id=1081>, <Node id=1535>, <Node id=1133>, <Node id=1307>, <Node id=1162>, <Node id=1232>, <Node id=1245>, <Node id=1423>, <Node id=1519>, <Node id=1480>, <Node id=1179>, <Node id=1457>, <Node id=1130>, <Node id=1072>, <Node id=1434>, <Node id=1223>, <Node id=1083>, <Node id=1207>, <Node id=1066>, <Node id=1079>, <Node id=1351>, <Node id=1529>, <Node id=1430>, <Node id=1203>, <Node id=1048>, <Node id=1366>, <Node id=1173>, <Node id=1165>, <Node id=1278>], 'Max': 39, 'Temperature': -10, 'msgKey': 137}\n",
      "FLOODING\n",
      "39\n",
      "{'Neighbors': [<Node id=1106>, <Node id=1052>, <Node id=1499>, <Node id=1175>, <Node id=1144>, <Node id=1468>, <Node id=1418>, <Node id=1241>, <Node id=1411>, <Node id=1506>, <Node id=1118>, <Node id=1151>, <Node id=1070>, <Node id=1301>, <Node id=1252>, <Node id=1189>], 'Max': 39, 'Temperature': 38, 'msgKey': 31}\n",
      "FLOODING\n",
      "39\n",
      "{'Neighbors': [<Node id=1511>, <Node id=1054>, <Node id=1363>, <Node id=1180>, <Node id=1229>, <Node id=1541>, <Node id=1433>, <Node id=1150>, <Node id=1409>, <Node id=1191>, <Node id=1107>, <Node id=1074>, <Node id=1178>, <Node id=1088>, <Node id=1286>, <Node id=1198>, <Node id=1184>, <Node id=1095>, <Node id=1236>, <Node id=1465>, <Node id=1427>, <Node id=1339>, <Node id=1237>, <Node id=1153>, <Node id=1250>, <Node id=1545>, <Node id=1289>, <Node id=1335>, <Node id=1429>, <Node id=1053>, <Node id=1204>, <Node id=1455>, <Node id=1393>, <Node id=1227>, <Node id=1240>], 'Max': 39, 'Temperature': -12, 'msgKey': 205}\n",
      "FLOODING\n",
      "39\n",
      "{'Neighbors': [<Node id=1420>, <Node id=1521>, <Node id=1272>, <Node id=1046>, <Node id=1488>, <Node id=1255>, <Node id=1344>, <Node id=1080>, <Node id=1401>, <Node id=1051>, <Node id=1269>, <Node id=1137>, <Node id=1412>, <Node id=1359>, <Node id=1296>, <Node id=1174>, <Node id=1087>, <Node id=1246>, <Node id=1102>, <Node id=1202>, <Node id=1170>, <Node id=1120>, <Node id=1285>, <Node id=1132>, <Node id=1171>, <Node id=1527>, <Node id=1058>, <Node id=1389>, <Node id=1358>, <Node id=1275>, <Node id=1449>, <Node id=1517>, <Node id=1126>, <Node id=1396>, <Node id=1520>, <Node id=1386>, <Node id=1509>, <Node id=1496>], 'Max': 39, 'Temperature': 8, 'msgKey': 260}\n",
      "FLOODING\n",
      "39\n",
      "{'Neighbors': [<Node id=1434>, <Node id=1187>, <Node id=1430>, <Node id=1330>, <Node id=1461>, <Node id=1343>, <Node id=1280>, <Node id=1498>, <Node id=1081>, <Node id=1535>, <Node id=1135>, <Node id=1307>, <Node id=1075>, <Node id=1060>, <Node id=1371>, <Node id=1130>, <Node id=1232>, <Node id=1456>, <Node id=1245>, <Node id=1423>, <Node id=1519>, <Node id=1167>, <Node id=1179>, <Node id=1368>, <Node id=1247>, <Node id=1260>, <Node id=1072>, <Node id=1099>, <Node id=1124>, <Node id=1223>, <Node id=1083>, <Node id=1287>, <Node id=1066>, <Node id=1457>, <Node id=1529>, <Node id=1406>, <Node id=1203>, <Node id=1122>, <Node id=1112>, <Node id=1048>, <Node id=1536>, <Node id=1479>, <Node id=1278>, <Node id=1357>, <Node id=1165>], 'Max': 39, 'Temperature': 31, 'msgKey': 89}\n",
      "FLOODING\n",
      "39\n",
      "{'Neighbors': [<Node id=1405>, <Node id=1420>, <Node id=1292>, <Node id=1327>, <Node id=1488>, <Node id=1046>, <Node id=1255>, <Node id=1344>, <Node id=1378>, <Node id=1412>, <Node id=1401>, <Node id=1358>, <Node id=1057>, <Node id=1346>, <Node id=1359>, <Node id=1258>, <Node id=1296>, <Node id=1347>, <Node id=1087>, <Node id=1246>, <Node id=1202>, <Node id=1170>, <Node id=1272>, <Node id=1285>, <Node id=1132>, <Node id=1120>, <Node id=1101>, <Node id=1395>, <Node id=1398>, <Node id=1299>, <Node id=1197>, <Node id=1440>, <Node id=1449>, <Node id=1137>, <Node id=1126>, <Node id=1316>, <Node id=1159>, <Node id=1261>, <Node id=1520>, <Node id=1386>, <Node id=1078>], 'Max': 39, 'Temperature': 0, 'msgKey': 241}\n",
      "FLOODING\n",
      "39\n",
      "{'Neighbors': [<Node id=1434>, <Node id=1187>, <Node id=1430>, <Node id=1330>, <Node id=1254>, <Node id=1280>, <Node id=1498>, <Node id=1357>, <Node id=1535>, <Node id=1135>, <Node id=1307>, <Node id=1075>, <Node id=1060>, <Node id=1371>, <Node id=1130>, <Node id=1232>, <Node id=1456>, <Node id=1461>, <Node id=1423>, <Node id=1519>, <Node id=1167>, <Node id=1179>, <Node id=1368>, <Node id=1247>, <Node id=1260>, <Node id=1072>, <Node id=1099>, <Node id=1124>, <Node id=1223>, <Node id=1083>, <Node id=1287>, <Node id=1066>, <Node id=1457>, <Node id=1079>, <Node id=1529>, <Node id=1406>, <Node id=1203>, <Node id=1122>, <Node id=1112>, <Node id=1536>, <Node id=1479>, <Node id=1278>, <Node id=1165>], 'Max': 39, 'Temperature': 36, 'msgKey': 85}\n",
      "FLOODING\n",
      "39\n",
      "{'Neighbors': [<Node id=1063>, <Node id=1138>, <Node id=1061>, <Node id=1495>, <Node id=1356>, <Node id=1215>, <Node id=1507>, <Node id=1098>, <Node id=1114>, <Node id=1196>, <Node id=1134>, <Node id=1447>, <Node id=1295>, <Node id=1432>, <Node id=1372>, <Node id=1209>, <Node id=1119>, <Node id=1425>, <Node id=1407>, <Node id=1111>, <Node id=1375>, <Node id=1399>, <Node id=1094>, <Node id=1325>, <Node id=1249>, <Node id=1478>, <Node id=1463>, <Node id=1267>, <Node id=1276>, <Node id=1264>, <Node id=1257>, <Node id=1239>, <Node id=1518>, <Node id=1394>, <Node id=1428>, <Node id=1496>], 'Max': 39, 'Temperature': 6, 'msgKey': 281}\n",
      "FLOODING\n",
      "39\n",
      "{'Neighbors': [<Node id=1253>, <Node id=1086>, <Node id=1368>, <Node id=1280>, <Node id=1287>, <Node id=1081>, <Node id=1434>, <Node id=1075>, <Node id=1162>, <Node id=1232>, <Node id=1245>, <Node id=1480>, <Node id=1179>, <Node id=1457>, <Node id=1130>, <Node id=1072>, <Node id=1207>, <Node id=1066>, <Node id=1079>, <Node id=1351>, <Node id=1263>, <Node id=1203>, <Node id=1048>, <Node id=1366>, <Node id=1173>, <Node id=1430>, <Node id=1133>], 'Max': 39, 'Temperature': 2, 'msgKey': 157}\n",
      "FLOODING\n",
      "39\n",
      "{'Neighbors': [<Node id=1160>, <Node id=1492>, <Node id=1515>, <Node id=1091>, <Node id=1533>, <Node id=1140>, <Node id=1243>, <Node id=1294>, <Node id=1200>, <Node id=1244>, <Node id=1384>, <Node id=1206>, <Node id=1448>, <Node id=1205>, <Node id=1169>, <Node id=1121>, <Node id=1538>, <Node id=1310>, <Node id=1475>, <Node id=1361>, <Node id=1374>, <Node id=1474>, <Node id=1388>, <Node id=1181>, <Node id=1338>, <Node id=1224>, <Node id=1444>, <Node id=1441>, <Node id=1172>, <Node id=1100>, <Node id=1131>, <Node id=1442>, <Node id=1277>, <Node id=1328>, <Node id=1341>, <Node id=1213>, <Node id=1177>], 'Max': 39, 'Temperature': 32, 'msgKey': 109}\n",
      "FLOODING\n",
      "39\n",
      "{'Neighbors': [<Node id=1417>, <Node id=1365>, <Node id=1221>, <Node id=1327>, <Node id=1443>, <Node id=1293>, <Node id=1205>, <Node id=1522>, <Node id=1185>, <Node id=1539>, <Node id=1510>, <Node id=1413>, <Node id=1057>, <Node id=1244>, <Node id=1422>, <Node id=1543>, <Node id=1448>, <Node id=1258>, <Node id=1169>, <Node id=1168>, <Node id=1273>, <Node id=1513>, <Node id=1050>, <Node id=1489>, <Node id=1166>, <Node id=1374>, <Node id=1349>, <Node id=1101>, <Node id=1147>, <Node id=1426>, <Node id=1197>, <Node id=1528>, <Node id=1469>, <Node id=1262>, <Node id=1440>, <Node id=1146>, <Node id=1441>, <Node id=1320>, <Node id=1047>, <Node id=1415>, <Node id=1251>, <Node id=1515>, <Node id=1115>, <Node id=1354>, <Node id=1367>], 'Max': 39, 'Temperature': 33, 'msgKey': 133}\n",
      "FLOODING\n",
      "39\n",
      "{'Neighbors': [<Node id=1351>, <Node id=1430>, <Node id=1075>, <Node id=1480>, <Node id=1162>, <Node id=1287>, <Node id=1072>, <Node id=1232>, <Node id=1434>, <Node id=1245>, <Node id=1207>, <Node id=1048>, <Node id=1280>, <Node id=1141>, <Node id=1083>, <Node id=1173>, <Node id=1519>, <Node id=1066>, <Node id=1457>, <Node id=1366>, <Node id=1133>], 'Max': 39, 'Temperature': -4, 'msgKey': 61}\n",
      "FLOODING\n",
      "39\n",
      "{'Neighbors': [<Node id=1431>, <Node id=1292>, <Node id=1126>, <Node id=1488>, <Node id=1046>, <Node id=1255>, <Node id=1344>, <Node id=1349>, <Node id=1378>, <Node id=1080>, <Node id=1401>, <Node id=1510>, <Node id=1231>, <Node id=1057>, <Node id=1346>, <Node id=1359>, <Node id=1258>, <Node id=1296>, <Node id=1309>, <Node id=1440>, <Node id=1500>, <Node id=1386>, <Node id=1170>, <Node id=1489>, <Node id=1272>, <Node id=1285>, <Node id=1347>, <Node id=1101>, <Node id=1395>, <Node id=1398>, <Node id=1299>, <Node id=1197>, <Node id=1358>, <Node id=1146>, <Node id=1405>, <Node id=1327>, <Node id=1316>, <Node id=1412>, <Node id=1159>, <Node id=1449>, <Node id=1513>, <Node id=1078>], 'Max': 39, 'Temperature': -8, 'msgKey': 329}\n",
      "FLOODING\n",
      "39\n",
      "{'Neighbors': [<Node id=1052>, <Node id=1054>, <Node id=1107>, <Node id=1458>, <Node id=1180>, <Node id=1049>, <Node id=1242>, <Node id=1465>, <Node id=1071>, <Node id=1150>, <Node id=1540>, <Node id=1077>, <Node id=1427>, <Node id=1266>, <Node id=1116>, <Node id=1335>, <Node id=1106>, <Node id=1311>, <Node id=1222>, <Node id=1362>, <Node id=1286>, <Node id=1236>, <Node id=1070>, <Node id=1064>, <Node id=1143>, <Node id=1504>, <Node id=1237>, <Node id=1068>, <Node id=1189>, <Node id=1545>, <Node id=1424>, <Node id=1157>, <Node id=1204>, <Node id=1468>, <Node id=1252>, <Node id=1199>], 'Max': 39, 'Temperature': 14, 'msgKey': 141}\n",
      "FLOODING\n",
      "39\n",
      "{'Neighbors': [<Node id=1160>, <Node id=1122>, <Node id=1187>, <Node id=1091>, <Node id=1533>, <Node id=1330>, <Node id=1508>, <Node id=1343>, <Node id=1483>, <Node id=1067>, <Node id=1331>, <Node id=1338>, <Node id=1230>, <Node id=1453>, <Node id=1406>, <Node id=1243>, <Node id=1536>, <Node id=1294>, <Node id=1444>, <Node id=1307>, <Node id=1060>, <Node id=1371>, <Node id=1247>, <Node id=1206>, <Node id=1456>, <Node id=1537>, <Node id=1442>, <Node id=1512>, <Node id=1474>, <Node id=1167>, <Node id=1538>, <Node id=1213>, <Node id=1437>, <Node id=1234>, <Node id=1158>, <Node id=1260>, <Node id=1069>, <Node id=1148>, <Node id=1099>, <Node id=1402>, <Node id=1124>, <Node id=1475>, <Node id=1322>, <Node id=1200>, <Node id=1384>, <Node id=1304>, <Node id=1288>, <Node id=1479>, <Node id=1238>, <Node id=1112>, <Node id=1131>, <Node id=1145>, <Node id=1493>, <Node id=1328>, <Node id=1341>, <Node id=1310>, <Node id=1165>], 'Max': 39, 'Temperature': 38, 'msgKey': 113}\n",
      "FLOODING\n",
      "39\n",
      "{'Neighbors': [<Node id=1256>, <Node id=1119>, <Node id=1142>, <Node id=1407>, <Node id=1463>, <Node id=1225>, <Node id=1460>, <Node id=1094>, <Node id=1372>, <Node id=1324>, <Node id=1267>, <Node id=1317>, <Node id=1326>, <Node id=1098>, <Node id=1518>, <Node id=1111>, <Node id=1194>], 'Max': 39, 'Temperature': -9, 'msgKey': 129}\n",
      "FLOODING\n",
      "39\n",
      "{'Neighbors': [<Node id=1456>, <Node id=1384>, <Node id=1187>, <Node id=1475>, <Node id=1533>, <Node id=1508>, <Node id=1343>, <Node id=1483>, <Node id=1338>, <Node id=1084>, <Node id=1230>, <Node id=1453>, <Node id=1243>, <Node id=1294>, <Node id=1444>, <Node id=1089>, <Node id=1536>, <Node id=1371>, <Node id=1247>, <Node id=1206>, <Node id=1537>, <Node id=1442>, <Node id=1474>, <Node id=1167>, <Node id=1370>, <Node id=1213>, <Node id=1437>, <Node id=1234>, <Node id=1450>, <Node id=1158>, <Node id=1260>, <Node id=1069>, <Node id=1148>, <Node id=1099>, <Node id=1402>, <Node id=1307>, <Node id=1322>, <Node id=1538>, <Node id=1200>, <Node id=1288>, <Node id=1479>, <Node id=1122>, <Node id=1112>, <Node id=1131>, <Node id=1406>, <Node id=1493>, <Node id=1328>, <Node id=1341>, <Node id=1310>], 'Max': 39, 'Temperature': 21, 'msgKey': 97}\n",
      "FLOODING\n",
      "39\n",
      "{'Neighbors': [<Node id=1329>, <Node id=1228>, <Node id=1419>, <Node id=1059>, <Node id=1128>, <Node id=1471>, <Node id=1486>, <Node id=1397>, <Node id=1103>, <Node id=1485>, <Node id=1501>, <Node id=1097>, <Node id=1208>, <Node id=1334>, <Node id=1202>, <Node id=1436>, <Node id=1449>, <Node id=1191>, <Node id=1421>, <Node id=1544>, <Node id=1062>, <Node id=1261>, <Node id=1055>, <Node id=1524>, <Node id=1184>, <Node id=1497>, <Node id=1214>, <Node id=1342>, <Node id=1373>, <Node id=1315>, <Node id=1065>, <Node id=1379>, <Node id=1265>, <Node id=1227>, <Node id=1136>], 'Max': 39, 'Temperature': 34, 'msgKey': 137}\n",
      "FLOODING\n",
      "39\n",
      "{'Neighbors': [<Node id=1417>, <Node id=1410>, <Node id=1211>, <Node id=1543>, <Node id=1534>, <Node id=1293>, <Node id=1484>, <Node id=1446>, <Node id=1332>, <Node id=1282>, <Node id=1333>, <Node id=1308>, <Node id=1319>, <Node id=1298>, <Node id=1166>, <Node id=1105>, <Node id=1337>, <Node id=1528>, <Node id=1155>, <Node id=1364>, <Node id=1466>, <Node id=1320>, <Node id=1469>, <Node id=1303>, <Node id=1354>], 'Max': 39, 'Temperature': 17, 'msgKey': 121}\n",
      "FLOODING\n",
      "39\n",
      "{'Neighbors': [<Node id=1163>, <Node id=1061>, <Node id=1432>, <Node id=1267>, <Node id=1356>, <Node id=1098>, <Node id=1090>, <Node id=1256>, <Node id=1518>, <Node id=1257>, <Node id=1372>, <Node id=1111>, <Node id=1194>, <Node id=1463>, <Node id=1407>, <Node id=1171>, <Node id=1527>, <Node id=1324>, <Node id=1210>, <Node id=1514>, <Node id=1119>, <Node id=1428>, <Node id=1225>, <Node id=1517>, <Node id=1082>, <Node id=1264>, <Node id=1317>, <Node id=1496>], 'Max': 39, 'Temperature': -14, 'msgKey': 244}\n",
      "FLOODING\n",
      "39\n",
      "{'Neighbors': [<Node id=1465>, <Node id=1511>, <Node id=1054>, <Node id=1470>, <Node id=1229>, <Node id=1408>, <Node id=1382>, <Node id=1433>, <Node id=1467>, <Node id=1150>, <Node id=1409>, <Node id=1077>, <Node id=1486>, <Node id=1053>, <Node id=1545>, <Node id=1201>, <Node id=1526>, <Node id=1191>, <Node id=1107>, <Node id=1074>, <Node id=1178>, <Node id=1286>, <Node id=1198>, <Node id=1541>, <Node id=1363>, <Node id=1452>, <Node id=1339>, <Node id=1153>, <Node id=1250>, <Node id=1104>, <Node id=1109>, <Node id=1289>, <Node id=1340>, <Node id=1429>, <Node id=1353>, <Node id=1455>, <Node id=1393>, <Node id=1481>, <Node id=1240>], 'Max': 39, 'Temperature': -2, 'msgKey': 267}\n",
      "FLOODING\n",
      "39\n",
      "{'Neighbors': [<Node id=1228>, <Node id=1330>, <Node id=1254>, <Node id=1216>, <Node id=1529>, <Node id=1318>, <Node id=1404>, <Node id=1073>, <Node id=1357>, <Node id=1535>, <Node id=1135>, <Node id=1103>, <Node id=1060>, <Node id=1097>, <Node id=1149>, <Node id=1108>, <Node id=1461>, <Node id=1459>, <Node id=1220>, <Node id=1525>, <Node id=1451>, <Node id=1397>, <Node id=1524>, <Node id=1161>, <Node id=1512>, <Node id=1067>, <Node id=1421>, <Node id=1336>, <Node id=1387>, <Node id=1531>, <Node id=1062>, <Node id=1055>, <Node id=1136>, <Node id=1124>, <Node id=1223>, <Node id=1376>, <Node id=1516>, <Node id=1313>, <Node id=1152>, <Node id=1542>, <Node id=1471>, <Node id=1314>, <Node id=1129>, <Node id=1419>, <Node id=1154>, <Node id=1315>, <Node id=1373>, <Node id=1544>, <Node id=1278>, <Node id=1165>], 'Max': 39, 'Temperature': 30, 'msgKey': 148}\n",
      "FLOODING\n",
      "39\n",
      "{'Neighbors': [<Node id=1304>, <Node id=1228>, <Node id=1139>, <Node id=1318>, <Node id=1471>, <Node id=1073>, <Node id=1123>, <Node id=1497>, <Node id=1103>, <Node id=1096>, <Node id=1355>, <Node id=1346>, <Node id=1208>, <Node id=1108>, <Node id=1334>, <Node id=1512>, <Node id=1347>, <Node id=1449>, <Node id=1373>, <Node id=1067>, <Node id=1350>, <Node id=1421>, <Node id=1436>, <Node id=1395>, <Node id=1062>, <Node id=1398>, <Node id=1299>, <Node id=1055>, <Node id=1261>, <Node id=1274>, <Node id=1313>, <Node id=1500>, <Node id=1524>, <Node id=1542>, <Node id=1214>, <Node id=1238>, <Node id=1126>, <Node id=1378>, <Node id=1092>, <Node id=1544>, <Node id=1379>, <Node id=1136>], 'Max': 39, 'Temperature': -15, 'msgKey': 206}\n",
      "FLOODING\n",
      "39\n",
      "{'Neighbors': [<Node id=1061>, <Node id=1215>, <Node id=1496>, <Node id=1090>, <Node id=1256>, <Node id=1518>, <Node id=1460>, <Node id=1257>, <Node id=1372>, <Node id=1111>, <Node id=1194>, <Node id=1142>, <Node id=1463>, <Node id=1407>, <Node id=1324>, <Node id=1094>, <Node id=1119>, <Node id=1491>, <Node id=1326>, <Node id=1267>, <Node id=1225>, <Node id=1428>, <Node id=1082>, <Node id=1264>, <Node id=1317>], 'Max': 39, 'Temperature': 13, 'msgKey': 193}\n",
      "FLOODING\n",
      "39\n",
      "{'Neighbors': [<Node id=1434>, <Node id=1238>, <Node id=1187>, <Node id=1091>, <Node id=1330>, <Node id=1508>, <Node id=1343>, <Node id=1483>, <Node id=1234>, <Node id=1498>, <Node id=1338>, <Node id=1368>, <Node id=1073>, <Node id=1081>, <Node id=1230>, <Node id=1135>, <Node id=1536>, <Node id=1294>, <Node id=1444>, <Node id=1089>, <Node id=1060>, <Node id=1371>, <Node id=1453>, <Node id=1158>, <Node id=1456>, <Node id=1537>, <Node id=1423>, <Node id=1474>, <Node id=1167>, <Node id=1538>, <Node id=1213>, <Node id=1067>, <Node id=1512>, <Node id=1130>, <Node id=1260>, <Node id=1069>, <Node id=1148>, <Node id=1402>, <Node id=1124>, <Node id=1223>, <Node id=1322>, <Node id=1066>, <Node id=1079>, <Node id=1304>, <Node id=1529>, <Node id=1288>, <Node id=1307>, <Node id=1203>, <Node id=1247>, <Node id=1122>, <Node id=1112>, <Node id=1406>, <Node id=1493>, <Node id=1479>, <Node id=1278>, <Node id=1357>, <Node id=1165>], 'Max': 39, 'Temperature': -8, 'msgKey': 169}\n",
      "FLOODING\n",
      "39\n",
      "{'Neighbors': [<Node id=1160>, <Node id=1365>, <Node id=1515>, <Node id=1533>, <Node id=1293>, <Node id=1543>, <Node id=1181>, <Node id=1084>, <Node id=1367>, <Node id=1131>, <Node id=1185>, <Node id=1244>, <Node id=1384>, <Node id=1140>, <Node id=1448>, <Node id=1205>, <Node id=1169>, <Node id=1121>, <Node id=1310>, <Node id=1050>, <Node id=1361>, <Node id=1374>, <Node id=1273>, <Node id=1168>, <Node id=1388>, <Node id=1155>, <Node id=1200>, <Node id=1262>, <Node id=1224>, <Node id=1442>, <Node id=1441>, <Node id=1172>, <Node id=1492>, <Node id=1413>, <Node id=1251>, <Node id=1422>, <Node id=1426>, <Node id=1277>, <Node id=1115>, <Node id=1354>, <Node id=1177>], 'Max': 39, 'Temperature': 21, 'msgKey': 161}\n",
      "FLOODING\n",
      "39\n",
      "{'Neighbors': [<Node id=1415>, <Node id=1431>, <Node id=1221>, <Node id=1292>, <Node id=1327>, <Node id=1488>, <Node id=1255>, <Node id=1344>, <Node id=1367>, <Node id=1123>, <Node id=1080>, <Node id=1401>, <Node id=1513>, <Node id=1510>, <Node id=1413>, <Node id=1057>, <Node id=1346>, <Node id=1359>, <Node id=1258>, <Node id=1296>, <Node id=1347>, <Node id=1087>, <Node id=1500>, <Node id=1386>, <Node id=1050>, <Node id=1489>, <Node id=1272>, <Node id=1285>, <Node id=1349>, <Node id=1395>, <Node id=1147>, <Node id=1398>, <Node id=1170>, <Node id=1085>, <Node id=1197>, <Node id=1274>, <Node id=1262>, <Node id=1440>, <Node id=1146>, <Node id=1405>, <Node id=1126>, <Node id=1378>, <Node id=1159>, <Node id=1299>, <Node id=1454>, <Node id=1115>, <Node id=1316>, <Node id=1350>], 'Max': 39, 'Temperature': 23, 'msgKey': 189}\n",
      "FLOODING\n",
      "39\n",
      "{'Neighbors': [<Node id=1329>, <Node id=1507>, <Node id=1305>, <Node id=1356>, <Node id=1046>, <Node id=1114>, <Node id=1486>, <Node id=1269>, <Node id=1137>, <Node id=1208>, <Node id=1202>, <Node id=1174>, <Node id=1436>, <Node id=1246>, <Node id=1128>, <Node id=1501>, <Node id=1120>, <Node id=1104>, <Node id=1261>, <Node id=1487>, <Node id=1325>, <Node id=1249>, <Node id=1389>, <Node id=1485>, <Node id=1275>, <Node id=1449>, <Node id=1109>, <Node id=1342>, <Node id=1467>, <Node id=1265>, <Node id=1078>], 'Max': 39, 'Temperature': 34, 'msgKey': 121}\n",
      "FLOODING\n",
      "39\n",
      "{'Neighbors': [<Node id=1403>, <Node id=1228>, <Node id=1110>, <Node id=1544>, <Node id=1471>, <Node id=1254>, <Node id=1216>, <Node id=1318>, <Node id=1404>, <Node id=1073>, <Node id=1208>, <Node id=1352>, <Node id=1421>, <Node id=1376>, <Node id=1096>, <Node id=1129>, <Node id=1097>, <Node id=1149>, <Node id=1315>, <Node id=1459>, <Node id=1220>, <Node id=1436>, <Node id=1525>, <Node id=1397>, <Node id=1524>, <Node id=1373>, <Node id=1336>, <Node id=1387>, <Node id=1505>, <Node id=1062>, <Node id=1502>, <Node id=1451>, <Node id=1092>, <Node id=1055>, <Node id=1379>, <Node id=1059>, <Node id=1516>, <Node id=1313>, <Node id=1152>, <Node id=1542>, <Node id=1214>, <Node id=1419>, <Node id=1154>, <Node id=1065>, <Node id=1531>, <Node id=1314>, <Node id=1182>, <Node id=1473>, <Node id=1136>], 'Max': 39, 'Temperature': 1, 'msgKey': 193}\n",
      "FLOODING\n",
      "39\n",
      "{'Neighbors': [<Node id=1329>, <Node id=1465>, <Node id=1545>, <Node id=1128>, <Node id=1305>, <Node id=1342>, <Node id=1229>, <Node id=1382>, <Node id=1433>, <Node id=1467>, <Node id=1485>, <Node id=1429>, <Node id=1409>, <Node id=1486>, <Node id=1202>, <Node id=1487>, <Node id=1246>, <Node id=1191>, <Node id=1501>, <Node id=1178>, <Node id=1541>, <Node id=1095>, <Node id=1363>, <Node id=1325>, <Node id=1339>, <Node id=1275>, <Node id=1184>, <Node id=1250>, <Node id=1109>, <Node id=1289>, <Node id=1340>, <Node id=1102>, <Node id=1265>, <Node id=1227>, <Node id=1240>], 'Max': 39, 'Temperature': 11, 'msgKey': 137}\n",
      "FLOODING\n",
      "39\n",
      "{'Neighbors': [<Node id=1417>, <Node id=1279>, <Node id=1410>, <Node id=1211>, <Node id=1308>, <Node id=1534>, <Node id=1484>, <Node id=1446>, <Node id=1183>, <Node id=1523>, <Node id=1282>, <Node id=1333>, <Node id=1093>, <Node id=1319>, <Node id=1332>, <Node id=1166>, <Node id=1298>, <Node id=1337>, <Node id=1528>, <Node id=1364>, <Node id=1392>, <Node id=1466>, <Node id=1320>, <Node id=1469>, <Node id=1226>, <Node id=1303>], 'Max': 39, 'Temperature': 22, 'msgKey': 126}\n",
      "FLOODING\n",
      "39\n",
      "{'Neighbors': [<Node id=1052>, <Node id=1418>, <Node id=1411>, <Node id=1458>, <Node id=1241>, <Node id=1049>, <Node id=1242>, <Node id=1311>, <Node id=1071>, <Node id=1076>, <Node id=1116>, <Node id=1335>, <Node id=1180>, <Node id=1175>, <Node id=1088>, <Node id=1362>, <Node id=1540>, <Node id=1248>, <Node id=1118>, <Node id=1252>, <Node id=1070>, <Node id=1064>, <Node id=1504>, <Node id=1068>, <Node id=1189>, <Node id=1144>, <Node id=1468>, <Node id=1301>, <Node id=1424>, <Node id=1157>, <Node id=1151>, <Node id=1266>, <Node id=1199>], 'Max': 39, 'Temperature': 30, 'msgKey': 129}\n",
      "FLOODING\n",
      "39\n",
      "{'Neighbors': [<Node id=1052>, <Node id=1054>, <Node id=1363>, <Node id=1458>, <Node id=1180>, <Node id=1424>, <Node id=1393>, <Node id=1229>, <Node id=1242>, <Node id=1311>, <Node id=1150>, <Node id=1077>, <Node id=1427>, <Node id=1360>, <Node id=1191>, <Node id=1222>, <Node id=1178>, <Node id=1088>, <Node id=1362>, <Node id=1286>, <Node id=1068>, <Node id=1095>, <Node id=1236>, <Node id=1465>, <Node id=1540>, <Node id=1143>, <Node id=1504>, <Node id=1237>, <Node id=1184>, <Node id=1250>, <Node id=1545>, <Node id=1335>, <Node id=1157>, <Node id=1204>, <Node id=1468>, <Node id=1266>, <Node id=1227>, <Node id=1199>], 'Max': 39, 'Temperature': 33, 'msgKey': 223}\n",
      "FLOODING\n",
      "39\n",
      "{'Neighbors': [<Node id=1304>, <Node id=1228>, <Node id=1139>, <Node id=1346>, <Node id=1145>, <Node id=1331>, <Node id=1471>, <Node id=1073>, <Node id=1123>, <Node id=1431>, <Node id=1318>, <Node id=1230>, <Node id=1096>, <Node id=1060>, <Node id=1371>, <Node id=1355>, <Node id=1097>, <Node id=1208>, <Node id=1334>, <Node id=1512>, <Node id=1347>, <Node id=1525>, <Node id=1497>, <Node id=1373>, <Node id=1067>, <Node id=1336>, <Node id=1436>, <Node id=1395>, <Node id=1062>, <Node id=1398>, <Node id=1299>, <Node id=1136>, <Node id=1274>, <Node id=1313>, <Node id=1524>, <Node id=1542>, <Node id=1214>, <Node id=1238>, <Node id=1500>, <Node id=1378>, <Node id=1124>, <Node id=1544>, <Node id=1357>, <Node id=1350>], 'Max': 39, 'Temperature': 24, 'msgKey': 216}\n",
      "FLOODING\n",
      "39\n",
      "{'Neighbors': [<Node id=1329>, <Node id=1409>, <Node id=1495>, <Node id=1305>, <Node id=1342>, <Node id=1128>, <Node id=1507>, <Node id=1356>, <Node id=1382>, <Node id=1114>, <Node id=1467>, <Node id=1196>, <Node id=1134>, <Node id=1447>, <Node id=1295>, <Node id=1219>, <Node id=1486>, <Node id=1174>, <Node id=1487>, <Node id=1102>, <Node id=1501>, <Node id=1104>, <Node id=1541>, <Node id=1095>, <Node id=1433>, <Node id=1325>, <Node id=1249>, <Node id=1389>, <Node id=1269>, <Node id=1275>, <Node id=1339>, <Node id=1289>, <Node id=1340>, <Node id=1429>, <Node id=1353>, <Node id=1239>, <Node id=1455>, <Node id=1470>, <Node id=1394>, <Node id=1452>, <Node id=1240>], 'Max': 39, 'Temperature': 36, 'msgKey': 161}\n",
      "FLOODING\n",
      "39\n",
      "{'Neighbors': [<Node id=1403>, <Node id=1385>, <Node id=1471>, <Node id=1419>, <Node id=1216>, <Node id=1242>, <Node id=1404>, <Node id=1306>, <Node id=1268>, <Node id=1397>, <Node id=1103>, <Node id=1376>, <Node id=1129>, <Node id=1182>, <Node id=1283>, <Node id=1516>, <Node id=1065>, <Node id=1220>, <Node id=1505>, <Node id=1360>, <Node id=1297>, <Node id=1476>, <Node id=1323>, <Node id=1387>, <Node id=1222>, <Node id=1451>, <Node id=1502>, <Node id=1312>, <Node id=1059>, <Node id=1056>, <Node id=1152>, <Node id=1390>, <Node id=1314>, <Node id=1154>, <Node id=1391>, <Node id=1503>, <Node id=1315>, <Node id=1531>, <Node id=1352>, <Node id=1473>, <Node id=1143>, <Node id=1369>], 'Max': 39, 'Temperature': -3, 'msgKey': 288}\n",
      "FLOODING\n",
      "39\n",
      "{'Neighbors': [<Node id=1061>, <Node id=1188>, <Node id=1215>, <Node id=1098>, <Node id=1090>, <Node id=1256>, <Node id=1518>, <Node id=1460>, <Node id=1257>, <Node id=1321>, <Node id=1372>, <Node id=1209>, <Node id=1194>, <Node id=1462>, <Node id=1142>, <Node id=1425>, <Node id=1407>, <Node id=1438>, <Node id=1324>, <Node id=1094>, <Node id=1119>, <Node id=1478>, <Node id=1491>, <Node id=1326>, <Node id=1377>, <Node id=1463>, <Node id=1267>, <Node id=1276>, <Node id=1082>, <Node id=1490>, <Node id=1264>, <Node id=1428>], 'Max': 39, 'Temperature': 5, 'msgKey': 218}\n",
      "FLOODING\n",
      "39\n",
      "{'Neighbors': [<Node id=1456>, <Node id=1122>, <Node id=1187>, <Node id=1091>, <Node id=1330>, <Node id=1508>, <Node id=1343>, <Node id=1483>, <Node id=1067>, <Node id=1331>, <Node id=1368>, <Node id=1081>, <Node id=1230>, <Node id=1243>, <Node id=1536>, <Node id=1294>, <Node id=1089>, <Node id=1060>, <Node id=1498>, <Node id=1371>, <Node id=1453>, <Node id=1158>, <Node id=1479>, <Node id=1206>, <Node id=1537>, <Node id=1423>, <Node id=1474>, <Node id=1167>, <Node id=1370>, <Node id=1213>, <Node id=1437>, <Node id=1234>, <Node id=1512>, <Node id=1450>, <Node id=1130>, <Node id=1260>, <Node id=1069>, <Node id=1099>, <Node id=1148>, <Node id=1384>, <Node id=1402>, <Node id=1124>, <Node id=1475>, <Node id=1322>, <Node id=1538>, <Node id=1338>, <Node id=1079>, <Node id=1304>, <Node id=1529>, <Node id=1288>, <Node id=1307>, <Node id=1203>, <Node id=1247>, <Node id=1238>, <Node id=1406>, <Node id=1493>, <Node id=1328>, <Node id=1444>, <Node id=1357>, <Node id=1165>], 'Max': 39, 'Temperature': 31, 'msgKey': 119}\n",
      "FLOODING\n",
      "39\n",
      "{'Neighbors': [<Node id=1369>, <Node id=1217>, <Node id=1306>, <Node id=1345>, <Node id=1290>, <Node id=1499>, <Node id=1385>, <Node id=1297>, <Node id=1323>, <Node id=1476>, <Node id=1464>, <Node id=1248>, <Node id=1472>, <Node id=1070>, <Node id=1504>, <Node id=1390>, <Node id=1391>, <Node id=1312>, <Node id=1151>, <Node id=1506>, <Node id=1259>, <Node id=1494>], 'Max': 39, 'Temperature': -8, 'msgKey': 106}\n",
      "FLOODING\n",
      "39\n",
      "{'Neighbors': [<Node id=1109>, <Node id=1138>, <Node id=1495>, <Node id=1305>, <Node id=1356>, <Node id=1215>, <Node id=1507>, <Node id=1382>, <Node id=1467>, <Node id=1196>, <Node id=1134>, <Node id=1447>, <Node id=1295>, <Node id=1432>, <Node id=1219>, <Node id=1174>, <Node id=1487>, <Node id=1478>, <Node id=1102>, <Node id=1501>, <Node id=1120>, <Node id=1325>, <Node id=1249>, <Node id=1389>, <Node id=1269>, <Node id=1275>, <Node id=1267>, <Node id=1063>, <Node id=1082>, <Node id=1340>, <Node id=1264>, <Node id=1257>, <Node id=1353>, <Node id=1239>, <Node id=1394>, <Node id=1428>], 'Max': 39, 'Temperature': -3, 'msgKey': 246}\n",
      "FLOODING\n",
      "39\n",
      "{'Neighbors': [<Node id=1405>, <Node id=1160>, <Node id=1415>, <Node id=1431>, <Node id=1515>, <Node id=1221>, <Node id=1533>, <Node id=1047>, <Node id=1145>, <Node id=1258>, <Node id=1185>, <Node id=1510>, <Node id=1413>, <Node id=1057>, <Node id=1244>, <Node id=1422>, <Node id=1140>, <Node id=1448>, <Node id=1205>, <Node id=1169>, <Node id=1121>, <Node id=1273>, <Node id=1050>, <Node id=1489>, <Node id=1350>, <Node id=1374>, <Node id=1101>, <Node id=1168>, <Node id=1085>, <Node id=1197>, <Node id=1274>, <Node id=1181>, <Node id=1147>, <Node id=1262>, <Node id=1224>, <Node id=1442>, <Node id=1441>, <Node id=1365>, <Node id=1492>, <Node id=1100>, <Node id=1251>, <Node id=1159>, <Node id=1426>, <Node id=1277>, <Node id=1454>, <Node id=1367>, <Node id=1354>, <Node id=1331>], 'Max': 39, 'Temperature': 0, 'msgKey': 189}\n",
      "FLOODING\n",
      "39\n",
      "{'Neighbors': [<Node id=1411>, <Node id=1049>, <Node id=1458>, <Node id=1071>, <Node id=1424>, <Node id=1106>, <Node id=1311>, <Node id=1175>, <Node id=1252>, <Node id=1088>, <Node id=1362>, <Node id=1286>, <Node id=1236>, <Node id=1064>, <Node id=1237>, <Node id=1068>, <Node id=1301>, <Node id=1144>, <Node id=1335>, <Node id=1204>, <Node id=1266>, <Node id=1199>], 'Max': 39, 'Temperature': -13, 'msgKey': 127}\n",
      "FLOODING\n",
      "39\n",
      "{'Neighbors': [<Node id=1400>, <Node id=1345>, <Node id=1494>, <Node id=1323>, <Node id=1503>, <Node id=1297>, <Node id=1476>, <Node id=1385>, <Node id=1477>, <Node id=1056>, <Node id=1472>, <Node id=1351>, <Node id=1312>, <Node id=1141>, <Node id=1464>, <Node id=1233>, <Node id=1306>, <Node id=1173>, <Node id=1268>, <Node id=1161>, <Node id=1259>], 'Max': 39, 'Temperature': 17, 'msgKey': 61}\n",
      "FLOODING\n",
      "39\n",
      "{'Neighbors': [<Node id=1106>, <Node id=1076>, <Node id=1144>, <Node id=1468>, <Node id=1418>, <Node id=1241>, <Node id=1411>, <Node id=1189>, <Node id=1151>, <Node id=1070>, <Node id=1301>, <Node id=1252>, <Node id=1175>], 'Max': 39, 'Temperature': 1, 'msgKey': 61}\n",
      "FLOODING\n",
      "39\n",
      "{'Neighbors': [<Node id=1063>, <Node id=1138>, <Node id=1061>, <Node id=1190>, <Node id=1188>, <Node id=1432>, <Node id=1495>, <Node id=1215>, <Node id=1098>, <Node id=1090>, <Node id=1399>, <Node id=1302>, <Node id=1460>, <Node id=1257>, <Node id=1321>, <Node id=1372>, <Node id=1209>, <Node id=1271>, <Node id=1194>, <Node id=1462>, <Node id=1438>, <Node id=1142>, <Node id=1425>, <Node id=1407>, <Node id=1111>, <Node id=1324>, <Node id=1375>, <Node id=1094>, <Node id=1300>, <Node id=1478>, <Node id=1491>, <Node id=1326>, <Node id=1377>, <Node id=1463>, <Node id=1267>, <Node id=1276>, <Node id=1082>, <Node id=1490>, <Node id=1264>, <Node id=1518>, <Node id=1394>, <Node id=1428>], 'Max': 39, 'Temperature': -14, 'msgKey': 329}\n",
      "FLOODING\n",
      "39\n",
      "{'Neighbors': [<Node id=1329>, <Node id=1507>, <Node id=1420>, <Node id=1305>, <Node id=1356>, <Node id=1521>, <Node id=1488>, <Node id=1046>, <Node id=1255>, <Node id=1114>, <Node id=1080>, <Node id=1269>, <Node id=1137>, <Node id=1412>, <Node id=1359>, <Node id=1202>, <Node id=1174>, <Node id=1246>, <Node id=1102>, <Node id=1386>, <Node id=1170>, <Node id=1272>, <Node id=1401>, <Node id=1132>, <Node id=1171>, <Node id=1527>, <Node id=1058>, <Node id=1325>, <Node id=1249>, <Node id=1389>, <Node id=1358>, <Node id=1275>, <Node id=1449>, <Node id=1517>, <Node id=1520>, <Node id=1078>, <Node id=1496>], 'Max': 39, 'Temperature': 3, 'msgKey': 253}\n",
      "FLOODING\n",
      "39\n",
      "{'Neighbors': [<Node id=1365>, <Node id=1515>, <Node id=1293>, <Node id=1413>, <Node id=1155>, <Node id=1084>, <Node id=1367>, <Node id=1131>, <Node id=1185>, <Node id=1244>, <Node id=1422>, <Node id=1140>, <Node id=1543>, <Node id=1448>, <Node id=1205>, <Node id=1169>, <Node id=1310>, <Node id=1050>, <Node id=1361>, <Node id=1374>, <Node id=1168>, <Node id=1273>, <Node id=1388>, <Node id=1181>, <Node id=1200>, <Node id=1224>, <Node id=1442>, <Node id=1441>, <Node id=1172>, <Node id=1492>, <Node id=1100>, <Node id=1251>, <Node id=1426>, <Node id=1277>, <Node id=1115>, <Node id=1354>, <Node id=1177>], 'Max': 39, 'Temperature': 27, 'msgKey': 109}\n",
      "FLOODING\n",
      "39\n",
      "{'Neighbors': [<Node id=1434>, <Node id=1187>, <Node id=1091>, <Node id=1330>, <Node id=1381>, <Node id=1343>, <Node id=1483>, <Node id=1280>, <Node id=1498>, <Node id=1081>, <Node id=1453>, <Node id=1135>, <Node id=1294>, <Node id=1089>, <Node id=1060>, <Node id=1371>, <Node id=1130>, <Node id=1456>, <Node id=1537>, <Node id=1423>, <Node id=1474>, <Node id=1167>, <Node id=1370>, <Node id=1179>, <Node id=1437>, <Node id=1368>, <Node id=1450>, <Node id=1247>, <Node id=1260>, <Node id=1069>, <Node id=1099>, <Node id=1148>, <Node id=1508>, <Node id=1402>, <Node id=1124>, <Node id=1223>, <Node id=1322>, <Node id=1538>, <Node id=1176>, <Node id=1338>, <Node id=1079>, <Node id=1529>, <Node id=1288>, <Node id=1307>, <Node id=1203>, <Node id=1536>, <Node id=1112>, <Node id=1406>, <Node id=1493>, <Node id=1479>, <Node id=1444>, <Node id=1158>, <Node id=1165>], 'Max': 39, 'Temperature': 38, 'msgKey': 105}\n",
      "FLOODING\n",
      "39\n",
      "{'Neighbors': [<Node id=1160>, <Node id=1304>, <Node id=1355>, <Node id=1139>, <Node id=1346>, <Node id=1067>, <Node id=1331>, <Node id=1230>, <Node id=1431>, <Node id=1510>, <Node id=1405>, <Node id=1097>, <Node id=1108>, <Node id=1334>, <Node id=1512>, <Node id=1347>, <Node id=1224>, <Node id=1500>, <Node id=1213>, <Node id=1234>, <Node id=1285>, <Node id=1101>, <Node id=1395>, <Node id=1398>, <Node id=1299>, <Node id=1197>, <Node id=1274>, <Node id=1313>, <Node id=1542>, <Node id=1497>, <Node id=1238>, <Node id=1126>, <Node id=1378>, <Node id=1159>, <Node id=1145>, <Node id=1544>, <Node id=1454>, <Node id=1444>, <Node id=1350>], 'Max': 39, 'Temperature': 6, 'msgKey': 191}\n",
      "FLOODING\n",
      "39\n",
      "{'Neighbors': [<Node id=1456>, <Node id=1238>, <Node id=1187>, <Node id=1330>, <Node id=1139>, <Node id=1483>, <Node id=1067>, <Node id=1368>, <Node id=1073>, <Node id=1230>, <Node id=1535>, <Node id=1406>, <Node id=1135>, <Node id=1254>, <Node id=1537>, <Node id=1089>, <Node id=1096>, <Node id=1060>, <Node id=1371>, <Node id=1336>, <Node id=1524>, <Node id=1108>, <Node id=1461>, <Node id=1512>, <Node id=1322>, <Node id=1373>, <Node id=1234>, <Node id=1247>, <Node id=1525>, <Node id=1099>, <Node id=1148>, <Node id=1542>, <Node id=1307>, <Node id=1223>, <Node id=1444>, <Node id=1066>, <Node id=1081>, <Node id=1079>, <Node id=1313>, <Node id=1304>, <Node id=1529>, <Node id=1288>, <Node id=1203>, <Node id=1122>, <Node id=1112>, <Node id=1318>, <Node id=1493>, <Node id=1544>, <Node id=1376>, <Node id=1278>, <Node id=1357>, <Node id=1165>], 'Max': 39, 'Temperature': -13, 'msgKey': 205}\n",
      "FLOODING\n",
      "39\n",
      "{'Neighbors': [<Node id=1380>, <Node id=1279>, <Node id=1410>, <Node id=1211>, <Node id=1445>, <Node id=1484>, <Node id=1522>, <Node id=1332>, <Node id=1383>, <Node id=1523>, <Node id=1282>, <Node id=1309>, <Node id=1348>, <Node id=1166>, <Node id=1193>, <Node id=1235>, <Node id=1439>, <Node id=1183>, <Node id=1469>, <Node id=1416>, <Node id=1226>, <Node id=1156>, <Node id=1539>, <Node id=1392>, <Node id=1443>, <Node id=1532>], 'Max': 39, 'Temperature': 10, 'msgKey': 151}\n",
      "FLOODING\n",
      "39\n",
      "{'Neighbors': [<Node id=1431>, <Node id=1355>, <Node id=1292>, <Node id=1346>, <Node id=1488>, <Node id=1046>, <Node id=1255>, <Node id=1123>, <Node id=1080>, <Node id=1378>, <Node id=1401>, <Node id=1510>, <Node id=1358>, <Node id=1137>, <Node id=1097>, <Node id=1208>, <Node id=1359>, <Node id=1334>, <Node id=1296>, <Node id=1347>, <Node id=1087>, <Node id=1246>, <Node id=1500>, <Node id=1202>, <Node id=1170>, <Node id=1272>, <Node id=1285>, <Node id=1436>, <Node id=1101>, <Node id=1395>, <Node id=1398>, <Node id=1261>, <Node id=1197>, <Node id=1275>, <Node id=1449>, <Node id=1497>, <Node id=1214>, <Node id=1405>, <Node id=1316>, <Node id=1159>, <Node id=1299>, <Node id=1386>, <Node id=1078>], 'Max': 39, 'Temperature': 7, 'msgKey': 169}\n",
      "FLOODING\n",
      "39\n",
      "{'Neighbors': [<Node id=1218>, <Node id=1263>, <Node id=1162>, <Node id=1381>, <Node id=1245>, <Node id=1270>, <Node id=1195>, <Node id=1048>, <Node id=1253>, <Node id=1192>, <Node id=1207>, <Node id=1176>, <Node id=1133>, <Node id=1281>, <Node id=1179>], 'Max': 39, 'Temperature': 20, 'msgKey': 57}\n",
      "FLOODING\n",
      "39\n",
      "{'Neighbors': [<Node id=1329>, <Node id=1305>, <Node id=1342>, <Node id=1382>, <Node id=1467>, <Node id=1485>, <Node id=1409>, <Node id=1208>, <Node id=1486>, <Node id=1202>, <Node id=1174>, <Node id=1487>, <Node id=1246>, <Node id=1191>, <Node id=1501>, <Node id=1104>, <Node id=1092>, <Node id=1363>, <Node id=1325>, <Node id=1249>, <Node id=1389>, <Node id=1275>, <Node id=1184>, <Node id=1339>, <Node id=1109>, <Node id=1289>, <Node id=1102>, <Node id=1261>, <Node id=1379>, <Node id=1265>, <Node id=1227>, <Node id=1240>], 'Max': 39, 'Temperature': -9, 'msgKey': 94}\n",
      "FLOODING\n",
      "39\n",
      "{'Neighbors': [<Node id=1403>, <Node id=1110>, <Node id=1404>, <Node id=1254>, <Node id=1216>, <Node id=1318>, <Node id=1369>, <Node id=1073>, <Node id=1306>, <Node id=1268>, <Node id=1535>, <Node id=1135>, <Node id=1103>, <Node id=1376>, <Node id=1096>, <Node id=1182>, <Node id=1149>, <Node id=1516>, <Node id=1461>, <Node id=1459>, <Node id=1220>, <Node id=1525>, <Node id=1397>, <Node id=1524>, <Node id=1161>, <Node id=1297>, <Node id=1421>, <Node id=1323>, <Node id=1336>, <Node id=1387>, <Node id=1531>, <Node id=1505>, <Node id=1062>, <Node id=1502>, <Node id=1451>, <Node id=1059>, <Node id=1056>, <Node id=1152>, <Node id=1471>, <Node id=1314>, <Node id=1419>, <Node id=1154>, <Node id=1503>, <Node id=1315>, <Node id=1373>, <Node id=1352>, <Node id=1519>, <Node id=1473>, <Node id=1278>], 'Max': 39, 'Temperature': 37, 'msgKey': 145}\n",
      "FLOODING\n",
      "39\n",
      "{'Neighbors': [<Node id=1434>, <Node id=1253>, <Node id=1187>, <Node id=1456>, <Node id=1368>, <Node id=1381>, <Node id=1343>, <Node id=1195>, <Node id=1280>, <Node id=1192>, <Node id=1287>, <Node id=1081>, <Node id=1453>, <Node id=1281>, <Node id=1370>, <Node id=1218>, <Node id=1075>, <Node id=1536>, <Node id=1498>, <Node id=1247>, <Node id=1270>, <Node id=1245>, <Node id=1423>, <Node id=1167>, <Node id=1179>, <Node id=1437>, <Node id=1072>, <Node id=1450>, <Node id=1158>, <Node id=1260>, <Node id=1069>, <Node id=1099>, <Node id=1508>, <Node id=1402>, <Node id=1307>, <Node id=1083>, <Node id=1176>, <Node id=1079>, <Node id=1529>, <Node id=1406>, <Node id=1263>, <Node id=1203>, <Node id=1122>, <Node id=1112>, <Node id=1048>, <Node id=1479>, <Node id=1430>, <Node id=1165>], 'Max': 39, 'Temperature': 39, 'msgKey': 48}\n",
      "FLOODING\n",
      "39\n",
      "{'Neighbors': [<Node id=1160>, <Node id=1515>, <Node id=1091>, <Node id=1533>, <Node id=1140>, <Node id=1145>, <Node id=1331>, <Node id=1338>, <Node id=1084>, <Node id=1230>, <Node id=1243>, <Node id=1294>, <Node id=1089>, <Node id=1244>, <Node id=1384>, <Node id=1206>, <Node id=1448>, <Node id=1205>, <Node id=1169>, <Node id=1121>, <Node id=1538>, <Node id=1213>, <Node id=1050>, <Node id=1234>, <Node id=1374>, <Node id=1474>, <Node id=1388>, <Node id=1475>, <Node id=1454>, <Node id=1181>, <Node id=1200>, <Node id=1224>, <Node id=1444>, <Node id=1442>, <Node id=1493>, <Node id=1441>, <Node id=1492>, <Node id=1100>, <Node id=1426>, <Node id=1277>, <Node id=1328>, <Node id=1341>, <Node id=1310>, <Node id=1367>], 'Max': 39, 'Temperature': 38, 'msgKey': 87}\n",
      "FLOODING\n",
      "39\n",
      "{'Neighbors': [<Node id=1061>, <Node id=1420>, <Node id=1164>, <Node id=1521>, <Node id=1272>, <Node id=1046>, <Node id=1488>, <Node id=1255>, <Node id=1080>, <Node id=1051>, <Node id=1269>, <Node id=1137>, <Node id=1412>, <Node id=1359>, <Node id=1296>, <Node id=1174>, <Node id=1246>, <Node id=1386>, <Node id=1170>, <Node id=1120>, <Node id=1401>, <Node id=1514>, <Node id=1171>, <Node id=1527>, <Node id=1210>, <Node id=1058>, <Node id=1389>, <Node id=1358>, <Node id=1275>, <Node id=1284>, <Node id=1517>, <Node id=1396>, <Node id=1520>, <Node id=1509>, <Node id=1078>, <Node id=1496>], 'Max': 39, 'Temperature': 18, 'msgKey': 281}\n",
      "FLOODING\n",
      "39\n",
      "{'Neighbors': [<Node id=1162>, <Node id=1253>, <Node id=1086>, <Node id=1263>, <Node id=1480>, <Node id=1127>, <Node id=1287>, <Node id=1072>, <Node id=1245>, <Node id=1048>, <Node id=1280>, <Node id=1366>, <Node id=1083>, <Node id=1207>, <Node id=1179>, <Node id=1281>, <Node id=1430>, <Node id=1075>], 'Max': 39, 'Temperature': 28, 'msgKey': 69}\n",
      "FLOODING\n",
      "39\n",
      "{'Neighbors': [<Node id=1276>, <Node id=1138>, <Node id=1063>, <Node id=1495>, <Node id=1305>, <Node id=1082>, <Node id=1215>, <Node id=1507>, <Node id=1356>, <Node id=1382>, <Node id=1114>, <Node id=1467>, <Node id=1196>, <Node id=1447>, <Node id=1257>, <Node id=1432>, <Node id=1219>, <Node id=1186>, <Node id=1209>, <Node id=1487>, <Node id=1526>, <Node id=1408>, <Node id=1295>, <Node id=1399>, <Node id=1325>, <Node id=1249>, <Node id=1435>, <Node id=1478>, <Node id=1375>, <Node id=1109>, <Node id=1289>, <Node id=1530>, <Node id=1340>, <Node id=1264>, <Node id=1353>, <Node id=1239>, <Node id=1455>, <Node id=1470>, <Node id=1394>, <Node id=1428>, <Node id=1452>], 'Max': 39, 'Temperature': 33, 'msgKey': 121}\n",
      "FLOODING\n",
      "39\n",
      "{'Neighbors': [<Node id=1434>, <Node id=1122>, <Node id=1187>, <Node id=1330>, <Node id=1254>, <Node id=1529>, <Node id=1318>, <Node id=1368>, <Node id=1073>, <Node id=1232>, <Node id=1535>, <Node id=1459>, <Node id=1081>, <Node id=1096>, <Node id=1060>, <Node id=1371>, <Node id=1336>, <Node id=1149>, <Node id=1461>, <Node id=1220>, <Node id=1525>, <Node id=1161>, <Node id=1512>, <Node id=1067>, <Node id=1247>, <Node id=1072>, <Node id=1099>, <Node id=1542>, <Node id=1124>, <Node id=1223>, <Node id=1287>, <Node id=1066>, <Node id=1457>, <Node id=1079>, <Node id=1313>, <Node id=1524>, <Node id=1519>, <Node id=1307>, <Node id=1203>, <Node id=1129>, <Node id=1154>, <Node id=1373>, <Node id=1376>, <Node id=1278>, <Node id=1357>, <Node id=1165>], 'Max': 39, 'Temperature': 18, 'msgKey': 181}\n",
      "FLOODING\n",
      "39\n",
      "{'Neighbors': [<Node id=1228>, <Node id=1419>, <Node id=1059>, <Node id=1485>, <Node id=1318>, <Node id=1471>, <Node id=1524>, <Node id=1397>, <Node id=1103>, <Node id=1096>, <Node id=1355>, <Node id=1097>, <Node id=1208>, <Node id=1108>, <Node id=1334>, <Node id=1202>, <Node id=1436>, <Node id=1525>, <Node id=1449>, <Node id=1373>, <Node id=1421>, <Node id=1336>, <Node id=1544>, <Node id=1062>, <Node id=1398>, <Node id=1092>, <Node id=1055>, <Node id=1261>, <Node id=1376>, <Node id=1313>, <Node id=1152>, <Node id=1542>, <Node id=1497>, <Node id=1214>, <Node id=1342>, <Node id=1315>, <Node id=1065>, <Node id=1379>, <Node id=1265>], 'Max': 39, 'Temperature': 3, 'msgKey': 191}\n",
      "FLOODING\n",
      "39\n",
      "{'Neighbors': [<Node id=1329>, <Node id=1420>, <Node id=1305>, <Node id=1356>, <Node id=1521>, <Node id=1272>, <Node id=1046>, <Node id=1488>, <Node id=1255>, <Node id=1080>, <Node id=1269>, <Node id=1412>, <Node id=1359>, <Node id=1296>, <Node id=1174>, <Node id=1246>, <Node id=1102>, <Node id=1202>, <Node id=1170>, <Node id=1120>, <Node id=1401>, <Node id=1132>, <Node id=1171>, <Node id=1527>, <Node id=1261>, <Node id=1058>, <Node id=1249>, <Node id=1389>, <Node id=1358>, <Node id=1275>, <Node id=1449>, <Node id=1126>, <Node id=1520>, <Node id=1386>, <Node id=1078>, <Node id=1496>], 'Max': 39, 'Temperature': 16, 'msgKey': 211}\n",
      "FLOODING\n",
      "39\n",
      "{'Neighbors': [<Node id=1063>, <Node id=1190>, <Node id=1495>, <Node id=1432>, <Node id=1215>, <Node id=1507>, <Node id=1114>, <Node id=1447>, <Node id=1196>, <Node id=1134>, <Node id=1302>, <Node id=1295>, <Node id=1219>, <Node id=1186>, <Node id=1209>, <Node id=1271>, <Node id=1462>, <Node id=1119>, <Node id=1526>, <Node id=1425>, <Node id=1438>, <Node id=1375>, <Node id=1399>, <Node id=1300>, <Node id=1435>, <Node id=1478>, <Node id=1491>, <Node id=1428>, <Node id=1276>, <Node id=1082>, <Node id=1530>, <Node id=1264>, <Node id=1353>, <Node id=1239>, <Node id=1394>], 'Max': 39, 'Temperature': 18, 'msgKey': 171}\n",
      "FLOODING\n",
      "39\n",
      "{'Neighbors': [<Node id=1160>, <Node id=1304>, <Node id=1355>, <Node id=1346>, <Node id=1318>, <Node id=1331>, <Node id=1073>, <Node id=1123>, <Node id=1431>, <Node id=1510>, <Node id=1230>, <Node id=1060>, <Node id=1371>, <Node id=1097>, <Node id=1108>, <Node id=1334>, <Node id=1512>, <Node id=1347>, <Node id=1497>, <Node id=1500>, <Node id=1213>, <Node id=1067>, <Node id=1395>, <Node id=1234>, <Node id=1398>, <Node id=1124>, <Node id=1299>, <Node id=1197>, <Node id=1274>, <Node id=1313>, <Node id=1542>, <Node id=1238>, <Node id=1405>, <Node id=1378>, <Node id=1145>, <Node id=1493>, <Node id=1544>, <Node id=1454>, <Node id=1444>, <Node id=1350>], 'Max': 39, 'Temperature': 4, 'msgKey': 157}\n",
      "FLOODING\n",
      "39\n",
      "{'Neighbors': [<Node id=1160>, <Node id=1365>, <Node id=1515>, <Node id=1475>, <Node id=1533>, <Node id=1293>, <Node id=1413>, <Node id=1181>, <Node id=1084>, <Node id=1367>, <Node id=1131>, <Node id=1185>, <Node id=1243>, <Node id=1244>, <Node id=1384>, <Node id=1543>, <Node id=1448>, <Node id=1205>, <Node id=1169>, <Node id=1121>, <Node id=1310>, <Node id=1050>, <Node id=1361>, <Node id=1374>, <Node id=1273>, <Node id=1168>, <Node id=1388>, <Node id=1454>, <Node id=1155>, <Node id=1200>, <Node id=1262>, <Node id=1224>, <Node id=1442>, <Node id=1441>, <Node id=1172>, <Node id=1492>, <Node id=1100>, <Node id=1251>, <Node id=1422>, <Node id=1426>, <Node id=1277>, <Node id=1115>, <Node id=1354>, <Node id=1177>], 'Max': 39, 'Temperature': 39, 'msgKey': 44}\n",
      "FLOODING\n",
      "39\n",
      "{'Neighbors': [<Node id=1086>, <Node id=1457>, <Node id=1149>, <Node id=1404>, <Node id=1268>, <Node id=1345>, <Node id=1232>, <Node id=1233>, <Node id=1161>, <Node id=1259>, <Node id=1323>, <Node id=1476>, <Node id=1464>, <Node id=1312>, <Node id=1477>, <Node id=1503>, <Node id=1400>, <Node id=1351>, <Node id=1519>, <Node id=1480>, <Node id=1366>, <Node id=1117>, <Node id=1173>, <Node id=1430>, <Node id=1494>], 'Max': 39, 'Temperature': 0, 'msgKey': 73}\n",
      "FLOODING\n",
      "39\n",
      "{'Neighbors': [<Node id=1190>, <Node id=1188>, <Node id=1098>, <Node id=1111>, <Node id=1090>, <Node id=1460>, <Node id=1425>, <Node id=1321>, <Node id=1372>, <Node id=1209>, <Node id=1462>, <Node id=1463>, <Node id=1407>, <Node id=1438>, <Node id=1324>, <Node id=1490>, <Node id=1119>, <Node id=1491>, <Node id=1326>, <Node id=1377>, <Node id=1276>, <Node id=1264>, <Node id=1414>], 'Max': 39, 'Temperature': 25, 'msgKey': 111}\n",
      "FLOODING\n",
      "39\n",
      "{'Neighbors': [<Node id=1052>, <Node id=1110>, <Node id=1180>, <Node id=1419>, <Node id=1059>, <Node id=1242>, <Node id=1505>, <Node id=1397>, <Node id=1150>, <Node id=1473>, <Node id=1182>, <Node id=1283>, <Node id=1065>, <Node id=1360>, <Node id=1191>, <Node id=1107>, <Node id=1222>, <Node id=1088>, <Node id=1540>, <Node id=1502>, <Node id=1184>, <Node id=1363>, <Node id=1465>, <Node id=1427>, <Node id=1504>, <Node id=1068>, <Node id=1250>, <Node id=1352>, <Node id=1545>, <Node id=1342>, <Node id=1424>, <Node id=1157>, <Node id=1531>, <Node id=1227>], 'Max': 39, 'Temperature': 17, 'msgKey': 166}\n",
      "FLOODING\n",
      "39\n",
      "{'Neighbors': [<Node id=1106>, <Node id=1118>, <Node id=1076>, <Node id=1301>, <Node id=1458>, <Node id=1418>, <Node id=1241>, <Node id=1411>, <Node id=1266>, <Node id=1049>, <Node id=1116>, <Node id=1311>, <Node id=1252>, <Node id=1070>, <Node id=1199>, <Node id=1071>, <Node id=1175>], 'Max': 39, 'Temperature': 32, 'msgKey': 49}\n",
      "FLOODING\n",
      "39\n",
      "{'Neighbors': [<Node id=1431>, <Node id=1160>, <Node id=1492>, <Node id=1304>, <Node id=1355>, <Node id=1533>, <Node id=1139>, <Node id=1454>, <Node id=1067>, <Node id=1331>, <Node id=1367>, <Node id=1123>, <Node id=1230>, <Node id=1243>, <Node id=1294>, <Node id=1089>, <Node id=1405>, <Node id=1371>, <Node id=1444>, <Node id=1206>, <Node id=1108>, <Node id=1205>, <Node id=1512>, <Node id=1169>, <Node id=1322>, <Node id=1538>, <Node id=1500>, <Node id=1213>, <Node id=1050>, <Node id=1234>, <Node id=1448>, <Node id=1510>, <Node id=1148>, <Node id=1489>, <Node id=1398>, <Node id=1378>, <Node id=1197>, <Node id=1475>, <Node id=1274>, <Node id=1262>, <Node id=1224>, <Node id=1310>, <Node id=1288>, <Node id=1238>, <Node id=1413>, <Node id=1131>, <Node id=1442>, <Node id=1277>, <Node id=1493>, <Node id=1115>, <Node id=1537>, <Node id=1350>], 'Max': 39, 'Temperature': -10, 'msgKey': 256}\n",
      "FLOODING\n",
      "39\n",
      "{'Neighbors': [<Node id=1380>, <Node id=1348>, <Node id=1292>, <Node id=1047>, <Node id=1443>, <Node id=1488>, <Node id=1255>, <Node id=1344>, <Node id=1522>, <Node id=1539>, <Node id=1383>, <Node id=1231>, <Node id=1057>, <Node id=1258>, <Node id=1296>, <Node id=1309>, <Node id=1087>, <Node id=1386>, <Node id=1221>, <Node id=1489>, <Node id=1272>, <Node id=1401>, <Node id=1193>, <Node id=1349>, <Node id=1101>, <Node id=1147>, <Node id=1085>, <Node id=1439>, <Node id=1440>, <Node id=1327>, <Node id=1415>, <Node id=1159>, <Node id=1445>, <Node id=1156>, <Node id=1235>, <Node id=1513>, <Node id=1316>], 'Max': 39, 'Temperature': 7, 'msgKey': 217}\n",
      "FLOODING\n",
      "39\n",
      "{'Neighbors': [<Node id=1405>, <Node id=1415>, <Node id=1431>, <Node id=1515>, <Node id=1221>, <Node id=1292>, <Node id=1047>, <Node id=1205>, <Node id=1522>, <Node id=1185>, <Node id=1539>, <Node id=1510>, <Node id=1413>, <Node id=1057>, <Node id=1422>, <Node id=1448>, <Node id=1258>, <Node id=1169>, <Node id=1273>, <Node id=1513>, <Node id=1050>, <Node id=1489>, <Node id=1166>, <Node id=1349>, <Node id=1101>, <Node id=1168>, <Node id=1085>, <Node id=1197>, <Node id=1454>, <Node id=1262>, <Node id=1440>, <Node id=1146>, <Node id=1441>, <Node id=1365>, <Node id=1327>, <Node id=1251>, <Node id=1159>, <Node id=1426>, <Node id=1354>, <Node id=1115>, <Node id=1316>, <Node id=1367>], 'Max': 39, 'Temperature': -3, 'msgKey': 288}\n",
      "FLOODING\n",
      "39\n",
      "{'Neighbors': [<Node id=1160>, <Node id=1122>, <Node id=1187>, <Node id=1091>, <Node id=1533>, <Node id=1330>, <Node id=1508>, <Node id=1343>, <Node id=1483>, <Node id=1145>, <Node id=1331>, <Node id=1230>, <Node id=1453>, <Node id=1243>, <Node id=1536>, <Node id=1294>, <Node id=1089>, <Node id=1060>, <Node id=1371>, <Node id=1158>, <Node id=1206>, <Node id=1456>, <Node id=1537>, <Node id=1423>, <Node id=1474>, <Node id=1167>, <Node id=1538>, <Node id=1213>, <Node id=1475>, <Node id=1067>, <Node id=1512>, <Node id=1247>, <Node id=1260>, <Node id=1069>, <Node id=1099>, <Node id=1234>, <Node id=1402>, <Node id=1542>, <Node id=1124>, <Node id=1322>, <Node id=1338>, <Node id=1384>, <Node id=1304>, <Node id=1529>, <Node id=1288>, <Node id=1307>, <Node id=1479>, <Node id=1238>, <Node id=1112>, <Node id=1406>, <Node id=1493>, <Node id=1328>, <Node id=1444>, <Node id=1357>, <Node id=1165>], 'Max': 39, 'Temperature': -14, 'msgKey': 217}\n",
      "FLOODING\n",
      "39\n",
      "{'Neighbors': [<Node id=1403>, <Node id=1404>, <Node id=1254>, <Node id=1216>, <Node id=1529>, <Node id=1318>, <Node id=1073>, <Node id=1306>, <Node id=1268>, <Node id=1535>, <Node id=1135>, <Node id=1103>, <Node id=1357>, <Node id=1096>, <Node id=1129>, <Node id=1232>, <Node id=1516>, <Node id=1461>, <Node id=1220>, <Node id=1505>, <Node id=1233>, <Node id=1459>, <Node id=1524>, <Node id=1161>, <Node id=1297>, <Node id=1400>, <Node id=1457>, <Node id=1323>, <Node id=1336>, <Node id=1387>, <Node id=1531>, <Node id=1476>, <Node id=1419>, <Node id=1141>, <Node id=1451>, <Node id=1312>, <Node id=1223>, <Node id=1464>, <Node id=1525>, <Node id=1066>, <Node id=1056>, <Node id=1351>, <Node id=1152>, <Node id=1203>, <Node id=1154>, <Node id=1503>, <Node id=1373>, <Node id=1314>, <Node id=1376>, <Node id=1519>, <Node id=1278>], 'Max': 39, 'Temperature': -4, 'msgKey': 251}\n",
      "FLOODING\n",
      "39\n",
      "{'Neighbors': [<Node id=1393>, <Node id=1054>, <Node id=1363>, <Node id=1180>, <Node id=1229>, <Node id=1458>, <Node id=1311>, <Node id=1541>, <Node id=1409>, <Node id=1077>, <Node id=1427>, <Node id=1053>, <Node id=1360>, <Node id=1335>, <Node id=1107>, <Node id=1074>, <Node id=1178>, <Node id=1088>, <Node id=1362>, <Node id=1286>, <Node id=1198>, <Node id=1068>, <Node id=1095>, <Node id=1236>, <Node id=1465>, <Node id=1064>, <Node id=1143>, <Node id=1339>, <Node id=1237>, <Node id=1153>, <Node id=1250>, <Node id=1511>, <Node id=1545>, <Node id=1424>, <Node id=1429>, <Node id=1157>, <Node id=1204>, <Node id=1266>, <Node id=1199>], 'Max': 39, 'Temperature': 17, 'msgKey': 153}\n",
      "FLOODING\n",
      "39\n",
      "{'Neighbors': [<Node id=1106>, <Node id=1052>, <Node id=1499>, <Node id=1076>, <Node id=1157>, <Node id=1468>, <Node id=1290>, <Node id=1418>, <Node id=1189>, <Node id=1248>, <Node id=1506>, <Node id=1068>, <Node id=1390>, <Node id=1217>, <Node id=1070>, <Node id=1504>, <Node id=1540>, <Node id=1113>, <Node id=1391>, <Node id=1118>], 'Max': 39, 'Temperature': 29, 'msgKey': 77}\n",
      "FLOODING\n",
      "39\n",
      "{'Neighbors': [<Node id=1403>, <Node id=1461>, <Node id=1228>, <Node id=1110>, <Node id=1404>, <Node id=1254>, <Node id=1216>, <Node id=1318>, <Node id=1306>, <Node id=1073>, <Node id=1268>, <Node id=1535>, <Node id=1397>, <Node id=1103>, <Node id=1357>, <Node id=1096>, <Node id=1129>, <Node id=1182>, <Node id=1149>, <Node id=1516>, <Node id=1315>, <Node id=1220>, <Node id=1525>, <Node id=1459>, <Node id=1161>, <Node id=1297>, <Node id=1421>, <Node id=1336>, <Node id=1387>, <Node id=1531>, <Node id=1505>, <Node id=1062>, <Node id=1502>, <Node id=1451>, <Node id=1055>, <Node id=1059>, <Node id=1056>, <Node id=1524>, <Node id=1471>, <Node id=1314>, <Node id=1419>, <Node id=1154>, <Node id=1503>, <Node id=1065>, <Node id=1373>, <Node id=1352>, <Node id=1376>, <Node id=1473>, <Node id=1136>], 'Max': 39, 'Temperature': -13, 'msgKey': 193}\n",
      "FLOODING\n",
      "39\n",
      "{'Neighbors': [<Node id=1054>, <Node id=1470>, <Node id=1229>, <Node id=1408>, <Node id=1465>, <Node id=1433>, <Node id=1150>, <Node id=1511>, <Node id=1077>, <Node id=1074>, <Node id=1178>, <Node id=1286>, <Node id=1198>, <Node id=1541>, <Node id=1095>, <Node id=1236>, <Node id=1452>, <Node id=1237>, <Node id=1250>, <Node id=1201>, <Node id=1289>, <Node id=1429>, <Node id=1053>, <Node id=1204>, <Node id=1455>, <Node id=1393>, <Node id=1481>, <Node id=1240>], 'Max': 39, 'Temperature': 34, 'msgKey': 82}\n",
      "FLOODING\n",
      "39\n",
      "{'Neighbors': [<Node id=1403>, <Node id=1110>, <Node id=1404>, <Node id=1254>, <Node id=1216>, <Node id=1318>, <Node id=1306>, <Node id=1073>, <Node id=1268>, <Node id=1535>, <Node id=1135>, <Node id=1103>, <Node id=1357>, <Node id=1096>, <Node id=1129>, <Node id=1182>, <Node id=1149>, <Node id=1516>, <Node id=1461>, <Node id=1220>, <Node id=1505>, <Node id=1233>, <Node id=1459>, <Node id=1524>, <Node id=1161>, <Node id=1297>, <Node id=1400>, <Node id=1457>, <Node id=1323>, <Node id=1336>, <Node id=1387>, <Node id=1476>, <Node id=1062>, <Node id=1451>, <Node id=1312>, <Node id=1223>, <Node id=1464>, <Node id=1525>, <Node id=1066>, <Node id=1056>, <Node id=1351>, <Node id=1152>, <Node id=1471>, <Node id=1314>, <Node id=1419>, <Node id=1373>, <Node id=1503>, <Node id=1315>, <Node id=1531>, <Node id=1352>, <Node id=1376>, <Node id=1519>, <Node id=1473>, <Node id=1278>], 'Max': 39, 'Temperature': 9, 'msgKey': 266}\n",
      "FLOODING\n",
      "39\n",
      "{'Neighbors': [<Node id=1417>, <Node id=1172>, <Node id=1140>, <Node id=1293>, <Node id=1319>, <Node id=1244>, <Node id=1422>, <Node id=1093>, <Node id=1543>, <Node id=1185>, <Node id=1169>, <Node id=1121>, <Node id=1361>, <Node id=1374>, <Node id=1298>, <Node id=1168>, <Node id=1273>, <Node id=1426>, <Node id=1528>, <Node id=1181>, <Node id=1364>, <Node id=1441>, <Node id=1365>, <Node id=1100>, <Node id=1251>, <Node id=1515>, <Node id=1446>, <Node id=1354>, <Node id=1177>], 'Max': 39, 'Temperature': 13, 'msgKey': 113}\n",
      "FLOODING\n",
      "39\n",
      "{'Neighbors': [<Node id=1380>, <Node id=1348>, <Node id=1279>, <Node id=1410>, <Node id=1211>, <Node id=1469>, <Node id=1125>, <Node id=1443>, <Node id=1484>, <Node id=1522>, <Node id=1183>, <Node id=1383>, <Node id=1523>, <Node id=1282>, <Node id=1308>, <Node id=1303>, <Node id=1309>, <Node id=1332>, <Node id=1513>, <Node id=1221>, <Node id=1166>, <Node id=1193>, <Node id=1445>, <Node id=1349>, <Node id=1235>, <Node id=1439>, <Node id=1528>, <Node id=1146>, <Node id=1320>, <Node id=1047>, <Node id=1416>, <Node id=1226>, <Node id=1539>, <Node id=1392>, <Node id=1415>, <Node id=1532>], 'Max': 39, 'Temperature': -1, 'msgKey': 281}\n",
      "FLOODING\n",
      "39\n",
      "{'Neighbors': [<Node id=1052>, <Node id=1107>, <Node id=1180>, <Node id=1369>, <Node id=1504>, <Node id=1150>, <Node id=1283>, <Node id=1499>, <Node id=1360>, <Node id=1335>, <Node id=1106>, <Node id=1222>, <Node id=1088>, <Node id=1362>, <Node id=1427>, <Node id=1540>, <Node id=1248>, <Node id=1070>, <Node id=1143>, <Node id=1189>, <Node id=1068>, <Node id=1390>, <Node id=1502>, <Node id=1468>, <Node id=1352>, <Node id=1545>, <Node id=1424>, <Node id=1391>, <Node id=1151>, <Node id=1506>, <Node id=1199>, <Node id=1242>], 'Max': 39, 'Temperature': -2, 'msgKey': 187}\n",
      "FLOODING\n",
      "39\n",
      "{'Neighbors': [<Node id=1456>, <Node id=1187>, <Node id=1091>, <Node id=1381>, <Node id=1343>, <Node id=1195>, <Node id=1453>, <Node id=1370>, <Node id=1294>, <Node id=1089>, <Node id=1536>, <Node id=1498>, <Node id=1130>, <Node id=1206>, <Node id=1537>, <Node id=1423>, <Node id=1474>, <Node id=1322>, <Node id=1538>, <Node id=1179>, <Node id=1437>, <Node id=1450>, <Node id=1247>, <Node id=1260>, <Node id=1069>, <Node id=1148>, <Node id=1099>, <Node id=1508>, <Node id=1402>, <Node id=1218>, <Node id=1167>, <Node id=1176>, <Node id=1338>, <Node id=1288>, <Node id=1307>, <Node id=1483>, <Node id=1479>, <Node id=1122>, <Node id=1112>, <Node id=1406>, <Node id=1493>, <Node id=1328>, <Node id=1341>], 'Max': 39, 'Temperature': -2, 'msgKey': 127}\n",
      "FLOODING\n",
      "39\n",
      "{'Neighbors': [<Node id=1431>, <Node id=1221>, <Node id=1292>, <Node id=1327>, <Node id=1488>, <Node id=1255>, <Node id=1344>, <Node id=1123>, <Node id=1080>, <Node id=1401>, <Node id=1513>, <Node id=1510>, <Node id=1413>, <Node id=1057>, <Node id=1346>, <Node id=1359>, <Node id=1258>, <Node id=1296>, <Node id=1347>, <Node id=1087>, <Node id=1500>, <Node id=1386>, <Node id=1050>, <Node id=1489>, <Node id=1272>, <Node id=1285>, <Node id=1349>, <Node id=1101>, <Node id=1147>, <Node id=1398>, <Node id=1170>, <Node id=1299>, <Node id=1197>, <Node id=1454>, <Node id=1262>, <Node id=1440>, <Node id=1395>, <Node id=1146>, <Node id=1405>, <Node id=1126>, <Node id=1378>, <Node id=1115>, <Node id=1316>, <Node id=1350>], 'Max': 39, 'Temperature': -9, 'msgKey': 259}\n",
      "FLOODING\n",
      "39\n",
      "{'Neighbors': [<Node id=1431>, <Node id=1492>, <Node id=1304>, <Node id=1475>, <Node id=1533>, <Node id=1139>, <Node id=1413>, <Node id=1206>, <Node id=1483>, <Node id=1145>, <Node id=1331>, <Node id=1338>, <Node id=1084>, <Node id=1367>, <Node id=1123>, <Node id=1230>, <Node id=1243>, <Node id=1294>, <Node id=1444>, <Node id=1089>, <Node id=1405>, <Node id=1244>, <Node id=1384>, <Node id=1140>, <Node id=1448>, <Node id=1205>, <Node id=1169>, <Node id=1322>, <Node id=1538>, <Node id=1213>, <Node id=1050>, <Node id=1234>, <Node id=1510>, <Node id=1148>, <Node id=1489>, <Node id=1388>, <Node id=1197>, <Node id=1274>, <Node id=1181>, <Node id=1200>, <Node id=1262>, <Node id=1224>, <Node id=1310>, <Node id=1288>, <Node id=1442>, <Node id=1441>, <Node id=1238>, <Node id=1100>, <Node id=1131>, <Node id=1426>, <Node id=1277>, <Node id=1328>, <Node id=1454>, <Node id=1493>, <Node id=1115>, <Node id=1537>, <Node id=1350>], 'Max': 39, 'Temperature': 22, 'msgKey': 225}\n",
      "FLOODING\n",
      "39\n",
      "{'Neighbors': [<Node id=1403>, <Node id=1457>, <Node id=1254>, <Node id=1216>, <Node id=1404>, <Node id=1306>, <Node id=1268>, <Node id=1535>, <Node id=1135>, <Node id=1376>, <Node id=1096>, <Node id=1129>, <Node id=1477>, <Node id=1149>, <Node id=1516>, <Node id=1461>, <Node id=1220>, <Node id=1505>, <Node id=1233>, <Node id=1459>, <Node id=1297>, <Node id=1400>, <Node id=1323>, <Node id=1336>, <Node id=1387>, <Node id=1531>, <Node id=1476>, <Node id=1451>, <Node id=1141>, <Node id=1312>, <Node id=1223>, <Node id=1464>, <Node id=1525>, <Node id=1066>, <Node id=1056>, <Node id=1351>, <Node id=1152>, <Node id=1519>, <Node id=1314>, <Node id=1154>, <Node id=1503>, <Node id=1232>, <Node id=1117>, <Node id=1173>, <Node id=1494>, <Node id=1278>], 'Max': 39, 'Temperature': 37, 'msgKey': 136}\n",
      "FLOODING\n",
      "39\n",
      "{'Neighbors': [<Node id=1253>, <Node id=1086>, <Node id=1127>, <Node id=1195>, <Node id=1280>, <Node id=1192>, <Node id=1207>, <Node id=1281>, <Node id=1176>, <Node id=1075>, <Node id=1270>, <Node id=1245>, <Node id=1179>, <Node id=1072>, <Node id=1048>, <Node id=1083>, <Node id=1287>, <Node id=1263>, <Node id=1480>, <Node id=1366>, <Node id=1430>, <Node id=1133>], 'Max': 39, 'Temperature': 11, 'msgKey': 85}\n",
      "FLOODING\n",
      "39\n",
      "{'Neighbors': [<Node id=1061>, <Node id=1058>, <Node id=1164>, <Node id=1521>, <Node id=1496>, <Node id=1420>, <Node id=1051>, <Node id=1482>, <Node id=1284>, <Node id=1256>, <Node id=1514>, <Node id=1171>, <Node id=1324>, <Node id=1210>, <Node id=1094>, <Node id=1212>, <Node id=1194>, <Node id=1517>, <Node id=1225>, <Node id=1291>, <Node id=1396>, <Node id=1518>, <Node id=1520>, <Node id=1317>, <Node id=1509>], 'Max': 39, 'Temperature': -12, 'msgKey': 217}\n",
      "FLOODING\n",
      "39\n",
      "{'Neighbors': [<Node id=1380>, <Node id=1482>, <Node id=1255>, <Node id=1521>, <Node id=1496>, <Node id=1420>, <Node id=1344>, <Node id=1051>, <Node id=1231>, <Node id=1163>, <Node id=1412>, <Node id=1309>, <Node id=1284>, <Node id=1132>, <Node id=1514>, <Node id=1171>, <Node id=1235>, <Node id=1212>, <Node id=1210>, <Node id=1439>, <Node id=1058>, <Node id=1358>, <Node id=1527>, <Node id=1517>, <Node id=1225>, <Node id=1291>, <Node id=1396>, <Node id=1193>, <Node id=1520>, <Node id=1317>, <Node id=1509>, <Node id=1532>], 'Max': 39, 'Temperature': 15, 'msgKey': 218}\n",
      "FLOODING\n",
      "39\n",
      "{'Neighbors': [<Node id=1434>, <Node id=1187>, <Node id=1456>, <Node id=1330>, <Node id=1254>, <Node id=1343>, <Node id=1483>, <Node id=1280>, <Node id=1368>, <Node id=1073>, <Node id=1081>, <Node id=1535>, <Node id=1406>, <Node id=1135>, <Node id=1536>, <Node id=1089>, <Node id=1075>, <Node id=1060>, <Node id=1371>, <Node id=1247>, <Node id=1232>, <Node id=1537>, <Node id=1461>, <Node id=1423>, <Node id=1167>, <Node id=1313>, <Node id=1336>, <Node id=1512>, <Node id=1067>, <Node id=1130>, <Node id=1525>, <Node id=1260>, <Node id=1069>, <Node id=1099>, <Node id=1148>, <Node id=1542>, <Node id=1124>, <Node id=1223>, <Node id=1322>, <Node id=1287>, <Node id=1066>, <Node id=1457>, <Node id=1079>, <Node id=1096>, <Node id=1529>, <Node id=1072>, <Node id=1288>, <Node id=1307>, <Node id=1203>, <Node id=1122>, <Node id=1112>, <Node id=1318>, <Node id=1493>, <Node id=1479>, <Node id=1430>, <Node id=1357>, <Node id=1278>], 'Max': 39, 'Temperature': 3, 'msgKey': 169}\n",
      "FLOODING\n",
      "39\n",
      "{'Neighbors': [<Node id=1417>, <Node id=1279>, <Node id=1410>, <Node id=1211>, <Node id=1093>, <Node id=1125>, <Node id=1445>, <Node id=1293>, <Node id=1484>, <Node id=1522>, <Node id=1534>, <Node id=1319>, <Node id=1332>, <Node id=1513>, <Node id=1523>, <Node id=1282>, <Node id=1333>, <Node id=1422>, <Node id=1308>, <Node id=1446>, <Node id=1298>, <Node id=1273>, <Node id=1392>, <Node id=1221>, <Node id=1539>, <Node id=1105>, <Node id=1168>, <Node id=1147>, <Node id=1085>, <Node id=1528>, <Node id=1469>, <Node id=1364>, <Node id=1183>, <Node id=1320>, <Node id=1047>, <Node id=1443>, <Node id=1226>, <Node id=1156>, <Node id=1303>, <Node id=1415>], 'Max': 39, 'Temperature': 14, 'msgKey': 235}\n",
      "FLOODING\n",
      "39\n",
      "{'Neighbors': [<Node id=1434>, <Node id=1187>, <Node id=1091>, <Node id=1330>, <Node id=1381>, <Node id=1343>, <Node id=1195>, <Node id=1498>, <Node id=1081>, <Node id=1453>, <Node id=1370>, <Node id=1294>, <Node id=1089>, <Node id=1536>, <Node id=1371>, <Node id=1130>, <Node id=1456>, <Node id=1537>, <Node id=1423>, <Node id=1474>, <Node id=1322>, <Node id=1538>, <Node id=1179>, <Node id=1437>, <Node id=1368>, <Node id=1450>, <Node id=1247>, <Node id=1260>, <Node id=1069>, <Node id=1099>, <Node id=1148>, <Node id=1508>, <Node id=1402>, <Node id=1218>, <Node id=1176>, <Node id=1338>, <Node id=1079>, <Node id=1529>, <Node id=1288>, <Node id=1307>, <Node id=1483>, <Node id=1479>, <Node id=1122>, <Node id=1112>, <Node id=1406>, <Node id=1493>, <Node id=1328>, <Node id=1158>, <Node id=1165>], 'Max': 39, 'Temperature': -1, 'msgKey': 145}\n",
      "FLOODING\n",
      "39\n",
      "{'Neighbors': [<Node id=1417>, <Node id=1365>, <Node id=1515>, <Node id=1221>, <Node id=1293>, <Node id=1100>, <Node id=1181>, <Node id=1367>, <Node id=1185>, <Node id=1413>, <Node id=1244>, <Node id=1422>, <Node id=1140>, <Node id=1543>, <Node id=1448>, <Node id=1205>, <Node id=1169>, <Node id=1121>, <Node id=1050>, <Node id=1489>, <Node id=1361>, <Node id=1166>, <Node id=1374>, <Node id=1298>, <Node id=1273>, <Node id=1147>, <Node id=1085>, <Node id=1528>, <Node id=1155>, <Node id=1262>, <Node id=1224>, <Node id=1441>, <Node id=1172>, <Node id=1492>, <Node id=1047>, <Node id=1415>, <Node id=1251>, <Node id=1426>, <Node id=1277>, <Node id=1115>, <Node id=1354>, <Node id=1177>], 'Max': 39, 'Temperature': 33, 'msgKey': 124}\n",
      "FLOODING\n",
      "39\n",
      "{'Neighbors': [<Node id=1160>, <Node id=1365>, <Node id=1515>, <Node id=1475>, <Node id=1533>, <Node id=1413>, <Node id=1145>, <Node id=1181>, <Node id=1084>, <Node id=1251>, <Node id=1185>, <Node id=1243>, <Node id=1426>, <Node id=1244>, <Node id=1384>, <Node id=1140>, <Node id=1543>, <Node id=1448>, <Node id=1205>, <Node id=1367>, <Node id=1121>, <Node id=1273>, <Node id=1310>, <Node id=1050>, <Node id=1489>, <Node id=1361>, <Node id=1374>, <Node id=1168>, <Node id=1147>, <Node id=1085>, <Node id=1454>, <Node id=1155>, <Node id=1200>, <Node id=1262>, <Node id=1224>, <Node id=1442>, <Node id=1441>, <Node id=1172>, <Node id=1492>, <Node id=1100>, <Node id=1131>, <Node id=1422>, <Node id=1388>, <Node id=1277>, <Node id=1115>, <Node id=1354>, <Node id=1177>], 'Max': 39, 'Temperature': -3, 'msgKey': 231}\n",
      "FLOODING\n",
      "39\n",
      "{'Neighbors': [<Node id=1420>, <Node id=1292>, <Node id=1412>, <Node id=1488>, <Node id=1046>, <Node id=1255>, <Node id=1378>, <Node id=1080>, <Node id=1401>, <Node id=1269>, <Node id=1137>, <Node id=1346>, <Node id=1359>, <Node id=1334>, <Node id=1296>, <Node id=1174>, <Node id=1087>, <Node id=1246>, <Node id=1202>, <Node id=1347>, <Node id=1272>, <Node id=1285>, <Node id=1132>, <Node id=1120>, <Node id=1101>, <Node id=1395>, <Node id=1299>, <Node id=1389>, <Node id=1358>, <Node id=1275>, <Node id=1449>, <Node id=1527>, <Node id=1126>, <Node id=1316>, <Node id=1159>, <Node id=1261>, <Node id=1520>, <Node id=1386>, <Node id=1078>], 'Max': 39, 'Temperature': 4, 'msgKey': 305}\n",
      "FLOODING\n",
      "39\n",
      "{'Neighbors': [<Node id=1163>, <Node id=1061>, <Node id=1094>, <Node id=1482>, <Node id=1164>, <Node id=1267>, <Node id=1046>, <Node id=1255>, <Node id=1420>, <Node id=1051>, <Node id=1269>, <Node id=1137>, <Node id=1257>, <Node id=1412>, <Node id=1194>, <Node id=1132>, <Node id=1514>, <Node id=1120>, <Node id=1527>, <Node id=1212>, <Node id=1210>, <Node id=1058>, <Node id=1521>, <Node id=1358>, <Node id=1284>, <Node id=1517>, <Node id=1225>, <Node id=1396>, <Node id=1518>, <Node id=1256>, <Node id=1520>, <Node id=1509>, <Node id=1078>, <Node id=1496>], 'Max': 39, 'Temperature': 29, 'msgKey': 166}\n",
      "FLOODING\n",
      "39\n",
      "{'Neighbors': [<Node id=1417>, <Node id=1492>, <Node id=1515>, <Node id=1543>, <Node id=1293>, <Node id=1084>, <Node id=1185>, <Node id=1181>, <Node id=1244>, <Node id=1140>, <Node id=1205>, <Node id=1169>, <Node id=1121>, <Node id=1361>, <Node id=1374>, <Node id=1298>, <Node id=1168>, <Node id=1388>, <Node id=1155>, <Node id=1441>, <Node id=1365>, <Node id=1100>, <Node id=1251>, <Node id=1426>, <Node id=1354>, <Node id=1177>], 'Max': 39, 'Temperature': 35, 'msgKey': 76}\n",
      "FLOODING\n",
      "39\n",
      "{'Neighbors': [<Node id=1086>, <Node id=1457>, <Node id=1268>, <Node id=1066>, <Node id=1075>, <Node id=1232>, <Node id=1141>, <Node id=1233>, <Node id=1161>, <Node id=1072>, <Node id=1464>, <Node id=1312>, <Node id=1477>, <Node id=1083>, <Node id=1287>, <Node id=1503>, <Node id=1400>, <Node id=1351>, <Node id=1519>, <Node id=1480>, <Node id=1366>, <Node id=1117>, <Node id=1430>], 'Max': 39, 'Temperature': 37, 'msgKey': 67}\n",
      "FLOODING\n",
      "39\n",
      "{'Neighbors': [<Node id=1329>, <Node id=1507>, <Node id=1305>, <Node id=1356>, <Node id=1046>, <Node id=1114>, <Node id=1467>, <Node id=1269>, <Node id=1137>, <Node id=1501>, <Node id=1486>, <Node id=1202>, <Node id=1487>, <Node id=1449>, <Node id=1128>, <Node id=1170>, <Node id=1132>, <Node id=1120>, <Node id=1527>, <Node id=1261>, <Node id=1325>, <Node id=1249>, <Node id=1389>, <Node id=1485>, <Node id=1275>, <Node id=1246>, <Node id=1109>, <Node id=1102>, <Node id=1078>], 'Max': 39, 'Temperature': 36, 'msgKey': 113}\n",
      "FLOODING\n",
      "39\n",
      "{'Neighbors': [<Node id=1106>, <Node id=1118>, <Node id=1076>, <Node id=1144>, <Node id=1458>, <Node id=1241>, <Node id=1411>, <Node id=1266>, <Node id=1049>, <Node id=1116>, <Node id=1252>, <Node id=1070>, <Node id=1301>, <Node id=1071>, <Node id=1418>], 'Max': 39, 'Temperature': -15, 'msgKey': 71}\n",
      "FLOODING\n",
      "39\n",
      "{'Neighbors': [<Node id=1253>, <Node id=1434>, <Node id=1127>, <Node id=1381>, <Node id=1195>, <Node id=1280>, <Node id=1192>, <Node id=1281>, <Node id=1370>, <Node id=1218>, <Node id=1162>, <Node id=1130>, <Node id=1270>, <Node id=1245>, <Node id=1423>, <Node id=1167>, <Node id=1179>, <Node id=1437>, <Node id=1450>, <Node id=1158>, <Node id=1260>, <Node id=1307>, <Node id=1207>, <Node id=1263>, <Node id=1479>, <Node id=1122>, <Node id=1048>, <Node id=1498>], 'Max': 39, 'Temperature': 18, 'msgKey': 109}\n",
      "FLOODING\n",
      "39\n",
      "{'Neighbors': [<Node id=1417>, <Node id=1365>, <Node id=1515>, <Node id=1543>, <Node id=1293>, <Node id=1084>, <Node id=1185>, <Node id=1181>, <Node id=1244>, <Node id=1422>, <Node id=1140>, <Node id=1205>, <Node id=1169>, <Node id=1121>, <Node id=1361>, <Node id=1374>, <Node id=1298>, <Node id=1168>, <Node id=1273>, <Node id=1388>, <Node id=1155>, <Node id=1441>, <Node id=1172>, <Node id=1492>, <Node id=1100>, <Node id=1251>, <Node id=1426>, <Node id=1354>, <Node id=1367>], 'Max': 39, 'Temperature': 15, 'msgKey': 113}\n",
      "FLOODING\n",
      "39\n",
      "{'Neighbors': [<Node id=1465>, <Node id=1511>, <Node id=1054>, <Node id=1236>, <Node id=1470>, <Node id=1229>, <Node id=1408>, <Node id=1382>, <Node id=1433>, <Node id=1104>, <Node id=1150>, <Node id=1409>, <Node id=1077>, <Node id=1353>, <Node id=1526>, <Node id=1107>, <Node id=1074>, <Node id=1286>, <Node id=1198>, <Node id=1541>, <Node id=1095>, <Node id=1363>, <Node id=1452>, <Node id=1339>, <Node id=1237>, <Node id=1153>, <Node id=1250>, <Node id=1201>, <Node id=1545>, <Node id=1289>, <Node id=1340>, <Node id=1429>, <Node id=1053>, <Node id=1455>, <Node id=1393>, <Node id=1481>, <Node id=1240>], 'Max': 39, 'Temperature': 35, 'msgKey': 109}\n",
      "FLOODING\n",
      "39\n",
      "{'Neighbors': [<Node id=1253>, <Node id=1434>, <Node id=1127>, <Node id=1368>, <Node id=1381>, <Node id=1195>, <Node id=1280>, <Node id=1192>, <Node id=1207>, <Node id=1081>, <Node id=1281>, <Node id=1218>, <Node id=1075>, <Node id=1498>, <Node id=1162>, <Node id=1287>, <Node id=1158>, <Node id=1270>, <Node id=1245>, <Node id=1423>, <Node id=1167>, <Node id=1450>, <Node id=1130>, <Node id=1260>, <Node id=1072>, <Node id=1307>, <Node id=1083>, <Node id=1176>, <Node id=1079>, <Node id=1263>, <Node id=1203>, <Node id=1122>, <Node id=1048>, <Node id=1479>, <Node id=1430>, <Node id=1133>], 'Max': 39, 'Temperature': -13, 'msgKey': 316}\n",
      "FLOODING\n",
      "39\n",
      "{'Neighbors': [<Node id=1052>, <Node id=1054>, <Node id=1107>, <Node id=1458>, <Node id=1363>, <Node id=1242>, <Node id=1504>, <Node id=1150>, <Node id=1540>, <Node id=1077>, <Node id=1427>, <Node id=1360>, <Node id=1222>, <Node id=1335>, <Node id=1106>, <Node id=1311>, <Node id=1088>, <Node id=1362>, <Node id=1286>, <Node id=1236>, <Node id=1465>, <Node id=1064>, <Node id=1143>, <Node id=1189>, <Node id=1237>, <Node id=1068>, <Node id=1250>, <Node id=1545>, <Node id=1424>, <Node id=1157>, <Node id=1204>, <Node id=1468>, <Node id=1266>, <Node id=1199>], 'Max': 39, 'Temperature': 24, 'msgKey': 166}\n",
      "FLOODING\n",
      "39\n",
      "{'Neighbors': [<Node id=1160>, <Node id=1365>, <Node id=1515>, <Node id=1475>, <Node id=1533>, <Node id=1413>, <Node id=1293>, <Node id=1084>, <Node id=1367>, <Node id=1131>, <Node id=1185>, <Node id=1243>, <Node id=1244>, <Node id=1384>, <Node id=1140>, <Node id=1543>, <Node id=1448>, <Node id=1205>, <Node id=1169>, <Node id=1121>, <Node id=1310>, <Node id=1050>, <Node id=1361>, <Node id=1374>, <Node id=1168>, <Node id=1273>, <Node id=1388>, <Node id=1155>, <Node id=1200>, <Node id=1262>, <Node id=1224>, <Node id=1442>, <Node id=1441>, <Node id=1172>, <Node id=1492>, <Node id=1100>, <Node id=1251>, <Node id=1422>, <Node id=1426>, <Node id=1277>, <Node id=1115>, <Node id=1354>, <Node id=1177>], 'Max': 39, 'Temperature': 12, 'msgKey': 169}\n",
      "FLOODING\n",
      "39\n",
      "{'Neighbors': [<Node id=1403>, <Node id=1110>, <Node id=1471>, <Node id=1419>, <Node id=1216>, <Node id=1242>, <Node id=1404>, <Node id=1306>, <Node id=1505>, <Node id=1397>, <Node id=1103>, <Node id=1376>, <Node id=1129>, <Node id=1473>, <Node id=1283>, <Node id=1516>, <Node id=1065>, <Node id=1220>, <Node id=1360>, <Node id=1297>, <Node id=1421>, <Node id=1387>, <Node id=1222>, <Node id=1062>, <Node id=1502>, <Node id=1451>, <Node id=1055>, <Node id=1059>, <Node id=1056>, <Node id=1152>, <Node id=1184>, <Node id=1390>, <Node id=1314>, <Node id=1154>, <Node id=1391>, <Node id=1315>, <Node id=1531>, <Node id=1352>, <Node id=1143>, <Node id=1369>], 'Max': 39, 'Temperature': 5, 'msgKey': 274}\n",
      "FLOODING\n",
      "39\n",
      "{'Neighbors': [<Node id=1279>, <Node id=1410>, <Node id=1211>, <Node id=1125>, <Node id=1445>, <Node id=1484>, <Node id=1522>, <Node id=1332>, <Node id=1383>, <Node id=1523>, <Node id=1282>, <Node id=1308>, <Node id=1348>, <Node id=1166>, <Node id=1105>, <Node id=1439>, <Node id=1528>, <Node id=1303>, <Node id=1320>, <Node id=1469>, <Node id=1416>, <Node id=1226>, <Node id=1156>, <Node id=1539>, <Node id=1392>, <Node id=1443>], 'Max': 39, 'Temperature': -10, 'msgKey': 201}\n",
      "FLOODING\n",
      "39\n",
      "{'Neighbors': [<Node id=1059>, <Node id=1486>, <Node id=1397>, <Node id=1421>, <Node id=1485>, <Node id=1409>, <Node id=1077>, <Node id=1283>, <Node id=1360>, <Node id=1191>, <Node id=1107>, <Node id=1501>, <Node id=1427>, <Node id=1104>, <Node id=1092>, <Node id=1055>, <Node id=1363>, <Node id=1465>, <Node id=1143>, <Node id=1250>, <Node id=1339>, <Node id=1502>, <Node id=1545>, <Node id=1342>, <Node id=1128>, <Node id=1065>, <Node id=1182>, <Node id=1265>, <Node id=1227>, <Node id=1379>], 'Max': 39, 'Temperature': 35, 'msgKey': 88}\n",
      "FLOODING\n",
      "39\n",
      "{'Neighbors': [<Node id=1417>, <Node id=1365>, <Node id=1515>, <Node id=1221>, <Node id=1293>, <Node id=1100>, <Node id=1181>, <Node id=1367>, <Node id=1492>, <Node id=1510>, <Node id=1413>, <Node id=1244>, <Node id=1422>, <Node id=1140>, <Node id=1543>, <Node id=1448>, <Node id=1205>, <Node id=1169>, <Node id=1121>, <Node id=1168>, <Node id=1050>, <Node id=1489>, <Node id=1361>, <Node id=1374>, <Node id=1298>, <Node id=1273>, <Node id=1147>, <Node id=1085>, <Node id=1454>, <Node id=1155>, <Node id=1262>, <Node id=1224>, <Node id=1441>, <Node id=1172>, <Node id=1047>, <Node id=1415>, <Node id=1251>, <Node id=1426>, <Node id=1277>, <Node id=1115>, <Node id=1354>, <Node id=1177>], 'Max': 39, 'Temperature': 21, 'msgKey': 124}\n",
      "FLOODING\n",
      "39\n",
      "{'Neighbors': [<Node id=1276>, <Node id=1138>, <Node id=1495>, <Node id=1432>, <Node id=1215>, <Node id=1526>, <Node id=1382>, <Node id=1433>, <Node id=1196>, <Node id=1134>, <Node id=1447>, <Node id=1295>, <Node id=1219>, <Node id=1435>, <Node id=1209>, <Node id=1271>, <Node id=1408>, <Node id=1425>, <Node id=1375>, <Node id=1541>, <Node id=1399>, <Node id=1487>, <Node id=1452>, <Node id=1300>, <Node id=1478>, <Node id=1201>, <Node id=1063>, <Node id=1289>, <Node id=1530>, <Node id=1340>, <Node id=1302>, <Node id=1353>, <Node id=1455>, <Node id=1470>, <Node id=1394>, <Node id=1481>, <Node id=1240>], 'Max': 39, 'Temperature': 25, 'msgKey': 145}\n",
      "FLOODING\n",
      "39\n",
      "{'Neighbors': [<Node id=1456>, <Node id=1238>, <Node id=1304>, <Node id=1091>, <Node id=1330>, <Node id=1508>, <Node id=1343>, <Node id=1483>, <Node id=1234>, <Node id=1498>, <Node id=1368>, <Node id=1081>, <Node id=1230>, <Node id=1135>, <Node id=1536>, <Node id=1294>, <Node id=1089>, <Node id=1060>, <Node id=1371>, <Node id=1453>, <Node id=1158>, <Node id=1479>, <Node id=1206>, <Node id=1537>, <Node id=1423>, <Node id=1474>, <Node id=1167>, <Node id=1243>, <Node id=1213>, <Node id=1437>, <Node id=1067>, <Node id=1512>, <Node id=1450>, <Node id=1130>, <Node id=1260>, <Node id=1069>, <Node id=1099>, <Node id=1148>, <Node id=1402>, <Node id=1124>, <Node id=1223>, <Node id=1475>, <Node id=1322>, <Node id=1538>, <Node id=1338>, <Node id=1079>, <Node id=1529>, <Node id=1288>, <Node id=1307>, <Node id=1203>, <Node id=1247>, <Node id=1122>, <Node id=1112>, <Node id=1370>, <Node id=1406>, <Node id=1493>, <Node id=1328>, <Node id=1444>, <Node id=1357>, <Node id=1165>], 'Max': 39, 'Temperature': 2, 'msgKey': 178}\n",
      "FLOODING\n",
      "39\n",
      "{'Neighbors': [<Node id=1460>, <Node id=1326>, <Node id=1142>, <Node id=1491>, <Node id=1190>, <Node id=1438>, <Node id=1490>, <Node id=1321>, <Node id=1372>, <Node id=1414>, <Node id=1111>, <Node id=1119>, <Node id=1462>, <Node id=1377>], 'Max': 39, 'Temperature': 29, 'msgKey': 66}\n",
      "FLOODING\n",
      "39\n",
      "{'Neighbors': [<Node id=1052>, <Node id=1418>, <Node id=1151>, <Node id=1180>, <Node id=1506>, <Node id=1242>, <Node id=1217>, <Node id=1076>, <Node id=1499>, <Node id=1335>, <Node id=1106>, <Node id=1222>, <Node id=1088>, <Node id=1362>, <Node id=1540>, <Node id=1248>, <Node id=1118>, <Node id=1266>, <Node id=1070>, <Node id=1427>, <Node id=1504>, <Node id=1068>, <Node id=1390>, <Node id=1468>, <Node id=1424>, <Node id=1391>, <Node id=1157>, <Node id=1290>, <Node id=1252>, <Node id=1199>], 'Max': 39, 'Temperature': -12, 'msgKey': 117}\n",
      "FLOODING\n",
      "39\n",
      "{'Neighbors': [<Node id=1276>, <Node id=1138>, <Node id=1188>, <Node id=1215>, <Node id=1399>, <Node id=1460>, <Node id=1321>, <Node id=1209>, <Node id=1271>, <Node id=1462>, <Node id=1119>, <Node id=1142>, <Node id=1425>, <Node id=1438>, <Node id=1375>, <Node id=1490>, <Node id=1300>, <Node id=1478>, <Node id=1491>, <Node id=1326>, <Node id=1377>, <Node id=1063>, <Node id=1530>, <Node id=1302>, <Node id=1414>], 'Max': 39, 'Temperature': -11, 'msgKey': 169}\n",
      "FLOODING\n",
      "39\n",
      "{'Neighbors': [<Node id=1329>, <Node id=1059>, <Node id=1486>, <Node id=1397>, <Node id=1421>, <Node id=1485>, <Node id=1409>, <Node id=1077>, <Node id=1427>, <Node id=1360>, <Node id=1128>, <Node id=1107>, <Node id=1501>, <Node id=1104>, <Node id=1092>, <Node id=1095>, <Node id=1363>, <Node id=1465>, <Node id=1143>, <Node id=1339>, <Node id=1184>, <Node id=1250>, <Node id=1502>, <Node id=1545>, <Node id=1342>, <Node id=1467>, <Node id=1065>, <Node id=1379>, <Node id=1265>, <Node id=1227>, <Node id=1055>], 'Max': 39, 'Temperature': -4, 'msgKey': 121}\n",
      "FLOODING\n",
      "39\n",
      "{'Neighbors': [<Node id=1218>, <Node id=1450>, <Node id=1130>, <Node id=1498>, <Node id=1127>, <Node id=1263>, <Node id=1381>, <Node id=1245>, <Node id=1270>, <Node id=1195>, <Node id=1207>, <Node id=1048>, <Node id=1253>, <Node id=1423>, <Node id=1162>, <Node id=1176>, <Node id=1281>, <Node id=1179>], 'Max': 39, 'Temperature': 28, 'msgKey': 69}\n",
      "FLOODING\n",
      "39\n",
      "{'Neighbors': [<Node id=1380>, <Node id=1482>, <Node id=1164>, <Node id=1125>, <Node id=1445>, <Node id=1509>, <Node id=1344>, <Node id=1416>, <Node id=1383>, <Node id=1522>, <Node id=1231>, <Node id=1309>, <Node id=1284>, <Node id=1348>, <Node id=1539>, <Node id=1349>, <Node id=1235>, <Node id=1212>, <Node id=1439>, <Node id=1146>, <Node id=1291>, <Node id=1396>, <Node id=1156>, <Node id=1443>, <Node id=1532>], 'Max': 39, 'Temperature': 15, 'msgKey': 169}\n",
      "FLOODING\n",
      "39\n",
      "{'Neighbors': [<Node id=1163>, <Node id=1061>, <Node id=1267>, <Node id=1098>, <Node id=1090>, <Node id=1256>, <Node id=1257>, <Node id=1372>, <Node id=1514>, <Node id=1171>, <Node id=1463>, <Node id=1407>, <Node id=1111>, <Node id=1324>, <Node id=1210>, <Node id=1094>, <Node id=1119>, <Node id=1517>, <Node id=1225>, <Node id=1518>, <Node id=1317>, <Node id=1496>], 'Max': 39, 'Temperature': 3, 'msgKey': 169}\n",
      "FLOODING\n",
      "39\n",
      "{'Neighbors': [<Node id=1253>, <Node id=1127>, <Node id=1381>, <Node id=1192>, <Node id=1207>, <Node id=1281>, <Node id=1370>, <Node id=1218>, <Node id=1162>, <Node id=1130>, <Node id=1270>, <Node id=1245>, <Node id=1423>, <Node id=1167>, <Node id=1179>, <Node id=1437>, <Node id=1450>, <Node id=1158>, <Node id=1307>, <Node id=1176>, <Node id=1263>, <Node id=1479>, <Node id=1048>, <Node id=1498>], 'Max': 39, 'Temperature': 17, 'msgKey': 93}\n",
      "FLOODING\n",
      "39\n",
      "{'Neighbors': [<Node id=1276>, <Node id=1138>, <Node id=1063>, <Node id=1495>, <Node id=1305>, <Node id=1082>, <Node id=1215>, <Node id=1507>, <Node id=1356>, <Node id=1382>, <Node id=1114>, <Node id=1467>, <Node id=1300>, <Node id=1134>, <Node id=1447>, <Node id=1295>, <Node id=1432>, <Node id=1219>, <Node id=1186>, <Node id=1209>, <Node id=1487>, <Node id=1526>, <Node id=1408>, <Node id=1425>, <Node id=1375>, <Node id=1399>, <Node id=1433>, <Node id=1325>, <Node id=1249>, <Node id=1435>, <Node id=1478>, <Node id=1201>, <Node id=1109>, <Node id=1289>, <Node id=1530>, <Node id=1340>, <Node id=1264>, <Node id=1353>, <Node id=1239>, <Node id=1455>, <Node id=1470>, <Node id=1394>, <Node id=1428>, <Node id=1452>, <Node id=1240>], 'Max': 39, 'Temperature': 34, 'msgKey': 133}\n",
      "FLOODING\n",
      "39\n",
      "{'Neighbors': [<Node id=1160>, <Node id=1415>, <Node id=1431>, <Node id=1355>, <Node id=1139>, <Node id=1327>, <Node id=1145>, <Node id=1331>, <Node id=1205>, <Node id=1123>, <Node id=1080>, <Node id=1378>, <Node id=1510>, <Node id=1413>, <Node id=1057>, <Node id=1422>, <Node id=1346>, <Node id=1448>, <Node id=1258>, <Node id=1296>, <Node id=1347>, <Node id=1087>, <Node id=1440>, <Node id=1500>, <Node id=1273>, <Node id=1386>, <Node id=1050>, <Node id=1489>, <Node id=1285>, <Node id=1292>, <Node id=1101>, <Node id=1147>, <Node id=1398>, <Node id=1085>, <Node id=1350>, <Node id=1274>, <Node id=1262>, <Node id=1224>, <Node id=1395>, <Node id=1441>, <Node id=1405>, <Node id=1126>, <Node id=1251>, <Node id=1159>, <Node id=1299>, <Node id=1277>, <Node id=1454>, <Node id=1115>, <Node id=1316>, <Node id=1367>], 'Max': 39, 'Temperature': -5, 'msgKey': 295}\n",
      "FLOODING\n",
      "39\n",
      "{'Neighbors': [<Node id=1054>, <Node id=1435>, <Node id=1229>, <Node id=1408>, <Node id=1382>, <Node id=1433>, <Node id=1150>, <Node id=1511>, <Node id=1077>, <Node id=1526>, <Node id=1074>, <Node id=1178>, <Node id=1286>, <Node id=1541>, <Node id=1095>, <Node id=1236>, <Node id=1452>, <Node id=1470>, <Node id=1153>, <Node id=1339>, <Node id=1201>, <Node id=1289>, <Node id=1340>, <Node id=1429>, <Node id=1053>, <Node id=1204>, <Node id=1455>, <Node id=1393>, <Node id=1481>, <Node id=1240>], 'Max': 39, 'Temperature': -14, 'msgKey': 175}\n",
      "FLOODING\n",
      "39\n",
      "{'Neighbors': [<Node id=1052>, <Node id=1418>, <Node id=1107>, <Node id=1180>, <Node id=1049>, <Node id=1242>, <Node id=1311>, <Node id=1071>, <Node id=1150>, <Node id=1540>, <Node id=1411>, <Node id=1116>, <Node id=1335>, <Node id=1106>, <Node id=1222>, <Node id=1252>, <Node id=1088>, <Node id=1362>, <Node id=1286>, <Node id=1236>, <Node id=1070>, <Node id=1064>, <Node id=1427>, <Node id=1504>, <Node id=1237>, <Node id=1068>, <Node id=1189>, <Node id=1144>, <Node id=1424>, <Node id=1157>, <Node id=1204>, <Node id=1468>, <Node id=1266>, <Node id=1458>], 'Max': 39, 'Temperature': -9, 'msgKey': 166}\n",
      "FLOODING\n",
      "39\n",
      "{'Neighbors': [<Node id=1160>, <Node id=1091>, <Node id=1533>, <Node id=1206>, <Node id=1084>, <Node id=1230>, <Node id=1243>, <Node id=1294>, <Node id=1089>, <Node id=1244>, <Node id=1384>, <Node id=1140>, <Node id=1448>, <Node id=1205>, <Node id=1169>, <Node id=1121>, <Node id=1538>, <Node id=1474>, <Node id=1310>, <Node id=1475>, <Node id=1234>, <Node id=1069>, <Node id=1402>, <Node id=1388>, <Node id=1181>, <Node id=1338>, <Node id=1224>, <Node id=1444>, <Node id=1493>, <Node id=1492>, <Node id=1100>, <Node id=1131>, <Node id=1442>, <Node id=1277>, <Node id=1328>, <Node id=1341>, <Node id=1213>], 'Max': 39, 'Temperature': -8, 'msgKey': 181}\n",
      "FLOODING\n",
      "39\n",
      "{'Neighbors': [<Node id=1470>, <Node id=1229>, <Node id=1408>, <Node id=1382>, <Node id=1433>, <Node id=1196>, <Node id=1511>, <Node id=1219>, <Node id=1186>, <Node id=1526>, <Node id=1074>, <Node id=1178>, <Node id=1198>, <Node id=1541>, <Node id=1095>, <Node id=1452>, <Node id=1435>, <Node id=1153>, <Node id=1530>, <Node id=1289>, <Node id=1340>, <Node id=1429>, <Node id=1353>, <Node id=1455>, <Node id=1393>, <Node id=1481>, <Node id=1240>], 'Max': 39, 'Temperature': 5, 'msgKey': 157}\n",
      "FLOODING\n",
      "39\n",
      "{'Neighbors': [<Node id=1329>, <Node id=1228>, <Node id=1305>, <Node id=1342>, <Node id=1046>, <Node id=1359>, <Node id=1080>, <Node id=1269>, <Node id=1137>, <Node id=1346>, <Node id=1208>, <Node id=1334>, <Node id=1174>, <Node id=1436>, <Node id=1246>, <Node id=1128>, <Node id=1170>, <Node id=1501>, <Node id=1120>, <Node id=1347>, <Node id=1395>, <Node id=1104>, <Node id=1092>, <Node id=1136>, <Node id=1389>, <Node id=1485>, <Node id=1275>, <Node id=1449>, <Node id=1214>, <Node id=1486>, <Node id=1126>, <Node id=1102>, <Node id=1261>, <Node id=1379>, <Node id=1265>, <Node id=1078>], 'Max': 39, 'Temperature': -9, 'msgKey': 141}\n",
      "FLOODING\n",
      "39\n",
      "{'Neighbors': [<Node id=1434>, <Node id=1187>, <Node id=1430>, <Node id=1330>, <Node id=1254>, <Node id=1280>, <Node id=1073>, <Node id=1081>, <Node id=1535>, <Node id=1135>, <Node id=1307>, <Node id=1075>, <Node id=1060>, <Node id=1371>, <Node id=1130>, <Node id=1149>, <Node id=1456>, <Node id=1461>, <Node id=1423>, <Node id=1519>, <Node id=1459>, <Node id=1179>, <Node id=1368>, <Node id=1247>, <Node id=1260>, <Node id=1072>, <Node id=1099>, <Node id=1124>, <Node id=1223>, <Node id=1083>, <Node id=1287>, <Node id=1066>, <Node id=1457>, <Node id=1079>, <Node id=1351>, <Node id=1529>, <Node id=1406>, <Node id=1479>, <Node id=1122>, <Node id=1112>, <Node id=1232>, <Node id=1498>, <Node id=1278>, <Node id=1357>, <Node id=1165>], 'Max': 39, 'Temperature': 39, 'msgKey': 45}\n",
      "FLOODING\n",
      "39\n",
      "{'Neighbors': [<Node id=1393>, <Node id=1054>, <Node id=1180>, <Node id=1229>, <Node id=1049>, <Node id=1458>, <Node id=1311>, <Node id=1071>, <Node id=1150>, <Node id=1511>, <Node id=1077>, <Node id=1116>, <Node id=1335>, <Node id=1107>, <Node id=1074>, <Node id=1088>, <Node id=1362>, <Node id=1286>, <Node id=1198>, <Node id=1236>, <Node id=1465>, <Node id=1064>, <Node id=1237>, <Node id=1153>, <Node id=1424>, <Node id=1053>, <Node id=1266>, <Node id=1199>], 'Max': 39, 'Temperature': -4, 'msgKey': 190}\n",
      "FLOODING\n",
      "39\n",
      "{'Neighbors': [<Node id=1160>, <Node id=1365>, <Node id=1431>, <Node id=1515>, <Node id=1475>, <Node id=1533>, <Node id=1413>, <Node id=1145>, <Node id=1331>, <Node id=1084>, <Node id=1367>, <Node id=1251>, <Node id=1185>, <Node id=1243>, <Node id=1510>, <Node id=1426>, <Node id=1405>, <Node id=1244>, <Node id=1384>, <Node id=1140>, <Node id=1448>, <Node id=1442>, <Node id=1169>, <Node id=1121>, <Node id=1273>, <Node id=1310>, <Node id=1050>, <Node id=1489>, <Node id=1361>, <Node id=1350>, <Node id=1374>, <Node id=1168>, <Node id=1147>, <Node id=1085>, <Node id=1197>, <Node id=1454>, <Node id=1181>, <Node id=1200>, <Node id=1262>, <Node id=1224>, <Node id=1441>, <Node id=1172>, <Node id=1492>, <Node id=1100>, <Node id=1131>, <Node id=1422>, <Node id=1388>, <Node id=1277>, <Node id=1115>, <Node id=1354>, <Node id=1177>], 'Max': 39, 'Temperature': 26, 'msgKey': 201}\n",
      "FLOODING\n",
      "39\n",
      "{'Neighbors': [<Node id=1160>, <Node id=1384>, <Node id=1187>, <Node id=1091>, <Node id=1533>, <Node id=1508>, <Node id=1343>, <Node id=1483>, <Node id=1145>, <Node id=1331>, <Node id=1338>, <Node id=1084>, <Node id=1230>, <Node id=1453>, <Node id=1243>, <Node id=1294>, <Node id=1089>, <Node id=1536>, <Node id=1158>, <Node id=1456>, <Node id=1448>, <Node id=1442>, <Node id=1474>, <Node id=1322>, <Node id=1538>, <Node id=1310>, <Node id=1475>, <Node id=1234>, <Node id=1247>, <Node id=1069>, <Node id=1148>, <Node id=1402>, <Node id=1388>, <Node id=1444>, <Node id=1200>, <Node id=1224>, <Node id=1288>, <Node id=1493>, <Node id=1492>, <Node id=1112>, <Node id=1131>, <Node id=1406>, <Node id=1277>, <Node id=1328>, <Node id=1341>, <Node id=1213>, <Node id=1537>], 'Max': 39, 'Temperature': 7, 'msgKey': 139}\n",
      "FLOODING\n",
      "39\n",
      "{'Neighbors': [<Node id=1253>, <Node id=1086>, <Node id=1127>, <Node id=1195>, <Node id=1280>, <Node id=1192>, <Node id=1176>, <Node id=1281>, <Node id=1434>, <Node id=1075>, <Node id=1162>, <Node id=1270>, <Node id=1245>, <Node id=1480>, <Node id=1179>, <Node id=1072>, <Node id=1083>, <Node id=1287>, <Node id=1263>, <Node id=1048>, <Node id=1366>, <Node id=1430>, <Node id=1133>], 'Max': 39, 'Temperature': 21, 'msgKey': 89}\n",
      "FLOODING\n",
      "39\n",
      "{'Neighbors': [<Node id=1329>, <Node id=1228>, <Node id=1059>, <Node id=1471>, <Node id=1397>, <Node id=1103>, <Node id=1485>, <Node id=1355>, <Node id=1097>, <Node id=1342>, <Node id=1108>, <Node id=1334>, <Node id=1202>, <Node id=1347>, <Node id=1246>, <Node id=1128>, <Node id=1421>, <Node id=1436>, <Node id=1395>, <Node id=1062>, <Node id=1398>, <Node id=1092>, <Node id=1055>, <Node id=1261>, <Node id=1544>, <Node id=1275>, <Node id=1449>, <Node id=1497>, <Node id=1214>, <Node id=1126>, <Node id=1102>, <Node id=1315>, <Node id=1373>, <Node id=1065>, <Node id=1379>, <Node id=1265>, <Node id=1136>], 'Max': 39, 'Temperature': 36, 'msgKey': 145}\n",
      "FLOODING\n",
      "39\n",
      "{'Neighbors': [<Node id=1276>, <Node id=1138>, <Node id=1190>, <Node id=1495>, <Node id=1432>, <Node id=1215>, <Node id=1196>, <Node id=1134>, <Node id=1302>, <Node id=1460>, <Node id=1295>, <Node id=1219>, <Node id=1321>, <Node id=1372>, <Node id=1186>, <Node id=1111>, <Node id=1271>, <Node id=1462>, <Node id=1119>, <Node id=1142>, <Node id=1425>, <Node id=1438>, <Node id=1375>, <Node id=1399>, <Node id=1490>, <Node id=1300>, <Node id=1478>, <Node id=1491>, <Node id=1326>, <Node id=1463>, <Node id=1428>, <Node id=1063>, <Node id=1082>, <Node id=1530>, <Node id=1264>, <Node id=1394>], 'Max': 39, 'Temperature': 11, 'msgKey': 246}\n",
      "FLOODING\n",
      "39\n",
      "{'Neighbors': [<Node id=1482>, <Node id=1509>, <Node id=1164>, <Node id=1521>, <Node id=1496>, <Node id=1420>, <Node id=1061>, <Node id=1051>, <Node id=1358>, <Node id=1520>, <Node id=1163>, <Node id=1412>, <Node id=1284>, <Node id=1132>, <Node id=1514>, <Node id=1171>, <Node id=1527>, <Node id=1212>, <Node id=1094>, <Node id=1194>, <Node id=1517>, <Node id=1225>, <Node id=1291>, <Node id=1396>, <Node id=1518>, <Node id=1256>, <Node id=1058>, <Node id=1317>], 'Max': 39, 'Temperature': 36, 'msgKey': 109}\n",
      "FLOODING\n",
      "39\n",
      "{'Neighbors': [<Node id=1417>, <Node id=1279>, <Node id=1410>, <Node id=1308>, <Node id=1125>, <Node id=1445>, <Node id=1484>, <Node id=1522>, <Node id=1534>, <Node id=1446>, <Node id=1183>, <Node id=1523>, <Node id=1282>, <Node id=1333>, <Node id=1093>, <Node id=1319>, <Node id=1332>, <Node id=1166>, <Node id=1105>, <Node id=1337>, <Node id=1528>, <Node id=1392>, <Node id=1466>, <Node id=1320>, <Node id=1469>, <Node id=1226>, <Node id=1156>, <Node id=1303>, <Node id=1443>], 'Max': 39, 'Temperature': -3, 'msgKey': 197}\n",
      "FLOODING\n",
      "39\n",
      "{'Neighbors': [<Node id=1380>, <Node id=1482>, <Node id=1420>, <Node id=1164>, <Node id=1521>, <Node id=1255>, <Node id=1344>, <Node id=1416>, <Node id=1051>, <Node id=1231>, <Node id=1163>, <Node id=1412>, <Node id=1383>, <Node id=1309>, <Node id=1284>, <Node id=1348>, <Node id=1193>, <Node id=1514>, <Node id=1171>, <Node id=1235>, <Node id=1210>, <Node id=1439>, <Node id=1058>, <Node id=1358>, <Node id=1517>, <Node id=1291>, <Node id=1396>, <Node id=1520>, <Node id=1509>, <Node id=1532>], 'Max': 39, 'Temperature': 37, 'msgKey': 88}\n",
      "FLOODING\n",
      "39\n",
      "{'Neighbors': [<Node id=1160>, <Node id=1187>, <Node id=1091>, <Node id=1533>, <Node id=1330>, <Node id=1139>, <Node id=1343>, <Node id=1483>, <Node id=1067>, <Node id=1331>, <Node id=1338>, <Node id=1084>, <Node id=1123>, <Node id=1230>, <Node id=1243>, <Node id=1536>, <Node id=1294>, <Node id=1089>, <Node id=1060>, <Node id=1371>, <Node id=1384>, <Node id=1206>, <Node id=1456>, <Node id=1448>, <Node id=1442>, <Node id=1512>, <Node id=1474>, <Node id=1322>, <Node id=1538>, <Node id=1310>, <Node id=1475>, <Node id=1234>, <Node id=1247>, <Node id=1069>, <Node id=1099>, <Node id=1148>, <Node id=1508>, <Node id=1402>, <Node id=1406>, <Node id=1350>, <Node id=1274>, <Node id=1200>, <Node id=1224>, <Node id=1304>, <Node id=1288>, <Node id=1238>, <Node id=1112>, <Node id=1131>, <Node id=1145>, <Node id=1277>, <Node id=1328>, <Node id=1454>, <Node id=1493>, <Node id=1444>, <Node id=1537>], 'Max': 39, 'Temperature': 37, 'msgKey': 109}\n",
      "FLOODING\n",
      "39\n",
      "{'Neighbors': [<Node id=1329>, <Node id=1355>, <Node id=1346>, <Node id=1471>, <Node id=1524>, <Node id=1397>, <Node id=1103>, <Node id=1485>, <Node id=1228>, <Node id=1097>, <Node id=1208>, <Node id=1108>, <Node id=1334>, <Node id=1202>, <Node id=1347>, <Node id=1246>, <Node id=1373>, <Node id=1421>, <Node id=1436>, <Node id=1395>, <Node id=1062>, <Node id=1398>, <Node id=1092>, <Node id=1055>, <Node id=1261>, <Node id=1544>, <Node id=1449>, <Node id=1497>, <Node id=1126>, <Node id=1378>, <Node id=1315>, <Node id=1065>, <Node id=1379>, <Node id=1265>, <Node id=1342>, <Node id=1136>], 'Max': 39, 'Temperature': 4, 'msgKey': 211}\n",
      "FLOODING\n",
      "39\n",
      "{'Neighbors': [<Node id=1063>, <Node id=1138>, <Node id=1190>, <Node id=1495>, <Node id=1356>, <Node id=1267>, <Node id=1507>, <Node id=1098>, <Node id=1114>, <Node id=1447>, <Node id=1196>, <Node id=1134>, <Node id=1264>, <Node id=1460>, <Node id=1295>, <Node id=1432>, <Node id=1219>, <Node id=1186>, <Node id=1372>, <Node id=1209>, <Node id=1271>, <Node id=1462>, <Node id=1119>, <Node id=1438>, <Node id=1425>, <Node id=1407>, <Node id=1111>, <Node id=1375>, <Node id=1399>, <Node id=1300>, <Node id=1478>, <Node id=1491>, <Node id=1326>, <Node id=1463>, <Node id=1428>, <Node id=1276>, <Node id=1082>, <Node id=1530>, <Node id=1302>, <Node id=1257>, <Node id=1239>, <Node id=1394>], 'Max': 39, 'Temperature': 34, 'msgKey': 206}\n",
      "FLOODING\n",
      "39\n",
      "{'Neighbors': [<Node id=1461>, <Node id=1110>, <Node id=1471>, <Node id=1254>, <Node id=1059>, <Node id=1318>, <Node id=1369>, <Node id=1404>, <Node id=1306>, <Node id=1268>, <Node id=1397>, <Node id=1103>, <Node id=1403>, <Node id=1096>, <Node id=1129>, <Node id=1182>, <Node id=1149>, <Node id=1516>, <Node id=1065>, <Node id=1220>, <Node id=1525>, <Node id=1459>, <Node id=1524>, <Node id=1283>, <Node id=1297>, <Node id=1421>, <Node id=1336>, <Node id=1387>, <Node id=1531>, <Node id=1505>, <Node id=1062>, <Node id=1502>, <Node id=1451>, <Node id=1055>, <Node id=1161>, <Node id=1376>, <Node id=1056>, <Node id=1152>, <Node id=1314>, <Node id=1419>, <Node id=1154>, <Node id=1503>, <Node id=1315>, <Node id=1373>, <Node id=1352>, <Node id=1473>], 'Max': 39, 'Temperature': -4, 'msgKey': 181}\n",
      "FLOODING\n",
      "39\n",
      "{'Neighbors': [<Node id=1499>, <Node id=1476>, <Node id=1345>, <Node id=1189>, <Node id=1391>, <Node id=1468>, <Node id=1385>, <Node id=1290>, <Node id=1540>, <Node id=1248>, <Node id=1506>, <Node id=1472>, <Node id=1369>, <Node id=1390>, <Node id=1151>, <Node id=1070>, <Node id=1504>, <Node id=1494>, <Node id=1113>, <Node id=1259>], 'Max': 39, 'Temperature': 18, 'msgKey': 77}\n",
      "FLOODING\n",
      "39\n",
      "{'Neighbors': [<Node id=1423>, <Node id=1253>, <Node id=1450>, <Node id=1158>, <Node id=1498>, <Node id=1127>, <Node id=1437>, <Node id=1130>, <Node id=1479>, <Node id=1381>, <Node id=1245>, <Node id=1263>, <Node id=1370>, <Node id=1195>, <Node id=1048>, <Node id=1192>, <Node id=1167>, <Node id=1176>, <Node id=1270>, <Node id=1281>, <Node id=1179>], 'Max': 39, 'Temperature': 31, 'msgKey': 41}\n",
      "FLOODING\n",
      "39\n",
      "{'Neighbors': [<Node id=1276>, <Node id=1138>, <Node id=1063>, <Node id=1495>, <Node id=1305>, <Node id=1432>, <Node id=1215>, <Node id=1507>, <Node id=1382>, <Node id=1114>, <Node id=1467>, <Node id=1447>, <Node id=1300>, <Node id=1134>, <Node id=1429>, <Node id=1295>, <Node id=1435>, <Node id=1186>, <Node id=1209>, <Node id=1487>, <Node id=1526>, <Node id=1408>, <Node id=1425>, <Node id=1375>, <Node id=1541>, <Node id=1196>, <Node id=1433>, <Node id=1325>, <Node id=1249>, <Node id=1478>, <Node id=1201>, <Node id=1109>, <Node id=1289>, <Node id=1530>, <Node id=1340>, <Node id=1399>, <Node id=1353>, <Node id=1239>, <Node id=1455>, <Node id=1470>, <Node id=1394>, <Node id=1481>, <Node id=1452>, <Node id=1240>], 'Max': 39, 'Temperature': 11, 'msgKey': 259}\n",
      "FLOODING\n",
      "39\n",
      "{'Neighbors': [<Node id=1110>, <Node id=1404>, <Node id=1254>, <Node id=1216>, <Node id=1318>, <Node id=1369>, <Node id=1306>, <Node id=1073>, <Node id=1268>, <Node id=1535>, <Node id=1135>, <Node id=1103>, <Node id=1403>, <Node id=1096>, <Node id=1129>, <Node id=1182>, <Node id=1149>, <Node id=1516>, <Node id=1461>, <Node id=1505>, <Node id=1233>, <Node id=1459>, <Node id=1524>, <Node id=1161>, <Node id=1297>, <Node id=1400>, <Node id=1323>, <Node id=1336>, <Node id=1387>, <Node id=1531>, <Node id=1476>, <Node id=1062>, <Node id=1451>, <Node id=1312>, <Node id=1223>, <Node id=1464>, <Node id=1525>, <Node id=1376>, <Node id=1056>, <Node id=1351>, <Node id=1152>, <Node id=1471>, <Node id=1314>, <Node id=1419>, <Node id=1154>, <Node id=1503>, <Node id=1315>, <Node id=1373>, <Node id=1352>, <Node id=1519>, <Node id=1473>, <Node id=1278>], 'Max': 39, 'Temperature': 8, 'msgKey': 256}\n",
      "FLOODING\n",
      "39\n",
      "{'Neighbors': [<Node id=1380>, <Node id=1348>, <Node id=1047>, <Node id=1443>, <Node id=1344>, <Node id=1522>, <Node id=1185>, <Node id=1539>, <Node id=1426>, <Node id=1413>, <Node id=1523>, <Node id=1057>, <Node id=1422>, <Node id=1258>, <Node id=1309>, <Node id=1168>, <Node id=1273>, <Node id=1513>, <Node id=1050>, <Node id=1489>, <Node id=1166>, <Node id=1445>, <Node id=1349>, <Node id=1101>, <Node id=1147>, <Node id=1085>, <Node id=1469>, <Node id=1262>, <Node id=1440>, <Node id=1146>, <Node id=1441>, <Node id=1365>, <Node id=1327>, <Node id=1415>, <Node id=1251>, <Node id=1159>, <Node id=1226>, <Node id=1156>, <Node id=1115>, <Node id=1316>, <Node id=1367>], 'Max': 39, 'Temperature': -6, 'msgKey': 241}\n",
      "FLOODING\n",
      "39\n",
      "{'Neighbors': [<Node id=1052>, <Node id=1468>, <Node id=1110>, <Node id=1180>, <Node id=1473>, <Node id=1369>, <Node id=1505>, <Node id=1504>, <Node id=1182>, <Node id=1283>, <Node id=1499>, <Node id=1360>, <Node id=1335>, <Node id=1107>, <Node id=1088>, <Node id=1362>, <Node id=1427>, <Node id=1540>, <Node id=1248>, <Node id=1070>, <Node id=1143>, <Node id=1390>, <Node id=1068>, <Node id=1189>, <Node id=1502>, <Node id=1352>, <Node id=1545>, <Node id=1424>, <Node id=1391>, <Node id=1157>, <Node id=1290>, <Node id=1506>, <Node id=1199>, <Node id=1242>], 'Max': 39, 'Temperature': 0, 'msgKey': 199}\n",
      "FLOODING\n",
      "39\n",
      "{'Neighbors': [<Node id=1434>, <Node id=1187>, <Node id=1430>, <Node id=1330>, <Node id=1254>, <Node id=1529>, <Node id=1280>, <Node id=1368>, <Node id=1073>, <Node id=1149>, <Node id=1535>, <Node id=1135>, <Node id=1081>, <Node id=1075>, <Node id=1060>, <Node id=1371>, <Node id=1336>, <Node id=1232>, <Node id=1461>, <Node id=1459>, <Node id=1220>, <Node id=1519>, <Node id=1525>, <Node id=1313>, <Node id=1161>, <Node id=1512>, <Node id=1067>, <Node id=1247>, <Node id=1072>, <Node id=1099>, <Node id=1542>, <Node id=1124>, <Node id=1287>, <Node id=1066>, <Node id=1457>, <Node id=1079>, <Node id=1096>, <Node id=1524>, <Node id=1406>, <Node id=1307>, <Node id=1203>, <Node id=1122>, <Node id=1154>, <Node id=1318>, <Node id=1373>, <Node id=1376>, <Node id=1278>, <Node id=1357>, <Node id=1165>], 'Max': 39, 'Temperature': 31, 'msgKey': 145}\n",
      "FLOODING\n",
      "39\n",
      "{'Neighbors': [<Node id=1160>, <Node id=1365>, <Node id=1431>, <Node id=1515>, <Node id=1475>, <Node id=1533>, <Node id=1510>, <Node id=1413>, <Node id=1206>, <Node id=1145>, <Node id=1331>, <Node id=1084>, <Node id=1367>, <Node id=1123>, <Node id=1185>, <Node id=1243>, <Node id=1294>, <Node id=1230>, <Node id=1405>, <Node id=1244>, <Node id=1384>, <Node id=1140>, <Node id=1448>, <Node id=1205>, <Node id=1169>, <Node id=1121>, <Node id=1538>, <Node id=1213>, <Node id=1251>, <Node id=1050>, <Node id=1489>, <Node id=1234>, <Node id=1374>, <Node id=1168>, <Node id=1273>, <Node id=1388>, <Node id=1197>, <Node id=1274>, <Node id=1181>, <Node id=1200>, <Node id=1262>, <Node id=1310>, <Node id=1444>, <Node id=1442>, <Node id=1441>, <Node id=1238>, <Node id=1492>, <Node id=1100>, <Node id=1131>, <Node id=1422>, <Node id=1426>, <Node id=1277>, <Node id=1328>, <Node id=1454>, <Node id=1115>, <Node id=1350>], 'Max': 39, 'Temperature': -7, 'msgKey': 276}\n",
      "FLOODING\n",
      "39\n",
      "{'Neighbors': [<Node id=1257>, <Node id=1061>, <Node id=1094>, <Node id=1482>, <Node id=1164>, <Node id=1267>, <Node id=1098>, <Node id=1509>, <Node id=1090>, <Node id=1051>, <Node id=1163>, <Node id=1372>, <Node id=1514>, <Node id=1194>, <Node id=1463>, <Node id=1407>, <Node id=1171>, <Node id=1324>, <Node id=1210>, <Node id=1058>, <Node id=1521>, <Node id=1284>, <Node id=1517>, <Node id=1291>, <Node id=1518>, <Node id=1256>, <Node id=1317>, <Node id=1496>], 'Max': 39, 'Temperature': -6, 'msgKey': 244}\n",
      "FLOODING\n",
      "39\n",
      "{'Neighbors': [<Node id=1279>, <Node id=1410>, <Node id=1211>, <Node id=1469>, <Node id=1125>, <Node id=1445>, <Node id=1484>, <Node id=1522>, <Node id=1319>, <Node id=1183>, <Node id=1383>, <Node id=1523>, <Node id=1282>, <Node id=1333>, <Node id=1308>, <Node id=1332>, <Node id=1221>, <Node id=1166>, <Node id=1105>, <Node id=1528>, <Node id=1392>, <Node id=1320>, <Node id=1047>, <Node id=1443>, <Node id=1534>, <Node id=1156>, <Node id=1539>, <Node id=1303>, <Node id=1415>], 'Max': 39, 'Temperature': 19, 'msgKey': 169}\n",
      "FLOODING\n",
      "39\n",
      "{'Neighbors': [<Node id=1329>, <Node id=1059>, <Node id=1486>, <Node id=1397>, <Node id=1421>, <Node id=1485>, <Node id=1409>, <Node id=1077>, <Node id=1427>, <Node id=1360>, <Node id=1191>, <Node id=1107>, <Node id=1501>, <Node id=1104>, <Node id=1092>, <Node id=1055>, <Node id=1363>, <Node id=1465>, <Node id=1143>, <Node id=1250>, <Node id=1184>, <Node id=1339>, <Node id=1502>, <Node id=1545>, <Node id=1342>, <Node id=1128>, <Node id=1065>, <Node id=1379>, <Node id=1265>], 'Max': 39, 'Temperature': 32, 'msgKey': 85}\n",
      "FLOODING\n",
      "39\n",
      "{'Neighbors': [<Node id=1355>, <Node id=1419>, <Node id=1059>, <Node id=1485>, <Node id=1318>, <Node id=1471>, <Node id=1524>, <Node id=1397>, <Node id=1103>, <Node id=1096>, <Node id=1097>, <Node id=1208>, <Node id=1108>, <Node id=1334>, <Node id=1202>, <Node id=1436>, <Node id=1525>, <Node id=1449>, <Node id=1373>, <Node id=1421>, <Node id=1336>, <Node id=1544>, <Node id=1062>, <Node id=1398>, <Node id=1092>, <Node id=1055>, <Node id=1261>, <Node id=1376>, <Node id=1313>, <Node id=1152>, <Node id=1542>, <Node id=1497>, <Node id=1214>, <Node id=1500>, <Node id=1315>, <Node id=1065>, <Node id=1379>, <Node id=1265>, <Node id=1136>], 'Max': 39, 'Temperature': 32, 'msgKey': 115}\n",
      "FLOODING\n",
      "39\n",
      "{'Neighbors': [<Node id=1465>, <Node id=1511>, <Node id=1054>, <Node id=1236>, <Node id=1470>, <Node id=1408>, <Node id=1382>, <Node id=1433>, <Node id=1104>, <Node id=1150>, <Node id=1409>, <Node id=1077>, <Node id=1107>, <Node id=1074>, <Node id=1178>, <Node id=1286>, <Node id=1198>, <Node id=1541>, <Node id=1095>, <Node id=1363>, <Node id=1452>, <Node id=1339>, <Node id=1237>, <Node id=1153>, <Node id=1250>, <Node id=1201>, <Node id=1545>, <Node id=1289>, <Node id=1340>, <Node id=1429>, <Node id=1053>, <Node id=1204>, <Node id=1455>, <Node id=1393>, <Node id=1481>, <Node id=1240>], 'Max': 39, 'Temperature': -6, 'msgKey': 246}\n",
      "FLOODING\n",
      "39\n",
      "{'Neighbors': [<Node id=1431>, <Node id=1160>, <Node id=1187>, <Node id=1091>, <Node id=1533>, <Node id=1330>, <Node id=1139>, <Node id=1454>, <Node id=1483>, <Node id=1067>, <Node id=1331>, <Node id=1338>, <Node id=1123>, <Node id=1406>, <Node id=1243>, <Node id=1294>, <Node id=1444>, <Node id=1089>, <Node id=1060>, <Node id=1371>, <Node id=1384>, <Node id=1206>, <Node id=1108>, <Node id=1442>, <Node id=1512>, <Node id=1474>, <Node id=1322>, <Node id=1313>, <Node id=1500>, <Node id=1213>, <Node id=1475>, <Node id=1234>, <Node id=1448>, <Node id=1247>, <Node id=1069>, <Node id=1099>, <Node id=1148>, <Node id=1124>, <Node id=1350>, <Node id=1274>, <Node id=1538>, <Node id=1200>, <Node id=1224>, <Node id=1304>, <Node id=1288>, <Node id=1238>, <Node id=1112>, <Node id=1131>, <Node id=1145>, <Node id=1277>, <Node id=1328>, <Node id=1493>, <Node id=1310>, <Node id=1537>, <Node id=1542>], 'Max': 39, 'Temperature': -4, 'msgKey': 379}\n",
      "FLOODING\n",
      "39\n",
      "{'Neighbors': [<Node id=1380>, <Node id=1482>, <Node id=1420>, <Node id=1292>, <Node id=1521>, <Node id=1443>, <Node id=1488>, <Node id=1255>, <Node id=1344>, <Node id=1416>, <Node id=1539>, <Node id=1051>, <Node id=1522>, <Node id=1358>, <Node id=1057>, <Node id=1412>, <Node id=1359>, <Node id=1383>, <Node id=1258>, <Node id=1296>, <Node id=1309>, <Node id=1087>, <Node id=1284>, <Node id=1386>, <Node id=1348>, <Node id=1272>, <Node id=1401>, <Node id=1193>, <Node id=1349>, <Node id=1235>, <Node id=1164>, <Node id=1439>, <Node id=1058>, <Node id=1212>, <Node id=1440>, <Node id=1146>, <Node id=1327>, <Node id=1396>, <Node id=1520>, <Node id=1513>, <Node id=1509>, <Node id=1316>, <Node id=1532>], 'Max': 39, 'Temperature': 10, 'msgKey': 295}\n",
      "FLOODING\n",
      "39\n",
      "{'Neighbors': [<Node id=1086>, <Node id=1330>, <Node id=1254>, <Node id=1280>, <Node id=1081>, <Node id=1535>, <Node id=1135>, <Node id=1307>, <Node id=1075>, <Node id=1149>, <Node id=1461>, <Node id=1141>, <Node id=1519>, <Node id=1459>, <Node id=1161>, <Node id=1368>, <Node id=1072>, <Node id=1434>, <Node id=1223>, <Node id=1083>, <Node id=1287>, <Node id=1066>, <Node id=1457>, <Node id=1079>, <Node id=1351>, <Node id=1529>, <Node id=1430>, <Node id=1203>, <Node id=1480>, <Node id=1366>, <Node id=1173>, <Node id=1165>, <Node id=1357>, <Node id=1278>], 'Max': 39, 'Temperature': 12, 'msgKey': 100}\n",
      "FLOODING\n",
      "39\n",
      "{'Neighbors': [<Node id=1254>, <Node id=1404>, <Node id=1306>, <Node id=1268>, <Node id=1459>, <Node id=1345>, <Node id=1220>, <Node id=1149>, <Node id=1461>, <Node id=1385>, <Node id=1161>, <Node id=1297>, <Node id=1400>, <Node id=1323>, <Node id=1476>, <Node id=1451>, <Node id=1141>, <Node id=1312>, <Node id=1477>, <Node id=1464>, <Node id=1403>, <Node id=1056>, <Node id=1351>, <Node id=1519>, <Node id=1314>, <Node id=1154>, <Node id=1503>, <Node id=1117>, <Node id=1173>, <Node id=1259>, <Node id=1494>], 'Max': 39, 'Temperature': -1, 'msgKey': 91}\n",
      "FLOODING\n",
      "39\n",
      "{'Neighbors': [<Node id=1160>, <Node id=1187>, <Node id=1091>, <Node id=1533>, <Node id=1330>, <Node id=1139>, <Node id=1454>, <Node id=1483>, <Node id=1145>, <Node id=1331>, <Node id=1338>, <Node id=1123>, <Node id=1230>, <Node id=1243>, <Node id=1536>, <Node id=1294>, <Node id=1444>, <Node id=1089>, <Node id=1060>, <Node id=1371>, <Node id=1384>, <Node id=1206>, <Node id=1456>, <Node id=1448>, <Node id=1442>, <Node id=1512>, <Node id=1474>, <Node id=1322>, <Node id=1538>, <Node id=1500>, <Node id=1213>, <Node id=1475>, <Node id=1067>, <Node id=1247>, <Node id=1069>, <Node id=1099>, <Node id=1148>, <Node id=1124>, <Node id=1350>, <Node id=1274>, <Node id=1200>, <Node id=1224>, <Node id=1304>, <Node id=1288>, <Node id=1238>, <Node id=1112>, <Node id=1131>, <Node id=1406>, <Node id=1277>, <Node id=1328>, <Node id=1493>, <Node id=1310>, <Node id=1537>, <Node id=1542>], 'Max': 39, 'Temperature': -3, 'msgKey': 213}\n",
      "FLOODING\n",
      "39\n",
      "{'Neighbors': [<Node id=1380>, <Node id=1482>, <Node id=1164>, <Node id=1125>, <Node id=1445>, <Node id=1344>, <Node id=1416>, <Node id=1383>, <Node id=1522>, <Node id=1231>, <Node id=1057>, <Node id=1309>, <Node id=1284>, <Node id=1513>, <Node id=1348>, <Node id=1539>, <Node id=1193>, <Node id=1349>, <Node id=1212>, <Node id=1439>, <Node id=1440>, <Node id=1146>, <Node id=1291>, <Node id=1327>, <Node id=1396>, <Node id=1156>, <Node id=1443>, <Node id=1532>], 'Max': 39, 'Temperature': 17, 'msgKey': 190}\n",
      "FLOODING\n",
      "39\n",
      "{'Neighbors': [<Node id=1054>, <Node id=1180>, <Node id=1229>, <Node id=1049>, <Node id=1458>, <Node id=1311>, <Node id=1071>, <Node id=1150>, <Node id=1511>, <Node id=1077>, <Node id=1116>, <Node id=1335>, <Node id=1107>, <Node id=1074>, <Node id=1178>, <Node id=1088>, <Node id=1362>, <Node id=1286>, <Node id=1198>, <Node id=1393>, <Node id=1465>, <Node id=1064>, <Node id=1427>, <Node id=1237>, <Node id=1153>, <Node id=1250>, <Node id=1424>, <Node id=1053>, <Node id=1204>, <Node id=1266>, <Node id=1199>], 'Max': 39, 'Temperature': 26, 'msgKey': 181}\n",
      "FLOODING\n",
      "39\n",
      "{'Neighbors': [<Node id=1393>, <Node id=1054>, <Node id=1180>, <Node id=1229>, <Node id=1049>, <Node id=1458>, <Node id=1311>, <Node id=1071>, <Node id=1150>, <Node id=1511>, <Node id=1077>, <Node id=1116>, <Node id=1335>, <Node id=1107>, <Node id=1074>, <Node id=1178>, <Node id=1088>, <Node id=1362>, <Node id=1286>, <Node id=1153>, <Node id=1236>, <Node id=1465>, <Node id=1064>, <Node id=1427>, <Node id=1068>, <Node id=1250>, <Node id=1545>, <Node id=1424>, <Node id=1053>, <Node id=1204>, <Node id=1266>, <Node id=1199>], 'Max': 39, 'Temperature': -5, 'msgKey': 280}\n",
      "FLOODING\n",
      "39\n",
      "{'Neighbors': [<Node id=1431>, <Node id=1160>, <Node id=1187>, <Node id=1355>, <Node id=1533>, <Node id=1330>, <Node id=1139>, <Node id=1454>, <Node id=1483>, <Node id=1067>, <Node id=1331>, <Node id=1073>, <Node id=1123>, <Node id=1230>, <Node id=1406>, <Node id=1304>, <Node id=1318>, <Node id=1294>, <Node id=1089>, <Node id=1060>, <Node id=1371>, <Node id=1097>, <Node id=1108>, <Node id=1398>, <Node id=1512>, <Node id=1322>, <Node id=1313>, <Node id=1500>, <Node id=1213>, <Node id=1537>, <Node id=1234>, <Node id=1247>, <Node id=1148>, <Node id=1099>, <Node id=1124>, <Node id=1350>, <Node id=1274>, <Node id=1538>, <Node id=1224>, <Node id=1288>, <Node id=1497>, <Node id=1112>, <Node id=1378>, <Node id=1145>, <Node id=1493>, <Node id=1544>, <Node id=1444>, <Node id=1357>, <Node id=1542>], 'Max': 39, 'Temperature': 21, 'msgKey': 241}\n",
      "FLOODING\n",
      "39\n",
      "{'Neighbors': [<Node id=1063>, <Node id=1138>, <Node id=1061>, <Node id=1495>, <Node id=1305>, <Node id=1356>, <Node id=1215>, <Node id=1507>, <Node id=1382>, <Node id=1114>, <Node id=1467>, <Node id=1196>, <Node id=1134>, <Node id=1447>, <Node id=1295>, <Node id=1432>, <Node id=1219>, <Node id=1487>, <Node id=1478>, <Node id=1276>, <Node id=1463>, <Node id=1399>, <Node id=1325>, <Node id=1249>, <Node id=1389>, <Node id=1269>, <Node id=1267>, <Node id=1109>, <Node id=1082>, <Node id=1530>, <Node id=1340>, <Node id=1264>, <Node id=1257>, <Node id=1353>, <Node id=1394>, <Node id=1428>], 'Max': 39, 'Temperature': 28, 'msgKey': 176}\n",
      "FLOODING\n",
      "39\n",
      "{'Neighbors': [<Node id=1465>, <Node id=1511>, <Node id=1054>, <Node id=1305>, <Node id=1219>, <Node id=1229>, <Node id=1408>, <Node id=1382>, <Node id=1433>, <Node id=1467>, <Node id=1198>, <Node id=1196>, <Node id=1447>, <Node id=1409>, <Node id=1077>, <Node id=1486>, <Node id=1186>, <Node id=1545>, <Node id=1487>, <Node id=1526>, <Node id=1128>, <Node id=1074>, <Node id=1501>, <Node id=1178>, <Node id=1104>, <Node id=1541>, <Node id=1095>, <Node id=1363>, <Node id=1325>, <Node id=1470>, <Node id=1435>, <Node id=1250>, <Node id=1153>, <Node id=1339>, <Node id=1201>, <Node id=1109>, <Node id=1289>, <Node id=1340>, <Node id=1429>, <Node id=1353>, <Node id=1455>, <Node id=1393>, <Node id=1481>, <Node id=1452>], 'Max': 39, 'Temperature': 31, 'msgKey': 173}\n",
      "FLOODING\n",
      "39\n",
      "{'Neighbors': [<Node id=1106>, <Node id=1118>, <Node id=1076>, <Node id=1144>, <Node id=1301>, <Node id=1411>, <Node id=1252>, <Node id=1070>, <Node id=1418>, <Node id=1175>], 'Max': 39, 'Temperature': 25, 'msgKey': 46}\n",
      "FLOODING\n",
      "39\n",
      "{'Neighbors': [<Node id=1052>, <Node id=1107>, <Node id=1110>, <Node id=1180>, <Node id=1473>, <Node id=1369>, <Node id=1504>, <Node id=1182>, <Node id=1283>, <Node id=1499>, <Node id=1360>, <Node id=1335>, <Node id=1106>, <Node id=1222>, <Node id=1088>, <Node id=1362>, <Node id=1427>, <Node id=1540>, <Node id=1248>, <Node id=1070>, <Node id=1143>, <Node id=1390>, <Node id=1068>, <Node id=1189>, <Node id=1502>, <Node id=1468>, <Node id=1352>, <Node id=1545>, <Node id=1424>, <Node id=1391>, <Node id=1157>, <Node id=1290>, <Node id=1506>, <Node id=1199>], 'Max': 39, 'Temperature': 7, 'msgKey': 199}\n",
      "FLOODING\n",
      "39\n",
      "{'Neighbors': [<Node id=1160>, <Node id=1187>, <Node id=1091>, <Node id=1533>, <Node id=1508>, <Node id=1206>, <Node id=1343>, <Node id=1483>, <Node id=1145>, <Node id=1331>, <Node id=1338>, <Node id=1084>, <Node id=1230>, <Node id=1453>, <Node id=1294>, <Node id=1089>, <Node id=1536>, <Node id=1244>, <Node id=1384>, <Node id=1140>, <Node id=1456>, <Node id=1448>, <Node id=1205>, <Node id=1169>, <Node id=1322>, <Node id=1538>, <Node id=1474>, <Node id=1213>, <Node id=1475>, <Node id=1234>, <Node id=1069>, <Node id=1148>, <Node id=1402>, <Node id=1388>, <Node id=1444>, <Node id=1181>, <Node id=1200>, <Node id=1224>, <Node id=1288>, <Node id=1442>, <Node id=1493>, <Node id=1492>, <Node id=1112>, <Node id=1131>, <Node id=1406>, <Node id=1277>, <Node id=1328>, <Node id=1454>, <Node id=1341>, <Node id=1310>, <Node id=1537>], 'Max': 39, 'Temperature': 38, 'msgKey': 101}\n",
      "FLOODING\n",
      "39\n",
      "{'Neighbors': [<Node id=1160>, <Node id=1365>, <Node id=1515>, <Node id=1475>, <Node id=1533>, <Node id=1293>, <Node id=1413>, <Node id=1181>, <Node id=1084>, <Node id=1367>, <Node id=1131>, <Node id=1185>, <Node id=1243>, <Node id=1426>, <Node id=1384>, <Node id=1140>, <Node id=1543>, <Node id=1448>, <Node id=1205>, <Node id=1169>, <Node id=1121>, <Node id=1310>, <Node id=1050>, <Node id=1489>, <Node id=1361>, <Node id=1374>, <Node id=1168>, <Node id=1273>, <Node id=1085>, <Node id=1454>, <Node id=1155>, <Node id=1200>, <Node id=1262>, <Node id=1224>, <Node id=1442>, <Node id=1441>, <Node id=1172>, <Node id=1492>, <Node id=1100>, <Node id=1251>, <Node id=1422>, <Node id=1388>, <Node id=1277>, <Node id=1115>, <Node id=1354>, <Node id=1177>], 'Max': 39, 'Temperature': 14, 'msgKey': 181}\n",
      "FLOODING\n",
      "39\n",
      "{'Neighbors': [<Node id=1253>, <Node id=1086>, <Node id=1127>, <Node id=1368>, <Node id=1381>, <Node id=1195>, <Node id=1280>, <Node id=1192>, <Node id=1287>, <Node id=1281>, <Node id=1176>, <Node id=1218>, <Node id=1075>, <Node id=1162>, <Node id=1270>, <Node id=1480>, <Node id=1423>, <Node id=1179>, <Node id=1130>, <Node id=1072>, <Node id=1434>, <Node id=1083>, <Node id=1207>, <Node id=1079>, <Node id=1263>, <Node id=1048>, <Node id=1366>, <Node id=1498>, <Node id=1430>, <Node id=1133>], 'Max': 39, 'Temperature': -10, 'msgKey': 233}\n",
      "FLOODING\n",
      "39\n",
      "{'Neighbors': [<Node id=1329>, <Node id=1305>, <Node id=1046>, <Node id=1467>, <Node id=1359>, <Node id=1080>, <Node id=1269>, <Node id=1137>, <Node id=1501>, <Node id=1208>, <Node id=1202>, <Node id=1174>, <Node id=1436>, <Node id=1449>, <Node id=1128>, <Node id=1170>, <Node id=1132>, <Node id=1120>, <Node id=1104>, <Node id=1261>, <Node id=1325>, <Node id=1249>, <Node id=1389>, <Node id=1485>, <Node id=1275>, <Node id=1214>, <Node id=1486>, <Node id=1126>, <Node id=1102>, <Node id=1265>, <Node id=1078>], 'Max': 39, 'Temperature': -12, 'msgKey': 121}\n",
      "FLOODING\n",
      "39\n",
      "{'Neighbors': [<Node id=1434>, <Node id=1238>, <Node id=1187>, <Node id=1091>, <Node id=1330>, <Node id=1508>, <Node id=1343>, <Node id=1483>, <Node id=1234>, <Node id=1498>, <Node id=1368>, <Node id=1081>, <Node id=1230>, <Node id=1135>, <Node id=1536>, <Node id=1294>, <Node id=1089>, <Node id=1060>, <Node id=1371>, <Node id=1453>, <Node id=1158>, <Node id=1479>, <Node id=1206>, <Node id=1456>, <Node id=1537>, <Node id=1423>, <Node id=1474>, <Node id=1167>, <Node id=1538>, <Node id=1213>, <Node id=1437>, <Node id=1067>, <Node id=1512>, <Node id=1130>, <Node id=1260>, <Node id=1069>, <Node id=1099>, <Node id=1148>, <Node id=1402>, <Node id=1124>, <Node id=1223>, <Node id=1322>, <Node id=1338>, <Node id=1079>, <Node id=1304>, <Node id=1529>, <Node id=1288>, <Node id=1307>, <Node id=1203>, <Node id=1122>, <Node id=1112>, <Node id=1406>, <Node id=1493>, <Node id=1328>, <Node id=1444>, <Node id=1357>, <Node id=1165>], 'Max': 39, 'Temperature': 15, 'msgKey': 169}\n",
      "FLOODING\n",
      "39\n",
      "{'Neighbors': [<Node id=1052>, <Node id=1418>, <Node id=1151>, <Node id=1290>, <Node id=1242>, <Node id=1217>, <Node id=1504>, <Node id=1472>, <Node id=1283>, <Node id=1499>, <Node id=1385>, <Node id=1106>, <Node id=1222>, <Node id=1540>, <Node id=1070>, <Node id=1113>, <Node id=1390>, <Node id=1068>, <Node id=1189>, <Node id=1391>, <Node id=1157>, <Node id=1468>, <Node id=1506>, <Node id=1369>], 'Max': 39, 'Temperature': -13, 'msgKey': 116}\n",
      "FLOODING\n",
      "39\n",
      "{'Neighbors': [<Node id=1329>, <Node id=1063>, <Node id=1061>, <Node id=1495>, <Node id=1305>, <Node id=1356>, <Node id=1267>, <Node id=1507>, <Node id=1496>, <Node id=1382>, <Node id=1114>, <Node id=1340>, <Node id=1447>, <Node id=1196>, <Node id=1134>, <Node id=1137>, <Node id=1295>, <Node id=1219>, <Node id=1174>, <Node id=1467>, <Node id=1487>, <Node id=1246>, <Node id=1128>, <Node id=1501>, <Node id=1120>, <Node id=1325>, <Node id=1478>, <Node id=1432>, <Node id=1389>, <Node id=1269>, <Node id=1275>, <Node id=1428>, <Node id=1109>, <Node id=1082>, <Node id=1102>, <Node id=1264>, <Node id=1257>, <Node id=1353>, <Node id=1239>, <Node id=1394>], 'Max': 39, 'Temperature': 37, 'msgKey': 118}\n",
      "FLOODING\n",
      "39\n",
      "{'Neighbors': [<Node id=1511>, <Node id=1054>, <Node id=1363>, <Node id=1180>, <Node id=1342>, <Node id=1229>, <Node id=1541>, <Node id=1433>, <Node id=1486>, <Node id=1150>, <Node id=1409>, <Node id=1077>, <Node id=1427>, <Node id=1360>, <Node id=1191>, <Node id=1107>, <Node id=1074>, <Node id=1178>, <Node id=1286>, <Node id=1104>, <Node id=1184>, <Node id=1095>, <Node id=1236>, <Node id=1465>, <Node id=1143>, <Node id=1237>, <Node id=1153>, <Node id=1339>, <Node id=1545>, <Node id=1289>, <Node id=1429>, <Node id=1393>, <Node id=1227>, <Node id=1240>], 'Max': 39, 'Temperature': 17, 'msgKey': 100}\n",
      "FLOODING\n",
      "39\n",
      "{'Neighbors': [<Node id=1417>, <Node id=1365>, <Node id=1515>, <Node id=1221>, <Node id=1293>, <Node id=1100>, <Node id=1181>, <Node id=1205>, <Node id=1367>, <Node id=1185>, <Node id=1510>, <Node id=1413>, <Node id=1244>, <Node id=1422>, <Node id=1140>, <Node id=1543>, <Node id=1448>, <Node id=1258>, <Node id=1169>, <Node id=1121>, <Node id=1273>, <Node id=1050>, <Node id=1489>, <Node id=1361>, <Node id=1374>, <Node id=1168>, <Node id=1147>, <Node id=1085>, <Node id=1197>, <Node id=1454>, <Node id=1155>, <Node id=1262>, <Node id=1224>, <Node id=1441>, <Node id=1172>, <Node id=1492>, <Node id=1047>, <Node id=1415>, <Node id=1426>, <Node id=1277>, <Node id=1115>, <Node id=1354>, <Node id=1177>], 'Max': 39, 'Temperature': -12, 'msgKey': 211}\n",
      "FLOODING\n",
      "39\n",
      "{'Neighbors': [<Node id=1418>, <Node id=1411>, <Node id=1241>, <Node id=1049>, <Node id=1458>, <Node id=1071>, <Node id=1076>, <Node id=1116>, <Node id=1424>, <Node id=1106>, <Node id=1311>, <Node id=1175>, <Node id=1088>, <Node id=1362>, <Node id=1070>, <Node id=1064>, <Node id=1118>, <Node id=1189>, <Node id=1301>, <Node id=1144>, <Node id=1335>, <Node id=1468>, <Node id=1266>, <Node id=1199>], 'Max': 39, 'Temperature': 32, 'msgKey': 70}\n",
      "FLOODING\n",
      "39\n",
      "{'Neighbors': [<Node id=1127>, <Node id=1381>, <Node id=1195>, <Node id=1280>, <Node id=1192>, <Node id=1207>, <Node id=1281>, <Node id=1176>, <Node id=1218>, <Node id=1075>, <Node id=1162>, <Node id=1270>, <Node id=1245>, <Node id=1423>, <Node id=1179>, <Node id=1130>, <Node id=1072>, <Node id=1434>, <Node id=1083>, <Node id=1287>, <Node id=1263>, <Node id=1048>, <Node id=1498>, <Node id=1430>, <Node id=1133>], 'Max': 39, 'Temperature': 29, 'msgKey': 97}\n",
      "FLOODING\n",
      "39\n",
      "{'Neighbors': [<Node id=1403>, <Node id=1330>, <Node id=1419>, <Node id=1216>, <Node id=1318>, <Node id=1404>, <Node id=1073>, <Node id=1081>, <Node id=1535>, <Node id=1135>, <Node id=1103>, <Node id=1268>, <Node id=1096>, <Node id=1060>, <Node id=1149>, <Node id=1516>, <Node id=1461>, <Node id=1459>, <Node id=1220>, <Node id=1233>, <Node id=1351>, <Node id=1524>, <Node id=1161>, <Node id=1529>, <Node id=1457>, <Node id=1336>, <Node id=1373>, <Node id=1387>, <Node id=1531>, <Node id=1062>, <Node id=1451>, <Node id=1124>, <Node id=1223>, <Node id=1525>, <Node id=1066>, <Node id=1056>, <Node id=1313>, <Node id=1152>, <Node id=1519>, <Node id=1471>, <Node id=1203>, <Node id=1129>, <Node id=1154>, <Node id=1503>, <Node id=1315>, <Node id=1232>, <Node id=1314>, <Node id=1376>, <Node id=1278>, <Node id=1357>, <Node id=1542>, <Node id=1165>], 'Max': 39, 'Temperature': -7, 'msgKey': 307}\n",
      "FLOODING\n",
      "39\n",
      "{'Neighbors': [<Node id=1380>, <Node id=1509>, <Node id=1164>, <Node id=1440>, <Node id=1327>, <Node id=1521>, <Node id=1488>, <Node id=1046>, <Node id=1420>, <Node id=1344>, <Node id=1349>, <Node id=1396>, <Node id=1080>, <Node id=1401>, <Node id=1051>, <Node id=1231>, <Node id=1057>, <Node id=1347>, <Node id=1346>, <Node id=1359>, <Node id=1258>, <Node id=1296>, <Node id=1309>, <Node id=1087>, <Node id=1284>, <Node id=1386>, <Node id=1170>, <Node id=1272>, <Node id=1285>, <Node id=1132>, <Node id=1120>, <Node id=1292>, <Node id=1101>, <Node id=1212>, <Node id=1299>, <Node id=1058>, <Node id=1358>, <Node id=1395>, <Node id=1146>, <Node id=1527>, <Node id=1517>, <Node id=1137>, <Node id=1126>, <Node id=1316>, <Node id=1412>, <Node id=1159>, <Node id=1520>, <Node id=1171>, <Node id=1078>], 'Max': 39, 'Temperature': 0, 'msgKey': 289}\n",
      "FLOODING\n",
      "39\n",
      "{'Neighbors': [<Node id=1517>, <Node id=1171>, <Node id=1257>, <Node id=1407>, <Node id=1061>, <Node id=1518>, <Node id=1194>, <Node id=1163>, <Node id=1463>, <Node id=1324>, <Node id=1210>, <Node id=1317>, <Node id=1372>, <Node id=1267>, <Node id=1098>, <Node id=1094>, <Node id=1111>, <Node id=1514>, <Node id=1090>, <Node id=1496>, <Node id=1225>], 'Max': 39, 'Temperature': -11, 'msgKey': 161}\n",
      "FLOODING\n",
      "39\n",
      "{'Neighbors': [<Node id=1507>, <Node id=1061>, <Node id=1495>, <Node id=1356>, <Node id=1215>, <Node id=1098>, <Node id=1114>, <Node id=1517>, <Node id=1256>, <Node id=1119>, <Node id=1134>, <Node id=1447>, <Node id=1432>, <Node id=1372>, <Node id=1111>, <Node id=1194>, <Node id=1463>, <Node id=1407>, <Node id=1171>, <Node id=1527>, <Node id=1324>, <Node id=1094>, <Node id=1478>, <Node id=1249>, <Node id=1269>, <Node id=1267>, <Node id=1225>, <Node id=1428>, <Node id=1082>, <Node id=1264>, <Node id=1239>, <Node id=1518>, <Node id=1394>, <Node id=1496>], 'Max': 39, 'Temperature': 8, 'msgKey': 232}\n",
      "FLOODING\n",
      "39\n",
      "{'Neighbors': [<Node id=1380>, <Node id=1431>, <Node id=1221>, <Node id=1292>, <Node id=1327>, <Node id=1488>, <Node id=1255>, <Node id=1344>, <Node id=1522>, <Node id=1080>, <Node id=1401>, <Node id=1510>, <Node id=1413>, <Node id=1231>, <Node id=1057>, <Node id=1422>, <Node id=1513>, <Node id=1359>, <Node id=1296>, <Node id=1309>, <Node id=1087>, <Node id=1273>, <Node id=1386>, <Node id=1050>, <Node id=1489>, <Node id=1272>, <Node id=1285>, <Node id=1415>, <Node id=1349>, <Node id=1101>, <Node id=1147>, <Node id=1085>, <Node id=1197>, <Node id=1262>, <Node id=1440>, <Node id=1146>, <Node id=1405>, <Node id=1047>, <Node id=1348>, <Node id=1251>, <Node id=1159>, <Node id=1299>, <Node id=1539>, <Node id=1115>, <Node id=1316>], 'Max': 39, 'Temperature': 2, 'msgKey': 265}\n",
      "FLOODING\n",
      "39\n",
      "{'Neighbors': [<Node id=1369>, <Node id=1404>, <Node id=1306>, <Node id=1268>, <Node id=1345>, <Node id=1113>, <Node id=1385>, <Node id=1233>, <Node id=1141>, <Node id=1056>, <Node id=1476>, <Node id=1323>, <Node id=1117>, <Node id=1464>, <Node id=1472>, <Node id=1477>, <Node id=1403>, <Node id=1217>, <Node id=1400>, <Node id=1390>, <Node id=1391>, <Node id=1503>, <Node id=1312>, <Node id=1290>, <Node id=1506>, <Node id=1297>, <Node id=1494>], 'Max': 39, 'Temperature': 0, 'msgKey': 105}\n",
      "FLOODING\n",
      "39\n",
      "{'Neighbors': [<Node id=1434>, <Node id=1187>, <Node id=1091>, <Node id=1330>, <Node id=1381>, <Node id=1343>, <Node id=1483>, <Node id=1498>, <Node id=1081>, <Node id=1453>, <Node id=1370>, <Node id=1536>, <Node id=1294>, <Node id=1089>, <Node id=1060>, <Node id=1371>, <Node id=1130>, <Node id=1479>, <Node id=1456>, <Node id=1537>, <Node id=1423>, <Node id=1474>, <Node id=1167>, <Node id=1538>, <Node id=1179>, <Node id=1437>, <Node id=1368>, <Node id=1450>, <Node id=1247>, <Node id=1069>, <Node id=1099>, <Node id=1148>, <Node id=1508>, <Node id=1402>, <Node id=1307>, <Node id=1322>, <Node id=1176>, <Node id=1338>, <Node id=1079>, <Node id=1529>, <Node id=1288>, <Node id=1203>, <Node id=1122>, <Node id=1112>, <Node id=1406>, <Node id=1493>, <Node id=1328>, <Node id=1444>, <Node id=1158>, <Node id=1165>], 'Max': 39, 'Temperature': -14, 'msgKey': 148}\n",
      "FLOODING\n",
      "39\n",
      "{'Neighbors': [<Node id=1329>, <Node id=1228>, <Node id=1342>, <Node id=1346>, <Node id=1378>, <Node id=1080>, <Node id=1497>, <Node id=1421>, <Node id=1485>, <Node id=1137>, <Node id=1355>, <Node id=1097>, <Node id=1208>, <Node id=1334>, <Node id=1202>, <Node id=1174>, <Node id=1246>, <Node id=1128>, <Node id=1170>, <Node id=1501>, <Node id=1347>, <Node id=1395>, <Node id=1398>, <Node id=1299>, <Node id=1055>, <Node id=1436>, <Node id=1275>, <Node id=1449>, <Node id=1214>, <Node id=1126>, <Node id=1102>, <Node id=1092>, <Node id=1379>, <Node id=1265>, <Node id=1136>], 'Max': 39, 'Temperature': 16, 'msgKey': 137}\n",
      "FLOODING\n",
      "39\n",
      "{'Neighbors': [<Node id=1405>, <Node id=1160>, <Node id=1492>, <Node id=1431>, <Node id=1515>, <Node id=1221>, <Node id=1533>, <Node id=1047>, <Node id=1145>, <Node id=1258>, <Node id=1367>, <Node id=1185>, <Node id=1510>, <Node id=1413>, <Node id=1057>, <Node id=1244>, <Node id=1422>, <Node id=1140>, <Node id=1448>, <Node id=1205>, <Node id=1169>, <Node id=1168>, <Node id=1273>, <Node id=1050>, <Node id=1489>, <Node id=1350>, <Node id=1374>, <Node id=1101>, <Node id=1147>, <Node id=1085>, <Node id=1197>, <Node id=1274>, <Node id=1181>, <Node id=1224>, <Node id=1441>, <Node id=1365>, <Node id=1100>, <Node id=1251>, <Node id=1159>, <Node id=1426>, <Node id=1277>, <Node id=1454>, <Node id=1115>, <Node id=1415>, <Node id=1331>], 'Max': 39, 'Temperature': -2, 'msgKey': 177}\n",
      "FLOODING\n",
      "39\n",
      "{'Neighbors': [<Node id=1253>, <Node id=1127>, <Node id=1381>, <Node id=1195>, <Node id=1280>, <Node id=1192>, <Node id=1176>, <Node id=1281>, <Node id=1218>, <Node id=1498>, <Node id=1270>, <Node id=1245>, <Node id=1423>, <Node id=1179>, <Node id=1450>, <Node id=1130>, <Node id=1434>, <Node id=1083>, <Node id=1207>, <Node id=1048>, <Node id=1162>, <Node id=1133>], 'Max': 39, 'Temperature': 22, 'msgKey': 106}\n",
      "FLOODING\n",
      "39\n",
      "{'Neighbors': [<Node id=1063>, <Node id=1138>, <Node id=1061>, <Node id=1495>, <Node id=1356>, <Node id=1267>, <Node id=1507>, <Node id=1098>, <Node id=1114>, <Node id=1196>, <Node id=1134>, <Node id=1447>, <Node id=1460>, <Node id=1295>, <Node id=1432>, <Node id=1372>, <Node id=1209>, <Node id=1119>, <Node id=1142>, <Node id=1425>, <Node id=1407>, <Node id=1111>, <Node id=1324>, <Node id=1375>, <Node id=1399>, <Node id=1094>, <Node id=1249>, <Node id=1478>, <Node id=1491>, <Node id=1326>, <Node id=1463>, <Node id=1215>, <Node id=1276>, <Node id=1082>, <Node id=1518>, <Node id=1257>, <Node id=1239>, <Node id=1394>, <Node id=1428>, <Node id=1496>], 'Max': 39, 'Temperature': -1, 'msgKey': 313}\n",
      "FLOODING\n",
      "39\n",
      "{'Neighbors': [<Node id=1329>, <Node id=1228>, <Node id=1059>, <Node id=1471>, <Node id=1092>, <Node id=1467>, <Node id=1397>, <Node id=1421>, <Node id=1485>, <Node id=1409>, <Node id=1208>, <Node id=1065>, <Node id=1202>, <Node id=1436>, <Node id=1360>, <Node id=1246>, <Node id=1191>, <Node id=1501>, <Node id=1062>, <Node id=1104>, <Node id=1261>, <Node id=1055>, <Node id=1363>, <Node id=1275>, <Node id=1184>, <Node id=1214>, <Node id=1486>, <Node id=1342>, <Node id=1128>, <Node id=1102>, <Node id=1315>, <Node id=1379>, <Node id=1227>, <Node id=1136>], 'Max': 39, 'Temperature': 17, 'msgKey': 133}\n",
      "FLOODING\n",
      "39\n",
      "{'Neighbors': [<Node id=1052>, <Node id=1107>, <Node id=1180>, <Node id=1049>, <Node id=1458>, <Node id=1071>, <Node id=1150>, <Node id=1540>, <Node id=1411>, <Node id=1116>, <Node id=1335>, <Node id=1106>, <Node id=1311>, <Node id=1175>, <Node id=1088>, <Node id=1362>, <Node id=1286>, <Node id=1236>, <Node id=1070>, <Node id=1064>, <Node id=1427>, <Node id=1237>, <Node id=1068>, <Node id=1189>, <Node id=1301>, <Node id=1144>, <Node id=1424>, <Node id=1204>, <Node id=1468>, <Node id=1252>, <Node id=1199>], 'Max': 39, 'Temperature': 19, 'msgKey': 151}\n",
      "FLOODING\n",
      "39\n",
      "{'Neighbors': [<Node id=1507>, <Node id=1061>, <Node id=1495>, <Node id=1356>, <Node id=1215>, <Node id=1098>, <Node id=1114>, <Node id=1090>, <Node id=1256>, <Node id=1119>, <Node id=1518>, <Node id=1460>, <Node id=1257>, <Node id=1432>, <Node id=1372>, <Node id=1111>, <Node id=1194>, <Node id=1463>, <Node id=1407>, <Node id=1171>, <Node id=1324>, <Node id=1094>, <Node id=1514>, <Node id=1249>, <Node id=1478>, <Node id=1428>, <Node id=1225>, <Node id=1517>, <Node id=1082>, <Node id=1264>, <Node id=1239>, <Node id=1394>, <Node id=1496>], 'Max': 39, 'Temperature': -15, 'msgKey': 225}\n",
      "FLOODING\n",
      "39\n",
      "{'Neighbors': [<Node id=1403>, <Node id=1110>, <Node id=1457>, <Node id=1254>, <Node id=1216>, <Node id=1369>, <Node id=1404>, <Node id=1306>, <Node id=1505>, <Node id=1535>, <Node id=1352>, <Node id=1345>, <Node id=1220>, <Node id=1129>, <Node id=1385>, <Node id=1149>, <Node id=1516>, <Node id=1461>, <Node id=1141>, <Node id=1233>, <Node id=1459>, <Node id=1161>, <Node id=1259>, <Node id=1400>, <Node id=1494>, <Node id=1323>, <Node id=1387>, <Node id=1476>, <Node id=1451>, <Node id=1312>, <Node id=1477>, <Node id=1464>, <Node id=1376>, <Node id=1056>, <Node id=1351>, <Node id=1152>, <Node id=1519>, <Node id=1314>, <Node id=1154>, <Node id=1503>, <Node id=1531>, <Node id=1117>, <Node id=1173>, <Node id=1297>, <Node id=1278>], 'Max': 39, 'Temperature': -1, 'msgKey': 177}\n",
      "FLOODING\n",
      "39\n",
      "{'Neighbors': [<Node id=1329>, <Node id=1507>, <Node id=1061>, <Node id=1305>, <Node id=1356>, <Node id=1521>, <Node id=1046>, <Node id=1420>, <Node id=1114>, <Node id=1447>, <Node id=1137>, <Node id=1257>, <Node id=1412>, <Node id=1202>, <Node id=1174>, <Node id=1487>, <Node id=1246>, <Node id=1102>, <Node id=1170>, <Node id=1171>, <Node id=1132>, <Node id=1120>, <Node id=1527>, <Node id=1058>, <Node id=1325>, <Node id=1249>, <Node id=1389>, <Node id=1275>, <Node id=1449>, <Node id=1517>, <Node id=1109>, <Node id=1239>, <Node id=1520>, <Node id=1078>, <Node id=1496>], 'Max': 39, 'Temperature': 22, 'msgKey': 137}\n",
      "FLOODING\n",
      "39\n",
      "{'Neighbors': [<Node id=1423>, <Node id=1218>, <Node id=1450>, <Node id=1130>, <Node id=1498>, <Node id=1127>, <Node id=1437>, <Node id=1263>, <Node id=1381>, <Node id=1245>, <Node id=1195>, <Node id=1207>, <Node id=1048>, <Node id=1253>, <Node id=1192>, <Node id=1162>, <Node id=1176>, <Node id=1370>, <Node id=1281>, <Node id=1179>], 'Max': 39, 'Temperature': -13, 'msgKey': 115}\n",
      "FLOODING\n",
      "39\n",
      "{'Neighbors': [<Node id=1063>, <Node id=1138>, <Node id=1190>, <Node id=1495>, <Node id=1215>, <Node id=1399>, <Node id=1186>, <Node id=1460>, <Node id=1321>, <Node id=1209>, <Node id=1462>, <Node id=1119>, <Node id=1425>, <Node id=1438>, <Node id=1375>, <Node id=1490>, <Node id=1300>, <Node id=1478>, <Node id=1491>, <Node id=1326>, <Node id=1276>, <Node id=1530>, <Node id=1302>, <Node id=1394>], 'Max': 39, 'Temperature': 31, 'msgKey': 139}\n",
      "FLOODING\n",
      "39\n",
      "{'Neighbors': [<Node id=1420>, <Node id=1292>, <Node id=1327>, <Node id=1521>, <Node id=1488>, <Node id=1046>, <Node id=1255>, <Node id=1344>, <Node id=1396>, <Node id=1080>, <Node id=1401>, <Node id=1051>, <Node id=1231>, <Node id=1057>, <Node id=1346>, <Node id=1359>, <Node id=1258>, <Node id=1296>, <Node id=1309>, <Node id=1087>, <Node id=1440>, <Node id=1386>, <Node id=1170>, <Node id=1349>, <Node id=1285>, <Node id=1132>, <Node id=1120>, <Node id=1347>, <Node id=1101>, <Node id=1395>, <Node id=1299>, <Node id=1058>, <Node id=1358>, <Node id=1146>, <Node id=1527>, <Node id=1137>, <Node id=1126>, <Node id=1316>, <Node id=1412>, <Node id=1159>, <Node id=1449>, <Node id=1520>, <Node id=1509>, <Node id=1078>], 'Max': 39, 'Temperature': 6, 'msgKey': 216}\n",
      "FLOODING\n",
      "39\n",
      "{'Neighbors': [<Node id=1417>, <Node id=1415>, <Node id=1515>, <Node id=1221>, <Node id=1293>, <Node id=1100>, <Node id=1258>, <Node id=1181>, <Node id=1367>, <Node id=1185>, <Node id=1539>, <Node id=1510>, <Node id=1413>, <Node id=1057>, <Node id=1244>, <Node id=1422>, <Node id=1140>, <Node id=1543>, <Node id=1448>, <Node id=1205>, <Node id=1169>, <Node id=1121>, <Node id=1513>, <Node id=1050>, <Node id=1489>, <Node id=1361>, <Node id=1166>, <Node id=1374>, <Node id=1168>, <Node id=1147>, <Node id=1085>, <Node id=1197>, <Node id=1528>, <Node id=1155>, <Node id=1469>, <Node id=1262>, <Node id=1224>, <Node id=1441>, <Node id=1365>, <Node id=1492>, <Node id=1047>, <Node id=1251>, <Node id=1426>, <Node id=1277>, <Node id=1115>, <Node id=1354>, <Node id=1177>], 'Max': 39, 'Temperature': -9, 'msgKey': 231}\n",
      "FLOODING\n",
      "39\n",
      "{'Neighbors': [<Node id=1160>, <Node id=1304>, <Node id=1355>, <Node id=1533>, <Node id=1139>, <Node id=1346>, <Node id=1234>, <Node id=1331>, <Node id=1123>, <Node id=1431>, <Node id=1510>, <Node id=1230>, <Node id=1405>, <Node id=1371>, <Node id=1097>, <Node id=1108>, <Node id=1334>, <Node id=1512>, <Node id=1347>, <Node id=1322>, <Node id=1313>, <Node id=1500>, <Node id=1213>, <Node id=1489>, <Node id=1067>, <Node id=1448>, <Node id=1101>, <Node id=1395>, <Node id=1398>, <Node id=1542>, <Node id=1299>, <Node id=1197>, <Node id=1262>, <Node id=1224>, <Node id=1444>, <Node id=1497>, <Node id=1238>, <Node id=1454>, <Node id=1378>, <Node id=1145>, <Node id=1277>, <Node id=1544>, <Node id=1493>, <Node id=1115>, <Node id=1350>], 'Max': 39, 'Temperature': 29, 'msgKey': 177}\n",
      "FLOODING\n",
      "39\n",
      "{'Neighbors': [<Node id=1329>, <Node id=1305>, <Node id=1356>, <Node id=1046>, <Node id=1114>, <Node id=1467>, <Node id=1269>, <Node id=1137>, <Node id=1501>, <Node id=1208>, <Node id=1486>, <Node id=1202>, <Node id=1174>, <Node id=1436>, <Node id=1246>, <Node id=1128>, <Node id=1170>, <Node id=1132>, <Node id=1120>, <Node id=1104>, <Node id=1261>, <Node id=1487>, <Node id=1325>, <Node id=1249>, <Node id=1389>, <Node id=1485>, <Node id=1449>, <Node id=1109>, <Node id=1126>, <Node id=1102>, <Node id=1265>, <Node id=1078>], 'Max': 39, 'Temperature': 2, 'msgKey': 125}\n",
      "FLOODING\n",
      "39\n",
      "{'Neighbors': [<Node id=1530>, <Node id=1138>, <Node id=1190>, <Node id=1495>, <Node id=1432>, <Node id=1215>, <Node id=1196>, <Node id=1134>, <Node id=1302>, <Node id=1460>, <Node id=1295>, <Node id=1219>, <Node id=1186>, <Node id=1209>, <Node id=1271>, <Node id=1462>, <Node id=1119>, <Node id=1438>, <Node id=1142>, <Node id=1425>, <Node id=1111>, <Node id=1375>, <Node id=1399>, <Node id=1490>, <Node id=1300>, <Node id=1478>, <Node id=1491>, <Node id=1326>, <Node id=1463>, <Node id=1428>, <Node id=1063>, <Node id=1082>, <Node id=1264>, <Node id=1239>, <Node id=1394>], 'Max': 39, 'Temperature': 2, 'msgKey': 307}\n",
      "FLOODING\n",
      "39\n",
      "{'Neighbors': [<Node id=1160>, <Node id=1422>, <Node id=1431>, <Node id=1515>, <Node id=1475>, <Node id=1533>, <Node id=1510>, <Node id=1206>, <Node id=1145>, <Node id=1331>, <Node id=1084>, <Node id=1367>, <Node id=1230>, <Node id=1185>, <Node id=1243>, <Node id=1294>, <Node id=1413>, <Node id=1405>, <Node id=1244>, <Node id=1384>, <Node id=1140>, <Node id=1448>, <Node id=1205>, <Node id=1169>, <Node id=1121>, <Node id=1538>, <Node id=1213>, <Node id=1251>, <Node id=1050>, <Node id=1489>, <Node id=1234>, <Node id=1374>, <Node id=1168>, <Node id=1273>, <Node id=1388>, <Node id=1197>, <Node id=1274>, <Node id=1181>, <Node id=1200>, <Node id=1262>, <Node id=1224>, <Node id=1310>, <Node id=1444>, <Node id=1442>, <Node id=1441>, <Node id=1365>, <Node id=1492>, <Node id=1100>, <Node id=1131>, <Node id=1426>, <Node id=1328>, <Node id=1454>, <Node id=1115>, <Node id=1350>], 'Max': 39, 'Temperature': 5, 'msgKey': 266}\n",
      "FLOODING\n",
      "39\n",
      "{'Neighbors': [<Node id=1434>, <Node id=1330>, <Node id=1254>, <Node id=1280>, <Node id=1404>, <Node id=1073>, <Node id=1081>, <Node id=1535>, <Node id=1135>, <Node id=1268>, <Node id=1075>, <Node id=1060>, <Node id=1149>, <Node id=1461>, <Node id=1459>, <Node id=1220>, <Node id=1525>, <Node id=1351>, <Node id=1161>, <Node id=1529>, <Node id=1368>, <Node id=1336>, <Node id=1072>, <Node id=1099>, <Node id=1124>, <Node id=1223>, <Node id=1287>, <Node id=1066>, <Node id=1457>, <Node id=1079>, <Node id=1096>, <Node id=1524>, <Node id=1519>, <Node id=1203>, <Node id=1129>, <Node id=1154>, <Node id=1503>, <Node id=1318>, <Node id=1232>, <Node id=1314>, <Node id=1376>, <Node id=1430>, <Node id=1357>, <Node id=1165>], 'Max': 39, 'Temperature': 37, 'msgKey': 130}\n",
      "FLOODING\n",
      "39\n",
      "{'Neighbors': [<Node id=1410>, <Node id=1211>, <Node id=1125>, <Node id=1445>, <Node id=1484>, <Node id=1522>, <Node id=1319>, <Node id=1183>, <Node id=1383>, <Node id=1523>, <Node id=1282>, <Node id=1308>, <Node id=1332>, <Node id=1166>, <Node id=1105>, <Node id=1528>, <Node id=1392>, <Node id=1320>, <Node id=1469>, <Node id=1416>, <Node id=1226>, <Node id=1156>, <Node id=1539>, <Node id=1303>, <Node id=1443>], 'Max': 39, 'Temperature': 18, 'msgKey': 145}\n",
      "FLOODING\n",
      "39\n",
      "{'Neighbors': [<Node id=1253>, <Node id=1086>, <Node id=1368>, <Node id=1207>, <Node id=1081>, <Node id=1535>, <Node id=1307>, <Node id=1075>, <Node id=1162>, <Node id=1287>, <Node id=1278>, <Node id=1232>, <Node id=1245>, <Node id=1423>, <Node id=1519>, <Node id=1480>, <Node id=1179>, <Node id=1457>, <Node id=1130>, <Node id=1072>, <Node id=1434>, <Node id=1223>, <Node id=1083>, <Node id=1176>, <Node id=1066>, <Node id=1079>, <Node id=1351>, <Node id=1529>, <Node id=1430>, <Node id=1263>, <Node id=1203>, <Node id=1122>, <Node id=1048>, <Node id=1366>, <Node id=1498>, <Node id=1165>, <Node id=1133>], 'Max': 39, 'Temperature': 38, 'msgKey': 73}\n",
      "FLOODING\n",
      "39\n",
      "{'Neighbors': [<Node id=1218>, <Node id=1450>, <Node id=1130>, <Node id=1498>, <Node id=1162>, <Node id=1263>, <Node id=1381>, <Node id=1245>, <Node id=1270>, <Node id=1195>, <Node id=1207>, <Node id=1048>, <Node id=1253>, <Node id=1192>, <Node id=1127>, <Node id=1176>, <Node id=1179>, <Node id=1423>, <Node id=1133>], 'Max': 39, 'Temperature': -13, 'msgKey': 127}\n",
      "FLOODING\n",
      "39\n",
      "{'Neighbors': [<Node id=1417>, <Node id=1279>, <Node id=1410>, <Node id=1211>, <Node id=1308>, <Node id=1125>, <Node id=1445>, <Node id=1484>, <Node id=1522>, <Node id=1534>, <Node id=1319>, <Node id=1183>, <Node id=1523>, <Node id=1320>, <Node id=1333>, <Node id=1093>, <Node id=1446>, <Node id=1332>, <Node id=1166>, <Node id=1105>, <Node id=1337>, <Node id=1528>, <Node id=1364>, <Node id=1392>, <Node id=1466>, <Node id=1469>, <Node id=1226>, <Node id=1156>, <Node id=1303>, <Node id=1443>], 'Max': 39, 'Temperature': 9, 'msgKey': 175}\n",
      "FLOODING\n",
      "39\n",
      "{'Neighbors': [<Node id=1052>, <Node id=1110>, <Node id=1419>, <Node id=1059>, <Node id=1369>, <Node id=1306>, <Node id=1397>, <Node id=1403>, <Node id=1540>, <Node id=1182>, <Node id=1143>, <Node id=1516>, <Node id=1065>, <Node id=1385>, <Node id=1360>, <Node id=1297>, <Node id=1387>, <Node id=1222>, <Node id=1427>, <Node id=1451>, <Node id=1248>, <Node id=1184>, <Node id=1216>, <Node id=1056>, <Node id=1504>, <Node id=1068>, <Node id=1390>, <Node id=1502>, <Node id=1352>, <Node id=1505>, <Node id=1391>, <Node id=1157>, <Node id=1531>, <Node id=1290>, <Node id=1473>, <Node id=1242>], 'Max': 39, 'Temperature': 10, 'msgKey': 176}\n",
      "FLOODING\n",
      "39\n",
      "{'Neighbors': [<Node id=1380>, <Node id=1482>, <Node id=1255>, <Node id=1164>, <Node id=1521>, <Node id=1496>, <Node id=1420>, <Node id=1344>, <Node id=1396>, <Node id=1051>, <Node id=1231>, <Node id=1163>, <Node id=1412>, <Node id=1309>, <Node id=1132>, <Node id=1514>, <Node id=1171>, <Node id=1235>, <Node id=1212>, <Node id=1210>, <Node id=1439>, <Node id=1058>, <Node id=1358>, <Node id=1527>, <Node id=1517>, <Node id=1225>, <Node id=1291>, <Node id=1416>, <Node id=1193>, <Node id=1520>, <Node id=1509>, <Node id=1532>], 'Max': 39, 'Temperature': 27, 'msgKey': 156}\n",
      "FLOODING\n",
      "39\n",
      "{'Neighbors': [<Node id=1431>, <Node id=1355>, <Node id=1292>, <Node id=1126>, <Node id=1488>, <Node id=1255>, <Node id=1344>, <Node id=1123>, <Node id=1080>, <Node id=1378>, <Node id=1510>, <Node id=1358>, <Node id=1057>, <Node id=1346>, <Node id=1359>, <Node id=1258>, <Node id=1296>, <Node id=1347>, <Node id=1087>, <Node id=1449>, <Node id=1500>, <Node id=1386>, <Node id=1170>, <Node id=1489>, <Node id=1272>, <Node id=1401>, <Node id=1349>, <Node id=1101>, <Node id=1395>, <Node id=1398>, <Node id=1299>, <Node id=1197>, <Node id=1440>, <Node id=1334>, <Node id=1405>, <Node id=1327>, <Node id=1316>, <Node id=1159>, <Node id=1078>, <Node id=1350>], 'Max': 39, 'Temperature': 38, 'msgKey': 79}\n",
      "FLOODING\n",
      "39\n",
      "{'Neighbors': [<Node id=1393>, <Node id=1054>, <Node id=1363>, <Node id=1180>, <Node id=1229>, <Node id=1049>, <Node id=1458>, <Node id=1311>, <Node id=1071>, <Node id=1150>, <Node id=1511>, <Node id=1077>, <Node id=1116>, <Node id=1335>, <Node id=1107>, <Node id=1074>, <Node id=1178>, <Node id=1088>, <Node id=1362>, <Node id=1198>, <Node id=1153>, <Node id=1095>, <Node id=1236>, <Node id=1465>, <Node id=1064>, <Node id=1427>, <Node id=1237>, <Node id=1068>, <Node id=1250>, <Node id=1545>, <Node id=1424>, <Node id=1429>, <Node id=1053>, <Node id=1204>, <Node id=1266>, <Node id=1199>], 'Max': 39, 'Temperature': 3, 'msgKey': 316}\n",
      "FLOODING\n",
      "39\n",
      "{'Neighbors': [<Node id=1253>, <Node id=1086>, <Node id=1368>, <Node id=1461>, <Node id=1165>, <Node id=1081>, <Node id=1535>, <Node id=1135>, <Node id=1307>, <Node id=1075>, <Node id=1162>, <Node id=1232>, <Node id=1245>, <Node id=1423>, <Node id=1519>, <Node id=1480>, <Node id=1179>, <Node id=1457>, <Node id=1130>, <Node id=1072>, <Node id=1434>, <Node id=1223>, <Node id=1083>, <Node id=1207>, <Node id=1066>, <Node id=1079>, <Node id=1351>, <Node id=1529>, <Node id=1430>, <Node id=1203>, <Node id=1048>, <Node id=1280>, <Node id=1366>, <Node id=1173>, <Node id=1278>, <Node id=1133>], 'Max': 39, 'Temperature': 35, 'msgKey': 106}\n",
      "FLOODING\n",
      "39\n",
      "{'Neighbors': [<Node id=1160>, <Node id=1122>, <Node id=1187>, <Node id=1091>, <Node id=1533>, <Node id=1330>, <Node id=1508>, <Node id=1343>, <Node id=1483>, <Node id=1067>, <Node id=1331>, <Node id=1230>, <Node id=1453>, <Node id=1243>, <Node id=1536>, <Node id=1294>, <Node id=1089>, <Node id=1060>, <Node id=1371>, <Node id=1247>, <Node id=1206>, <Node id=1456>, <Node id=1537>, <Node id=1423>, <Node id=1474>, <Node id=1167>, <Node id=1538>, <Node id=1213>, <Node id=1475>, <Node id=1234>, <Node id=1512>, <Node id=1158>, <Node id=1260>, <Node id=1069>, <Node id=1099>, <Node id=1148>, <Node id=1402>, <Node id=1542>, <Node id=1124>, <Node id=1322>, <Node id=1338>, <Node id=1384>, <Node id=1304>, <Node id=1529>, <Node id=1406>, <Node id=1307>, <Node id=1479>, <Node id=1238>, <Node id=1112>, <Node id=1145>, <Node id=1493>, <Node id=1328>, <Node id=1444>, <Node id=1357>, <Node id=1165>], 'Max': 39, 'Temperature': -14, 'msgKey': 217}\n",
      "FLOODING\n",
      "39\n",
      "{'Neighbors': [<Node id=1465>, <Node id=1409>, <Node id=1054>, <Node id=1305>, <Node id=1219>, <Node id=1229>, <Node id=1526>, <Node id=1382>, <Node id=1433>, <Node id=1467>, <Node id=1198>, <Node id=1196>, <Node id=1134>, <Node id=1447>, <Node id=1295>, <Node id=1077>, <Node id=1486>, <Node id=1186>, <Node id=1487>, <Node id=1128>, <Node id=1408>, <Node id=1501>, <Node id=1178>, <Node id=1104>, <Node id=1541>, <Node id=1095>, <Node id=1363>, <Node id=1325>, <Node id=1470>, <Node id=1435>, <Node id=1339>, <Node id=1153>, <Node id=1250>, <Node id=1201>, <Node id=1511>, <Node id=1109>, <Node id=1340>, <Node id=1429>, <Node id=1353>, <Node id=1455>, <Node id=1393>, <Node id=1481>, <Node id=1452>, <Node id=1240>], 'Max': 39, 'Temperature': 39, 'msgKey': 44}\n",
      "FLOODING\n",
      "39\n",
      "{'Neighbors': [<Node id=1052>, <Node id=1468>, <Node id=1369>, <Node id=1217>, <Node id=1306>, <Node id=1494>, <Node id=1345>, <Node id=1472>, <Node id=1540>, <Node id=1283>, <Node id=1499>, <Node id=1385>, <Node id=1297>, <Node id=1056>, <Node id=1476>, <Node id=1323>, <Node id=1222>, <Node id=1464>, <Node id=1248>, <Node id=1312>, <Node id=1070>, <Node id=1504>, <Node id=1403>, <Node id=1113>, <Node id=1390>, <Node id=1189>, <Node id=1352>, <Node id=1391>, <Node id=1151>, <Node id=1506>, <Node id=1259>, <Node id=1242>], 'Max': 39, 'Temperature': -5, 'msgKey': 125}\n",
      "FLOODING\n",
      "39\n",
      "{'Neighbors': [<Node id=1051>, <Node id=1517>, <Node id=1317>, <Node id=1396>, <Node id=1193>, <Node id=1225>, <Node id=1163>, <Node id=1482>, <Node id=1164>, <Node id=1212>, <Node id=1514>, <Node id=1210>, <Node id=1521>, <Node id=1383>, <Node id=1439>, <Node id=1058>, <Node id=1532>, <Node id=1235>, <Node id=1284>, <Node id=1509>, <Node id=1416>], 'Max': 39, 'Temperature': 24, 'msgKey': 121}\n",
      "FLOODING\n",
      "39\n",
      "{'Neighbors': [<Node id=1431>, <Node id=1126>, <Node id=1488>, <Node id=1255>, <Node id=1344>, <Node id=1349>, <Node id=1080>, <Node id=1401>, <Node id=1510>, <Node id=1231>, <Node id=1057>, <Node id=1346>, <Node id=1359>, <Node id=1258>, <Node id=1296>, <Node id=1309>, <Node id=1087>, <Node id=1440>, <Node id=1386>, <Node id=1170>, <Node id=1489>, <Node id=1272>, <Node id=1285>, <Node id=1347>, <Node id=1101>, <Node id=1147>, <Node id=1398>, <Node id=1299>, <Node id=1197>, <Node id=1358>, <Node id=1395>, <Node id=1146>, <Node id=1405>, <Node id=1327>, <Node id=1378>, <Node id=1412>, <Node id=1159>, <Node id=1513>, <Node id=1316>, <Node id=1350>], 'Max': 39, 'Temperature': 9, 'msgKey': 235}\n",
      "FLOODING\n",
      "39\n",
      "{'Neighbors': [<Node id=1417>, <Node id=1365>, <Node id=1515>, <Node id=1093>, <Node id=1308>, <Node id=1181>, <Node id=1319>, <Node id=1320>, <Node id=1244>, <Node id=1422>, <Node id=1140>, <Node id=1543>, <Node id=1185>, <Node id=1367>, <Node id=1121>, <Node id=1361>, <Node id=1166>, <Node id=1374>, <Node id=1298>, <Node id=1168>, <Node id=1273>, <Node id=1085>, <Node id=1528>, <Node id=1155>, <Node id=1469>, <Node id=1364>, <Node id=1441>, <Node id=1172>, <Node id=1100>, <Node id=1251>, <Node id=1426>, <Node id=1446>, <Node id=1333>, <Node id=1303>, <Node id=1354>, <Node id=1177>], 'Max': 39, 'Temperature': 24, 'msgKey': 141}\n",
      "FLOODING\n",
      "39\n",
      "{'Neighbors': [<Node id=1160>, <Node id=1122>, <Node id=1187>, <Node id=1091>, <Node id=1533>, <Node id=1330>, <Node id=1508>, <Node id=1343>, <Node id=1483>, <Node id=1145>, <Node id=1331>, <Node id=1338>, <Node id=1084>, <Node id=1230>, <Node id=1453>, <Node id=1243>, <Node id=1444>, <Node id=1089>, <Node id=1536>, <Node id=1371>, <Node id=1247>, <Node id=1206>, <Node id=1456>, <Node id=1537>, <Node id=1512>, <Node id=1474>, <Node id=1167>, <Node id=1538>, <Node id=1213>, <Node id=1475>, <Node id=1234>, <Node id=1158>, <Node id=1260>, <Node id=1069>, <Node id=1148>, <Node id=1099>, <Node id=1402>, <Node id=1406>, <Node id=1322>, <Node id=1200>, <Node id=1384>, <Node id=1224>, <Node id=1304>, <Node id=1288>, <Node id=1493>, <Node id=1479>, <Node id=1238>, <Node id=1112>, <Node id=1131>, <Node id=1442>, <Node id=1277>, <Node id=1328>, <Node id=1341>, <Node id=1310>], 'Max': 39, 'Temperature': -11, 'msgKey': 160}\n",
      "FLOODING\n",
      "39\n",
      "{'Neighbors': [<Node id=1276>, <Node id=1138>, <Node id=1063>, <Node id=1495>, <Node id=1305>, <Node id=1082>, <Node id=1215>, <Node id=1507>, <Node id=1356>, <Node id=1382>, <Node id=1114>, <Node id=1467>, <Node id=1196>, <Node id=1134>, <Node id=1447>, <Node id=1432>, <Node id=1219>, <Node id=1186>, <Node id=1209>, <Node id=1487>, <Node id=1526>, <Node id=1249>, <Node id=1408>, <Node id=1425>, <Node id=1375>, <Node id=1399>, <Node id=1325>, <Node id=1300>, <Node id=1435>, <Node id=1478>, <Node id=1428>, <Node id=1109>, <Node id=1289>, <Node id=1530>, <Node id=1340>, <Node id=1264>, <Node id=1353>, <Node id=1239>, <Node id=1455>, <Node id=1470>, <Node id=1394>, <Node id=1452>], 'Max': 39, 'Temperature': 32, 'msgKey': 124}\n",
      "FLOODING\n",
      "39\n",
      "{'Neighbors': [<Node id=1405>, <Node id=1431>, <Node id=1420>, <Node id=1292>, <Node id=1327>, <Node id=1488>, <Node id=1046>, <Node id=1255>, <Node id=1344>, <Node id=1349>, <Node id=1378>, <Node id=1080>, <Node id=1401>, <Node id=1510>, <Node id=1231>, <Node id=1057>, <Node id=1346>, <Node id=1359>, <Node id=1258>, <Node id=1309>, <Node id=1087>, <Node id=1440>, <Node id=1386>, <Node id=1170>, <Node id=1272>, <Node id=1285>, <Node id=1132>, <Node id=1347>, <Node id=1101>, <Node id=1395>, <Node id=1299>, <Node id=1197>, <Node id=1520>, <Node id=1396>, <Node id=1358>, <Node id=1146>, <Node id=1137>, <Node id=1126>, <Node id=1316>, <Node id=1412>, <Node id=1159>, <Node id=1449>, <Node id=1078>], 'Max': 39, 'Temperature': 17, 'msgKey': 211}\n",
      "FLOODING\n",
      "39\n",
      "{'Neighbors': [<Node id=1110>, <Node id=1419>, <Node id=1216>, <Node id=1369>, <Node id=1404>, <Node id=1306>, <Node id=1268>, <Node id=1352>, <Node id=1345>, <Node id=1129>, <Node id=1400>, <Node id=1385>, <Node id=1182>, <Node id=1149>, <Node id=1516>, <Node id=1220>, <Node id=1505>, <Node id=1233>, <Node id=1459>, <Node id=1283>, <Node id=1259>, <Node id=1056>, <Node id=1476>, <Node id=1323>, <Node id=1154>, <Node id=1387>, <Node id=1117>, <Node id=1451>, <Node id=1472>, <Node id=1312>, <Node id=1477>, <Node id=1464>, <Node id=1403>, <Node id=1113>, <Node id=1152>, <Node id=1390>, <Node id=1502>, <Node id=1314>, <Node id=1161>, <Node id=1391>, <Node id=1503>, <Node id=1531>, <Node id=1290>, <Node id=1473>, <Node id=1494>], 'Max': 39, 'Temperature': 19, 'msgKey': 177}\n",
      "FLOODING\n",
      "39\n",
      "{'Neighbors': [<Node id=1417>, <Node id=1172>, <Node id=1410>, <Node id=1308>, <Node id=1293>, <Node id=1484>, <Node id=1319>, <Node id=1320>, <Node id=1333>, <Node id=1422>, <Node id=1093>, <Node id=1543>, <Node id=1185>, <Node id=1361>, <Node id=1166>, <Node id=1374>, <Node id=1105>, <Node id=1168>, <Node id=1337>, <Node id=1426>, <Node id=1528>, <Node id=1155>, <Node id=1364>, <Node id=1466>, <Node id=1365>, <Node id=1469>, <Node id=1515>, <Node id=1446>, <Node id=1303>, <Node id=1354>, <Node id=1177>], 'Max': 39, 'Temperature': 34, 'msgKey': 91}\n",
      "FLOODING\n",
      "39\n",
      "{'Neighbors': [<Node id=1431>, <Node id=1355>, <Node id=1139>, <Node id=1346>, <Node id=1488>, <Node id=1255>, <Node id=1123>, <Node id=1080>, <Node id=1401>, <Node id=1510>, <Node id=1057>, <Node id=1097>, <Node id=1359>, <Node id=1108>, <Node id=1258>, <Node id=1296>, <Node id=1347>, <Node id=1087>, <Node id=1449>, <Node id=1500>, <Node id=1386>, <Node id=1170>, <Node id=1489>, <Node id=1272>, <Node id=1285>, <Node id=1101>, <Node id=1292>, <Node id=1398>, <Node id=1261>, <Node id=1197>, <Node id=1274>, <Node id=1440>, <Node id=1395>, <Node id=1334>, <Node id=1497>, <Node id=1405>, <Node id=1126>, <Node id=1378>, <Node id=1159>, <Node id=1454>, <Node id=1316>, <Node id=1350>], 'Max': 39, 'Temperature': 38, 'msgKey': 83}\n",
      "FLOODING\n",
      "39\n",
      "{'Neighbors': [<Node id=1276>, <Node id=1138>, <Node id=1190>, <Node id=1495>, <Node id=1432>, <Node id=1215>, <Node id=1196>, <Node id=1295>, <Node id=1219>, <Node id=1186>, <Node id=1209>, <Node id=1271>, <Node id=1462>, <Node id=1425>, <Node id=1438>, <Node id=1375>, <Node id=1399>, <Node id=1490>, <Node id=1119>, <Node id=1435>, <Node id=1478>, <Node id=1491>, <Node id=1063>, <Node id=1530>, <Node id=1302>, <Node id=1394>], 'Max': 39, 'Temperature': 24, 'msgKey': 151}\n",
      "FLOODING\n",
      "39\n",
      "{'Neighbors': [<Node id=1106>, <Node id=1118>, <Node id=1076>, <Node id=1144>, <Node id=1458>, <Node id=1241>, <Node id=1411>, <Node id=1049>, <Node id=1116>, <Node id=1266>, <Node id=1252>, <Node id=1418>, <Node id=1071>, <Node id=1175>], 'Max': 39, 'Temperature': -4, 'msgKey': 66}\n",
      "FLOODING\n",
      "39\n",
      "{'Neighbors': [<Node id=1063>, <Node id=1138>, <Node id=1190>, <Node id=1495>, <Node id=1432>, <Node id=1215>, <Node id=1399>, <Node id=1186>, <Node id=1321>, <Node id=1209>, <Node id=1271>, <Node id=1462>, <Node id=1119>, <Node id=1425>, <Node id=1438>, <Node id=1375>, <Node id=1490>, <Node id=1300>, <Node id=1478>, <Node id=1491>, <Node id=1276>, <Node id=1530>, <Node id=1394>], 'Max': 39, 'Temperature': -9, 'msgKey': 199}\n",
      "FLOODING\n",
      "39\n",
      "{'Neighbors': [<Node id=1417>, <Node id=1279>, <Node id=1410>, <Node id=1211>, <Node id=1308>, <Node id=1445>, <Node id=1293>, <Node id=1484>, <Node id=1522>, <Node id=1534>, <Node id=1319>, <Node id=1332>, <Node id=1523>, <Node id=1282>, <Node id=1333>, <Node id=1093>, <Node id=1446>, <Node id=1298>, <Node id=1166>, <Node id=1105>, <Node id=1337>, <Node id=1528>, <Node id=1469>, <Node id=1364>, <Node id=1183>, <Node id=1466>, <Node id=1320>, <Node id=1047>, <Node id=1226>, <Node id=1156>, <Node id=1392>, <Node id=1443>], 'Max': 39, 'Temperature': 32, 'msgKey': 94}\n",
      "FLOODING\n",
      "39\n",
      "{'Neighbors': [<Node id=1160>, <Node id=1187>, <Node id=1355>, <Node id=1533>, <Node id=1330>, <Node id=1139>, <Node id=1454>, <Node id=1483>, <Node id=1067>, <Node id=1331>, <Node id=1073>, <Node id=1123>, <Node id=1230>, <Node id=1406>, <Node id=1431>, <Node id=1318>, <Node id=1294>, <Node id=1089>, <Node id=1060>, <Node id=1371>, <Node id=1097>, <Node id=1108>, <Node id=1398>, <Node id=1512>, <Node id=1322>, <Node id=1497>, <Node id=1500>, <Node id=1213>, <Node id=1537>, <Node id=1234>, <Node id=1247>, <Node id=1148>, <Node id=1099>, <Node id=1124>, <Node id=1350>, <Node id=1274>, <Node id=1538>, <Node id=1313>, <Node id=1288>, <Node id=1238>, <Node id=1112>, <Node id=1378>, <Node id=1145>, <Node id=1493>, <Node id=1544>, <Node id=1444>, <Node id=1357>, <Node id=1542>], 'Max': 39, 'Temperature': 17, 'msgKey': 236}\n",
      "FLOODING\n",
      "39\n",
      "{'Neighbors': [<Node id=1329>, <Node id=1409>, <Node id=1495>, <Node id=1356>, <Node id=1507>, <Node id=1382>, <Node id=1114>, <Node id=1340>, <Node id=1447>, <Node id=1196>, <Node id=1134>, <Node id=1137>, <Node id=1295>, <Node id=1432>, <Node id=1219>, <Node id=1486>, <Node id=1202>, <Node id=1174>, <Node id=1467>, <Node id=1487>, <Node id=1246>, <Node id=1128>, <Node id=1501>, <Node id=1120>, <Node id=1104>, <Node id=1325>, <Node id=1249>, <Node id=1389>, <Node id=1269>, <Node id=1275>, <Node id=1339>, <Node id=1109>, <Node id=1289>, <Node id=1102>, <Node id=1353>, <Node id=1239>, <Node id=1470>, <Node id=1240>], 'Max': 39, 'Temperature': 13, 'msgKey': 112}\n",
      "FLOODING\n",
      "39\n",
      "{'Neighbors': [<Node id=1110>, <Node id=1419>, <Node id=1216>, <Node id=1369>, <Node id=1404>, <Node id=1268>, <Node id=1352>, <Node id=1345>, <Node id=1129>, <Node id=1400>, <Node id=1385>, <Node id=1182>, <Node id=1149>, <Node id=1516>, <Node id=1220>, <Node id=1505>, <Node id=1233>, <Node id=1459>, <Node id=1283>, <Node id=1259>, <Node id=1056>, <Node id=1476>, <Node id=1323>, <Node id=1154>, <Node id=1387>, <Node id=1117>, <Node id=1451>, <Node id=1472>, <Node id=1312>, <Node id=1477>, <Node id=1464>, <Node id=1403>, <Node id=1113>, <Node id=1152>, <Node id=1390>, <Node id=1502>, <Node id=1314>, <Node id=1161>, <Node id=1391>, <Node id=1503>, <Node id=1531>, <Node id=1290>, <Node id=1297>, <Node id=1473>, <Node id=1494>], 'Max': 39, 'Temperature': 22, 'msgKey': 177}\n",
      "FLOODING\n",
      "39\n",
      "{'Neighbors': [<Node id=1434>, <Node id=1187>, <Node id=1091>, <Node id=1330>, <Node id=1381>, <Node id=1343>, <Node id=1195>, <Node id=1280>, <Node id=1498>, <Node id=1287>, <Node id=1368>, <Node id=1081>, <Node id=1453>, <Node id=1135>, <Node id=1536>, <Node id=1089>, <Node id=1075>, <Node id=1060>, <Node id=1371>, <Node id=1158>, <Node id=1232>, <Node id=1456>, <Node id=1537>, <Node id=1423>, <Node id=1167>, <Node id=1370>, <Node id=1179>, <Node id=1437>, <Node id=1072>, <Node id=1450>, <Node id=1130>, <Node id=1260>, <Node id=1069>, <Node id=1099>, <Node id=1148>, <Node id=1508>, <Node id=1402>, <Node id=1124>, <Node id=1223>, <Node id=1322>, <Node id=1176>, <Node id=1066>, <Node id=1457>, <Node id=1079>, <Node id=1529>, <Node id=1288>, <Node id=1483>, <Node id=1203>, <Node id=1247>, <Node id=1122>, <Node id=1112>, <Node id=1406>, <Node id=1493>, <Node id=1479>, <Node id=1430>, <Node id=1165>], 'Max': 39, 'Temperature': 18, 'msgKey': 111}\n",
      "FLOODING\n",
      "39\n",
      "{'Neighbors': [<Node id=1417>, <Node id=1279>, <Node id=1410>, <Node id=1211>, <Node id=1469>, <Node id=1445>, <Node id=1293>, <Node id=1484>, <Node id=1522>, <Node id=1534>, <Node id=1319>, <Node id=1183>, <Node id=1523>, <Node id=1282>, <Node id=1333>, <Node id=1093>, <Node id=1446>, <Node id=1298>, <Node id=1332>, <Node id=1166>, <Node id=1105>, <Node id=1337>, <Node id=1528>, <Node id=1364>, <Node id=1392>, <Node id=1466>, <Node id=1320>, <Node id=1047>, <Node id=1226>, <Node id=1156>, <Node id=1303>, <Node id=1443>], 'Max': 39, 'Temperature': 11, 'msgKey': 187}\n",
      "FLOODING\n",
      "39\n",
      "{'Neighbors': [<Node id=1380>, <Node id=1221>, <Node id=1509>, <Node id=1292>, <Node id=1440>, <Node id=1125>, <Node id=1443>, <Node id=1488>, <Node id=1255>, <Node id=1344>, <Node id=1416>, <Node id=1539>, <Node id=1051>, <Node id=1522>, <Node id=1231>, <Node id=1057>, <Node id=1482>, <Node id=1412>, <Node id=1383>, <Node id=1258>, <Node id=1296>, <Node id=1087>, <Node id=1284>, <Node id=1386>, <Node id=1348>, <Node id=1272>, <Node id=1401>, <Node id=1193>, <Node id=1349>, <Node id=1235>, <Node id=1164>, <Node id=1439>, <Node id=1212>, <Node id=1358>, <Node id=1146>, <Node id=1327>, <Node id=1396>, <Node id=1445>, <Node id=1156>, <Node id=1520>, <Node id=1513>, <Node id=1316>, <Node id=1532>], 'Max': 39, 'Temperature': 25, 'msgKey': 295}\n",
      "FLOODING\n",
      "39\n",
      "{'Neighbors': [<Node id=1160>, <Node id=1091>, <Node id=1533>, <Node id=1206>, <Node id=1483>, <Node id=1145>, <Node id=1331>, <Node id=1338>, <Node id=1084>, <Node id=1230>, <Node id=1243>, <Node id=1294>, <Node id=1089>, <Node id=1537>, <Node id=1244>, <Node id=1384>, <Node id=1140>, <Node id=1448>, <Node id=1205>, <Node id=1169>, <Node id=1121>, <Node id=1538>, <Node id=1474>, <Node id=1213>, <Node id=1475>, <Node id=1234>, <Node id=1069>, <Node id=1402>, <Node id=1388>, <Node id=1322>, <Node id=1181>, <Node id=1200>, <Node id=1224>, <Node id=1493>, <Node id=1492>, <Node id=1100>, <Node id=1131>, <Node id=1442>, <Node id=1277>, <Node id=1328>, <Node id=1454>, <Node id=1341>, <Node id=1444>], 'Max': 39, 'Temperature': 29, 'msgKey': 127}\n",
      "FLOODING\n",
      "39\n",
      "{'Neighbors': [<Node id=1107>, <Node id=1180>, <Node id=1049>, <Node id=1458>, <Node id=1071>, <Node id=1150>, <Node id=1411>, <Node id=1116>, <Node id=1424>, <Node id=1106>, <Node id=1252>, <Node id=1088>, <Node id=1362>, <Node id=1286>, <Node id=1236>, <Node id=1064>, <Node id=1237>, <Node id=1144>, <Node id=1335>, <Node id=1053>, <Node id=1204>, <Node id=1266>, <Node id=1199>], 'Max': 39, 'Temperature': 22, 'msgKey': 133}\n",
      "FLOODING\n",
      "39\n",
      "{'Neighbors': [<Node id=1110>, <Node id=1404>, <Node id=1369>, <Node id=1117>, <Node id=1306>, <Node id=1268>, <Node id=1459>, <Node id=1345>, <Node id=1220>, <Node id=1400>, <Node id=1385>, <Node id=1149>, <Node id=1141>, <Node id=1505>, <Node id=1233>, <Node id=1161>, <Node id=1259>, <Node id=1056>, <Node id=1476>, <Node id=1323>, <Node id=1387>, <Node id=1290>, <Node id=1451>, <Node id=1472>, <Node id=1477>, <Node id=1464>, <Node id=1403>, <Node id=1113>, <Node id=1351>, <Node id=1519>, <Node id=1390>, <Node id=1352>, <Node id=1154>, <Node id=1391>, <Node id=1503>, <Node id=1314>, <Node id=1173>, <Node id=1297>, <Node id=1494>], 'Max': 39, 'Temperature': 30, 'msgKey': 115}\n",
      "FLOODING\n",
      "39\n",
      "{'Neighbors': [<Node id=1304>, <Node id=1228>, <Node id=1330>, <Node id=1139>, <Node id=1318>, <Node id=1471>, <Node id=1073>, <Node id=1123>, <Node id=1135>, <Node id=1103>, <Node id=1230>, <Node id=1096>, <Node id=1060>, <Node id=1371>, <Node id=1355>, <Node id=1097>, <Node id=1524>, <Node id=1108>, <Node id=1334>, <Node id=1512>, <Node id=1525>, <Node id=1497>, <Node id=1373>, <Node id=1067>, <Node id=1336>, <Node id=1254>, <Node id=1398>, <Node id=1124>, <Node id=1223>, <Node id=1274>, <Node id=1062>, <Node id=1542>, <Node id=1238>, <Node id=1500>, <Node id=1378>, <Node id=1544>, <Node id=1376>, <Node id=1165>, <Node id=1357>, <Node id=1136>], 'Max': 39, 'Temperature': 11, 'msgKey': 196}\n",
      "FLOODING\n",
      "39\n",
      "{'Neighbors': [<Node id=1403>, <Node id=1110>, <Node id=1471>, <Node id=1254>, <Node id=1216>, <Node id=1369>, <Node id=1404>, <Node id=1306>, <Node id=1268>, <Node id=1535>, <Node id=1397>, <Node id=1103>, <Node id=1376>, <Node id=1096>, <Node id=1129>, <Node id=1385>, <Node id=1182>, <Node id=1149>, <Node id=1516>, <Node id=1461>, <Node id=1220>, <Node id=1505>, <Node id=1233>, <Node id=1459>, <Node id=1524>, <Node id=1161>, <Node id=1297>, <Node id=1400>, <Node id=1323>, <Node id=1336>, <Node id=1387>, <Node id=1531>, <Node id=1476>, <Node id=1062>, <Node id=1502>, <Node id=1451>, <Node id=1312>, <Node id=1464>, <Node id=1525>, <Node id=1059>, <Node id=1056>, <Node id=1152>, <Node id=1352>, <Node id=1419>, <Node id=1154>, <Node id=1503>, <Node id=1315>, <Node id=1373>, <Node id=1519>, <Node id=1473>, <Node id=1278>], 'Max': 39, 'Temperature': 15, 'msgKey': 251}\n",
      "FLOODING\n",
      "39\n",
      "{'Neighbors': [<Node id=1403>, <Node id=1228>, <Node id=1110>, <Node id=1471>, <Node id=1254>, <Node id=1216>, <Node id=1318>, <Node id=1404>, <Node id=1073>, <Node id=1505>, <Node id=1352>, <Node id=1103>, <Node id=1376>, <Node id=1096>, <Node id=1129>, <Node id=1182>, <Node id=1208>, <Node id=1220>, <Node id=1436>, <Node id=1525>, <Node id=1397>, <Node id=1524>, <Node id=1373>, <Node id=1421>, <Node id=1336>, <Node id=1387>, <Node id=1062>, <Node id=1502>, <Node id=1451>, <Node id=1092>, <Node id=1055>, <Node id=1059>, <Node id=1516>, <Node id=1485>, <Node id=1152>, <Node id=1214>, <Node id=1419>, <Node id=1154>, <Node id=1065>, <Node id=1531>, <Node id=1314>, <Node id=1379>, <Node id=1265>, <Node id=1473>, <Node id=1136>], 'Max': 39, 'Temperature': 6, 'msgKey': 177}\n",
      "FLOODING\n",
      "39\n",
      "{'Neighbors': [<Node id=1380>, <Node id=1431>, <Node id=1221>, <Node id=1292>, <Node id=1126>, <Node id=1488>, <Node id=1255>, <Node id=1344>, <Node id=1349>, <Node id=1080>, <Node id=1401>, <Node id=1510>, <Node id=1231>, <Node id=1057>, <Node id=1346>, <Node id=1359>, <Node id=1258>, <Node id=1296>, <Node id=1309>, <Node id=1087>, <Node id=1440>, <Node id=1386>, <Node id=1170>, <Node id=1489>, <Node id=1272>, <Node id=1285>, <Node id=1347>, <Node id=1101>, <Node id=1147>, <Node id=1299>, <Node id=1197>, <Node id=1358>, <Node id=1395>, <Node id=1146>, <Node id=1405>, <Node id=1327>, <Node id=1348>, <Node id=1378>, <Node id=1412>, <Node id=1159>, <Node id=1539>, <Node id=1513>], 'Max': 39, 'Temperature': -2, 'msgKey': 411}\n",
      "FLOODING\n",
      "39\n",
      "{'Neighbors': [<Node id=1256>, <Node id=1194>, <Node id=1407>, <Node id=1061>, <Node id=1225>, <Node id=1163>, <Node id=1164>, <Node id=1324>, <Node id=1210>, <Node id=1372>, <Node id=1098>, <Node id=1518>, <Node id=1094>, <Node id=1291>, <Node id=1514>, <Node id=1090>, <Node id=1517>], 'Max': 39, 'Temperature': -11, 'msgKey': 129}\n",
      "FLOODING\n",
      "39\n",
      "{'Neighbors': [<Node id=1238>, <Node id=1304>, <Node id=1228>, <Node id=1330>, <Node id=1139>, <Node id=1216>, <Node id=1529>, <Node id=1471>, <Node id=1073>, <Node id=1278>, <Node id=1535>, <Node id=1135>, <Node id=1254>, <Node id=1103>, <Node id=1357>, <Node id=1096>, <Node id=1060>, <Node id=1371>, <Node id=1097>, <Node id=1149>, <Node id=1108>, <Node id=1461>, <Node id=1220>, <Node id=1525>, <Node id=1459>, <Node id=1524>, <Node id=1373>, <Node id=1512>, <Node id=1067>, <Node id=1336>, <Node id=1062>, <Node id=1124>, <Node id=1223>, <Node id=1376>, <Node id=1516>, <Node id=1313>, <Node id=1152>, <Node id=1542>, <Node id=1497>, <Node id=1129>, <Node id=1154>, <Node id=1315>, <Node id=1544>, <Node id=1165>, <Node id=1136>], 'Max': 39, 'Temperature': 39, 'msgKey': 45}\n",
      "FLOODING\n",
      "39\n",
      "{'Neighbors': [<Node id=1417>, <Node id=1279>, <Node id=1410>, <Node id=1211>, <Node id=1308>, <Node id=1534>, <Node id=1293>, <Node id=1484>, <Node id=1446>, <Node id=1332>, <Node id=1282>, <Node id=1333>, <Node id=1543>, <Node id=1093>, <Node id=1298>, <Node id=1166>, <Node id=1105>, <Node id=1337>, <Node id=1528>, <Node id=1155>, <Node id=1364>, <Node id=1466>, <Node id=1320>, <Node id=1469>, <Node id=1226>, <Node id=1303>], 'Max': 39, 'Temperature': 25, 'msgKey': 101}\n",
      "FLOODING\n",
      "39\n",
      "{'Neighbors': [<Node id=1417>, <Node id=1279>, <Node id=1410>, <Node id=1211>, <Node id=1308>, <Node id=1534>, <Node id=1293>, <Node id=1484>, <Node id=1522>, <Node id=1319>, <Node id=1183>, <Node id=1523>, <Node id=1282>, <Node id=1333>, <Node id=1543>, <Node id=1093>, <Node id=1446>, <Node id=1298>, <Node id=1332>, <Node id=1166>, <Node id=1105>, <Node id=1337>, <Node id=1085>, <Node id=1528>, <Node id=1469>, <Node id=1364>, <Node id=1392>, <Node id=1466>, <Node id=1047>, <Node id=1443>, <Node id=1226>, <Node id=1156>, <Node id=1303>, <Node id=1354>], 'Max': 39, 'Temperature': 1, 'msgKey': 232}\n",
      "FLOODING\n",
      "39\n",
      "{'Neighbors': [<Node id=1460>, <Node id=1326>, <Node id=1142>, <Node id=1425>, <Node id=1190>, <Node id=1188>, <Node id=1490>, <Node id=1491>, <Node id=1302>, <Node id=1372>, <Node id=1111>, <Node id=1438>, <Node id=1209>, <Node id=1271>, <Node id=1119>, <Node id=1462>, <Node id=1414>, <Node id=1377>], 'Max': 39, 'Temperature': 30, 'msgKey': 86}\n",
      "FLOODING\n",
      "39\n",
      "{'Neighbors': [<Node id=1160>, <Node id=1122>, <Node id=1187>, <Node id=1091>, <Node id=1533>, <Node id=1330>, <Node id=1508>, <Node id=1343>, <Node id=1483>, <Node id=1067>, <Node id=1331>, <Node id=1230>, <Node id=1453>, <Node id=1406>, <Node id=1243>, <Node id=1536>, <Node id=1294>, <Node id=1444>, <Node id=1089>, <Node id=1060>, <Node id=1371>, <Node id=1247>, <Node id=1206>, <Node id=1456>, <Node id=1537>, <Node id=1442>, <Node id=1512>, <Node id=1474>, <Node id=1167>, <Node id=1538>, <Node id=1213>, <Node id=1475>, <Node id=1234>, <Node id=1158>, <Node id=1260>, <Node id=1069>, <Node id=1099>, <Node id=1148>, <Node id=1402>, <Node id=1542>, <Node id=1124>, <Node id=1274>, <Node id=1338>, <Node id=1384>, <Node id=1304>, <Node id=1529>, <Node id=1288>, <Node id=1307>, <Node id=1479>, <Node id=1238>, <Node id=1112>, <Node id=1145>, <Node id=1493>, <Node id=1328>, <Node id=1310>, <Node id=1357>, <Node id=1165>], 'Max': 39, 'Temperature': -11, 'msgKey': 225}\n",
      "FLOODING\n",
      "39\n",
      "{'Neighbors': [<Node id=1314>, <Node id=1110>, <Node id=1369>, <Node id=1404>, <Node id=1306>, <Node id=1268>, <Node id=1459>, <Node id=1345>, <Node id=1220>, <Node id=1129>, <Node id=1400>, <Node id=1149>, <Node id=1516>, <Node id=1385>, <Node id=1505>, <Node id=1233>, <Node id=1161>, <Node id=1259>, <Node id=1056>, <Node id=1476>, <Node id=1387>, <Node id=1117>, <Node id=1472>, <Node id=1451>, <Node id=1141>, <Node id=1312>, <Node id=1477>, <Node id=1464>, <Node id=1403>, <Node id=1113>, <Node id=1390>, <Node id=1352>, <Node id=1154>, <Node id=1391>, <Node id=1503>, <Node id=1531>, <Node id=1290>, <Node id=1297>, <Node id=1494>], 'Max': 39, 'Temperature': 11, 'msgKey': 153}\n",
      "FLOODING\n",
      "39\n",
      "{'Neighbors': [<Node id=1163>, <Node id=1061>, <Node id=1267>, <Node id=1098>, <Node id=1090>, <Node id=1256>, <Node id=1264>, <Node id=1460>, <Node id=1257>, <Node id=1372>, <Node id=1111>, <Node id=1194>, <Node id=1142>, <Node id=1463>, <Node id=1407>, <Node id=1094>, <Node id=1514>, <Node id=1119>, <Node id=1326>, <Node id=1225>, <Node id=1518>, <Node id=1317>], 'Max': 39, 'Temperature': 25, 'msgKey': 127}\n",
      "FLOODING\n",
      "39\n",
      "{'Neighbors': [<Node id=1329>, <Node id=1063>, <Node id=1495>, <Node id=1305>, <Node id=1082>, <Node id=1507>, <Node id=1356>, <Node id=1382>, <Node id=1114>, <Node id=1340>, <Node id=1433>, <Node id=1196>, <Node id=1134>, <Node id=1447>, <Node id=1295>, <Node id=1432>, <Node id=1219>, <Node id=1486>, <Node id=1174>, <Node id=1467>, <Node id=1487>, <Node id=1246>, <Node id=1128>, <Node id=1501>, <Node id=1120>, <Node id=1104>, <Node id=1409>, <Node id=1452>, <Node id=1249>, <Node id=1389>, <Node id=1269>, <Node id=1275>, <Node id=1339>, <Node id=1109>, <Node id=1289>, <Node id=1102>, <Node id=1353>, <Node id=1239>, <Node id=1455>, <Node id=1470>, <Node id=1394>, <Node id=1240>], 'Max': 39, 'Temperature': 29, 'msgKey': 165}\n",
      "FLOODING\n",
      "39\n",
      "{'Neighbors': [<Node id=1190>, <Node id=1188>, <Node id=1215>, <Node id=1098>, <Node id=1111>, <Node id=1090>, <Node id=1460>, <Node id=1463>, <Node id=1321>, <Node id=1372>, <Node id=1209>, <Node id=1271>, <Node id=1462>, <Node id=1142>, <Node id=1425>, <Node id=1407>, <Node id=1438>, <Node id=1324>, <Node id=1490>, <Node id=1119>, <Node id=1491>, <Node id=1377>, <Node id=1276>, <Node id=1264>, <Node id=1414>], 'Max': 39, 'Temperature': -8, 'msgKey': 169}\n",
      "FLOODING\n",
      "39\n",
      "{'Neighbors': [<Node id=1380>, <Node id=1348>, <Node id=1292>, <Node id=1443>, <Node id=1488>, <Node id=1255>, <Node id=1344>, <Node id=1522>, <Node id=1080>, <Node id=1401>, <Node id=1510>, <Node id=1231>, <Node id=1057>, <Node id=1412>, <Node id=1359>, <Node id=1258>, <Node id=1296>, <Node id=1309>, <Node id=1087>, <Node id=1440>, <Node id=1386>, <Node id=1221>, <Node id=1489>, <Node id=1272>, <Node id=1285>, <Node id=1349>, <Node id=1101>, <Node id=1235>, <Node id=1085>, <Node id=1197>, <Node id=1147>, <Node id=1358>, <Node id=1146>, <Node id=1047>, <Node id=1415>, <Node id=1159>, <Node id=1539>, <Node id=1513>, <Node id=1316>, <Node id=1439>], 'Max': 39, 'Temperature': 16, 'msgKey': 235}\n",
      "FLOODING\n",
      "39\n",
      "{'Neighbors': [<Node id=1160>, <Node id=1384>, <Node id=1187>, <Node id=1091>, <Node id=1533>, <Node id=1508>, <Node id=1343>, <Node id=1483>, <Node id=1331>, <Node id=1338>, <Node id=1084>, <Node id=1230>, <Node id=1453>, <Node id=1243>, <Node id=1294>, <Node id=1444>, <Node id=1089>, <Node id=1536>, <Node id=1158>, <Node id=1206>, <Node id=1456>, <Node id=1537>, <Node id=1442>, <Node id=1474>, <Node id=1167>, <Node id=1538>, <Node id=1213>, <Node id=1437>, <Node id=1234>, <Node id=1247>, <Node id=1260>, <Node id=1069>, <Node id=1148>, <Node id=1402>, <Node id=1388>, <Node id=1475>, <Node id=1322>, <Node id=1200>, <Node id=1224>, <Node id=1288>, <Node id=1492>, <Node id=1112>, <Node id=1131>, <Node id=1406>, <Node id=1277>, <Node id=1493>, <Node id=1341>, <Node id=1310>], 'Max': 39, 'Temperature': 39, 'msgKey': 48}\n",
      "FLOODING\n",
      "39\n",
      "{'Neighbors': [<Node id=1305>, <Node id=1467>, <Node id=1269>, <Node id=1137>, <Node id=1409>, <Node id=1208>, <Node id=1486>, <Node id=1202>, <Node id=1174>, <Node id=1436>, <Node id=1246>, <Node id=1191>, <Node id=1501>, <Node id=1120>, <Node id=1104>, <Node id=1092>, <Node id=1487>, <Node id=1325>, <Node id=1249>, <Node id=1389>, <Node id=1485>, <Node id=1275>, <Node id=1449>, <Node id=1214>, <Node id=1109>, <Node id=1342>, <Node id=1128>, <Node id=1102>, <Node id=1261>, <Node id=1379>, <Node id=1265>, <Node id=1227>], 'Max': 39, 'Temperature': 38, 'msgKey': 63}\n",
      "FLOODING\n",
      "39\n",
      "{'Neighbors': [<Node id=1434>, <Node id=1238>, <Node id=1187>, <Node id=1456>, <Node id=1368>, <Node id=1254>, <Node id=1343>, <Node id=1457>, <Node id=1234>, <Node id=1525>, <Node id=1073>, <Node id=1230>, <Node id=1535>, <Node id=1406>, <Node id=1135>, <Node id=1536>, <Node id=1294>, <Node id=1444>, <Node id=1089>, <Node id=1096>, <Node id=1060>, <Node id=1371>, <Node id=1336>, <Node id=1232>, <Node id=1537>, <Node id=1461>, <Node id=1423>, <Node id=1167>, <Node id=1538>, <Node id=1213>, <Node id=1067>, <Node id=1512>, <Node id=1247>, <Node id=1260>, <Node id=1069>, <Node id=1099>, <Node id=1148>, <Node id=1542>, <Node id=1124>, <Node id=1223>, <Node id=1322>, <Node id=1066>, <Node id=1081>, <Node id=1079>, <Node id=1313>, <Node id=1304>, <Node id=1529>, <Node id=1288>, <Node id=1307>, <Node id=1483>, <Node id=1203>, <Node id=1122>, <Node id=1112>, <Node id=1318>, <Node id=1493>, <Node id=1479>, <Node id=1278>, <Node id=1357>, <Node id=1165>], 'Max': 39, 'Temperature': 2, 'msgKey': 175}\n",
      "FLOODING\n",
      "39\n",
      "{'Neighbors': [<Node id=1431>, <Node id=1160>, <Node id=1304>, <Node id=1355>, <Node id=1533>, <Node id=1139>, <Node id=1454>, <Node id=1483>, <Node id=1067>, <Node id=1123>, <Node id=1230>, <Node id=1406>, <Node id=1243>, <Node id=1294>, <Node id=1444>, <Node id=1089>, <Node id=1405>, <Node id=1371>, <Node id=1384>, <Node id=1206>, <Node id=1108>, <Node id=1205>, <Node id=1512>, <Node id=1322>, <Node id=1538>, <Node id=1500>, <Node id=1213>, <Node id=1475>, <Node id=1234>, <Node id=1448>, <Node id=1510>, <Node id=1148>, <Node id=1398>, <Node id=1542>, <Node id=1378>, <Node id=1197>, <Node id=1274>, <Node id=1338>, <Node id=1262>, <Node id=1224>, <Node id=1310>, <Node id=1288>, <Node id=1442>, <Node id=1238>, <Node id=1112>, <Node id=1131>, <Node id=1145>, <Node id=1277>, <Node id=1328>, <Node id=1493>, <Node id=1115>, <Node id=1537>, <Node id=1350>], 'Max': 39, 'Temperature': 5, 'msgKey': 313}\n",
      "FLOODING\n",
      "39\n",
      "{'Neighbors': [<Node id=1417>, <Node id=1279>, <Node id=1410>, <Node id=1211>, <Node id=1308>, <Node id=1125>, <Node id=1445>, <Node id=1484>, <Node id=1522>, <Node id=1534>, <Node id=1319>, <Node id=1523>, <Node id=1282>, <Node id=1333>, <Node id=1093>, <Node id=1446>, <Node id=1392>, <Node id=1166>, <Node id=1105>, <Node id=1337>, <Node id=1528>, <Node id=1364>, <Node id=1183>, <Node id=1466>, <Node id=1320>, <Node id=1469>, <Node id=1226>, <Node id=1156>, <Node id=1303>, <Node id=1443>], 'Max': 39, 'Temperature': -7, 'msgKey': 204}\n",
      "FLOODING\n",
      "39\n",
      "{'Neighbors': [<Node id=1417>, <Node id=1410>, <Node id=1211>, <Node id=1308>, <Node id=1534>, <Node id=1293>, <Node id=1484>, <Node id=1446>, <Node id=1332>, <Node id=1282>, <Node id=1093>, <Node id=1319>, <Node id=1298>, <Node id=1166>, <Node id=1105>, <Node id=1337>, <Node id=1528>, <Node id=1364>, <Node id=1466>, <Node id=1320>, <Node id=1469>, <Node id=1226>, <Node id=1303>], 'Max': 39, 'Temperature': 7, 'msgKey': 111}\n",
      "FLOODING\n",
      "39\n",
      "{'Neighbors': [<Node id=1355>, <Node id=1139>, <Node id=1346>, <Node id=1471>, <Node id=1123>, <Node id=1497>, <Node id=1421>, <Node id=1485>, <Node id=1228>, <Node id=1097>, <Node id=1208>, <Node id=1108>, <Node id=1398>, <Node id=1202>, <Node id=1347>, <Node id=1449>, <Node id=1373>, <Node id=1170>, <Node id=1285>, <Node id=1436>, <Node id=1395>, <Node id=1062>, <Node id=1299>, <Node id=1055>, <Node id=1261>, <Node id=1274>, <Node id=1313>, <Node id=1500>, <Node id=1542>, <Node id=1214>, <Node id=1126>, <Node id=1378>, <Node id=1092>, <Node id=1544>, <Node id=1379>, <Node id=1136>], 'Max': 39, 'Temperature': 34, 'msgKey': 141}\n",
      "FLOODING\n",
      "39\n",
      "{'Neighbors': [<Node id=1052>, <Node id=1054>, <Node id=1107>, <Node id=1458>, <Node id=1180>, <Node id=1049>, <Node id=1242>, <Node id=1311>, <Node id=1071>, <Node id=1150>, <Node id=1540>, <Node id=1077>, <Node id=1266>, <Node id=1116>, <Node id=1424>, <Node id=1106>, <Node id=1222>, <Node id=1088>, <Node id=1362>, <Node id=1286>, <Node id=1236>, <Node id=1465>, <Node id=1064>, <Node id=1427>, <Node id=1504>, <Node id=1237>, <Node id=1068>, <Node id=1189>, <Node id=1157>, <Node id=1204>, <Node id=1468>, <Node id=1252>, <Node id=1199>], 'Max': 39, 'Temperature': 14, 'msgKey': 129}\n",
      "FLOODING\n",
      "39\n",
      "{'Neighbors': [<Node id=1228>, <Node id=1330>, <Node id=1254>, <Node id=1216>, <Node id=1318>, <Node id=1404>, <Node id=1073>, <Node id=1357>, <Node id=1535>, <Node id=1135>, <Node id=1103>, <Node id=1096>, <Node id=1060>, <Node id=1371>, <Node id=1149>, <Node id=1108>, <Node id=1461>, <Node id=1220>, <Node id=1525>, <Node id=1451>, <Node id=1459>, <Node id=1524>, <Node id=1161>, <Node id=1512>, <Node id=1067>, <Node id=1529>, <Node id=1531>, <Node id=1062>, <Node id=1136>, <Node id=1124>, <Node id=1223>, <Node id=1376>, <Node id=1516>, <Node id=1313>, <Node id=1152>, <Node id=1519>, <Node id=1471>, <Node id=1314>, <Node id=1129>, <Node id=1419>, <Node id=1154>, <Node id=1315>, <Node id=1373>, <Node id=1544>, <Node id=1278>, <Node id=1542>, <Node id=1165>], 'Max': 39, 'Temperature': 19, 'msgKey': 231}\n",
      "FLOODING\n",
      "39\n",
      "{'Neighbors': [<Node id=1364>, <Node id=1410>, <Node id=1466>, <Node id=1282>, <Node id=1484>, <Node id=1105>, <Node id=1320>, <Node id=1093>, <Node id=1211>, <Node id=1308>, <Node id=1528>, <Node id=1534>, <Node id=1446>, <Node id=1298>, <Node id=1417>, <Node id=1333>, <Node id=1303>, <Node id=1319>, <Node id=1332>], 'Max': 39, 'Temperature': 8, 'msgKey': 91}\n",
      "FLOODING\n",
      "39\n",
      "{'Neighbors': [<Node id=1160>, <Node id=1384>, <Node id=1187>, <Node id=1091>, <Node id=1533>, <Node id=1508>, <Node id=1343>, <Node id=1483>, <Node id=1331>, <Node id=1084>, <Node id=1230>, <Node id=1453>, <Node id=1243>, <Node id=1294>, <Node id=1444>, <Node id=1089>, <Node id=1536>, <Node id=1371>, <Node id=1158>, <Node id=1206>, <Node id=1456>, <Node id=1537>, <Node id=1442>, <Node id=1474>, <Node id=1167>, <Node id=1370>, <Node id=1213>, <Node id=1437>, <Node id=1234>, <Node id=1247>, <Node id=1260>, <Node id=1069>, <Node id=1148>, <Node id=1099>, <Node id=1402>, <Node id=1388>, <Node id=1475>, <Node id=1322>, <Node id=1538>, <Node id=1200>, <Node id=1288>, <Node id=1479>, <Node id=1122>, <Node id=1112>, <Node id=1131>, <Node id=1406>, <Node id=1493>, <Node id=1328>, <Node id=1341>, <Node id=1310>], 'Max': 39, 'Temperature': -4, 'msgKey': 148}\n",
      "FLOODING\n",
      "39\n",
      "{'Neighbors': [<Node id=1465>, <Node id=1511>, <Node id=1054>, <Node id=1128>, <Node id=1305>, <Node id=1342>, <Node id=1229>, <Node id=1382>, <Node id=1433>, <Node id=1467>, <Node id=1150>, <Node id=1409>, <Node id=1077>, <Node id=1486>, <Node id=1545>, <Node id=1487>, <Node id=1191>, <Node id=1408>, <Node id=1501>, <Node id=1178>, <Node id=1198>, <Node id=1541>, <Node id=1095>, <Node id=1363>, <Node id=1325>, <Node id=1470>, <Node id=1184>, <Node id=1250>, <Node id=1104>, <Node id=1109>, <Node id=1289>, <Node id=1340>, <Node id=1429>, <Node id=1353>, <Node id=1455>, <Node id=1393>, <Node id=1227>, <Node id=1452>, <Node id=1240>], 'Max': 39, 'Temperature': 39, 'msgKey': 39}\n",
      "FLOODING\n",
      "39\n",
      "{'Neighbors': [<Node id=1063>, <Node id=1495>, <Node id=1305>, <Node id=1432>, <Node id=1229>, <Node id=1507>, <Node id=1382>, <Node id=1114>, <Node id=1198>, <Node id=1433>, <Node id=1196>, <Node id=1134>, <Node id=1447>, <Node id=1295>, <Node id=1219>, <Node id=1186>, <Node id=1487>, <Node id=1526>, <Node id=1408>, <Node id=1178>, <Node id=1104>, <Node id=1541>, <Node id=1095>, <Node id=1394>, <Node id=1409>, <Node id=1325>, <Node id=1249>, <Node id=1435>, <Node id=1339>, <Node id=1201>, <Node id=1511>, <Node id=1109>, <Node id=1289>, <Node id=1530>, <Node id=1467>, <Node id=1429>, <Node id=1353>, <Node id=1239>, <Node id=1455>, <Node id=1470>, <Node id=1393>, <Node id=1481>, <Node id=1452>, <Node id=1240>], 'Max': 39, 'Temperature': 4, 'msgKey': 259}\n",
      "FLOODING\n",
      "39\n",
      "{'Neighbors': [<Node id=1091>, <Node id=1533>, <Node id=1508>, <Node id=1343>, <Node id=1483>, <Node id=1084>, <Node id=1370>, <Node id=1294>, <Node id=1089>, <Node id=1536>, <Node id=1384>, <Node id=1206>, <Node id=1474>, <Node id=1243>, <Node id=1310>, <Node id=1437>, <Node id=1158>, <Node id=1069>, <Node id=1538>, <Node id=1200>, <Node id=1402>, <Node id=1388>, <Node id=1475>, <Node id=1338>, <Node id=1453>, <Node id=1131>, <Node id=1442>, <Node id=1493>, <Node id=1328>], 'Max': 39, 'Temperature': 11, 'msgKey': 85}\n",
      "FLOODING\n",
      "39\n",
      "{'Neighbors': [<Node id=1329>, <Node id=1545>, <Node id=1059>, <Node id=1467>, <Node id=1397>, <Node id=1421>, <Node id=1485>, <Node id=1409>, <Node id=1208>, <Node id=1486>, <Node id=1065>, <Node id=1202>, <Node id=1436>, <Node id=1360>, <Node id=1191>, <Node id=1501>, <Node id=1104>, <Node id=1092>, <Node id=1055>, <Node id=1363>, <Node id=1143>, <Node id=1339>, <Node id=1184>, <Node id=1250>, <Node id=1214>, <Node id=1109>, <Node id=1128>, <Node id=1102>, <Node id=1261>, <Node id=1379>, <Node id=1265>, <Node id=1227>, <Node id=1136>], 'Max': 39, 'Temperature': 15, 'msgKey': 97}\n",
      "FLOODING\n",
      "39\n",
      "{'Neighbors': [<Node id=1456>, <Node id=1384>, <Node id=1187>, <Node id=1091>, <Node id=1330>, <Node id=1381>, <Node id=1483>, <Node id=1498>, <Node id=1453>, <Node id=1243>, <Node id=1536>, <Node id=1294>, <Node id=1089>, <Node id=1060>, <Node id=1371>, <Node id=1130>, <Node id=1206>, <Node id=1537>, <Node id=1423>, <Node id=1474>, <Node id=1167>, <Node id=1370>, <Node id=1213>, <Node id=1437>, <Node id=1368>, <Node id=1450>, <Node id=1247>, <Node id=1260>, <Node id=1069>, <Node id=1099>, <Node id=1148>, <Node id=1508>, <Node id=1402>, <Node id=1307>, <Node id=1475>, <Node id=1322>, <Node id=1538>, <Node id=1338>, <Node id=1079>, <Node id=1288>, <Node id=1479>, <Node id=1122>, <Node id=1112>, <Node id=1406>, <Node id=1493>, <Node id=1328>, <Node id=1341>, <Node id=1444>, <Node id=1158>, <Node id=1165>], 'Max': 39, 'Temperature': 27, 'msgKey': 99}\n",
      "FLOODING\n",
      "39\n",
      "{'Neighbors': [<Node id=1539>, <Node id=1380>, <Node id=1348>, <Node id=1420>, <Node id=1292>, <Node id=1440>, <Node id=1521>, <Node id=1488>, <Node id=1255>, <Node id=1396>, <Node id=1080>, <Node id=1401>, <Node id=1051>, <Node id=1522>, <Node id=1231>, <Node id=1057>, <Node id=1412>, <Node id=1359>, <Node id=1383>, <Node id=1258>, <Node id=1296>, <Node id=1309>, <Node id=1087>, <Node id=1416>, <Node id=1284>, <Node id=1386>, <Node id=1221>, <Node id=1272>, <Node id=1285>, <Node id=1193>, <Node id=1349>, <Node id=1101>, <Node id=1164>, <Node id=1439>, <Node id=1058>, <Node id=1212>, <Node id=1358>, <Node id=1146>, <Node id=1327>, <Node id=1316>, <Node id=1159>, <Node id=1520>, <Node id=1235>, <Node id=1513>, <Node id=1509>, <Node id=1078>, <Node id=1532>], 'Max': 39, 'Temperature': 14, 'msgKey': 277}\n",
      "FLOODING\n",
      "39\n",
      "{'Neighbors': [<Node id=1369>, <Node id=1404>, <Node id=1306>, <Node id=1268>, <Node id=1472>, <Node id=1113>, <Node id=1385>, <Node id=1233>, <Node id=1297>, <Node id=1056>, <Node id=1476>, <Node id=1323>, <Node id=1117>, <Node id=1464>, <Node id=1141>, <Node id=1312>, <Node id=1477>, <Node id=1403>, <Node id=1217>, <Node id=1400>, <Node id=1390>, <Node id=1391>, <Node id=1503>, <Node id=1290>, <Node id=1259>, <Node id=1494>], 'Max': 39, 'Temperature': -2, 'msgKey': 101}\n",
      "FLOODING\n",
      "39\n",
      "{'Neighbors': [<Node id=1431>, <Node id=1355>, <Node id=1139>, <Node id=1488>, <Node id=1255>, <Node id=1123>, <Node id=1080>, <Node id=1401>, <Node id=1510>, <Node id=1405>, <Node id=1097>, <Node id=1359>, <Node id=1108>, <Node id=1334>, <Node id=1296>, <Node id=1347>, <Node id=1087>, <Node id=1449>, <Node id=1500>, <Node id=1202>, <Node id=1170>, <Node id=1272>, <Node id=1285>, <Node id=1436>, <Node id=1101>, <Node id=1292>, <Node id=1398>, <Node id=1299>, <Node id=1197>, <Node id=1274>, <Node id=1395>, <Node id=1497>, <Node id=1214>, <Node id=1126>, <Node id=1378>, <Node id=1159>, <Node id=1261>, <Node id=1386>, <Node id=1316>, <Node id=1350>], 'Max': 39, 'Temperature': 9, 'msgKey': 157}\n",
      "FLOODING\n",
      "39\n",
      "{'Neighbors': [<Node id=1431>, <Node id=1355>, <Node id=1139>, <Node id=1346>, <Node id=1488>, <Node id=1255>, <Node id=1123>, <Node id=1080>, <Node id=1401>, <Node id=1510>, <Node id=1405>, <Node id=1097>, <Node id=1208>, <Node id=1359>, <Node id=1108>, <Node id=1334>, <Node id=1296>, <Node id=1436>, <Node id=1087>, <Node id=1449>, <Node id=1500>, <Node id=1202>, <Node id=1170>, <Node id=1272>, <Node id=1285>, <Node id=1101>, <Node id=1292>, <Node id=1398>, <Node id=1299>, <Node id=1197>, <Node id=1274>, <Node id=1395>, <Node id=1497>, <Node id=1214>, <Node id=1126>, <Node id=1378>, <Node id=1159>, <Node id=1261>, <Node id=1386>, <Node id=1316>, <Node id=1350>], 'Max': 39, 'Temperature': 3, 'msgKey': 201}\n",
      "FLOODING\n",
      "39\n",
      "{'Neighbors': [<Node id=1380>, <Node id=1047>, <Node id=1125>, <Node id=1443>, <Node id=1344>, <Node id=1416>, <Node id=1383>, <Node id=1522>, <Node id=1231>, <Node id=1057>, <Node id=1258>, <Node id=1523>, <Node id=1309>, <Node id=1513>, <Node id=1221>, <Node id=1539>, <Node id=1193>, <Node id=1445>, <Node id=1349>, <Node id=1235>, <Node id=1212>, <Node id=1439>, <Node id=1440>, <Node id=1146>, <Node id=1327>, <Node id=1396>, <Node id=1316>, <Node id=1156>, <Node id=1183>, <Node id=1415>, <Node id=1532>], 'Max': 39, 'Temperature': 35, 'msgKey': 121}\n",
      "FLOODING\n",
      "39\n",
      "{'Neighbors': [<Node id=1380>, <Node id=1348>, <Node id=1292>, <Node id=1047>, <Node id=1443>, <Node id=1488>, <Node id=1255>, <Node id=1344>, <Node id=1522>, <Node id=1401>, <Node id=1383>, <Node id=1231>, <Node id=1057>, <Node id=1359>, <Node id=1258>, <Node id=1296>, <Node id=1309>, <Node id=1087>, <Node id=1440>, <Node id=1386>, <Node id=1221>, <Node id=1489>, <Node id=1272>, <Node id=1285>, <Node id=1193>, <Node id=1101>, <Node id=1235>, <Node id=1085>, <Node id=1439>, <Node id=1147>, <Node id=1358>, <Node id=1146>, <Node id=1327>, <Node id=1415>, <Node id=1159>, <Node id=1156>, <Node id=1539>, <Node id=1513>, <Node id=1316>], 'Max': 39, 'Temperature': 1, 'msgKey': 267}\n",
      "FLOODING\n",
      "39\n",
      "{'Neighbors': [<Node id=1160>, <Node id=1304>, <Node id=1355>, <Node id=1533>, <Node id=1139>, <Node id=1346>, <Node id=1234>, <Node id=1331>, <Node id=1123>, <Node id=1431>, <Node id=1510>, <Node id=1230>, <Node id=1405>, <Node id=1097>, <Node id=1108>, <Node id=1205>, <Node id=1512>, <Node id=1347>, <Node id=1497>, <Node id=1500>, <Node id=1213>, <Node id=1050>, <Node id=1489>, <Node id=1067>, <Node id=1285>, <Node id=1448>, <Node id=1101>, <Node id=1292>, <Node id=1398>, <Node id=1299>, <Node id=1197>, <Node id=1274>, <Node id=1262>, <Node id=1224>, <Node id=1395>, <Node id=1444>, <Node id=1238>, <Node id=1413>, <Node id=1378>, <Node id=1159>, <Node id=1145>, <Node id=1277>, <Node id=1544>, <Node id=1454>, <Node id=1115>, <Node id=1367>], 'Max': 39, 'Temperature': 13, 'msgKey': 271}\n",
      "FLOODING\n",
      "39\n",
      "{'Neighbors': [<Node id=1086>, <Node id=1366>, <Node id=1254>, <Node id=1280>, <Node id=1404>, <Node id=1268>, <Node id=1535>, <Node id=1459>, <Node id=1434>, <Node id=1075>, <Node id=1149>, <Node id=1461>, <Node id=1220>, <Node id=1233>, <Node id=1161>, <Node id=1141>, <Node id=1457>, <Node id=1072>, <Node id=1464>, <Node id=1312>, <Node id=1477>, <Node id=1083>, <Node id=1287>, <Node id=1066>, <Node id=1400>, <Node id=1519>, <Node id=1203>, <Node id=1154>, <Node id=1503>, <Node id=1480>, <Node id=1232>, <Node id=1117>, <Node id=1173>, <Node id=1430>, <Node id=1278>], 'Max': 39, 'Temperature': -10, 'msgKey': 103}\n",
      "FLOODING\n",
      "39\n",
      "{'Neighbors': [<Node id=1403>, <Node id=1110>, <Node id=1419>, <Node id=1059>, <Node id=1242>, <Node id=1404>, <Node id=1306>, <Node id=1268>, <Node id=1397>, <Node id=1103>, <Node id=1376>, <Node id=1129>, <Node id=1385>, <Node id=1182>, <Node id=1283>, <Node id=1516>, <Node id=1065>, <Node id=1220>, <Node id=1505>, <Node id=1360>, <Node id=1297>, <Node id=1476>, <Node id=1323>, <Node id=1315>, <Node id=1387>, <Node id=1222>, <Node id=1451>, <Node id=1502>, <Node id=1312>, <Node id=1216>, <Node id=1056>, <Node id=1152>, <Node id=1390>, <Node id=1314>, <Node id=1154>, <Node id=1391>, <Node id=1503>, <Node id=1157>, <Node id=1531>, <Node id=1290>, <Node id=1473>, <Node id=1143>, <Node id=1369>], 'Max': 39, 'Temperature': 29, 'msgKey': 211}\n",
      "FLOODING\n",
      "39\n",
      "{'Neighbors': [<Node id=1063>, <Node id=1138>, <Node id=1495>, <Node id=1305>, <Node id=1356>, <Node id=1507>, <Node id=1382>, <Node id=1114>, <Node id=1467>, <Node id=1196>, <Node id=1134>, <Node id=1447>, <Node id=1295>, <Node id=1432>, <Node id=1219>, <Node id=1186>, <Node id=1487>, <Node id=1526>, <Node id=1408>, <Node id=1178>, <Node id=1541>, <Node id=1399>, <Node id=1095>, <Node id=1394>, <Node id=1433>, <Node id=1325>, <Node id=1249>, <Node id=1435>, <Node id=1478>, <Node id=1339>, <Node id=1201>, <Node id=1109>, <Node id=1289>, <Node id=1530>, <Node id=1340>, <Node id=1429>, <Node id=1239>, <Node id=1455>, <Node id=1470>, <Node id=1393>, <Node id=1481>, <Node id=1452>, <Node id=1240>], 'Max': 39, 'Temperature': 15, 'msgKey': 211}\n",
      "FLOODING\n",
      "39\n",
      "{'Neighbors': [<Node id=1417>, <Node id=1365>, <Node id=1100>, <Node id=1093>, <Node id=1293>, <Node id=1367>, <Node id=1185>, <Node id=1181>, <Node id=1413>, <Node id=1320>, <Node id=1244>, <Node id=1422>, <Node id=1140>, <Node id=1543>, <Node id=1446>, <Node id=1205>, <Node id=1169>, <Node id=1121>, <Node id=1168>, <Node id=1050>, <Node id=1361>, <Node id=1374>, <Node id=1298>, <Node id=1273>, <Node id=1147>, <Node id=1085>, <Node id=1528>, <Node id=1155>, <Node id=1515>, <Node id=1364>, <Node id=1441>, <Node id=1172>, <Node id=1492>, <Node id=1047>, <Node id=1251>, <Node id=1426>, <Node id=1115>, <Node id=1177>], 'Max': 39, 'Temperature': 19, 'msgKey': 149}\n",
      "FLOODING\n",
      "39\n",
      "{'Neighbors': [<Node id=1304>, <Node id=1228>, <Node id=1139>, <Node id=1346>, <Node id=1145>, <Node id=1331>, <Node id=1123>, <Node id=1431>, <Node id=1510>, <Node id=1405>, <Node id=1097>, <Node id=1208>, <Node id=1108>, <Node id=1334>, <Node id=1512>, <Node id=1347>, <Node id=1449>, <Node id=1373>, <Node id=1067>, <Node id=1285>, <Node id=1350>, <Node id=1436>, <Node id=1395>, <Node id=1398>, <Node id=1299>, <Node id=1136>, <Node id=1274>, <Node id=1313>, <Node id=1500>, <Node id=1542>, <Node id=1497>, <Node id=1214>, <Node id=1238>, <Node id=1126>, <Node id=1378>, <Node id=1261>, <Node id=1544>, <Node id=1197>], 'Max': 39, 'Temperature': -1, 'msgKey': 186}\n",
      "FLOODING\n",
      "39\n",
      "{'Neighbors': [<Node id=1063>, <Node id=1061>, <Node id=1495>, <Node id=1305>, <Node id=1432>, <Node id=1215>, <Node id=1507>, <Node id=1046>, <Node id=1114>, <Node id=1447>, <Node id=1196>, <Node id=1134>, <Node id=1137>, <Node id=1257>, <Node id=1174>, <Node id=1487>, <Node id=1478>, <Node id=1102>, <Node id=1463>, <Node id=1407>, <Node id=1120>, <Node id=1527>, <Node id=1295>, <Node id=1094>, <Node id=1325>, <Node id=1249>, <Node id=1389>, <Node id=1269>, <Node id=1275>, <Node id=1267>, <Node id=1109>, <Node id=1082>, <Node id=1467>, <Node id=1264>, <Node id=1353>, <Node id=1239>, <Node id=1394>, <Node id=1428>, <Node id=1496>], 'Max': 39, 'Temperature': 17, 'msgKey': 191}\n",
      "FLOODING\n",
      "39\n",
      "{'Neighbors': [<Node id=1187>, <Node id=1330>, <Node id=1254>, <Node id=1318>, <Node id=1368>, <Node id=1073>, <Node id=1232>, <Node id=1535>, <Node id=1135>, <Node id=1081>, <Node id=1096>, <Node id=1060>, <Node id=1371>, <Node id=1336>, <Node id=1149>, <Node id=1108>, <Node id=1461>, <Node id=1512>, <Node id=1519>, <Node id=1322>, <Node id=1459>, <Node id=1524>, <Node id=1373>, <Node id=1529>, <Node id=1067>, <Node id=1247>, <Node id=1099>, <Node id=1148>, <Node id=1542>, <Node id=1124>, <Node id=1223>, <Node id=1525>, <Node id=1066>, <Node id=1457>, <Node id=1079>, <Node id=1313>, <Node id=1304>, <Node id=1152>, <Node id=1288>, <Node id=1203>, <Node id=1238>, <Node id=1112>, <Node id=1154>, <Node id=1406>, <Node id=1544>, <Node id=1376>, <Node id=1278>, <Node id=1165>], 'Max': 39, 'Temperature': 21, 'msgKey': 236}\n",
      "FLOODING\n",
      "39\n",
      "{'Neighbors': [<Node id=1380>, <Node id=1420>, <Node id=1292>, <Node id=1327>, <Node id=1521>, <Node id=1272>, <Node id=1046>, <Node id=1488>, <Node id=1255>, <Node id=1344>, <Node id=1349>, <Node id=1396>, <Node id=1080>, <Node id=1401>, <Node id=1051>, <Node id=1231>, <Node id=1057>, <Node id=1412>, <Node id=1359>, <Node id=1296>, <Node id=1309>, <Node id=1087>, <Node id=1284>, <Node id=1386>, <Node id=1170>, <Node id=1120>, <Node id=1285>, <Node id=1132>, <Node id=1514>, <Node id=1171>, <Node id=1527>, <Node id=1164>, <Node id=1210>, <Node id=1058>, <Node id=1212>, <Node id=1440>, <Node id=1517>, <Node id=1137>, <Node id=1126>, <Node id=1316>, <Node id=1520>, <Node id=1509>, <Node id=1078>, <Node id=1496>], 'Max': 39, 'Temperature': 31, 'msgKey': 130}\n",
      "FLOODING\n",
      "39\n",
      "{'Neighbors': [<Node id=1420>, <Node id=1292>, <Node id=1440>, <Node id=1327>, <Node id=1521>, <Node id=1488>, <Node id=1046>, <Node id=1255>, <Node id=1344>, <Node id=1349>, <Node id=1396>, <Node id=1080>, <Node id=1401>, <Node id=1231>, <Node id=1057>, <Node id=1346>, <Node id=1258>, <Node id=1296>, <Node id=1347>, <Node id=1087>, <Node id=1246>, <Node id=1202>, <Node id=1170>, <Node id=1272>, <Node id=1285>, <Node id=1132>, <Node id=1120>, <Node id=1101>, <Node id=1395>, <Node id=1299>, <Node id=1058>, <Node id=1358>, <Node id=1449>, <Node id=1527>, <Node id=1137>, <Node id=1126>, <Node id=1316>, <Node id=1412>, <Node id=1159>, <Node id=1520>, <Node id=1386>, <Node id=1078>], 'Max': 39, 'Temperature': 20, 'msgKey': 165}\n",
      "FLOODING\n",
      "39\n",
      "{'Neighbors': [<Node id=1110>, <Node id=1180>, <Node id=1419>, <Node id=1059>, <Node id=1242>, <Node id=1397>, <Node id=1421>, <Node id=1150>, <Node id=1409>, <Node id=1182>, <Node id=1283>, <Node id=1065>, <Node id=1191>, <Node id=1107>, <Node id=1222>, <Node id=1427>, <Node id=1540>, <Node id=1502>, <Node id=1184>, <Node id=1363>, <Node id=1465>, <Node id=1143>, <Node id=1504>, <Node id=1068>, <Node id=1250>, <Node id=1352>, <Node id=1545>, <Node id=1342>, <Node id=1505>, <Node id=1473>, <Node id=1157>, <Node id=1531>, <Node id=1265>, <Node id=1227>], 'Max': 39, 'Temperature': -11, 'msgKey': 199}\n",
      "FLOODING\n",
      "39\n",
      "{'Neighbors': [<Node id=1417>, <Node id=1172>, <Node id=1515>, <Node id=1543>, <Node id=1293>, <Node id=1084>, <Node id=1185>, <Node id=1181>, <Node id=1244>, <Node id=1422>, <Node id=1140>, <Node id=1205>, <Node id=1169>, <Node id=1121>, <Node id=1374>, <Node id=1298>, <Node id=1168>, <Node id=1273>, <Node id=1388>, <Node id=1155>, <Node id=1364>, <Node id=1441>, <Node id=1365>, <Node id=1492>, <Node id=1100>, <Node id=1251>, <Node id=1426>, <Node id=1177>, <Node id=1354>, <Node id=1367>], 'Max': 39, 'Temperature': -7, 'msgKey': 146}\n",
      "FLOODING\n",
      "39\n",
      "{'Neighbors': [<Node id=1052>, <Node id=1418>, <Node id=1107>, <Node id=1458>, <Node id=1180>, <Node id=1049>, <Node id=1242>, <Node id=1311>, <Node id=1465>, <Node id=1071>, <Node id=1150>, <Node id=1540>, <Node id=1116>, <Node id=1335>, <Node id=1106>, <Node id=1222>, <Node id=1252>, <Node id=1088>, <Node id=1286>, <Node id=1236>, <Node id=1070>, <Node id=1064>, <Node id=1427>, <Node id=1504>, <Node id=1237>, <Node id=1068>, <Node id=1189>, <Node id=1424>, <Node id=1157>, <Node id=1204>, <Node id=1468>, <Node id=1266>, <Node id=1199>], 'Max': 39, 'Temperature': 32, 'msgKey': 129}\n",
      "FLOODING\n",
      "39\n",
      "{'Neighbors': [<Node id=1545>, <Node id=1054>, <Node id=1180>, <Node id=1342>, <Node id=1229>, <Node id=1541>, <Node id=1433>, <Node id=1467>, <Node id=1150>, <Node id=1409>, <Node id=1077>, <Node id=1427>, <Node id=1360>, <Node id=1191>, <Node id=1107>, <Node id=1501>, <Node id=1178>, <Node id=1286>, <Node id=1104>, <Node id=1095>, <Node id=1465>, <Node id=1143>, <Node id=1339>, <Node id=1184>, <Node id=1250>, <Node id=1486>, <Node id=1289>, <Node id=1128>, <Node id=1429>, <Node id=1393>, <Node id=1265>, <Node id=1227>, <Node id=1240>], 'Max': 39, 'Temperature': 7, 'msgKey': 161}\n",
      "FLOODING\n",
      "39\n",
      "{'Neighbors': [<Node id=1417>, <Node id=1410>, <Node id=1308>, <Node id=1534>, <Node id=1293>, <Node id=1484>, <Node id=1446>, <Node id=1332>, <Node id=1282>, <Node id=1333>, <Node id=1543>, <Node id=1093>, <Node id=1319>, <Node id=1298>, <Node id=1361>, <Node id=1166>, <Node id=1105>, <Node id=1337>, <Node id=1528>, <Node id=1155>, <Node id=1466>, <Node id=1320>, <Node id=1469>, <Node id=1303>, <Node id=1354>], 'Max': 39, 'Temperature': -9, 'msgKey': 145}\n",
      "FLOODING\n",
      "39\n",
      "{'Neighbors': [<Node id=1417>, <Node id=1415>, <Node id=1515>, <Node id=1221>, <Node id=1293>, <Node id=1100>, <Node id=1181>, <Node id=1367>, <Node id=1185>, <Node id=1413>, <Node id=1244>, <Node id=1422>, <Node id=1140>, <Node id=1543>, <Node id=1448>, <Node id=1205>, <Node id=1169>, <Node id=1121>, <Node id=1168>, <Node id=1050>, <Node id=1489>, <Node id=1361>, <Node id=1374>, <Node id=1298>, <Node id=1273>, <Node id=1147>, <Node id=1085>, <Node id=1155>, <Node id=1262>, <Node id=1224>, <Node id=1441>, <Node id=1172>, <Node id=1492>, <Node id=1047>, <Node id=1251>, <Node id=1426>, <Node id=1277>, <Node id=1115>, <Node id=1354>, <Node id=1177>], 'Max': 39, 'Temperature': 16, 'msgKey': 157}\n",
      "FLOODING\n",
      "39\n",
      "{'Neighbors': [<Node id=1133>, <Node id=1430>, <Node id=1086>, <Node id=1351>, <Node id=1162>, <Node id=1287>, <Node id=1072>, <Node id=1480>, <Node id=1232>, <Node id=1434>, <Node id=1245>, <Node id=1207>, <Node id=1048>, <Node id=1280>, <Node id=1141>, <Node id=1083>, <Node id=1173>, <Node id=1066>, <Node id=1457>, <Node id=1519>, <Node id=1075>], 'Max': 39, 'Temperature': 5, 'msgKey': 61}\n",
      "FLOODING\n",
      "39\n",
      "{'Neighbors': [<Node id=1160>, <Node id=1415>, <Node id=1431>, <Node id=1515>, <Node id=1221>, <Node id=1533>, <Node id=1047>, <Node id=1145>, <Node id=1293>, <Node id=1251>, <Node id=1185>, <Node id=1510>, <Node id=1413>, <Node id=1405>, <Node id=1244>, <Node id=1422>, <Node id=1140>, <Node id=1543>, <Node id=1448>, <Node id=1205>, <Node id=1169>, <Node id=1121>, <Node id=1168>, <Node id=1273>, <Node id=1050>, <Node id=1489>, <Node id=1361>, <Node id=1350>, <Node id=1374>, <Node id=1101>, <Node id=1147>, <Node id=1085>, <Node id=1197>, <Node id=1454>, <Node id=1181>, <Node id=1262>, <Node id=1224>, <Node id=1442>, <Node id=1441>, <Node id=1365>, <Node id=1492>, <Node id=1100>, <Node id=1131>, <Node id=1426>, <Node id=1277>, <Node id=1115>, <Node id=1354>, <Node id=1177>], 'Max': 39, 'Temperature': 29, 'msgKey': 142}\n",
      "FLOODING\n",
      "39\n",
      "{'Neighbors': [<Node id=1434>, <Node id=1187>, <Node id=1430>, <Node id=1330>, <Node id=1461>, <Node id=1343>, <Node id=1280>, <Node id=1498>, <Node id=1081>, <Node id=1535>, <Node id=1135>, <Node id=1307>, <Node id=1075>, <Node id=1060>, <Node id=1371>, <Node id=1247>, <Node id=1232>, <Node id=1456>, <Node id=1245>, <Node id=1423>, <Node id=1519>, <Node id=1167>, <Node id=1179>, <Node id=1457>, <Node id=1130>, <Node id=1260>, <Node id=1072>, <Node id=1099>, <Node id=1124>, <Node id=1223>, <Node id=1083>, <Node id=1287>, <Node id=1066>, <Node id=1079>, <Node id=1529>, <Node id=1406>, <Node id=1203>, <Node id=1122>, <Node id=1112>, <Node id=1048>, <Node id=1536>, <Node id=1479>, <Node id=1278>, <Node id=1357>, <Node id=1165>], 'Max': 39, 'Temperature': 20, 'msgKey': 89}\n",
      "FLOODING\n",
      "39\n",
      "{'Neighbors': [<Node id=1110>, <Node id=1404>, <Node id=1419>, <Node id=1216>, <Node id=1242>, <Node id=1217>, <Node id=1306>, <Node id=1268>, <Node id=1352>, <Node id=1345>, <Node id=1472>, <Node id=1129>, <Node id=1400>, <Node id=1385>, <Node id=1182>, <Node id=1283>, <Node id=1516>, <Node id=1499>, <Node id=1220>, <Node id=1259>, <Node id=1056>, <Node id=1476>, <Node id=1323>, <Node id=1387>, <Node id=1222>, <Node id=1451>, <Node id=1248>, <Node id=1312>, <Node id=1464>, <Node id=1403>, <Node id=1113>, <Node id=1504>, <Node id=1390>, <Node id=1502>, <Node id=1314>, <Node id=1505>, <Node id=1391>, <Node id=1503>, <Node id=1157>, <Node id=1531>, <Node id=1290>, <Node id=1506>, <Node id=1297>, <Node id=1473>, <Node id=1494>], 'Max': 39, 'Temperature': 7, 'msgKey': 221}\n",
      "FLOODING\n",
      "39\n",
      "{'Neighbors': [<Node id=1456>, <Node id=1187>, <Node id=1091>, <Node id=1381>, <Node id=1343>, <Node id=1195>, <Node id=1218>, <Node id=1536>, <Node id=1498>, <Node id=1158>, <Node id=1270>, <Node id=1423>, <Node id=1474>, <Node id=1167>, <Node id=1437>, <Node id=1450>, <Node id=1130>, <Node id=1260>, <Node id=1069>, <Node id=1508>, <Node id=1402>, <Node id=1307>, <Node id=1176>, <Node id=1338>, <Node id=1453>, <Node id=1479>, <Node id=1122>, <Node id=1112>, <Node id=1341>], 'Max': 39, 'Temperature': -12, 'msgKey': 57}\n",
      "FLOODING\n",
      "39\n",
      "{'Neighbors': [<Node id=1456>, <Node id=1238>, <Node id=1187>, <Node id=1091>, <Node id=1544>, <Node id=1330>, <Node id=1139>, <Node id=1343>, <Node id=1483>, <Node id=1145>, <Node id=1322>, <Node id=1368>, <Node id=1073>, <Node id=1081>, <Node id=1230>, <Node id=1406>, <Node id=1135>, <Node id=1536>, <Node id=1294>, <Node id=1089>, <Node id=1060>, <Node id=1336>, <Node id=1108>, <Node id=1512>, <Node id=1474>, <Node id=1167>, <Node id=1538>, <Node id=1213>, <Node id=1537>, <Node id=1067>, <Node id=1247>, <Node id=1260>, <Node id=1069>, <Node id=1099>, <Node id=1234>, <Node id=1148>, <Node id=1508>, <Node id=1402>, <Node id=1542>, <Node id=1124>, <Node id=1223>, <Node id=1274>, <Node id=1331>, <Node id=1338>, <Node id=1079>, <Node id=1313>, <Node id=1304>, <Node id=1529>, <Node id=1288>, <Node id=1307>, <Node id=1203>, <Node id=1122>, <Node id=1112>, <Node id=1318>, <Node id=1493>, <Node id=1479>, <Node id=1444>, <Node id=1357>, <Node id=1165>], 'Max': 39, 'Temperature': 25, 'msgKey': 175}\n",
      "FLOODING\n",
      "39\n",
      "{'Neighbors': [<Node id=1061>, <Node id=1188>, <Node id=1215>, <Node id=1098>, <Node id=1090>, <Node id=1256>, <Node id=1518>, <Node id=1460>, <Node id=1257>, <Node id=1321>, <Node id=1209>, <Node id=1194>, <Node id=1462>, <Node id=1438>, <Node id=1142>, <Node id=1463>, <Node id=1407>, <Node id=1111>, <Node id=1324>, <Node id=1094>, <Node id=1119>, <Node id=1491>, <Node id=1326>, <Node id=1377>, <Node id=1267>, <Node id=1225>, <Node id=1428>, <Node id=1082>, <Node id=1264>, <Node id=1317>], 'Max': 39, 'Temperature': 28, 'msgKey': 146}\n",
      "FLOODING\n",
      "39\n",
      "{'Neighbors': [<Node id=1228>, <Node id=1254>, <Node id=1216>, <Node id=1318>, <Node id=1471>, <Node id=1073>, <Node id=1092>, <Node id=1208>, <Node id=1135>, <Node id=1103>, <Node id=1357>, <Node id=1096>, <Node id=1060>, <Node id=1355>, <Node id=1097>, <Node id=1149>, <Node id=1108>, <Node id=1315>, <Node id=1459>, <Node id=1220>, <Node id=1436>, <Node id=1525>, <Node id=1397>, <Node id=1524>, <Node id=1512>, <Node id=1067>, <Node id=1421>, <Node id=1336>, <Node id=1544>, <Node id=1062>, <Node id=1451>, <Node id=1124>, <Node id=1136>, <Node id=1059>, <Node id=1516>, <Node id=1313>, <Node id=1152>, <Node id=1542>, <Node id=1334>, <Node id=1223>, <Node id=1497>, <Node id=1214>, <Node id=1129>, <Node id=1419>, <Node id=1154>, <Node id=1065>, <Node id=1531>, <Node id=1314>, <Node id=1379>, <Node id=1376>, <Node id=1055>], 'Max': 39, 'Temperature': -1, 'msgKey': 251}\n",
      "FLOODING\n",
      "39\n",
      "{'Neighbors': [<Node id=1417>, <Node id=1365>, <Node id=1515>, <Node id=1293>, <Node id=1413>, <Node id=1181>, <Node id=1084>, <Node id=1367>, <Node id=1131>, <Node id=1185>, <Node id=1426>, <Node id=1244>, <Node id=1422>, <Node id=1140>, <Node id=1543>, <Node id=1448>, <Node id=1205>, <Node id=1169>, <Node id=1121>, <Node id=1050>, <Node id=1361>, <Node id=1492>, <Node id=1298>, <Node id=1273>, <Node id=1168>, <Node id=1085>, <Node id=1155>, <Node id=1262>, <Node id=1224>, <Node id=1442>, <Node id=1441>, <Node id=1172>, <Node id=1100>, <Node id=1251>, <Node id=1388>, <Node id=1277>, <Node id=1115>, <Node id=1354>, <Node id=1177>], 'Max': 39, 'Temperature': 4, 'msgKey': 191}\n",
      "FLOODING\n",
      "39\n",
      "{'Neighbors': [<Node id=1276>, <Node id=1138>, <Node id=1190>, <Node id=1495>, <Node id=1432>, <Node id=1215>, <Node id=1196>, <Node id=1134>, <Node id=1302>, <Node id=1295>, <Node id=1219>, <Node id=1186>, <Node id=1209>, <Node id=1271>, <Node id=1462>, <Node id=1119>, <Node id=1526>, <Node id=1425>, <Node id=1438>, <Node id=1399>, <Node id=1300>, <Node id=1435>, <Node id=1478>, <Node id=1491>, <Node id=1428>, <Node id=1063>, <Node id=1082>, <Node id=1530>, <Node id=1264>, <Node id=1394>], 'Max': 39, 'Temperature': -13, 'msgKey': 204}\n",
      "FLOODING\n",
      "39\n",
      "{'Neighbors': [<Node id=1403>, <Node id=1228>, <Node id=1110>, <Node id=1471>, <Node id=1254>, <Node id=1216>, <Node id=1318>, <Node id=1404>, <Node id=1073>, <Node id=1268>, <Node id=1535>, <Node id=1135>, <Node id=1103>, <Node id=1357>, <Node id=1096>, <Node id=1129>, <Node id=1182>, <Node id=1149>, <Node id=1516>, <Node id=1461>, <Node id=1459>, <Node id=1220>, <Node id=1525>, <Node id=1397>, <Node id=1524>, <Node id=1161>, <Node id=1531>, <Node id=1421>, <Node id=1336>, <Node id=1387>, <Node id=1505>, <Node id=1062>, <Node id=1451>, <Node id=1124>, <Node id=1136>, <Node id=1544>, <Node id=1059>, <Node id=1056>, <Node id=1313>, <Node id=1152>, <Node id=1542>, <Node id=1223>, <Node id=1314>, <Node id=1419>, <Node id=1154>, <Node id=1503>, <Node id=1315>, <Node id=1373>, <Node id=1352>, <Node id=1278>, <Node id=1473>, <Node id=1055>], 'Max': 39, 'Temperature': 8, 'msgKey': 205}\n",
      "FLOODING\n",
      "39\n",
      "{'Neighbors': [<Node id=1460>, <Node id=1326>, <Node id=1142>, <Node id=1491>, <Node id=1190>, <Node id=1188>, <Node id=1490>, <Node id=1321>, <Node id=1372>, <Node id=1414>, <Node id=1438>, <Node id=1111>, <Node id=1119>, <Node id=1462>], 'Max': 39, 'Temperature': 5, 'msgKey': 79}\n",
      "FLOODING\n",
      "39\n",
      "{'Neighbors': [<Node id=1304>, <Node id=1355>, <Node id=1139>, <Node id=1346>, <Node id=1145>, <Node id=1331>, <Node id=1123>, <Node id=1080>, <Node id=1431>, <Node id=1510>, <Node id=1405>, <Node id=1097>, <Node id=1108>, <Node id=1334>, <Node id=1296>, <Node id=1347>, <Node id=1087>, <Node id=1449>, <Node id=1500>, <Node id=1170>, <Node id=1067>, <Node id=1285>, <Node id=1436>, <Node id=1101>, <Node id=1292>, <Node id=1398>, <Node id=1299>, <Node id=1197>, <Node id=1274>, <Node id=1313>, <Node id=1395>, <Node id=1542>, <Node id=1497>, <Node id=1214>, <Node id=1238>, <Node id=1126>, <Node id=1159>, <Node id=1261>, <Node id=1544>, <Node id=1454>, <Node id=1316>, <Node id=1350>], 'Max': 39, 'Temperature': 0, 'msgKey': 206}\n",
      "FLOODING\n",
      "39\n",
      "{'Neighbors': [<Node id=1329>, <Node id=1228>, <Node id=1419>, <Node id=1059>, <Node id=1471>, <Node id=1092>, <Node id=1486>, <Node id=1397>, <Node id=1103>, <Node id=1485>, <Node id=1501>, <Node id=1097>, <Node id=1208>, <Node id=1334>, <Node id=1202>, <Node id=1436>, <Node id=1449>, <Node id=1191>, <Node id=1421>, <Node id=1544>, <Node id=1062>, <Node id=1261>, <Node id=1055>, <Node id=1524>, <Node id=1184>, <Node id=1497>, <Node id=1214>, <Node id=1342>, <Node id=1128>, <Node id=1315>, <Node id=1373>, <Node id=1065>, <Node id=1265>, <Node id=1227>, <Node id=1136>], 'Max': 39, 'Temperature': 28, 'msgKey': 171}\n",
      "FLOODING\n",
      "39\n",
      "{'Neighbors': [<Node id=1415>, <Node id=1348>, <Node id=1164>, <Node id=1440>, <Node id=1047>, <Node id=1125>, <Node id=1443>, <Node id=1255>, <Node id=1344>, <Node id=1416>, <Node id=1383>, <Node id=1522>, <Node id=1231>, <Node id=1057>, <Node id=1482>, <Node id=1258>, <Node id=1523>, <Node id=1309>, <Node id=1284>, <Node id=1513>, <Node id=1221>, <Node id=1539>, <Node id=1193>, <Node id=1349>, <Node id=1235>, <Node id=1212>, <Node id=1439>, <Node id=1358>, <Node id=1146>, <Node id=1327>, <Node id=1396>, <Node id=1445>, <Node id=1156>, <Node id=1316>, <Node id=1532>], 'Max': 39, 'Temperature': 11, 'msgKey': 239}\n",
      "FLOODING\n",
      "39\n",
      "{'Neighbors': [<Node id=1253>, <Node id=1127>, <Node id=1508>, <Node id=1343>, <Node id=1195>, <Node id=1192>, <Node id=1281>, <Node id=1370>, <Node id=1218>, <Node id=1536>, <Node id=1498>, <Node id=1130>, <Node id=1270>, <Node id=1245>, <Node id=1423>, <Node id=1167>, <Node id=1179>, <Node id=1437>, <Node id=1450>, <Node id=1158>, <Node id=1260>, <Node id=1307>, <Node id=1176>, <Node id=1453>, <Node id=1263>, <Node id=1479>, <Node id=1122>, <Node id=1048>], 'Max': 39, 'Temperature': 29, 'msgKey': 55}\n",
      "FLOODING\n",
      "39\n",
      "{'Neighbors': [<Node id=1063>, <Node id=1495>, <Node id=1305>, <Node id=1435>, <Node id=1229>, <Node id=1507>, <Node id=1433>, <Node id=1114>, <Node id=1467>, <Node id=1198>, <Node id=1196>, <Node id=1134>, <Node id=1447>, <Node id=1295>, <Node id=1219>, <Node id=1486>, <Node id=1186>, <Node id=1487>, <Node id=1526>, <Node id=1128>, <Node id=1408>, <Node id=1501>, <Node id=1178>, <Node id=1104>, <Node id=1541>, <Node id=1095>, <Node id=1394>, <Node id=1409>, <Node id=1325>, <Node id=1249>, <Node id=1339>, <Node id=1201>, <Node id=1511>, <Node id=1109>, <Node id=1289>, <Node id=1530>, <Node id=1340>, <Node id=1429>, <Node id=1353>, <Node id=1239>, <Node id=1455>, <Node id=1470>, <Node id=1393>, <Node id=1481>, <Node id=1452>, <Node id=1240>], 'Max': 39, 'Temperature': 24, 'msgKey': 181}\n",
      "FLOODING\n",
      "39\n",
      "{'Neighbors': [<Node id=1380>, <Node id=1482>, <Node id=1279>, <Node id=1125>, <Node id=1445>, <Node id=1344>, <Node id=1522>, <Node id=1231>, <Node id=1513>, <Node id=1309>, <Node id=1392>, <Node id=1348>, <Node id=1539>, <Node id=1193>, <Node id=1349>, <Node id=1235>, <Node id=1212>, <Node id=1439>, <Node id=1523>, <Node id=1146>, <Node id=1291>, <Node id=1416>, <Node id=1226>, <Node id=1156>, <Node id=1183>, <Node id=1443>, <Node id=1532>], 'Max': 39, 'Temperature': 15, 'msgKey': 183}\n",
      "FLOODING\n",
      "39\n",
      "{'Neighbors': [<Node id=1160>, <Node id=1100>, <Node id=1091>, <Node id=1533>, <Node id=1508>, <Node id=1206>, <Node id=1343>, <Node id=1483>, <Node id=1331>, <Node id=1338>, <Node id=1084>, <Node id=1230>, <Node id=1243>, <Node id=1294>, <Node id=1089>, <Node id=1536>, <Node id=1244>, <Node id=1453>, <Node id=1140>, <Node id=1448>, <Node id=1205>, <Node id=1169>, <Node id=1322>, <Node id=1538>, <Node id=1474>, <Node id=1213>, <Node id=1475>, <Node id=1234>, <Node id=1069>, <Node id=1148>, <Node id=1402>, <Node id=1388>, <Node id=1444>, <Node id=1181>, <Node id=1200>, <Node id=1224>, <Node id=1288>, <Node id=1493>, <Node id=1492>, <Node id=1112>, <Node id=1131>, <Node id=1442>, <Node id=1277>, <Node id=1328>, <Node id=1341>, <Node id=1310>, <Node id=1537>], 'Max': 39, 'Temperature': -8, 'msgKey': 139}\n",
      "FLOODING\n",
      "39\n",
      "{'Neighbors': [<Node id=1110>, <Node id=1404>, <Node id=1369>, <Node id=1117>, <Node id=1306>, <Node id=1268>, <Node id=1345>, <Node id=1472>, <Node id=1400>, <Node id=1473>, <Node id=1283>, <Node id=1499>, <Node id=1233>, <Node id=1297>, <Node id=1056>, <Node id=1476>, <Node id=1323>, <Node id=1387>, <Node id=1290>, <Node id=1451>, <Node id=1248>, <Node id=1312>, <Node id=1477>, <Node id=1464>, <Node id=1403>, <Node id=1217>, <Node id=1113>, <Node id=1390>, <Node id=1352>, <Node id=1505>, <Node id=1391>, <Node id=1503>, <Node id=1531>, <Node id=1314>, <Node id=1506>, <Node id=1259>, <Node id=1494>], 'Max': 39, 'Temperature': 24, 'msgKey': 109}\n",
      "FLOODING\n",
      "39\n",
      "{'Neighbors': [<Node id=1420>, <Node id=1292>, <Node id=1327>, <Node id=1521>, <Node id=1488>, <Node id=1046>, <Node id=1255>, <Node id=1344>, <Node id=1349>, <Node id=1396>, <Node id=1080>, <Node id=1401>, <Node id=1051>, <Node id=1231>, <Node id=1057>, <Node id=1346>, <Node id=1359>, <Node id=1258>, <Node id=1296>, <Node id=1309>, <Node id=1087>, <Node id=1440>, <Node id=1170>, <Node id=1272>, <Node id=1285>, <Node id=1132>, <Node id=1120>, <Node id=1347>, <Node id=1101>, <Node id=1395>, <Node id=1299>, <Node id=1197>, <Node id=1058>, <Node id=1358>, <Node id=1146>, <Node id=1527>, <Node id=1137>, <Node id=1126>, <Node id=1316>, <Node id=1412>, <Node id=1159>, <Node id=1449>, <Node id=1520>, <Node id=1078>], 'Max': 39, 'Temperature': 31, 'msgKey': 130}\n",
      "FLOODING\n",
      "39\n",
      "{'Neighbors': [<Node id=1403>, <Node id=1110>, <Node id=1471>, <Node id=1254>, <Node id=1216>, <Node id=1369>, <Node id=1404>, <Node id=1306>, <Node id=1268>, <Node id=1397>, <Node id=1103>, <Node id=1376>, <Node id=1096>, <Node id=1129>, <Node id=1385>, <Node id=1182>, <Node id=1149>, <Node id=1516>, <Node id=1315>, <Node id=1220>, <Node id=1505>, <Node id=1459>, <Node id=1524>, <Node id=1283>, <Node id=1297>, <Node id=1400>, <Node id=1323>, <Node id=1421>, <Node id=1476>, <Node id=1062>, <Node id=1502>, <Node id=1451>, <Node id=1312>, <Node id=1464>, <Node id=1161>, <Node id=1059>, <Node id=1056>, <Node id=1152>, <Node id=1390>, <Node id=1314>, <Node id=1419>, <Node id=1154>, <Node id=1391>, <Node id=1503>, <Node id=1065>, <Node id=1531>, <Node id=1352>, <Node id=1473>], 'Max': 39, 'Temperature': 9, 'msgKey': 283}\n",
      "FLOODING\n",
      "39\n",
      "{'Neighbors': [<Node id=1160>, <Node id=1492>, <Node id=1533>, <Node id=1140>, <Node id=1084>, <Node id=1243>, <Node id=1200>, <Node id=1244>, <Node id=1384>, <Node id=1206>, <Node id=1448>, <Node id=1205>, <Node id=1169>, <Node id=1121>, <Node id=1310>, <Node id=1475>, <Node id=1361>, <Node id=1374>, <Node id=1515>, <Node id=1181>, <Node id=1338>, <Node id=1224>, <Node id=1172>, <Node id=1100>, <Node id=1131>, <Node id=1442>, <Node id=1277>, <Node id=1328>, <Node id=1341>, <Node id=1177>], 'Max': 39, 'Temperature': 25, 'msgKey': 117}\n",
      "FLOODING\n",
      "39\n",
      "{'Neighbors': [<Node id=1329>, <Node id=1507>, <Node id=1305>, <Node id=1356>, <Node id=1046>, <Node id=1114>, <Node id=1467>, <Node id=1447>, <Node id=1269>, <Node id=1137>, <Node id=1501>, <Node id=1486>, <Node id=1202>, <Node id=1174>, <Node id=1487>, <Node id=1246>, <Node id=1128>, <Node id=1170>, <Node id=1132>, <Node id=1120>, <Node id=1527>, <Node id=1325>, <Node id=1249>, <Node id=1275>, <Node id=1449>, <Node id=1109>, <Node id=1102>, <Node id=1239>, <Node id=1078>, <Node id=1496>], 'Max': 39, 'Temperature': 29, 'msgKey': 117}\n",
      "FLOODING\n",
      "39\n",
      "{'Neighbors': [<Node id=1052>, <Node id=1151>, <Node id=1110>, <Node id=1473>, <Node id=1369>, <Node id=1217>, <Node id=1306>, <Node id=1494>, <Node id=1345>, <Node id=1472>, <Node id=1540>, <Node id=1400>, <Node id=1182>, <Node id=1283>, <Node id=1499>, <Node id=1385>, <Node id=1297>, <Node id=1056>, <Node id=1476>, <Node id=1323>, <Node id=1387>, <Node id=1222>, <Node id=1464>, <Node id=1248>, <Node id=1312>, <Node id=1403>, <Node id=1113>, <Node id=1504>, <Node id=1189>, <Node id=1502>, <Node id=1468>, <Node id=1352>, <Node id=1505>, <Node id=1391>, <Node id=1157>, <Node id=1531>, <Node id=1290>, <Node id=1506>, <Node id=1259>, <Node id=1242>], 'Max': 39, 'Temperature': 6, 'msgKey': 157}\n",
      "FLOODING\n",
      "39\n",
      "{'Neighbors': [<Node id=1052>, <Node id=1151>, <Node id=1110>, <Node id=1113>, <Node id=1473>, <Node id=1242>, <Node id=1217>, <Node id=1306>, <Node id=1494>, <Node id=1345>, <Node id=1472>, <Node id=1540>, <Node id=1182>, <Node id=1283>, <Node id=1499>, <Node id=1385>, <Node id=1297>, <Node id=1476>, <Node id=1323>, <Node id=1387>, <Node id=1222>, <Node id=1464>, <Node id=1248>, <Node id=1312>, <Node id=1070>, <Node id=1504>, <Node id=1403>, <Node id=1056>, <Node id=1390>, <Node id=1068>, <Node id=1189>, <Node id=1502>, <Node id=1468>, <Node id=1352>, <Node id=1505>, <Node id=1157>, <Node id=1290>, <Node id=1506>, <Node id=1259>, <Node id=1369>], 'Max': 39, 'Temperature': -7, 'msgKey': 157}\n",
      "FLOODING\n",
      "39\n",
      "{'Neighbors': [<Node id=1279>, <Node id=1410>, <Node id=1211>, <Node id=1125>, <Node id=1445>, <Node id=1484>, <Node id=1522>, <Node id=1332>, <Node id=1383>, <Node id=1523>, <Node id=1282>, <Node id=1308>, <Node id=1166>, <Node id=1105>, <Node id=1528>, <Node id=1183>, <Node id=1320>, <Node id=1469>, <Node id=1416>, <Node id=1226>, <Node id=1156>, <Node id=1539>, <Node id=1303>, <Node id=1443>], 'Max': 39, 'Temperature': 29, 'msgKey': 116}\n",
      "FLOODING\n",
      "39\n",
      "{'Neighbors': [<Node id=1465>, <Node id=1511>, <Node id=1054>, <Node id=1363>, <Node id=1470>, <Node id=1229>, <Node id=1408>, <Node id=1382>, <Node id=1433>, <Node id=1150>, <Node id=1409>, <Node id=1077>, <Node id=1353>, <Node id=1526>, <Node id=1107>, <Node id=1074>, <Node id=1178>, <Node id=1286>, <Node id=1198>, <Node id=1541>, <Node id=1095>, <Node id=1236>, <Node id=1452>, <Node id=1339>, <Node id=1237>, <Node id=1153>, <Node id=1250>, <Node id=1201>, <Node id=1545>, <Node id=1289>, <Node id=1340>, <Node id=1429>, <Node id=1053>, <Node id=1204>, <Node id=1455>, <Node id=1481>, <Node id=1240>], 'Max': 39, 'Temperature': 23, 'msgKey': 145}\n",
      "FLOODING\n",
      "39\n",
      "{'Neighbors': [<Node id=1276>, <Node id=1138>, <Node id=1063>, <Node id=1495>, <Node id=1356>, <Node id=1215>, <Node id=1507>, <Node id=1399>, <Node id=1382>, <Node id=1114>, <Node id=1447>, <Node id=1300>, <Node id=1134>, <Node id=1302>, <Node id=1295>, <Node id=1432>, <Node id=1219>, <Node id=1186>, <Node id=1209>, <Node id=1271>, <Node id=1119>, <Node id=1526>, <Node id=1425>, <Node id=1375>, <Node id=1196>, <Node id=1487>, <Node id=1325>, <Node id=1249>, <Node id=1435>, <Node id=1478>, <Node id=1463>, <Node id=1267>, <Node id=1109>, <Node id=1082>, <Node id=1530>, <Node id=1340>, <Node id=1264>, <Node id=1257>, <Node id=1353>, <Node id=1239>, <Node id=1470>, <Node id=1428>, <Node id=1452>], 'Max': 39, 'Temperature': 6, 'msgKey': 169}\n",
      "FLOODING\n",
      "39\n",
      "{'Neighbors': [<Node id=1431>, <Node id=1355>, <Node id=1139>, <Node id=1346>, <Node id=1488>, <Node id=1255>, <Node id=1123>, <Node id=1080>, <Node id=1401>, <Node id=1510>, <Node id=1405>, <Node id=1097>, <Node id=1208>, <Node id=1359>, <Node id=1108>, <Node id=1334>, <Node id=1296>, <Node id=1347>, <Node id=1087>, <Node id=1449>, <Node id=1500>, <Node id=1202>, <Node id=1170>, <Node id=1272>, <Node id=1285>, <Node id=1436>, <Node id=1101>, <Node id=1292>, <Node id=1398>, <Node id=1299>, <Node id=1197>, <Node id=1274>, <Node id=1497>, <Node id=1214>, <Node id=1126>, <Node id=1378>, <Node id=1159>, <Node id=1261>, <Node id=1386>, <Node id=1316>, <Node id=1350>], 'Max': 39, 'Temperature': 2, 'msgKey': 201}\n",
      "FLOODING\n",
      "39\n",
      "{'Neighbors': [<Node id=1380>, <Node id=1482>, <Node id=1420>, <Node id=1164>, <Node id=1440>, <Node id=1521>, <Node id=1488>, <Node id=1046>, <Node id=1255>, <Node id=1344>, <Node id=1051>, <Node id=1231>, <Node id=1163>, <Node id=1412>, <Node id=1359>, <Node id=1296>, <Node id=1309>, <Node id=1284>, <Node id=1386>, <Node id=1348>, <Node id=1272>, <Node id=1401>, <Node id=1132>, <Node id=1514>, <Node id=1171>, <Node id=1235>, <Node id=1212>, <Node id=1210>, <Node id=1058>, <Node id=1358>, <Node id=1527>, <Node id=1517>, <Node id=1291>, <Node id=1193>, <Node id=1520>, <Node id=1509>, <Node id=1078>, <Node id=1496>], 'Max': 39, 'Temperature': 8, 'msgKey': 297}\n",
      "FLOODING\n",
      "39\n",
      "{'Neighbors': [<Node id=1228>, <Node id=1110>, <Node id=1419>, <Node id=1216>, <Node id=1471>, <Node id=1283>, <Node id=1352>, <Node id=1103>, <Node id=1376>, <Node id=1096>, <Node id=1129>, <Node id=1473>, <Node id=1182>, <Node id=1208>, <Node id=1516>, <Node id=1315>, <Node id=1436>, <Node id=1360>, <Node id=1524>, <Node id=1191>, <Node id=1421>, <Node id=1387>, <Node id=1505>, <Node id=1062>, <Node id=1502>, <Node id=1451>, <Node id=1092>, <Node id=1055>, <Node id=1525>, <Node id=1059>, <Node id=1143>, <Node id=1485>, <Node id=1152>, <Node id=1184>, <Node id=1214>, <Node id=1342>, <Node id=1373>, <Node id=1065>, <Node id=1531>, <Node id=1314>, <Node id=1379>, <Node id=1265>, <Node id=1227>, <Node id=1136>], 'Max': 39, 'Temperature': 23, 'msgKey': 345}\n",
      "FLOODING\n",
      "39\n",
      "{'Neighbors': [<Node id=1304>, <Node id=1228>, <Node id=1139>, <Node id=1346>, <Node id=1145>, <Node id=1331>, <Node id=1123>, <Node id=1080>, <Node id=1431>, <Node id=1510>, <Node id=1405>, <Node id=1355>, <Node id=1097>, <Node id=1208>, <Node id=1108>, <Node id=1334>, <Node id=1512>, <Node id=1347>, <Node id=1087>, <Node id=1449>, <Node id=1500>, <Node id=1067>, <Node id=1285>, <Node id=1350>, <Node id=1436>, <Node id=1101>, <Node id=1292>, <Node id=1299>, <Node id=1136>, <Node id=1274>, <Node id=1313>, <Node id=1395>, <Node id=1542>, <Node id=1497>, <Node id=1214>, <Node id=1238>, <Node id=1126>, <Node id=1378>, <Node id=1159>, <Node id=1261>, <Node id=1544>, <Node id=1454>, <Node id=1197>], 'Max': 39, 'Temperature': 8, 'msgKey': 211}\n",
      "FLOODING\n",
      "39\n",
      "{'Neighbors': [<Node id=1063>, <Node id=1138>, <Node id=1190>, <Node id=1495>, <Node id=1432>, <Node id=1215>, <Node id=1447>, <Node id=1196>, <Node id=1134>, <Node id=1302>, <Node id=1295>, <Node id=1219>, <Node id=1186>, <Node id=1209>, <Node id=1271>, <Node id=1462>, <Node id=1119>, <Node id=1526>, <Node id=1425>, <Node id=1438>, <Node id=1375>, <Node id=1300>, <Node id=1435>, <Node id=1478>, <Node id=1491>, <Node id=1428>, <Node id=1276>, <Node id=1082>, <Node id=1530>, <Node id=1264>, <Node id=1353>, <Node id=1239>, <Node id=1394>], 'Max': 39, 'Temperature': -13, 'msgKey': 225}\n",
      "FLOODING\n",
      "39\n",
      "{'Neighbors': [<Node id=1369>, <Node id=1404>, <Node id=1306>, <Node id=1268>, <Node id=1459>, <Node id=1345>, <Node id=1220>, <Node id=1149>, <Node id=1385>, <Node id=1233>, <Node id=1161>, <Node id=1297>, <Node id=1323>, <Node id=1387>, <Node id=1476>, <Node id=1472>, <Node id=1451>, <Node id=1141>, <Node id=1312>, <Node id=1477>, <Node id=1464>, <Node id=1403>, <Node id=1056>, <Node id=1351>, <Node id=1519>, <Node id=1390>, <Node id=1314>, <Node id=1154>, <Node id=1503>, <Node id=1117>, <Node id=1173>, <Node id=1259>, <Node id=1494>], 'Max': 39, 'Temperature': 9, 'msgKey': 97}\n",
      "FLOODING\n",
      "39\n",
      "{'Neighbors': [<Node id=1420>, <Node id=1292>, <Node id=1327>, <Node id=1521>, <Node id=1488>, <Node id=1046>, <Node id=1255>, <Node id=1344>, <Node id=1349>, <Node id=1396>, <Node id=1080>, <Node id=1051>, <Node id=1231>, <Node id=1057>, <Node id=1346>, <Node id=1359>, <Node id=1258>, <Node id=1296>, <Node id=1309>, <Node id=1087>, <Node id=1440>, <Node id=1386>, <Node id=1170>, <Node id=1272>, <Node id=1285>, <Node id=1132>, <Node id=1120>, <Node id=1347>, <Node id=1101>, <Node id=1395>, <Node id=1299>, <Node id=1058>, <Node id=1358>, <Node id=1146>, <Node id=1527>, <Node id=1137>, <Node id=1126>, <Node id=1316>, <Node id=1412>, <Node id=1159>, <Node id=1449>, <Node id=1520>, <Node id=1509>, <Node id=1078>], 'Max': 39, 'Temperature': 18, 'msgKey': 216}\n",
      "FLOODING\n",
      "39\n",
      "{'Neighbors': [<Node id=1456>, <Node id=1384>, <Node id=1187>, <Node id=1091>, <Node id=1508>, <Node id=1343>, <Node id=1483>, <Node id=1498>, <Node id=1338>, <Node id=1444>, <Node id=1453>, <Node id=1243>, <Node id=1294>, <Node id=1089>, <Node id=1536>, <Node id=1371>, <Node id=1130>, <Node id=1206>, <Node id=1537>, <Node id=1442>, <Node id=1423>, <Node id=1474>, <Node id=1322>, <Node id=1370>, <Node id=1310>, <Node id=1437>, <Node id=1450>, <Node id=1247>, <Node id=1260>, <Node id=1069>, <Node id=1148>, <Node id=1099>, <Node id=1307>, <Node id=1475>, <Node id=1167>, <Node id=1538>, <Node id=1200>, <Node id=1288>, <Node id=1479>, <Node id=1122>, <Node id=1112>, <Node id=1406>, <Node id=1493>, <Node id=1328>, <Node id=1341>, <Node id=1213>, <Node id=1158>], 'Max': 39, 'Temperature': -8, 'msgKey': 139}\n",
      "FLOODING\n",
      "39\n",
      "{'Neighbors': [<Node id=1110>, <Node id=1254>, <Node id=1216>, <Node id=1369>, <Node id=1404>, <Node id=1306>, <Node id=1268>, <Node id=1352>, <Node id=1103>, <Node id=1345>, <Node id=1129>, <Node id=1385>, <Node id=1182>, <Node id=1149>, <Node id=1516>, <Node id=1220>, <Node id=1505>, <Node id=1233>, <Node id=1459>, <Node id=1283>, <Node id=1297>, <Node id=1400>, <Node id=1323>, <Node id=1387>, <Node id=1476>, <Node id=1419>, <Node id=1502>, <Node id=1451>, <Node id=1312>, <Node id=1464>, <Node id=1161>, <Node id=1059>, <Node id=1056>, <Node id=1152>, <Node id=1390>, <Node id=1314>, <Node id=1154>, <Node id=1391>, <Node id=1503>, <Node id=1315>, <Node id=1531>, <Node id=1290>, <Node id=1376>, <Node id=1259>, <Node id=1473>, <Node id=1494>], 'Max': 39, 'Temperature': 18, 'msgKey': 181}\n",
      "FLOODING\n",
      "39\n",
      "{'Neighbors': [<Node id=1403>, <Node id=1110>, <Node id=1254>, <Node id=1216>, <Node id=1369>, <Node id=1531>, <Node id=1306>, <Node id=1268>, <Node id=1535>, <Node id=1459>, <Node id=1103>, <Node id=1345>, <Node id=1096>, <Node id=1129>, <Node id=1385>, <Node id=1182>, <Node id=1149>, <Node id=1516>, <Node id=1461>, <Node id=1141>, <Node id=1505>, <Node id=1233>, <Node id=1524>, <Node id=1161>, <Node id=1259>, <Node id=1400>, <Node id=1494>, <Node id=1323>, <Node id=1336>, <Node id=1387>, <Node id=1476>, <Node id=1419>, <Node id=1451>, <Node id=1312>, <Node id=1477>, <Node id=1464>, <Node id=1525>, <Node id=1376>, <Node id=1056>, <Node id=1351>, <Node id=1152>, <Node id=1519>, <Node id=1314>, <Node id=1154>, <Node id=1503>, <Node id=1315>, <Node id=1220>, <Node id=1352>, <Node id=1297>, <Node id=1473>, <Node id=1278>], 'Max': 39, 'Temperature': 14, 'msgKey': 251}\n",
      "FLOODING\n",
      "39\n",
      "{'Neighbors': [<Node id=1160>, <Node id=1431>, <Node id=1355>, <Node id=1139>, <Node id=1413>, <Node id=1145>, <Node id=1331>, <Node id=1205>, <Node id=1367>, <Node id=1123>, <Node id=1080>, <Node id=1510>, <Node id=1057>, <Node id=1346>, <Node id=1448>, <Node id=1258>, <Node id=1296>, <Node id=1347>, <Node id=1087>, <Node id=1440>, <Node id=1500>, <Node id=1050>, <Node id=1489>, <Node id=1285>, <Node id=1292>, <Node id=1101>, <Node id=1147>, <Node id=1398>, <Node id=1299>, <Node id=1197>, <Node id=1274>, <Node id=1262>, <Node id=1224>, <Node id=1395>, <Node id=1441>, <Node id=1126>, <Node id=1378>, <Node id=1159>, <Node id=1277>, <Node id=1454>, <Node id=1115>, <Node id=1316>, <Node id=1350>], 'Max': 39, 'Temperature': 15, 'msgKey': 169}\n",
      "FLOODING\n",
      "39\n",
      "{'Neighbors': [<Node id=1456>, <Node id=1238>, <Node id=1187>, <Node id=1091>, <Node id=1330>, <Node id=1508>, <Node id=1343>, <Node id=1483>, <Node id=1234>, <Node id=1331>, <Node id=1368>, <Node id=1081>, <Node id=1230>, <Node id=1243>, <Node id=1536>, <Node id=1294>, <Node id=1089>, <Node id=1060>, <Node id=1498>, <Node id=1371>, <Node id=1453>, <Node id=1158>, <Node id=1479>, <Node id=1206>, <Node id=1537>, <Node id=1423>, <Node id=1474>, <Node id=1167>, <Node id=1538>, <Node id=1213>, <Node id=1437>, <Node id=1067>, <Node id=1512>, <Node id=1130>, <Node id=1260>, <Node id=1069>, <Node id=1099>, <Node id=1148>, <Node id=1402>, <Node id=1124>, <Node id=1223>, <Node id=1475>, <Node id=1322>, <Node id=1338>, <Node id=1079>, <Node id=1304>, <Node id=1529>, <Node id=1288>, <Node id=1307>, <Node id=1203>, <Node id=1247>, <Node id=1122>, <Node id=1112>, <Node id=1493>, <Node id=1328>, <Node id=1444>, <Node id=1357>, <Node id=1165>], 'Max': 39, 'Temperature': -14, 'msgKey': 172}\n",
      "FLOODING\n",
      "39\n",
      "{'Neighbors': [<Node id=1061>, <Node id=1432>, <Node id=1215>, <Node id=1356>, <Node id=1098>, <Node id=1090>, <Node id=1256>, <Node id=1518>, <Node id=1460>, <Node id=1257>, <Node id=1372>, <Node id=1267>, <Node id=1111>, <Node id=1194>, <Node id=1142>, <Node id=1463>, <Node id=1514>, <Node id=1324>, <Node id=1094>, <Node id=1119>, <Node id=1326>, <Node id=1428>, <Node id=1225>, <Node id=1517>, <Node id=1082>, <Node id=1264>, <Node id=1317>, <Node id=1496>], 'Max': 39, 'Temperature': 28, 'msgKey': 190}\n",
      "FLOODING\n",
      "39\n",
      "{'Neighbors': [<Node id=1511>, <Node id=1435>, <Node id=1229>, <Node id=1382>, <Node id=1433>, <Node id=1196>, <Node id=1134>, <Node id=1295>, <Node id=1219>, <Node id=1186>, <Node id=1526>, <Node id=1178>, <Node id=1198>, <Node id=1541>, <Node id=1095>, <Node id=1452>, <Node id=1470>, <Node id=1153>, <Node id=1339>, <Node id=1201>, <Node id=1063>, <Node id=1289>, <Node id=1530>, <Node id=1340>, <Node id=1429>, <Node id=1353>, <Node id=1455>, <Node id=1393>, <Node id=1481>, <Node id=1240>], 'Max': 39, 'Temperature': 2, 'msgKey': 175}\n",
      "FLOODING\n",
      "39\n",
      "{'Neighbors': [<Node id=1329>, <Node id=1465>, <Node id=1545>, <Node id=1054>, <Node id=1128>, <Node id=1305>, <Node id=1485>, <Node id=1342>, <Node id=1229>, <Node id=1382>, <Node id=1433>, <Node id=1467>, <Node id=1150>, <Node id=1077>, <Node id=1486>, <Node id=1360>, <Node id=1191>, <Node id=1501>, <Node id=1178>, <Node id=1104>, <Node id=1541>, <Node id=1095>, <Node id=1363>, <Node id=1325>, <Node id=1339>, <Node id=1184>, <Node id=1250>, <Node id=1487>, <Node id=1109>, <Node id=1289>, <Node id=1340>, <Node id=1429>, <Node id=1455>, <Node id=1393>, <Node id=1265>, <Node id=1227>, <Node id=1240>], 'Max': 39, 'Temperature': -3, 'msgKey': 181}\n",
      "FLOODING\n",
      "39\n",
      "{'Neighbors': [<Node id=1417>, <Node id=1279>, <Node id=1211>, <Node id=1308>, <Node id=1125>, <Node id=1445>, <Node id=1484>, <Node id=1522>, <Node id=1534>, <Node id=1319>, <Node id=1183>, <Node id=1523>, <Node id=1282>, <Node id=1333>, <Node id=1093>, <Node id=1446>, <Node id=1298>, <Node id=1332>, <Node id=1166>, <Node id=1105>, <Node id=1337>, <Node id=1528>, <Node id=1469>, <Node id=1364>, <Node id=1392>, <Node id=1466>, <Node id=1320>, <Node id=1047>, <Node id=1226>, <Node id=1156>, <Node id=1303>, <Node id=1443>], 'Max': 39, 'Temperature': 31, 'msgKey': 125}\n",
      "FLOODING\n",
      "39\n",
      "{'Neighbors': [<Node id=1106>, <Node id=1118>, <Node id=1076>, <Node id=1301>, <Node id=1144>, <Node id=1458>, <Node id=1241>, <Node id=1418>, <Node id=1266>, <Node id=1049>, <Node id=1116>, <Node id=1311>, <Node id=1252>, <Node id=1070>, <Node id=1199>, <Node id=1071>, <Node id=1175>], 'Max': 39, 'Temperature': -15, 'msgKey': 81}\n",
      "FLOODING\n",
      "39\n",
      "{'Neighbors': [<Node id=1420>, <Node id=1292>, <Node id=1440>, <Node id=1521>, <Node id=1272>, <Node id=1046>, <Node id=1488>, <Node id=1255>, <Node id=1344>, <Node id=1396>, <Node id=1080>, <Node id=1051>, <Node id=1231>, <Node id=1137>, <Node id=1358>, <Node id=1359>, <Node id=1296>, <Node id=1309>, <Node id=1087>, <Node id=1284>, <Node id=1386>, <Node id=1170>, <Node id=1120>, <Node id=1401>, <Node id=1132>, <Node id=1514>, <Node id=1171>, <Node id=1527>, <Node id=1164>, <Node id=1210>, <Node id=1058>, <Node id=1212>, <Node id=1269>, <Node id=1517>, <Node id=1327>, <Node id=1316>, <Node id=1520>, <Node id=1509>, <Node id=1078>, <Node id=1496>], 'Max': 39, 'Temperature': -5, 'msgKey': 352}\n",
      "FLOODING\n",
      "39\n",
      "{'Neighbors': [<Node id=1405>, <Node id=1160>, <Node id=1415>, <Node id=1431>, <Node id=1515>, <Node id=1221>, <Node id=1533>, <Node id=1047>, <Node id=1145>, <Node id=1258>, <Node id=1367>, <Node id=1185>, <Node id=1510>, <Node id=1057>, <Node id=1244>, <Node id=1422>, <Node id=1140>, <Node id=1448>, <Node id=1205>, <Node id=1169>, <Node id=1121>, <Node id=1168>, <Node id=1273>, <Node id=1050>, <Node id=1489>, <Node id=1374>, <Node id=1101>, <Node id=1147>, <Node id=1085>, <Node id=1197>, <Node id=1454>, <Node id=1181>, <Node id=1262>, <Node id=1224>, <Node id=1441>, <Node id=1365>, <Node id=1492>, <Node id=1100>, <Node id=1251>, <Node id=1159>, <Node id=1426>, <Node id=1277>, <Node id=1115>, <Node id=1354>, <Node id=1350>], 'Max': 39, 'Temperature': 13, 'msgKey': 177}\n",
      "FLOODING\n",
      "39\n",
      "{'Neighbors': [<Node id=1491>, <Node id=1326>, <Node id=1377>, <Node id=1190>, <Node id=1188>, <Node id=1490>, <Node id=1321>, <Node id=1438>, <Node id=1460>, <Node id=1462>, <Node id=1142>], 'Max': 39, 'Temperature': 37, 'msgKey': 31}\n",
      "FLOODING\n",
      "39\n",
      "{'Neighbors': [<Node id=1380>, <Node id=1515>, <Node id=1221>, <Node id=1047>, <Node id=1484>, <Node id=1522>, <Node id=1185>, <Node id=1539>, <Node id=1426>, <Node id=1413>, <Node id=1523>, <Node id=1057>, <Node id=1422>, <Node id=1258>, <Node id=1168>, <Node id=1273>, <Node id=1513>, <Node id=1050>, <Node id=1489>, <Node id=1166>, <Node id=1349>, <Node id=1101>, <Node id=1147>, <Node id=1085>, <Node id=1197>, <Node id=1528>, <Node id=1469>, <Node id=1262>, <Node id=1440>, <Node id=1146>, <Node id=1441>, <Node id=1365>, <Node id=1327>, <Node id=1348>, <Node id=1251>, <Node id=1226>, <Node id=1156>, <Node id=1115>, <Node id=1443>, <Node id=1367>], 'Max': 39, 'Temperature': 25, 'msgKey': 235}\n",
      "FLOODING\n",
      "39\n",
      "{'Neighbors': [<Node id=1380>, <Node id=1482>, <Node id=1279>, <Node id=1125>, <Node id=1445>, <Node id=1344>, <Node id=1522>, <Node id=1383>, <Node id=1523>, <Node id=1309>, <Node id=1284>, <Node id=1348>, <Node id=1539>, <Node id=1193>, <Node id=1235>, <Node id=1212>, <Node id=1439>, <Node id=1231>, <Node id=1392>, <Node id=1291>, <Node id=1156>, <Node id=1183>, <Node id=1443>, <Node id=1532>], 'Max': 39, 'Temperature': 10, 'msgKey': 162}\n",
      "FLOODING\n",
      "39\n",
      "{'Neighbors': [<Node id=1365>, <Node id=1515>, <Node id=1410>, <Node id=1211>, <Node id=1308>, <Node id=1534>, <Node id=1293>, <Node id=1484>, <Node id=1319>, <Node id=1332>, <Node id=1282>, <Node id=1333>, <Node id=1422>, <Node id=1093>, <Node id=1543>, <Node id=1185>, <Node id=1298>, <Node id=1361>, <Node id=1166>, <Node id=1374>, <Node id=1105>, <Node id=1168>, <Node id=1273>, <Node id=1337>, <Node id=1085>, <Node id=1528>, <Node id=1155>, <Node id=1469>, <Node id=1364>, <Node id=1466>, <Node id=1172>, <Node id=1047>, <Node id=1251>, <Node id=1426>, <Node id=1446>, <Node id=1320>, <Node id=1303>, <Node id=1354>, <Node id=1177>], 'Max': 39, 'Temperature': 25, 'msgKey': 153}\n",
      "FLOODING\n",
      "39\n",
      "{'Neighbors': [<Node id=1052>, <Node id=1411>, <Node id=1241>, <Node id=1076>, <Node id=1499>, <Node id=1424>, <Node id=1106>, <Node id=1175>, <Node id=1151>, <Node id=1362>, <Node id=1540>, <Node id=1248>, <Node id=1068>, <Node id=1252>, <Node id=1070>, <Node id=1504>, <Node id=1118>, <Node id=1189>, <Node id=1301>, <Node id=1144>, <Node id=1468>, <Node id=1506>, <Node id=1199>], 'Max': 39, 'Temperature': 30, 'msgKey': 89}\n",
      "FLOODING\n",
      "39\n",
      "{'Neighbors': [<Node id=1403>, <Node id=1228>, <Node id=1110>, <Node id=1471>, <Node id=1254>, <Node id=1216>, <Node id=1369>, <Node id=1404>, <Node id=1306>, <Node id=1283>, <Node id=1397>, <Node id=1103>, <Node id=1376>, <Node id=1096>, <Node id=1129>, <Node id=1182>, <Node id=1149>, <Node id=1516>, <Node id=1315>, <Node id=1220>, <Node id=1360>, <Node id=1459>, <Node id=1524>, <Node id=1373>, <Node id=1297>, <Node id=1421>, <Node id=1336>, <Node id=1387>, <Node id=1505>, <Node id=1062>, <Node id=1502>, <Node id=1451>, <Node id=1092>, <Node id=1055>, <Node id=1525>, <Node id=1059>, <Node id=1056>, <Node id=1152>, <Node id=1314>, <Node id=1154>, <Node id=1503>, <Node id=1065>, <Node id=1531>, <Node id=1352>, <Node id=1379>, <Node id=1473>, <Node id=1143>, <Node id=1136>], 'Max': 39, 'Temperature': 18, 'msgKey': 330}\n",
      "FLOODING\n",
      "39\n",
      "{'Neighbors': [<Node id=1061>, <Node id=1509>, <Node id=1164>, <Node id=1521>, <Node id=1488>, <Node id=1046>, <Node id=1255>, <Node id=1344>, <Node id=1080>, <Node id=1051>, <Node id=1231>, <Node id=1137>, <Node id=1358>, <Node id=1163>, <Node id=1412>, <Node id=1359>, <Node id=1296>, <Node id=1284>, <Node id=1386>, <Node id=1170>, <Node id=1272>, <Node id=1401>, <Node id=1132>, <Node id=1514>, <Node id=1120>, <Node id=1527>, <Node id=1212>, <Node id=1210>, <Node id=1058>, <Node id=1269>, <Node id=1517>, <Node id=1396>, <Node id=1520>, <Node id=1171>, <Node id=1078>, <Node id=1496>], 'Max': 39, 'Temperature': 19, 'msgKey': 211}\n",
      "FLOODING\n",
      "39\n",
      "{'Neighbors': [<Node id=1228>, <Node id=1419>, <Node id=1216>, <Node id=1471>, <Node id=1092>, <Node id=1505>, <Node id=1397>, <Node id=1103>, <Node id=1376>, <Node id=1096>, <Node id=1129>, <Node id=1473>, <Node id=1097>, <Node id=1208>, <Node id=1065>, <Node id=1436>, <Node id=1360>, <Node id=1497>, <Node id=1524>, <Node id=1191>, <Node id=1387>, <Node id=1062>, <Node id=1502>, <Node id=1261>, <Node id=1055>, <Node id=1379>, <Node id=1059>, <Node id=1516>, <Node id=1485>, <Node id=1152>, <Node id=1184>, <Node id=1334>, <Node id=1214>, <Node id=1342>, <Node id=1373>, <Node id=1315>, <Node id=1531>, <Node id=1182>, <Node id=1265>, <Node id=1227>, <Node id=1136>], 'Max': 39, 'Temperature': -3, 'msgKey': 241}\n",
      "FLOODING\n",
      "39\n",
      "{'Neighbors': [<Node id=1417>, <Node id=1415>, <Node id=1515>, <Node id=1221>, <Node id=1293>, <Node id=1100>, <Node id=1181>, <Node id=1205>, <Node id=1367>, <Node id=1185>, <Node id=1510>, <Node id=1413>, <Node id=1244>, <Node id=1492>, <Node id=1140>, <Node id=1543>, <Node id=1448>, <Node id=1258>, <Node id=1169>, <Node id=1121>, <Node id=1273>, <Node id=1050>, <Node id=1489>, <Node id=1361>, <Node id=1166>, <Node id=1374>, <Node id=1298>, <Node id=1168>, <Node id=1147>, <Node id=1085>, <Node id=1197>, <Node id=1155>, <Node id=1469>, <Node id=1262>, <Node id=1224>, <Node id=1441>, <Node id=1365>, <Node id=1047>, <Node id=1251>, <Node id=1426>, <Node id=1277>, <Node id=1115>, <Node id=1354>, <Node id=1177>], 'Max': 39, 'Temperature': 21, 'msgKey': 130}\n",
      "FLOODING\n",
      "39\n",
      "{'Neighbors': [<Node id=1434>, <Node id=1253>, <Node id=1187>, <Node id=1456>, <Node id=1330>, <Node id=1381>, <Node id=1343>, <Node id=1195>, <Node id=1280>, <Node id=1192>, <Node id=1287>, <Node id=1368>, <Node id=1081>, <Node id=1453>, <Node id=1281>, <Node id=1406>, <Node id=1370>, <Node id=1218>, <Node id=1075>, <Node id=1536>, <Node id=1498>, <Node id=1158>, <Node id=1270>, <Node id=1537>, <Node id=1245>, <Node id=1483>, <Node id=1167>, <Node id=1179>, <Node id=1437>, <Node id=1072>, <Node id=1450>, <Node id=1130>, <Node id=1260>, <Node id=1069>, <Node id=1099>, <Node id=1148>, <Node id=1508>, <Node id=1402>, <Node id=1307>, <Node id=1176>, <Node id=1079>, <Node id=1529>, <Node id=1288>, <Node id=1263>, <Node id=1203>, <Node id=1247>, <Node id=1122>, <Node id=1112>, <Node id=1048>, <Node id=1479>, <Node id=1430>, <Node id=1165>], 'Max': 39, 'Temperature': 28, 'msgKey': 103}\n",
      "FLOODING\n",
      "39\n",
      "{'Neighbors': [<Node id=1052>, <Node id=1418>, <Node id=1107>, <Node id=1458>, <Node id=1180>, <Node id=1049>, <Node id=1242>, <Node id=1311>, <Node id=1465>, <Node id=1071>, <Node id=1150>, <Node id=1540>, <Node id=1427>, <Node id=1266>, <Node id=1116>, <Node id=1335>, <Node id=1106>, <Node id=1222>, <Node id=1088>, <Node id=1362>, <Node id=1286>, <Node id=1236>, <Node id=1070>, <Node id=1064>, <Node id=1143>, <Node id=1504>, <Node id=1237>, <Node id=1068>, <Node id=1189>, <Node id=1157>, <Node id=1204>, <Node id=1468>, <Node id=1252>, <Node id=1199>], 'Max': 39, 'Temperature': 4, 'msgKey': 133}\n",
      "FLOODING\n",
      "39\n",
      "{'Neighbors': [<Node id=1063>, <Node id=1138>, <Node id=1190>, <Node id=1495>, <Node id=1432>, <Node id=1215>, <Node id=1196>, <Node id=1302>, <Node id=1460>, <Node id=1295>, <Node id=1219>, <Node id=1321>, <Node id=1186>, <Node id=1209>, <Node id=1271>, <Node id=1462>, <Node id=1119>, <Node id=1438>, <Node id=1142>, <Node id=1111>, <Node id=1375>, <Node id=1399>, <Node id=1490>, <Node id=1300>, <Node id=1478>, <Node id=1491>, <Node id=1326>, <Node id=1428>, <Node id=1276>, <Node id=1082>, <Node id=1530>, <Node id=1264>, <Node id=1394>], 'Max': 39, 'Temperature': -4, 'msgKey': 289}\n",
      "FLOODING\n",
      "39\n",
      "{'Neighbors': [<Node id=1160>, <Node id=1365>, <Node id=1221>, <Node id=1293>, <Node id=1100>, <Node id=1155>, <Node id=1367>, <Node id=1131>, <Node id=1185>, <Node id=1413>, <Node id=1244>, <Node id=1422>, <Node id=1140>, <Node id=1543>, <Node id=1448>, <Node id=1205>, <Node id=1169>, <Node id=1121>, <Node id=1273>, <Node id=1050>, <Node id=1489>, <Node id=1361>, <Node id=1374>, <Node id=1298>, <Node id=1168>, <Node id=1147>, <Node id=1085>, <Node id=1454>, <Node id=1181>, <Node id=1262>, <Node id=1224>, <Node id=1441>, <Node id=1172>, <Node id=1492>, <Node id=1047>, <Node id=1415>, <Node id=1251>, <Node id=1515>, <Node id=1277>, <Node id=1417>, <Node id=1115>, <Node id=1354>, <Node id=1177>], 'Max': 39, 'Temperature': 5, 'msgKey': 211}\n",
      "FLOODING\n",
      "39\n",
      "{'Neighbors': [<Node id=1052>, <Node id=1054>, <Node id=1363>, <Node id=1180>, <Node id=1424>, <Node id=1242>, <Node id=1504>, <Node id=1150>, <Node id=1077>, <Node id=1283>, <Node id=1360>, <Node id=1191>, <Node id=1107>, <Node id=1222>, <Node id=1088>, <Node id=1362>, <Node id=1286>, <Node id=1502>, <Node id=1068>, <Node id=1236>, <Node id=1465>, <Node id=1540>, <Node id=1143>, <Node id=1189>, <Node id=1237>, <Node id=1184>, <Node id=1250>, <Node id=1545>, <Node id=1335>, <Node id=1157>, <Node id=1468>, <Node id=1266>, <Node id=1227>, <Node id=1199>], 'Max': 39, 'Temperature': 4, 'msgKey': 199}\n",
      "FLOODING\n",
      "39\n",
      "{'Neighbors': [<Node id=1063>, <Node id=1138>, <Node id=1061>, <Node id=1495>, <Node id=1356>, <Node id=1215>, <Node id=1507>, <Node id=1098>, <Node id=1114>, <Node id=1196>, <Node id=1134>, <Node id=1447>, <Node id=1460>, <Node id=1295>, <Node id=1432>, <Node id=1372>, <Node id=1209>, <Node id=1119>, <Node id=1425>, <Node id=1407>, <Node id=1111>, <Node id=1375>, <Node id=1399>, <Node id=1094>, <Node id=1249>, <Node id=1478>, <Node id=1463>, <Node id=1267>, <Node id=1276>, <Node id=1082>, <Node id=1264>, <Node id=1257>, <Node id=1239>, <Node id=1518>, <Node id=1394>, <Node id=1496>], 'Max': 39, 'Temperature': -14, 'msgKey': 281}\n",
      "FLOODING\n",
      "39\n",
      "{'Neighbors': [<Node id=1465>, <Node id=1511>, <Node id=1054>, <Node id=1219>, <Node id=1229>, <Node id=1408>, <Node id=1382>, <Node id=1433>, <Node id=1467>, <Node id=1150>, <Node id=1409>, <Node id=1077>, <Node id=1435>, <Node id=1353>, <Node id=1545>, <Node id=1201>, <Node id=1526>, <Node id=1074>, <Node id=1178>, <Node id=1286>, <Node id=1198>, <Node id=1541>, <Node id=1095>, <Node id=1363>, <Node id=1452>, <Node id=1470>, <Node id=1339>, <Node id=1153>, <Node id=1250>, <Node id=1104>, <Node id=1109>, <Node id=1289>, <Node id=1340>, <Node id=1053>, <Node id=1455>, <Node id=1393>, <Node id=1481>, <Node id=1240>], 'Max': 39, 'Temperature': 28, 'msgKey': 149}\n",
      "FLOODING\n",
      "39\n",
      "{'Neighbors': [<Node id=1253>, <Node id=1086>, <Node id=1368>, <Node id=1461>, <Node id=1165>, <Node id=1287>, <Node id=1081>, <Node id=1423>, <Node id=1307>, <Node id=1075>, <Node id=1162>, <Node id=1232>, <Node id=1245>, <Node id=1141>, <Node id=1480>, <Node id=1179>, <Node id=1457>, <Node id=1130>, <Node id=1535>, <Node id=1072>, <Node id=1434>, <Node id=1223>, <Node id=1083>, <Node id=1207>, <Node id=1066>, <Node id=1079>, <Node id=1351>, <Node id=1529>, <Node id=1519>, <Node id=1203>, <Node id=1048>, <Node id=1280>, <Node id=1366>, <Node id=1173>, <Node id=1278>, <Node id=1133>], 'Max': 39, 'Temperature': 2, 'msgKey': 106}\n",
      "FLOODING\n",
      "39\n",
      "{'Neighbors': [<Node id=1405>, <Node id=1160>, <Node id=1304>, <Node id=1355>, <Node id=1139>, <Node id=1413>, <Node id=1145>, <Node id=1331>, <Node id=1205>, <Node id=1367>, <Node id=1123>, <Node id=1510>, <Node id=1230>, <Node id=1057>, <Node id=1346>, <Node id=1108>, <Node id=1258>, <Node id=1296>, <Node id=1347>, <Node id=1087>, <Node id=1500>, <Node id=1050>, <Node id=1489>, <Node id=1285>, <Node id=1448>, <Node id=1292>, <Node id=1101>, <Node id=1147>, <Node id=1398>, <Node id=1299>, <Node id=1197>, <Node id=1274>, <Node id=1262>, <Node id=1224>, <Node id=1395>, <Node id=1238>, <Node id=1126>, <Node id=1378>, <Node id=1159>, <Node id=1277>, <Node id=1454>, <Node id=1115>, <Node id=1316>, <Node id=1350>], 'Max': 39, 'Temperature': 1, 'msgKey': 216}\n",
      "FLOODING\n",
      "39\n",
      "{'Neighbors': [<Node id=1063>, <Node id=1138>, <Node id=1061>, <Node id=1495>, <Node id=1305>, <Node id=1356>, <Node id=1215>, <Node id=1507>, <Node id=1257>, <Node id=1114>, <Node id=1447>, <Node id=1196>, <Node id=1134>, <Node id=1264>, <Node id=1295>, <Node id=1219>, <Node id=1186>, <Node id=1209>, <Node id=1487>, <Node id=1119>, <Node id=1425>, <Node id=1407>, <Node id=1375>, <Node id=1399>, <Node id=1094>, <Node id=1325>, <Node id=1249>, <Node id=1478>, <Node id=1463>, <Node id=1267>, <Node id=1276>, <Node id=1082>, <Node id=1530>, <Node id=1340>, <Node id=1302>, <Node id=1300>, <Node id=1353>, <Node id=1239>, <Node id=1394>, <Node id=1428>], 'Max': 39, 'Temperature': 33, 'msgKey': 157}\n",
      "FLOODING\n",
      "39\n",
      "{'Neighbors': [<Node id=1465>, <Node id=1511>, <Node id=1054>, <Node id=1219>, <Node id=1229>, <Node id=1408>, <Node id=1382>, <Node id=1467>, <Node id=1198>, <Node id=1196>, <Node id=1409>, <Node id=1077>, <Node id=1186>, <Node id=1353>, <Node id=1487>, <Node id=1526>, <Node id=1074>, <Node id=1178>, <Node id=1104>, <Node id=1541>, <Node id=1095>, <Node id=1363>, <Node id=1325>, <Node id=1470>, <Node id=1435>, <Node id=1339>, <Node id=1153>, <Node id=1250>, <Node id=1201>, <Node id=1109>, <Node id=1289>, <Node id=1340>, <Node id=1429>, <Node id=1053>, <Node id=1455>, <Node id=1393>, <Node id=1481>, <Node id=1452>, <Node id=1240>], 'Max': 39, 'Temperature': -7, 'msgKey': 229}\n",
      "FLOODING\n",
      "39\n",
      "{'Neighbors': [<Node id=1456>, <Node id=1253>, <Node id=1086>, <Node id=1330>, <Node id=1461>, <Node id=1280>, <Node id=1207>, <Node id=1081>, <Node id=1535>, <Node id=1135>, <Node id=1307>, <Node id=1075>, <Node id=1498>, <Node id=1287>, <Node id=1247>, <Node id=1232>, <Node id=1245>, <Node id=1423>, <Node id=1480>, <Node id=1167>, <Node id=1179>, <Node id=1368>, <Node id=1130>, <Node id=1260>, <Node id=1072>, <Node id=1099>, <Node id=1519>, <Node id=1223>, <Node id=1083>, <Node id=1176>, <Node id=1066>, <Node id=1457>, <Node id=1079>, <Node id=1351>, <Node id=1529>, <Node id=1430>, <Node id=1263>, <Node id=1203>, <Node id=1122>, <Node id=1048>, <Node id=1366>, <Node id=1479>, <Node id=1278>, <Node id=1165>], 'Max': 39, 'Temperature': 14, 'msgKey': 130}\n",
      "FLOODING\n",
      "39\n",
      "{'Neighbors': [<Node id=1511>, <Node id=1138>, <Node id=1495>, <Node id=1470>, <Node id=1526>, <Node id=1382>, <Node id=1433>, <Node id=1196>, <Node id=1134>, <Node id=1295>, <Node id=1219>, <Node id=1186>, <Node id=1201>, <Node id=1408>, <Node id=1198>, <Node id=1541>, <Node id=1399>, <Node id=1452>, <Node id=1300>, <Node id=1478>, <Node id=1375>, <Node id=1063>, <Node id=1289>, <Node id=1530>, <Node id=1340>, <Node id=1429>, <Node id=1353>, <Node id=1455>, <Node id=1394>, <Node id=1481>, <Node id=1240>], 'Max': 39, 'Temperature': 21, 'msgKey': 121}\n",
      "FLOODING\n",
      "39\n",
      "{'Neighbors': [<Node id=1329>, <Node id=1228>, <Node id=1342>, <Node id=1346>, <Node id=1471>, <Node id=1378>, <Node id=1397>, <Node id=1103>, <Node id=1485>, <Node id=1355>, <Node id=1097>, <Node id=1208>, <Node id=1108>, <Node id=1334>, <Node id=1202>, <Node id=1347>, <Node id=1246>, <Node id=1102>, <Node id=1421>, <Node id=1544>, <Node id=1395>, <Node id=1062>, <Node id=1398>, <Node id=1092>, <Node id=1055>, <Node id=1261>, <Node id=1275>, <Node id=1449>, <Node id=1497>, <Node id=1214>, <Node id=1126>, <Node id=1373>, <Node id=1315>, <Node id=1065>, <Node id=1379>, <Node id=1265>, <Node id=1136>], 'Max': 39, 'Temperature': 31, 'msgKey': 145}\n",
      "FLOODING\n",
      "39\n",
      "{'Neighbors': [<Node id=1456>, <Node id=1187>, <Node id=1091>, <Node id=1381>, <Node id=1343>, <Node id=1195>, <Node id=1453>, <Node id=1370>, <Node id=1089>, <Node id=1536>, <Node id=1498>, <Node id=1247>, <Node id=1270>, <Node id=1423>, <Node id=1474>, <Node id=1167>, <Node id=1538>, <Node id=1450>, <Node id=1130>, <Node id=1260>, <Node id=1069>, <Node id=1508>, <Node id=1402>, <Node id=1218>, <Node id=1176>, <Node id=1338>, <Node id=1406>, <Node id=1307>, <Node id=1483>, <Node id=1479>, <Node id=1122>, <Node id=1112>, <Node id=1328>, <Node id=1341>, <Node id=1158>], 'Max': 39, 'Temperature': 30, 'msgKey': 69}\n",
      "FLOODING\n",
      "39\n",
      "{'Neighbors': [<Node id=1138>, <Node id=1190>, <Node id=1188>, <Node id=1215>, <Node id=1399>, <Node id=1460>, <Node id=1321>, <Node id=1372>, <Node id=1209>, <Node id=1271>, <Node id=1462>, <Node id=1119>, <Node id=1142>, <Node id=1425>, <Node id=1111>, <Node id=1375>, <Node id=1490>, <Node id=1300>, <Node id=1478>, <Node id=1491>, <Node id=1326>, <Node id=1377>, <Node id=1276>, <Node id=1302>, <Node id=1414>], 'Max': 39, 'Temperature': 35, 'msgKey': 97}\n",
      "FLOODING\n",
      "39\n",
      "{'Neighbors': [<Node id=1380>, <Node id=1482>, <Node id=1164>, <Node id=1125>, <Node id=1445>, <Node id=1344>, <Node id=1522>, <Node id=1383>, <Node id=1231>, <Node id=1309>, <Node id=1284>, <Node id=1513>, <Node id=1348>, <Node id=1539>, <Node id=1193>, <Node id=1349>, <Node id=1235>, <Node id=1212>, <Node id=1146>, <Node id=1291>, <Node id=1327>, <Node id=1416>, <Node id=1156>, <Node id=1183>, <Node id=1443>, <Node id=1532>], 'Max': 39, 'Temperature': 22, 'msgKey': 176}\n",
      "FLOODING\n",
      "39\n",
      "{'Neighbors': [<Node id=1380>, <Node id=1348>, <Node id=1292>, <Node id=1327>, <Node id=1443>, <Node id=1488>, <Node id=1255>, <Node id=1344>, <Node id=1522>, <Node id=1080>, <Node id=1401>, <Node id=1510>, <Node id=1231>, <Node id=1057>, <Node id=1412>, <Node id=1359>, <Node id=1258>, <Node id=1296>, <Node id=1309>, <Node id=1087>, <Node id=1386>, <Node id=1221>, <Node id=1489>, <Node id=1272>, <Node id=1285>, <Node id=1349>, <Node id=1101>, <Node id=1235>, <Node id=1299>, <Node id=1197>, <Node id=1147>, <Node id=1358>, <Node id=1146>, <Node id=1405>, <Node id=1047>, <Node id=1415>, <Node id=1396>, <Node id=1159>, <Node id=1085>, <Node id=1539>, <Node id=1513>, <Node id=1316>], 'Max': 39, 'Temperature': 0, 'msgKey': 288}\n",
      "FLOODING\n",
      "39\n",
      "{'Neighbors': [<Node id=1160>, <Node id=1365>, <Node id=1515>, <Node id=1221>, <Node id=1533>, <Node id=1293>, <Node id=1100>, <Node id=1155>, <Node id=1084>, <Node id=1367>, <Node id=1251>, <Node id=1185>, <Node id=1510>, <Node id=1413>, <Node id=1405>, <Node id=1244>, <Node id=1422>, <Node id=1140>, <Node id=1543>, <Node id=1448>, <Node id=1205>, <Node id=1169>, <Node id=1121>, <Node id=1273>, <Node id=1050>, <Node id=1489>, <Node id=1361>, <Node id=1374>, <Node id=1168>, <Node id=1147>, <Node id=1085>, <Node id=1197>, <Node id=1454>, <Node id=1181>, <Node id=1262>, <Node id=1224>, <Node id=1442>, <Node id=1172>, <Node id=1492>, <Node id=1047>, <Node id=1415>, <Node id=1131>, <Node id=1426>, <Node id=1277>, <Node id=1115>, <Node id=1354>, <Node id=1177>], 'Max': 39, 'Temperature': 9, 'msgKey': 185}\n",
      "FLOODING\n",
      "39\n",
      "{'Neighbors': [<Node id=1160>, <Node id=1091>, <Node id=1533>, <Node id=1206>, <Node id=1483>, <Node id=1145>, <Node id=1331>, <Node id=1338>, <Node id=1084>, <Node id=1230>, <Node id=1243>, <Node id=1294>, <Node id=1089>, <Node id=1537>, <Node id=1244>, <Node id=1384>, <Node id=1140>, <Node id=1448>, <Node id=1205>, <Node id=1169>, <Node id=1121>, <Node id=1538>, <Node id=1474>, <Node id=1213>, <Node id=1050>, <Node id=1234>, <Node id=1374>, <Node id=1069>, <Node id=1402>, <Node id=1388>, <Node id=1475>, <Node id=1322>, <Node id=1181>, <Node id=1200>, <Node id=1224>, <Node id=1310>, <Node id=1444>, <Node id=1441>, <Node id=1492>, <Node id=1100>, <Node id=1131>, <Node id=1493>, <Node id=1277>, <Node id=1328>, <Node id=1454>, <Node id=1341>, <Node id=1115>, <Node id=1367>], 'Max': 39, 'Temperature': 11, 'msgKey': 236}\n",
      "FLOODING\n",
      "39\n",
      "{'Neighbors': [<Node id=1380>, <Node id=1348>, <Node id=1279>, <Node id=1410>, <Node id=1211>, <Node id=1047>, <Node id=1125>, <Node id=1445>, <Node id=1484>, <Node id=1522>, <Node id=1332>, <Node id=1513>, <Node id=1383>, <Node id=1231>, <Node id=1057>, <Node id=1308>, <Node id=1303>, <Node id=1523>, <Node id=1309>, <Node id=1392>, <Node id=1221>, <Node id=1166>, <Node id=1193>, <Node id=1349>, <Node id=1235>, <Node id=1085>, <Node id=1439>, <Node id=1528>, <Node id=1469>, <Node id=1282>, <Node id=1440>, <Node id=1146>, <Node id=1320>, <Node id=1327>, <Node id=1416>, <Node id=1226>, <Node id=1156>, <Node id=1539>, <Node id=1183>, <Node id=1415>, <Node id=1532>], 'Max': 39, 'Temperature': 0, 'msgKey': 321}\n",
      "FLOODING\n",
      "39\n",
      "{'Neighbors': [<Node id=1160>, <Node id=1238>, <Node id=1187>, <Node id=1091>, <Node id=1533>, <Node id=1330>, <Node id=1139>, <Node id=1343>, <Node id=1483>, <Node id=1145>, <Node id=1331>, <Node id=1338>, <Node id=1084>, <Node id=1123>, <Node id=1230>, <Node id=1243>, <Node id=1536>, <Node id=1294>, <Node id=1089>, <Node id=1060>, <Node id=1371>, <Node id=1384>, <Node id=1206>, <Node id=1456>, <Node id=1448>, <Node id=1442>, <Node id=1512>, <Node id=1474>, <Node id=1322>, <Node id=1538>, <Node id=1213>, <Node id=1475>, <Node id=1067>, <Node id=1247>, <Node id=1260>, <Node id=1069>, <Node id=1099>, <Node id=1234>, <Node id=1148>, <Node id=1508>, <Node id=1402>, <Node id=1124>, <Node id=1350>, <Node id=1274>, <Node id=1200>, <Node id=1224>, <Node id=1304>, <Node id=1288>, <Node id=1122>, <Node id=1112>, <Node id=1131>, <Node id=1406>, <Node id=1277>, <Node id=1328>, <Node id=1454>, <Node id=1493>, <Node id=1310>, <Node id=1537>], 'Max': 39, 'Temperature': 10, 'msgKey': 172}\n",
      "FLOODING\n",
      "39\n",
      "{'Neighbors': [<Node id=1380>, <Node id=1348>, <Node id=1279>, <Node id=1410>, <Node id=1211>, <Node id=1125>, <Node id=1484>, <Node id=1522>, <Node id=1183>, <Node id=1383>, <Node id=1523>, <Node id=1282>, <Node id=1308>, <Node id=1303>, <Node id=1309>, <Node id=1332>, <Node id=1513>, <Node id=1221>, <Node id=1166>, <Node id=1193>, <Node id=1235>, <Node id=1439>, <Node id=1146>, <Node id=1469>, <Node id=1416>, <Node id=1226>, <Node id=1156>, <Node id=1539>, <Node id=1392>, <Node id=1443>, <Node id=1532>], 'Max': 39, 'Temperature': 21, 'msgKey': 181}\n",
      "FLOODING\n",
      "39\n",
      "{'Neighbors': [<Node id=1417>, <Node id=1410>, <Node id=1211>, <Node id=1308>, <Node id=1534>, <Node id=1293>, <Node id=1484>, <Node id=1319>, <Node id=1332>, <Node id=1282>, <Node id=1333>, <Node id=1543>, <Node id=1093>, <Node id=1298>, <Node id=1166>, <Node id=1105>, <Node id=1337>, <Node id=1528>, <Node id=1155>, <Node id=1364>, <Node id=1466>, <Node id=1320>, <Node id=1469>, <Node id=1303>, <Node id=1354>], 'Max': 39, 'Temperature': 38, 'msgKey': 49}\n",
      "FLOODING\n",
      "39\n",
      "{'Neighbors': [<Node id=1063>, <Node id=1138>, <Node id=1495>, <Node id=1305>, <Node id=1082>, <Node id=1215>, <Node id=1507>, <Node id=1356>, <Node id=1382>, <Node id=1114>, <Node id=1467>, <Node id=1196>, <Node id=1269>, <Node id=1257>, <Node id=1432>, <Node id=1219>, <Node id=1186>, <Node id=1487>, <Node id=1478>, <Node id=1526>, <Node id=1295>, <Node id=1399>, <Node id=1325>, <Node id=1249>, <Node id=1389>, <Node id=1134>, <Node id=1428>, <Node id=1109>, <Node id=1289>, <Node id=1530>, <Node id=1340>, <Node id=1264>, <Node id=1353>, <Node id=1239>, <Node id=1455>, <Node id=1470>, <Node id=1394>, <Node id=1452>, <Node id=1240>], 'Max': 39, 'Temperature': -10, 'msgKey': 229}\n",
      "FLOODING\n",
      "39\n",
      "{'Neighbors': [<Node id=1160>, <Node id=1422>, <Node id=1431>, <Node id=1515>, <Node id=1475>, <Node id=1533>, <Node id=1206>, <Node id=1145>, <Node id=1331>, <Node id=1084>, <Node id=1367>, <Node id=1230>, <Node id=1185>, <Node id=1243>, <Node id=1510>, <Node id=1426>, <Node id=1413>, <Node id=1405>, <Node id=1244>, <Node id=1384>, <Node id=1140>, <Node id=1205>, <Node id=1169>, <Node id=1121>, <Node id=1273>, <Node id=1213>, <Node id=1251>, <Node id=1050>, <Node id=1489>, <Node id=1234>, <Node id=1374>, <Node id=1168>, <Node id=1147>, <Node id=1085>, <Node id=1197>, <Node id=1274>, <Node id=1181>, <Node id=1200>, <Node id=1262>, <Node id=1224>, <Node id=1310>, <Node id=1444>, <Node id=1442>, <Node id=1441>, <Node id=1365>, <Node id=1492>, <Node id=1100>, <Node id=1131>, <Node id=1388>, <Node id=1277>, <Node id=1454>, <Node id=1115>, <Node id=1350>], 'Max': 39, 'Temperature': -6, 'msgKey': 209}\n",
      "FLOODING\n",
      "39\n",
      "{'Neighbors': [<Node id=1329>, <Node id=1299>, <Node id=1228>, <Node id=1346>, <Node id=1488>, <Node id=1046>, <Node id=1359>, <Node id=1080>, <Node id=1401>, <Node id=1269>, <Node id=1137>, <Node id=1355>, <Node id=1097>, <Node id=1208>, <Node id=1334>, <Node id=1202>, <Node id=1174>, <Node id=1087>, <Node id=1246>, <Node id=1102>, <Node id=1296>, <Node id=1170>, <Node id=1272>, <Node id=1285>, <Node id=1120>, <Node id=1347>, <Node id=1395>, <Node id=1398>, <Node id=1092>, <Node id=1136>, <Node id=1436>, <Node id=1389>, <Node id=1485>, <Node id=1275>, <Node id=1497>, <Node id=1214>, <Node id=1126>, <Node id=1378>, <Node id=1261>, <Node id=1379>, <Node id=1386>, <Node id=1078>], 'Max': 39, 'Temperature': -9, 'msgKey': 165}\n",
      "FLOODING\n",
      "39\n",
      "{'Neighbors': [<Node id=1456>, <Node id=1187>, <Node id=1091>, <Node id=1381>, <Node id=1343>, <Node id=1195>, <Node id=1192>, <Node id=1281>, <Node id=1370>, <Node id=1218>, <Node id=1536>, <Node id=1498>, <Node id=1158>, <Node id=1270>, <Node id=1423>, <Node id=1474>, <Node id=1167>, <Node id=1179>, <Node id=1437>, <Node id=1130>, <Node id=1260>, <Node id=1069>, <Node id=1508>, <Node id=1402>, <Node id=1307>, <Node id=1176>, <Node id=1453>, <Node id=1263>, <Node id=1479>, <Node id=1122>, <Node id=1112>], 'Max': 39, 'Temperature': -5, 'msgKey': 61}\n",
      "FLOODING\n",
      "39\n",
      "{'Neighbors': [<Node id=1403>, <Node id=1110>, <Node id=1471>, <Node id=1254>, <Node id=1216>, <Node id=1369>, <Node id=1404>, <Node id=1306>, <Node id=1268>, <Node id=1397>, <Node id=1103>, <Node id=1376>, <Node id=1096>, <Node id=1129>, <Node id=1385>, <Node id=1182>, <Node id=1149>, <Node id=1516>, <Node id=1461>, <Node id=1220>, <Node id=1505>, <Node id=1233>, <Node id=1459>, <Node id=1524>, <Node id=1283>, <Node id=1297>, <Node id=1400>, <Node id=1323>, <Node id=1336>, <Node id=1387>, <Node id=1531>, <Node id=1476>, <Node id=1062>, <Node id=1502>, <Node id=1312>, <Node id=1464>, <Node id=1525>, <Node id=1161>, <Node id=1059>, <Node id=1056>, <Node id=1152>, <Node id=1314>, <Node id=1419>, <Node id=1154>, <Node id=1503>, <Node id=1315>, <Node id=1373>, <Node id=1352>, <Node id=1519>, <Node id=1473>], 'Max': 39, 'Temperature': 11, 'msgKey': 246}\n",
      "FLOODING\n",
      "39\n",
      "{'Neighbors': [<Node id=1109>, <Node id=1495>, <Node id=1435>, <Node id=1229>, <Node id=1526>, <Node id=1382>, <Node id=1433>, <Node id=1467>, <Node id=1196>, <Node id=1134>, <Node id=1447>, <Node id=1295>, <Node id=1219>, <Node id=1186>, <Node id=1487>, <Node id=1408>, <Node id=1178>, <Node id=1198>, <Node id=1541>, <Node id=1095>, <Node id=1393>, <Node id=1325>, <Node id=1470>, <Node id=1153>, <Node id=1339>, <Node id=1201>, <Node id=1511>, <Node id=1063>, <Node id=1289>, <Node id=1530>, <Node id=1340>, <Node id=1429>, <Node id=1353>, <Node id=1455>, <Node id=1394>, <Node id=1481>, <Node id=1240>], 'Max': 39, 'Temperature': 38, 'msgKey': 73}\n",
      "FLOODING\n",
      "39\n",
      "{'Neighbors': [<Node id=1456>, <Node id=1384>, <Node id=1187>, <Node id=1091>, <Node id=1381>, <Node id=1343>, <Node id=1483>, <Node id=1243>, <Node id=1294>, <Node id=1089>, <Node id=1536>, <Node id=1498>, <Node id=1130>, <Node id=1206>, <Node id=1537>, <Node id=1423>, <Node id=1474>, <Node id=1322>, <Node id=1370>, <Node id=1437>, <Node id=1450>, <Node id=1247>, <Node id=1260>, <Node id=1069>, <Node id=1148>, <Node id=1099>, <Node id=1508>, <Node id=1402>, <Node id=1307>, <Node id=1475>, <Node id=1167>, <Node id=1538>, <Node id=1338>, <Node id=1288>, <Node id=1479>, <Node id=1122>, <Node id=1112>, <Node id=1406>, <Node id=1493>, <Node id=1328>, <Node id=1341>, <Node id=1158>], 'Max': 39, 'Temperature': 35, 'msgKey': 83}\n",
      "FLOODING\n",
      "39\n",
      "{'Neighbors': [<Node id=1431>, <Node id=1160>, <Node id=1492>, <Node id=1304>, <Node id=1533>, <Node id=1139>, <Node id=1145>, <Node id=1331>, <Node id=1367>, <Node id=1123>, <Node id=1185>, <Node id=1378>, <Node id=1243>, <Node id=1510>, <Node id=1230>, <Node id=1405>, <Node id=1244>, <Node id=1140>, <Node id=1448>, <Node id=1205>, <Node id=1169>, <Node id=1500>, <Node id=1213>, <Node id=1251>, <Node id=1050>, <Node id=1489>, <Node id=1234>, <Node id=1101>, <Node id=1147>, <Node id=1398>, <Node id=1299>, <Node id=1197>, <Node id=1274>, <Node id=1262>, <Node id=1224>, <Node id=1310>, <Node id=1444>, <Node id=1442>, <Node id=1441>, <Node id=1238>, <Node id=1413>, <Node id=1131>, <Node id=1159>, <Node id=1426>, <Node id=1277>, <Node id=1115>, <Node id=1350>], 'Max': 39, 'Temperature': 31, 'msgKey': 139}\n",
      "FLOODING\n",
      "39\n",
      "{'Neighbors': [<Node id=1409>, <Node id=1054>, <Node id=1219>, <Node id=1229>, <Node id=1408>, <Node id=1382>, <Node id=1433>, <Node id=1467>, <Node id=1196>, <Node id=1134>, <Node id=1447>, <Node id=1295>, <Node id=1077>, <Node id=1186>, <Node id=1487>, <Node id=1526>, <Node id=1074>, <Node id=1178>, <Node id=1198>, <Node id=1541>, <Node id=1095>, <Node id=1325>, <Node id=1470>, <Node id=1435>, <Node id=1153>, <Node id=1339>, <Node id=1201>, <Node id=1511>, <Node id=1109>, <Node id=1289>, <Node id=1530>, <Node id=1340>, <Node id=1429>, <Node id=1353>, <Node id=1393>, <Node id=1481>, <Node id=1452>, <Node id=1240>], 'Max': 39, 'Temperature': 32, 'msgKey': 112}\n",
      "FLOODING\n",
      "39\n",
      "{'Neighbors': [<Node id=1434>, <Node id=1187>, <Node id=1091>, <Node id=1330>, <Node id=1508>, <Node id=1343>, <Node id=1483>, <Node id=1498>, <Node id=1368>, <Node id=1081>, <Node id=1453>, <Node id=1243>, <Node id=1536>, <Node id=1294>, <Node id=1089>, <Node id=1060>, <Node id=1371>, <Node id=1130>, <Node id=1479>, <Node id=1206>, <Node id=1537>, <Node id=1423>, <Node id=1474>, <Node id=1167>, <Node id=1370>, <Node id=1213>, <Node id=1437>, <Node id=1234>, <Node id=1512>, <Node id=1450>, <Node id=1247>, <Node id=1260>, <Node id=1069>, <Node id=1099>, <Node id=1148>, <Node id=1402>, <Node id=1124>, <Node id=1322>, <Node id=1538>, <Node id=1338>, <Node id=1079>, <Node id=1529>, <Node id=1288>, <Node id=1307>, <Node id=1203>, <Node id=1122>, <Node id=1112>, <Node id=1406>, <Node id=1493>, <Node id=1328>, <Node id=1444>, <Node id=1158>, <Node id=1165>], 'Max': 39, 'Temperature': 31, 'msgKey': 105}\n",
      "FLOODING\n",
      "39\n",
      "{'Neighbors': [<Node id=1434>, <Node id=1086>, <Node id=1330>, <Node id=1254>, <Node id=1280>, <Node id=1081>, <Node id=1535>, <Node id=1135>, <Node id=1268>, <Node id=1075>, <Node id=1149>, <Node id=1461>, <Node id=1141>, <Node id=1519>, <Node id=1459>, <Node id=1161>, <Node id=1366>, <Node id=1368>, <Node id=1072>, <Node id=1307>, <Node id=1223>, <Node id=1083>, <Node id=1287>, <Node id=1066>, <Node id=1079>, <Node id=1351>, <Node id=1529>, <Node id=1430>, <Node id=1203>, <Node id=1154>, <Node id=1503>, <Node id=1480>, <Node id=1232>, <Node id=1173>, <Node id=1165>, <Node id=1357>, <Node id=1278>], 'Max': 39, 'Temperature': 1, 'msgKey': 109}\n",
      "FLOODING\n",
      "39\n",
      "{'Neighbors': [<Node id=1107>, <Node id=1180>, <Node id=1049>, <Node id=1071>, <Node id=1150>, <Node id=1411>, <Node id=1116>, <Node id=1335>, <Node id=1106>, <Node id=1311>, <Node id=1175>, <Node id=1252>, <Node id=1088>, <Node id=1362>, <Node id=1286>, <Node id=1236>, <Node id=1064>, <Node id=1237>, <Node id=1068>, <Node id=1301>, <Node id=1144>, <Node id=1424>, <Node id=1204>, <Node id=1266>, <Node id=1199>], 'Max': 39, 'Temperature': 0, 'msgKey': 169}\n",
      "FLOODING\n",
      "39\n",
      "{'Neighbors': [<Node id=1403>, <Node id=1404>, <Node id=1254>, <Node id=1216>, <Node id=1529>, <Node id=1318>, <Node id=1306>, <Node id=1073>, <Node id=1268>, <Node id=1535>, <Node id=1135>, <Node id=1103>, <Node id=1357>, <Node id=1096>, <Node id=1129>, <Node id=1149>, <Node id=1516>, <Node id=1461>, <Node id=1220>, <Node id=1233>, <Node id=1524>, <Node id=1161>, <Node id=1297>, <Node id=1400>, <Node id=1457>, <Node id=1323>, <Node id=1336>, <Node id=1373>, <Node id=1387>, <Node id=1531>, <Node id=1505>, <Node id=1419>, <Node id=1451>, <Node id=1312>, <Node id=1223>, <Node id=1525>, <Node id=1066>, <Node id=1056>, <Node id=1351>, <Node id=1152>, <Node id=1203>, <Node id=1154>, <Node id=1503>, <Node id=1232>, <Node id=1314>, <Node id=1376>, <Node id=1519>, <Node id=1278>], 'Max': 39, 'Temperature': 7, 'msgKey': 236}\n",
      "FLOODING\n",
      "39\n",
      "{'Neighbors': [<Node id=1190>, <Node id=1188>, <Node id=1215>, <Node id=1098>, <Node id=1090>, <Node id=1463>, <Node id=1321>, <Node id=1372>, <Node id=1267>, <Node id=1209>, <Node id=1271>, <Node id=1462>, <Node id=1438>, <Node id=1142>, <Node id=1425>, <Node id=1407>, <Node id=1111>, <Node id=1324>, <Node id=1490>, <Node id=1119>, <Node id=1491>, <Node id=1326>, <Node id=1377>, <Node id=1428>, <Node id=1276>, <Node id=1264>, <Node id=1414>], 'Max': 39, 'Temperature': -10, 'msgKey': 183}\n",
      "FLOODING\n",
      "39\n",
      "{'Neighbors': [<Node id=1434>, <Node id=1330>, <Node id=1254>, <Node id=1216>, <Node id=1318>, <Node id=1404>, <Node id=1073>, <Node id=1081>, <Node id=1535>, <Node id=1135>, <Node id=1268>, <Node id=1075>, <Node id=1060>, <Node id=1149>, <Node id=1516>, <Node id=1459>, <Node id=1220>, <Node id=1519>, <Node id=1233>, <Node id=1351>, <Node id=1524>, <Node id=1161>, <Node id=1529>, <Node id=1368>, <Node id=1336>, <Node id=1072>, <Node id=1451>, <Node id=1124>, <Node id=1223>, <Node id=1525>, <Node id=1287>, <Node id=1066>, <Node id=1457>, <Node id=1079>, <Node id=1096>, <Node id=1152>, <Node id=1430>, <Node id=1203>, <Node id=1129>, <Node id=1154>, <Node id=1503>, <Node id=1232>, <Node id=1314>, <Node id=1376>, <Node id=1278>, <Node id=1357>, <Node id=1165>], 'Max': 39, 'Temperature': 29, 'msgKey': 185}\n",
      "FLOODING\n",
      "39\n",
      "{'Neighbors': [<Node id=1138>, <Node id=1190>, <Node id=1188>, <Node id=1215>, <Node id=1111>, <Node id=1399>, <Node id=1460>, <Node id=1321>, <Node id=1372>, <Node id=1209>, <Node id=1271>, <Node id=1119>, <Node id=1142>, <Node id=1425>, <Node id=1438>, <Node id=1375>, <Node id=1490>, <Node id=1300>, <Node id=1478>, <Node id=1491>, <Node id=1326>, <Node id=1377>, <Node id=1276>, <Node id=1302>, <Node id=1414>], 'Max': 39, 'Temperature': -12, 'msgKey': 145}\n",
      "FLOODING\n",
      "39\n",
      "{'Neighbors': [<Node id=1507>, <Node id=1061>, <Node id=1495>, <Node id=1356>, <Node id=1215>, <Node id=1098>, <Node id=1090>, <Node id=1256>, <Node id=1518>, <Node id=1460>, <Node id=1257>, <Node id=1432>, <Node id=1372>, <Node id=1209>, <Node id=1194>, <Node id=1142>, <Node id=1407>, <Node id=1111>, <Node id=1324>, <Node id=1094>, <Node id=1119>, <Node id=1478>, <Node id=1326>, <Node id=1267>, <Node id=1225>, <Node id=1276>, <Node id=1082>, <Node id=1264>, <Node id=1239>, <Node id=1394>, <Node id=1428>, <Node id=1496>], 'Max': 39, 'Temperature': 16, 'msgKey': 187}\n",
      "FLOODING\n",
      "39\n",
      "{'Neighbors': [<Node id=1385>, <Node id=1369>, <Node id=1404>, <Node id=1306>, <Node id=1268>, <Node id=1345>, <Node id=1220>, <Node id=1400>, <Node id=1149>, <Node id=1141>, <Node id=1233>, <Node id=1161>, <Node id=1297>, <Node id=1056>, <Node id=1476>, <Node id=1323>, <Node id=1387>, <Node id=1117>, <Node id=1451>, <Node id=1472>, <Node id=1312>, <Node id=1477>, <Node id=1403>, <Node id=1113>, <Node id=1351>, <Node id=1390>, <Node id=1314>, <Node id=1154>, <Node id=1391>, <Node id=1503>, <Node id=1290>, <Node id=1173>, <Node id=1259>, <Node id=1494>], 'Max': 39, 'Temperature': 37, 'msgKey': 100}\n",
      "FLOODING\n",
      "39\n",
      "{'Neighbors': [<Node id=1511>, <Node id=1054>, <Node id=1363>, <Node id=1180>, <Node id=1424>, <Node id=1229>, <Node id=1433>, <Node id=1150>, <Node id=1409>, <Node id=1077>, <Node id=1427>, <Node id=1360>, <Node id=1191>, <Node id=1107>, <Node id=1074>, <Node id=1178>, <Node id=1088>, <Node id=1362>, <Node id=1286>, <Node id=1104>, <Node id=1153>, <Node id=1095>, <Node id=1236>, <Node id=1541>, <Node id=1143>, <Node id=1339>, <Node id=1237>, <Node id=1184>, <Node id=1250>, <Node id=1545>, <Node id=1289>, <Node id=1335>, <Node id=1429>, <Node id=1204>, <Node id=1393>, <Node id=1227>, <Node id=1240>], 'Max': 39, 'Temperature': 10, 'msgKey': 217}\n",
      "FLOODING\n",
      "39\n",
      "{'Neighbors': [<Node id=1364>, <Node id=1410>, <Node id=1282>, <Node id=1484>, <Node id=1105>, <Node id=1337>, <Node id=1320>, <Node id=1469>, <Node id=1093>, <Node id=1211>, <Node id=1308>, <Node id=1528>, <Node id=1534>, <Node id=1446>, <Node id=1298>, <Node id=1417>, <Node id=1333>, <Node id=1303>, <Node id=1319>, <Node id=1332>], 'Max': 39, 'Temperature': 5, 'msgKey': 115}\n",
      "FLOODING\n",
      "39\n",
      "{'Neighbors': [<Node id=1329>, <Node id=1409>, <Node id=1305>, <Node id=1342>, <Node id=1128>, <Node id=1507>, <Node id=1356>, <Node id=1382>, <Node id=1114>, <Node id=1340>, <Node id=1196>, <Node id=1134>, <Node id=1447>, <Node id=1295>, <Node id=1219>, <Node id=1486>, <Node id=1174>, <Node id=1487>, <Node id=1246>, <Node id=1102>, <Node id=1501>, <Node id=1104>, <Node id=1541>, <Node id=1095>, <Node id=1363>, <Node id=1433>, <Node id=1325>, <Node id=1249>, <Node id=1389>, <Node id=1485>, <Node id=1275>, <Node id=1339>, <Node id=1109>, <Node id=1289>, <Node id=1191>, <Node id=1429>, <Node id=1353>, <Node id=1239>, <Node id=1455>, <Node id=1470>, <Node id=1265>, <Node id=1452>, <Node id=1240>], 'Max': 39, 'Temperature': 13, 'msgKey': 211}\n",
      "FLOODING\n",
      "39\n",
      "{'Neighbors': [<Node id=1052>, <Node id=1418>, <Node id=1107>, <Node id=1180>, <Node id=1506>, <Node id=1242>, <Node id=1217>, <Node id=1504>, <Node id=1076>, <Node id=1151>, <Node id=1499>, <Node id=1335>, <Node id=1106>, <Node id=1222>, <Node id=1088>, <Node id=1362>, <Node id=1540>, <Node id=1248>, <Node id=1118>, <Node id=1266>, <Node id=1070>, <Node id=1427>, <Node id=1390>, <Node id=1068>, <Node id=1189>, <Node id=1424>, <Node id=1391>, <Node id=1157>, <Node id=1290>, <Node id=1252>, <Node id=1199>], 'Max': 39, 'Temperature': -15, 'msgKey': 121}\n",
      "FLOODING\n",
      "39\n",
      "{'Neighbors': [<Node id=1417>, <Node id=1279>, <Node id=1410>, <Node id=1211>, <Node id=1308>, <Node id=1125>, <Node id=1445>, <Node id=1293>, <Node id=1484>, <Node id=1522>, <Node id=1534>, <Node id=1319>, <Node id=1332>, <Node id=1523>, <Node id=1282>, <Node id=1333>, <Node id=1422>, <Node id=1093>, <Node id=1446>, <Node id=1298>, <Node id=1392>, <Node id=1221>, <Node id=1166>, <Node id=1105>, <Node id=1273>, <Node id=1085>, <Node id=1528>, <Node id=1364>, <Node id=1183>, <Node id=1466>, <Node id=1320>, <Node id=1047>, <Node id=1443>, <Node id=1226>, <Node id=1156>, <Node id=1539>, <Node id=1303>, <Node id=1415>], 'Max': 39, 'Temperature': 25, 'msgKey': 186}\n",
      "FLOODING\n",
      "39\n",
      "{'Neighbors': [<Node id=1109>, <Node id=1495>, <Node id=1305>, <Node id=1435>, <Node id=1229>, <Node id=1526>, <Node id=1382>, <Node id=1433>, <Node id=1467>, <Node id=1196>, <Node id=1134>, <Node id=1447>, <Node id=1295>, <Node id=1219>, <Node id=1186>, <Node id=1487>, <Node id=1408>, <Node id=1178>, <Node id=1198>, <Node id=1541>, <Node id=1095>, <Node id=1394>, <Node id=1325>, <Node id=1153>, <Node id=1339>, <Node id=1201>, <Node id=1511>, <Node id=1063>, <Node id=1289>, <Node id=1530>, <Node id=1340>, <Node id=1429>, <Node id=1353>, <Node id=1455>, <Node id=1393>, <Node id=1481>, <Node id=1452>, <Node id=1240>], 'Max': 39, 'Temperature': 9, 'msgKey': 223}\n",
      "FLOODING\n",
      "39\n",
      "{'Neighbors': [<Node id=1228>, <Node id=1110>, <Node id=1254>, <Node id=1216>, <Node id=1485>, <Node id=1318>, <Node id=1073>, <Node id=1505>, <Node id=1397>, <Node id=1103>, <Node id=1376>, <Node id=1096>, <Node id=1129>, <Node id=1097>, <Node id=1208>, <Node id=1108>, <Node id=1315>, <Node id=1220>, <Node id=1436>, <Node id=1525>, <Node id=1497>, <Node id=1524>, <Node id=1373>, <Node id=1421>, <Node id=1336>, <Node id=1387>, <Node id=1544>, <Node id=1062>, <Node id=1502>, <Node id=1451>, <Node id=1092>, <Node id=1055>, <Node id=1379>, <Node id=1059>, <Node id=1516>, <Node id=1313>, <Node id=1152>, <Node id=1542>, <Node id=1334>, <Node id=1214>, <Node id=1419>, <Node id=1154>, <Node id=1065>, <Node id=1531>, <Node id=1314>, <Node id=1182>, <Node id=1265>, <Node id=1473>, <Node id=1136>], 'Max': 39, 'Temperature': 18, 'msgKey': 241}\n",
      "FLOODING\n",
      "39\n",
      "{'Neighbors': [<Node id=1113>, <Node id=1369>, <Node id=1217>, <Node id=1306>, <Node id=1345>, <Node id=1290>, <Node id=1499>, <Node id=1385>, <Node id=1297>, <Node id=1323>, <Node id=1476>, <Node id=1464>, <Node id=1248>, <Node id=1312>, <Node id=1477>, <Node id=1400>, <Node id=1390>, <Node id=1391>, <Node id=1117>, <Node id=1506>, <Node id=1259>, <Node id=1494>], 'Max': 39, 'Temperature': 26, 'msgKey': 64}\n",
      "FLOODING\n",
      "39\n",
      "{'Neighbors': [<Node id=1403>, <Node id=1110>, <Node id=1471>, <Node id=1419>, <Node id=1216>, <Node id=1242>, <Node id=1404>, <Node id=1306>, <Node id=1505>, <Node id=1397>, <Node id=1103>, <Node id=1376>, <Node id=1129>, <Node id=1385>, <Node id=1182>, <Node id=1283>, <Node id=1516>, <Node id=1065>, <Node id=1220>, <Node id=1360>, <Node id=1297>, <Node id=1476>, <Node id=1421>, <Node id=1387>, <Node id=1222>, <Node id=1062>, <Node id=1502>, <Node id=1451>, <Node id=1055>, <Node id=1059>, <Node id=1056>, <Node id=1152>, <Node id=1390>, <Node id=1314>, <Node id=1154>, <Node id=1391>, <Node id=1503>, <Node id=1315>, <Node id=1531>, <Node id=1352>, <Node id=1143>, <Node id=1369>], 'Max': 39, 'Temperature': -3, 'msgKey': 247}\n",
      "FLOODING\n",
      "39\n",
      "{'Neighbors': [<Node id=1456>, <Node id=1384>, <Node id=1187>, <Node id=1091>, <Node id=1533>, <Node id=1508>, <Node id=1343>, <Node id=1483>, <Node id=1338>, <Node id=1084>, <Node id=1230>, <Node id=1453>, <Node id=1243>, <Node id=1294>, <Node id=1444>, <Node id=1089>, <Node id=1536>, <Node id=1371>, <Node id=1158>, <Node id=1206>, <Node id=1537>, <Node id=1167>, <Node id=1370>, <Node id=1213>, <Node id=1437>, <Node id=1234>, <Node id=1450>, <Node id=1247>, <Node id=1260>, <Node id=1069>, <Node id=1148>, <Node id=1099>, <Node id=1402>, <Node id=1406>, <Node id=1475>, <Node id=1322>, <Node id=1538>, <Node id=1200>, <Node id=1288>, <Node id=1479>, <Node id=1122>, <Node id=1112>, <Node id=1131>, <Node id=1442>, <Node id=1493>, <Node id=1328>, <Node id=1341>, <Node id=1310>], 'Max': 39, 'Temperature': 32, 'msgKey': 95}\n",
      "FLOODING\n",
      "39\n",
      "{'Neighbors': [<Node id=1160>, <Node id=1187>, <Node id=1091>, <Node id=1533>, <Node id=1508>, <Node id=1206>, <Node id=1343>, <Node id=1483>, <Node id=1145>, <Node id=1331>, <Node id=1338>, <Node id=1084>, <Node id=1230>, <Node id=1453>, <Node id=1243>, <Node id=1294>, <Node id=1089>, <Node id=1536>, <Node id=1244>, <Node id=1384>, <Node id=1140>, <Node id=1448>, <Node id=1205>, <Node id=1169>, <Node id=1322>, <Node id=1538>, <Node id=1474>, <Node id=1213>, <Node id=1234>, <Node id=1069>, <Node id=1148>, <Node id=1402>, <Node id=1388>, <Node id=1444>, <Node id=1181>, <Node id=1200>, <Node id=1224>, <Node id=1288>, <Node id=1442>, <Node id=1493>, <Node id=1492>, <Node id=1112>, <Node id=1131>, <Node id=1406>, <Node id=1277>, <Node id=1328>, <Node id=1341>, <Node id=1310>, <Node id=1537>], 'Max': 39, 'Temperature': 14, 'msgKey': 145}\n",
      "FLOODING\n",
      "39\n",
      "{'Neighbors': [<Node id=1110>, <Node id=1404>, <Node id=1369>, <Node id=1117>, <Node id=1217>, <Node id=1268>, <Node id=1345>, <Node id=1220>, <Node id=1400>, <Node id=1385>, <Node id=1473>, <Node id=1149>, <Node id=1516>, <Node id=1141>, <Node id=1505>, <Node id=1306>, <Node id=1233>, <Node id=1161>, <Node id=1259>, <Node id=1056>, <Node id=1323>, <Node id=1387>, <Node id=1290>, <Node id=1451>, <Node id=1472>, <Node id=1312>, <Node id=1477>, <Node id=1464>, <Node id=1403>, <Node id=1113>, <Node id=1390>, <Node id=1352>, <Node id=1154>, <Node id=1391>, <Node id=1503>, <Node id=1531>, <Node id=1314>, <Node id=1297>, <Node id=1494>], 'Max': 39, 'Temperature': 14, 'msgKey': 153}\n",
      "FLOODING\n",
      "39\n",
      "{'Neighbors': [<Node id=1404>, <Node id=1306>, <Node id=1268>, <Node id=1345>, <Node id=1056>, <Node id=1385>, <Node id=1233>, <Node id=1161>, <Node id=1297>, <Node id=1323>, <Node id=1476>, <Node id=1464>, <Node id=1141>, <Node id=1472>, <Node id=1503>, <Node id=1400>, <Node id=1351>, <Node id=1519>, <Node id=1312>, <Node id=1117>, <Node id=1173>, <Node id=1259>, <Node id=1494>], 'Max': 39, 'Temperature': -1, 'msgKey': 67}\n",
      "FLOODING\n",
      "39\n",
      "{'Neighbors': [<Node id=1063>, <Node id=1138>, <Node id=1190>, <Node id=1495>, <Node id=1356>, <Node id=1215>, <Node id=1507>, <Node id=1257>, <Node id=1114>, <Node id=1447>, <Node id=1196>, <Node id=1134>, <Node id=1302>, <Node id=1295>, <Node id=1432>, <Node id=1219>, <Node id=1186>, <Node id=1209>, <Node id=1271>, <Node id=1462>, <Node id=1119>, <Node id=1438>, <Node id=1425>, <Node id=1111>, <Node id=1375>, <Node id=1399>, <Node id=1249>, <Node id=1435>, <Node id=1491>, <Node id=1463>, <Node id=1267>, <Node id=1276>, <Node id=1082>, <Node id=1530>, <Node id=1264>, <Node id=1300>, <Node id=1353>, <Node id=1239>, <Node id=1394>, <Node id=1428>], 'Max': 39, 'Temperature': 5, 'msgKey': 313}\n",
      "FLOODING\n",
      "39\n",
      "{'Neighbors': [<Node id=1434>, <Node id=1187>, <Node id=1091>, <Node id=1330>, <Node id=1381>, <Node id=1343>, <Node id=1195>, <Node id=1081>, <Node id=1453>, <Node id=1370>, <Node id=1294>, <Node id=1089>, <Node id=1536>, <Node id=1371>, <Node id=1130>, <Node id=1456>, <Node id=1537>, <Node id=1423>, <Node id=1474>, <Node id=1167>, <Node id=1538>, <Node id=1179>, <Node id=1437>, <Node id=1368>, <Node id=1450>, <Node id=1247>, <Node id=1260>, <Node id=1069>, <Node id=1099>, <Node id=1148>, <Node id=1508>, <Node id=1402>, <Node id=1218>, <Node id=1322>, <Node id=1176>, <Node id=1338>, <Node id=1079>, <Node id=1529>, <Node id=1288>, <Node id=1307>, <Node id=1483>, <Node id=1203>, <Node id=1122>, <Node id=1112>, <Node id=1406>, <Node id=1493>, <Node id=1498>, <Node id=1158>, <Node id=1165>], 'Max': 39, 'Temperature': 13, 'msgKey': 145}\n",
      "FLOODING\n",
      "39\n",
      "{'Neighbors': [<Node id=1133>, <Node id=1430>, <Node id=1086>, <Node id=1351>, <Node id=1162>, <Node id=1287>, <Node id=1072>, <Node id=1232>, <Node id=1434>, <Node id=1245>, <Node id=1207>, <Node id=1048>, <Node id=1280>, <Node id=1141>, <Node id=1083>, <Node id=1173>, <Node id=1519>, <Node id=1066>, <Node id=1457>, <Node id=1366>, <Node id=1075>], 'Max': 39, 'Temperature': -6, 'msgKey': 61}\n",
      "FLOODING\n",
      "39\n",
      "{'Neighbors': [<Node id=1435>, <Node id=1229>, <Node id=1408>, <Node id=1382>, <Node id=1433>, <Node id=1511>, <Node id=1219>, <Node id=1186>, <Node id=1353>, <Node id=1526>, <Node id=1074>, <Node id=1178>, <Node id=1198>, <Node id=1541>, <Node id=1095>, <Node id=1452>, <Node id=1470>, <Node id=1153>, <Node id=1201>, <Node id=1530>, <Node id=1289>, <Node id=1340>, <Node id=1429>, <Node id=1053>, <Node id=1455>, <Node id=1393>, <Node id=1240>], 'Max': 39, 'Temperature': -9, 'msgKey': 157}\n",
      "FLOODING\n",
      "39\n",
      "{'Neighbors': [<Node id=1380>, <Node id=1164>, <Node id=1521>, <Node id=1509>, <Node id=1416>, <Node id=1051>, <Node id=1231>, <Node id=1163>, <Node id=1383>, <Node id=1309>, <Node id=1284>, <Node id=1193>, <Node id=1514>, <Node id=1171>, <Node id=1235>, <Node id=1212>, <Node id=1210>, <Node id=1439>, <Node id=1058>, <Node id=1517>, <Node id=1225>, <Node id=1291>, <Node id=1396>, <Node id=1520>, <Node id=1532>], 'Max': 39, 'Temperature': 32, 'msgKey': 97}\n",
      "FLOODING\n",
      "39\n",
      "{'Neighbors': [<Node id=1160>, <Node id=1122>, <Node id=1187>, <Node id=1091>, <Node id=1533>, <Node id=1330>, <Node id=1508>, <Node id=1343>, <Node id=1067>, <Node id=1331>, <Node id=1230>, <Node id=1453>, <Node id=1243>, <Node id=1536>, <Node id=1294>, <Node id=1444>, <Node id=1089>, <Node id=1060>, <Node id=1371>, <Node id=1158>, <Node id=1206>, <Node id=1456>, <Node id=1537>, <Node id=1442>, <Node id=1423>, <Node id=1474>, <Node id=1167>, <Node id=1538>, <Node id=1213>, <Node id=1437>, <Node id=1234>, <Node id=1512>, <Node id=1247>, <Node id=1260>, <Node id=1069>, <Node id=1099>, <Node id=1148>, <Node id=1402>, <Node id=1124>, <Node id=1475>, <Node id=1322>, <Node id=1338>, <Node id=1384>, <Node id=1304>, <Node id=1529>, <Node id=1288>, <Node id=1307>, <Node id=1479>, <Node id=1238>, <Node id=1112>, <Node id=1406>, <Node id=1493>, <Node id=1328>, <Node id=1341>, <Node id=1310>, <Node id=1165>], 'Max': 39, 'Temperature': 30, 'msgKey': 111}\n",
      "FLOODING\n",
      "39\n",
      "{'Neighbors': [<Node id=1417>, <Node id=1279>, <Node id=1410>, <Node id=1211>, <Node id=1308>, <Node id=1125>, <Node id=1445>, <Node id=1522>, <Node id=1534>, <Node id=1319>, <Node id=1183>, <Node id=1523>, <Node id=1282>, <Node id=1333>, <Node id=1093>, <Node id=1446>, <Node id=1298>, <Node id=1332>, <Node id=1166>, <Node id=1105>, <Node id=1337>, <Node id=1528>, <Node id=1469>, <Node id=1364>, <Node id=1392>, <Node id=1466>, <Node id=1320>, <Node id=1047>, <Node id=1443>, <Node id=1226>, <Node id=1156>, <Node id=1303>, <Node id=1415>], 'Max': 39, 'Temperature': 32, 'msgKey': 97}\n",
      "FLOODING\n",
      "39\n",
      "{'Neighbors': [<Node id=1329>, <Node id=1228>, <Node id=1059>, <Node id=1471>, <Node id=1092>, <Node id=1467>, <Node id=1397>, <Node id=1421>, <Node id=1449>, <Node id=1409>, <Node id=1208>, <Node id=1065>, <Node id=1202>, <Node id=1174>, <Node id=1246>, <Node id=1191>, <Node id=1501>, <Node id=1436>, <Node id=1062>, <Node id=1104>, <Node id=1261>, <Node id=1055>, <Node id=1275>, <Node id=1184>, <Node id=1334>, <Node id=1214>, <Node id=1486>, <Node id=1342>, <Node id=1128>, <Node id=1102>, <Node id=1315>, <Node id=1379>, <Node id=1265>, <Node id=1227>, <Node id=1136>], 'Max': 39, 'Temperature': 21, 'msgKey': 137}\n",
      "FLOODING\n",
      "39\n",
      "{'Neighbors': [<Node id=1329>, <Node id=1305>, <Node id=1342>, <Node id=1128>, <Node id=1382>, <Node id=1467>, <Node id=1485>, <Node id=1409>, <Node id=1202>, <Node id=1174>, <Node id=1487>, <Node id=1246>, <Node id=1191>, <Node id=1501>, <Node id=1104>, <Node id=1092>, <Node id=1095>, <Node id=1363>, <Node id=1325>, <Node id=1389>, <Node id=1339>, <Node id=1275>, <Node id=1184>, <Node id=1250>, <Node id=1109>, <Node id=1289>, <Node id=1102>, <Node id=1379>, <Node id=1265>, <Node id=1227>, <Node id=1240>], 'Max': 39, 'Temperature': 37, 'msgKey': 61}\n",
      "FLOODING\n",
      "39\n",
      "{'Neighbors': [<Node id=1329>, <Node id=1063>, <Node id=1495>, <Node id=1305>, <Node id=1356>, <Node id=1507>, <Node id=1382>, <Node id=1114>, <Node id=1340>, <Node id=1433>, <Node id=1196>, <Node id=1134>, <Node id=1447>, <Node id=1295>, <Node id=1432>, <Node id=1219>, <Node id=1486>, <Node id=1186>, <Node id=1174>, <Node id=1467>, <Node id=1128>, <Node id=1501>, <Node id=1104>, <Node id=1541>, <Node id=1409>, <Node id=1325>, <Node id=1249>, <Node id=1389>, <Node id=1269>, <Node id=1275>, <Node id=1339>, <Node id=1109>, <Node id=1289>, <Node id=1102>, <Node id=1353>, <Node id=1239>, <Node id=1455>, <Node id=1470>, <Node id=1394>, <Node id=1452>, <Node id=1240>], 'Max': 39, 'Temperature': -13, 'msgKey': 201}\n",
      "FLOODING\n",
      "39\n",
      "{'Neighbors': [<Node id=1420>, <Node id=1292>, <Node id=1327>, <Node id=1521>, <Node id=1046>, <Node id=1255>, <Node id=1344>, <Node id=1349>, <Node id=1396>, <Node id=1080>, <Node id=1401>, <Node id=1051>, <Node id=1231>, <Node id=1057>, <Node id=1346>, <Node id=1359>, <Node id=1258>, <Node id=1296>, <Node id=1309>, <Node id=1087>, <Node id=1440>, <Node id=1386>, <Node id=1170>, <Node id=1272>, <Node id=1285>, <Node id=1132>, <Node id=1120>, <Node id=1347>, <Node id=1101>, <Node id=1395>, <Node id=1299>, <Node id=1058>, <Node id=1358>, <Node id=1146>, <Node id=1527>, <Node id=1137>, <Node id=1126>, <Node id=1316>, <Node id=1412>, <Node id=1159>, <Node id=1449>, <Node id=1520>, <Node id=1509>, <Node id=1078>], 'Max': 39, 'Temperature': 5, 'msgKey': 216}\n",
      "FLOODING\n",
      "39\n",
      "{'Neighbors': [<Node id=1405>, <Node id=1160>, <Node id=1415>, <Node id=1431>, <Node id=1515>, <Node id=1221>, <Node id=1292>, <Node id=1327>, <Node id=1145>, <Node id=1205>, <Node id=1367>, <Node id=1185>, <Node id=1510>, <Node id=1426>, <Node id=1413>, <Node id=1057>, <Node id=1244>, <Node id=1422>, <Node id=1448>, <Node id=1258>, <Node id=1169>, <Node id=1087>, <Node id=1168>, <Node id=1440>, <Node id=1273>, <Node id=1513>, <Node id=1050>, <Node id=1285>, <Node id=1349>, <Node id=1101>, <Node id=1147>, <Node id=1085>, <Node id=1197>, <Node id=1274>, <Node id=1262>, <Node id=1224>, <Node id=1146>, <Node id=1441>, <Node id=1365>, <Node id=1047>, <Node id=1251>, <Node id=1159>, <Node id=1299>, <Node id=1277>, <Node id=1454>, <Node id=1115>, <Node id=1316>, <Node id=1350>], 'Max': 39, 'Temperature': -12, 'msgKey': 236}\n",
      "FLOODING\n",
      "39\n",
      "{'Neighbors': [<Node id=1460>, <Node id=1276>, <Node id=1142>, <Node id=1321>, <Node id=1190>, <Node id=1188>, <Node id=1491>, <Node id=1302>, <Node id=1300>, <Node id=1326>, <Node id=1111>, <Node id=1438>, <Node id=1209>, <Node id=1271>, <Node id=1425>, <Node id=1119>, <Node id=1462>, <Node id=1414>, <Node id=1377>], 'Max': 39, 'Temperature': 5, 'msgKey': 109}\n",
      "FLOODING\n",
      "39\n",
      "{'Neighbors': [<Node id=1138>, <Node id=1190>, <Node id=1188>, <Node id=1215>, <Node id=1098>, <Node id=1399>, <Node id=1264>, <Node id=1460>, <Node id=1321>, <Node id=1372>, <Node id=1209>, <Node id=1271>, <Node id=1462>, <Node id=1119>, <Node id=1438>, <Node id=1142>, <Node id=1425>, <Node id=1111>, <Node id=1375>, <Node id=1490>, <Node id=1300>, <Node id=1478>, <Node id=1326>, <Node id=1377>, <Node id=1276>, <Node id=1302>, <Node id=1414>], 'Max': 39, 'Temperature': 11, 'msgKey': 131}\n",
      "FLOODING\n",
      "39\n",
      "{'Neighbors': [<Node id=1160>, <Node id=1365>, <Node id=1515>, <Node id=1475>, <Node id=1533>, <Node id=1206>, <Node id=1145>, <Node id=1084>, <Node id=1367>, <Node id=1131>, <Node id=1185>, <Node id=1243>, <Node id=1413>, <Node id=1244>, <Node id=1384>, <Node id=1140>, <Node id=1448>, <Node id=1205>, <Node id=1169>, <Node id=1121>, <Node id=1310>, <Node id=1050>, <Node id=1361>, <Node id=1374>, <Node id=1168>, <Node id=1273>, <Node id=1388>, <Node id=1454>, <Node id=1181>, <Node id=1200>, <Node id=1262>, <Node id=1224>, <Node id=1442>, <Node id=1441>, <Node id=1172>, <Node id=1100>, <Node id=1251>, <Node id=1422>, <Node id=1426>, <Node id=1277>, <Node id=1328>, <Node id=1115>, <Node id=1354>, <Node id=1177>], 'Max': 39, 'Temperature': 38, 'msgKey': 87}\n",
      "FLOODING\n",
      "39\n",
      "{'Neighbors': [<Node id=1160>, <Node id=1238>, <Node id=1187>, <Node id=1091>, <Node id=1533>, <Node id=1330>, <Node id=1139>, <Node id=1343>, <Node id=1483>, <Node id=1145>, <Node id=1322>, <Node id=1338>, <Node id=1230>, <Node id=1453>, <Node id=1243>, <Node id=1294>, <Node id=1444>, <Node id=1089>, <Node id=1060>, <Node id=1371>, <Node id=1247>, <Node id=1206>, <Node id=1456>, <Node id=1537>, <Node id=1442>, <Node id=1512>, <Node id=1474>, <Node id=1167>, <Node id=1538>, <Node id=1213>, <Node id=1475>, <Node id=1067>, <Node id=1158>, <Node id=1260>, <Node id=1069>, <Node id=1099>, <Node id=1234>, <Node id=1148>, <Node id=1508>, <Node id=1402>, <Node id=1124>, <Node id=1274>, <Node id=1331>, <Node id=1200>, <Node id=1384>, <Node id=1304>, <Node id=1288>, <Node id=1307>, <Node id=1479>, <Node id=1122>, <Node id=1112>, <Node id=1131>, <Node id=1406>, <Node id=1536>, <Node id=1328>, <Node id=1341>, <Node id=1310>, <Node id=1165>], 'Max': 39, 'Temperature': 21, 'msgKey': 115}\n",
      "FLOODING\n",
      "39\n",
      "{'Neighbors': [<Node id=1369>, <Node id=1404>, <Node id=1306>, <Node id=1268>, <Node id=1345>, <Node id=1472>, <Node id=1113>, <Node id=1385>, <Node id=1233>, <Node id=1161>, <Node id=1297>, <Node id=1056>, <Node id=1476>, <Node id=1323>, <Node id=1117>, <Node id=1464>, <Node id=1141>, <Node id=1312>, <Node id=1477>, <Node id=1403>, <Node id=1217>, <Node id=1400>, <Node id=1390>, <Node id=1391>, <Node id=1503>, <Node id=1290>, <Node id=1259>], 'Max': 39, 'Temperature': 38, 'msgKey': 53}\n",
      "FLOODING\n",
      "39\n",
      "{'Neighbors': [<Node id=1276>, <Node id=1138>, <Node id=1063>, <Node id=1305>, <Node id=1356>, <Node id=1215>, <Node id=1507>, <Node id=1399>, <Node id=1382>, <Node id=1114>, <Node id=1447>, <Node id=1300>, <Node id=1134>, <Node id=1302>, <Node id=1295>, <Node id=1432>, <Node id=1219>, <Node id=1186>, <Node id=1209>, <Node id=1271>, <Node id=1119>, <Node id=1526>, <Node id=1425>, <Node id=1375>, <Node id=1196>, <Node id=1487>, <Node id=1325>, <Node id=1249>, <Node id=1435>, <Node id=1478>, <Node id=1463>, <Node id=1267>, <Node id=1109>, <Node id=1082>, <Node id=1530>, <Node id=1340>, <Node id=1264>, <Node id=1257>, <Node id=1353>, <Node id=1239>, <Node id=1470>, <Node id=1394>, <Node id=1428>, <Node id=1452>], 'Max': 39, 'Temperature': 4, 'msgKey': 173}\n",
      "FLOODING\n",
      "39\n",
      "{'Neighbors': [<Node id=1163>, <Node id=1061>, <Node id=1058>, <Node id=1164>, <Node id=1356>, <Node id=1267>, <Node id=1507>, <Node id=1046>, <Node id=1420>, <Node id=1051>, <Node id=1269>, <Node id=1137>, <Node id=1257>, <Node id=1412>, <Node id=1514>, <Node id=1194>, <Node id=1171>, <Node id=1132>, <Node id=1407>, <Node id=1120>, <Node id=1527>, <Node id=1210>, <Node id=1094>, <Node id=1249>, <Node id=1521>, <Node id=1389>, <Node id=1358>, <Node id=1284>, <Node id=1463>, <Node id=1428>, <Node id=1225>, <Node id=1517>, <Node id=1082>, <Node id=1396>, <Node id=1264>, <Node id=1518>, <Node id=1256>, <Node id=1520>, <Node id=1509>, <Node id=1078>, <Node id=1098>], 'Max': 39, 'Temperature': 12, 'msgKey': 361}\n",
      "FLOODING\n",
      "39\n",
      "{'Neighbors': [<Node id=1304>, <Node id=1228>, <Node id=1139>, <Node id=1346>, <Node id=1318>, <Node id=1471>, <Node id=1123>, <Node id=1421>, <Node id=1355>, <Node id=1097>, <Node id=1208>, <Node id=1108>, <Node id=1334>, <Node id=1347>, <Node id=1449>, <Node id=1373>, <Node id=1067>, <Node id=1350>, <Node id=1436>, <Node id=1395>, <Node id=1062>, <Node id=1398>, <Node id=1299>, <Node id=1055>, <Node id=1261>, <Node id=1274>, <Node id=1313>, <Node id=1500>, <Node id=1524>, <Node id=1542>, <Node id=1214>, <Node id=1238>, <Node id=1126>, <Node id=1378>, <Node id=1092>, <Node id=1544>, <Node id=1379>, <Node id=1136>], 'Max': 39, 'Temperature': 37, 'msgKey': 75}\n",
      "FLOODING\n",
      "39\n",
      "{'Neighbors': [<Node id=1434>, <Node id=1253>, <Node id=1187>, <Node id=1456>, <Node id=1368>, <Node id=1381>, <Node id=1343>, <Node id=1195>, <Node id=1280>, <Node id=1192>, <Node id=1081>, <Node id=1453>, <Node id=1281>, <Node id=1370>, <Node id=1218>, <Node id=1536>, <Node id=1247>, <Node id=1270>, <Node id=1245>, <Node id=1423>, <Node id=1167>, <Node id=1179>, <Node id=1437>, <Node id=1450>, <Node id=1130>, <Node id=1260>, <Node id=1069>, <Node id=1099>, <Node id=1508>, <Node id=1402>, <Node id=1307>, <Node id=1176>, <Node id=1079>, <Node id=1406>, <Node id=1263>, <Node id=1203>, <Node id=1122>, <Node id=1112>, <Node id=1048>, <Node id=1479>, <Node id=1158>], 'Max': 39, 'Temperature': -10, 'msgKey': 81}\n",
      "FLOODING\n",
      "39\n",
      "{'Neighbors': [<Node id=1052>, <Node id=1418>, <Node id=1151>, <Node id=1369>, <Node id=1217>, <Node id=1472>, <Node id=1076>, <Node id=1290>, <Node id=1385>, <Node id=1222>, <Node id=1189>, <Node id=1248>, <Node id=1070>, <Node id=1540>, <Node id=1113>, <Node id=1504>, <Node id=1068>, <Node id=1390>, <Node id=1391>, <Node id=1157>, <Node id=1468>, <Node id=1506>, <Node id=1242>], 'Max': 39, 'Temperature': -15, 'msgKey': 89}\n",
      "FLOODING\n",
      "39\n",
      "{'Neighbors': [<Node id=1304>, <Node id=1228>, <Node id=1139>, <Node id=1346>, <Node id=1145>, <Node id=1331>, <Node id=1123>, <Node id=1431>, <Node id=1510>, <Node id=1230>, <Node id=1405>, <Node id=1355>, <Node id=1097>, <Node id=1108>, <Node id=1334>, <Node id=1512>, <Node id=1347>, <Node id=1087>, <Node id=1497>, <Node id=1067>, <Node id=1285>, <Node id=1101>, <Node id=1234>, <Node id=1395>, <Node id=1398>, <Node id=1299>, <Node id=1197>, <Node id=1274>, <Node id=1313>, <Node id=1542>, <Node id=1238>, <Node id=1126>, <Node id=1378>, <Node id=1159>, <Node id=1544>, <Node id=1454>, <Node id=1350>], 'Max': 39, 'Temperature': 5, 'msgKey': 181}\n",
      "FLOODING\n",
      "39\n",
      "{'Neighbors': [<Node id=1329>, <Node id=1305>, <Node id=1342>, <Node id=1382>, <Node id=1114>, <Node id=1467>, <Node id=1485>, <Node id=1409>, <Node id=1486>, <Node id=1202>, <Node id=1174>, <Node id=1487>, <Node id=1246>, <Node id=1191>, <Node id=1104>, <Node id=1092>, <Node id=1363>, <Node id=1325>, <Node id=1249>, <Node id=1389>, <Node id=1275>, <Node id=1184>, <Node id=1339>, <Node id=1109>, <Node id=1289>, <Node id=1128>, <Node id=1102>, <Node id=1261>, <Node id=1379>, <Node id=1265>, <Node id=1227>, <Node id=1240>], 'Max': 39, 'Temperature': -13, 'msgKey': 94}\n",
      "FLOODING\n",
      "39\n",
      "{'Neighbors': [<Node id=1110>, <Node id=1419>, <Node id=1059>, <Node id=1242>, <Node id=1471>, <Node id=1306>, <Node id=1352>, <Node id=1103>, <Node id=1403>, <Node id=1129>, <Node id=1473>, <Node id=1182>, <Node id=1283>, <Node id=1516>, <Node id=1157>, <Node id=1360>, <Node id=1397>, <Node id=1191>, <Node id=1297>, <Node id=1421>, <Node id=1387>, <Node id=1222>, <Node id=1427>, <Node id=1451>, <Node id=1055>, <Node id=1216>, <Node id=1056>, <Node id=1504>, <Node id=1152>, <Node id=1184>, <Node id=1390>, <Node id=1314>, <Node id=1545>, <Node id=1505>, <Node id=1391>, <Node id=1315>, <Node id=1531>, <Node id=1065>, <Node id=1227>, <Node id=1143>, <Node id=1369>], 'Max': 39, 'Temperature': -2, 'msgKey': 361}\n",
      "FLOODING\n",
      "39\n",
      "{'Neighbors': [<Node id=1403>, <Node id=1110>, <Node id=1457>, <Node id=1254>, <Node id=1216>, <Node id=1369>, <Node id=1404>, <Node id=1306>, <Node id=1268>, <Node id=1535>, <Node id=1352>, <Node id=1345>, <Node id=1220>, <Node id=1129>, <Node id=1385>, <Node id=1473>, <Node id=1149>, <Node id=1516>, <Node id=1461>, <Node id=1141>, <Node id=1505>, <Node id=1233>, <Node id=1459>, <Node id=1161>, <Node id=1259>, <Node id=1400>, <Node id=1494>, <Node id=1323>, <Node id=1387>, <Node id=1476>, <Node id=1419>, <Node id=1451>, <Node id=1312>, <Node id=1477>, <Node id=1464>, <Node id=1376>, <Node id=1056>, <Node id=1351>, <Node id=1152>, <Node id=1519>, <Node id=1314>, <Node id=1154>, <Node id=1531>, <Node id=1117>, <Node id=1173>, <Node id=1297>, <Node id=1278>], 'Max': 39, 'Temperature': -1, 'msgKey': 185}\n",
      "FLOODING\n",
      "39\n",
      "{'Neighbors': [<Node id=1052>, <Node id=1418>, <Node id=1107>, <Node id=1113>, <Node id=1180>, <Node id=1242>, <Node id=1217>, <Node id=1283>, <Node id=1151>, <Node id=1499>, <Node id=1360>, <Node id=1335>, <Node id=1106>, <Node id=1222>, <Node id=1369>, <Node id=1088>, <Node id=1362>, <Node id=1427>, <Node id=1540>, <Node id=1248>, <Node id=1070>, <Node id=1143>, <Node id=1390>, <Node id=1068>, <Node id=1189>, <Node id=1502>, <Node id=1468>, <Node id=1424>, <Node id=1391>, <Node id=1157>, <Node id=1290>, <Node id=1506>, <Node id=1199>], 'Max': 39, 'Temperature': 31, 'msgKey': 161}\n",
      "FLOODING\n",
      "39\n",
      "{'Neighbors': [<Node id=1403>, <Node id=1110>, <Node id=1471>, <Node id=1419>, <Node id=1216>, <Node id=1369>, <Node id=1404>, <Node id=1306>, <Node id=1268>, <Node id=1397>, <Node id=1103>, <Node id=1376>, <Node id=1129>, <Node id=1385>, <Node id=1182>, <Node id=1149>, <Node id=1516>, <Node id=1315>, <Node id=1220>, <Node id=1360>, <Node id=1459>, <Node id=1283>, <Node id=1297>, <Node id=1476>, <Node id=1323>, <Node id=1421>, <Node id=1387>, <Node id=1222>, <Node id=1062>, <Node id=1502>, <Node id=1451>, <Node id=1312>, <Node id=1161>, <Node id=1059>, <Node id=1056>, <Node id=1152>, <Node id=1390>, <Node id=1314>, <Node id=1154>, <Node id=1391>, <Node id=1503>, <Node id=1065>, <Node id=1531>, <Node id=1352>, <Node id=1473>, <Node id=1143>], 'Max': 39, 'Temperature': -13, 'msgKey': 316}\n",
      "FLOODING\n",
      "39\n",
      "{'Neighbors': [<Node id=1052>, <Node id=1418>, <Node id=1151>, <Node id=1369>, <Node id=1217>, <Node id=1472>, <Node id=1076>, <Node id=1290>, <Node id=1499>, <Node id=1385>, <Node id=1259>, <Node id=1222>, <Node id=1189>, <Node id=1248>, <Node id=1070>, <Node id=1540>, <Node id=1113>, <Node id=1504>, <Node id=1390>, <Node id=1391>, <Node id=1157>, <Node id=1468>, <Node id=1242>], 'Max': 39, 'Temperature': 13, 'msgKey': 89}\n",
      "FLOODING\n",
      "39\n",
      "{'Neighbors': [<Node id=1063>, <Node id=1138>, <Node id=1061>, <Node id=1495>, <Node id=1305>, <Node id=1356>, <Node id=1215>, <Node id=1496>, <Node id=1382>, <Node id=1114>, <Node id=1467>, <Node id=1196>, <Node id=1134>, <Node id=1447>, <Node id=1295>, <Node id=1432>, <Node id=1219>, <Node id=1174>, <Node id=1487>, <Node id=1478>, <Node id=1102>, <Node id=1463>, <Node id=1120>, <Node id=1325>, <Node id=1249>, <Node id=1389>, <Node id=1269>, <Node id=1267>, <Node id=1109>, <Node id=1082>, <Node id=1340>, <Node id=1264>, <Node id=1257>, <Node id=1353>, <Node id=1239>, <Node id=1394>, <Node id=1428>], 'Max': 39, 'Temperature': 6, 'msgKey': 289}\n",
      "FLOODING\n",
      "39\n",
      "{'Neighbors': [<Node id=1456>, <Node id=1384>, <Node id=1187>, <Node id=1091>, <Node id=1381>, <Node id=1343>, <Node id=1483>, <Node id=1498>, <Node id=1453>, <Node id=1243>, <Node id=1294>, <Node id=1089>, <Node id=1536>, <Node id=1371>, <Node id=1130>, <Node id=1206>, <Node id=1537>, <Node id=1423>, <Node id=1474>, <Node id=1322>, <Node id=1370>, <Node id=1213>, <Node id=1437>, <Node id=1450>, <Node id=1247>, <Node id=1260>, <Node id=1069>, <Node id=1148>, <Node id=1099>, <Node id=1402>, <Node id=1307>, <Node id=1475>, <Node id=1167>, <Node id=1538>, <Node id=1338>, <Node id=1288>, <Node id=1479>, <Node id=1122>, <Node id=1112>, <Node id=1406>, <Node id=1493>, <Node id=1328>, <Node id=1341>, <Node id=1444>, <Node id=1158>], 'Max': 39, 'Temperature': 17, 'msgKey': 133}\n",
      "FLOODING\n",
      "39\n",
      "{'Neighbors': [<Node id=1061>, <Node id=1420>, <Node id=1482>, <Node id=1164>, <Node id=1521>, <Node id=1488>, <Node id=1046>, <Node id=1255>, <Node id=1344>, <Node id=1051>, <Node id=1231>, <Node id=1163>, <Node id=1412>, <Node id=1309>, <Node id=1284>, <Node id=1272>, <Node id=1401>, <Node id=1132>, <Node id=1514>, <Node id=1171>, <Node id=1527>, <Node id=1212>, <Node id=1210>, <Node id=1058>, <Node id=1358>, <Node id=1517>, <Node id=1225>, <Node id=1291>, <Node id=1396>, <Node id=1193>, <Node id=1520>, <Node id=1078>, <Node id=1496>], 'Max': 39, 'Temperature': 27, 'msgKey': 161}\n",
      "FLOODING\n",
      "39\n",
      "{'Neighbors': [<Node id=1160>, <Node id=1431>, <Node id=1355>, <Node id=1139>, <Node id=1327>, <Node id=1145>, <Node id=1331>, <Node id=1205>, <Node id=1367>, <Node id=1123>, <Node id=1185>, <Node id=1378>, <Node id=1413>, <Node id=1057>, <Node id=1422>, <Node id=1346>, <Node id=1448>, <Node id=1258>, <Node id=1296>, <Node id=1347>, <Node id=1087>, <Node id=1440>, <Node id=1500>, <Node id=1273>, <Node id=1050>, <Node id=1489>, <Node id=1285>, <Node id=1292>, <Node id=1101>, <Node id=1147>, <Node id=1398>, <Node id=1085>, <Node id=1197>, <Node id=1274>, <Node id=1262>, <Node id=1224>, <Node id=1395>, <Node id=1441>, <Node id=1405>, <Node id=1126>, <Node id=1251>, <Node id=1159>, <Node id=1299>, <Node id=1277>, <Node id=1454>, <Node id=1115>, <Node id=1316>, <Node id=1350>], 'Max': 39, 'Temperature': -3, 'msgKey': 236}\n",
      "FLOODING\n",
      "39\n",
      "{'Neighbors': [<Node id=1465>, <Node id=1054>, <Node id=1435>, <Node id=1229>, <Node id=1408>, <Node id=1382>, <Node id=1433>, <Node id=1150>, <Node id=1077>, <Node id=1526>, <Node id=1074>, <Node id=1178>, <Node id=1286>, <Node id=1198>, <Node id=1541>, <Node id=1095>, <Node id=1236>, <Node id=1452>, <Node id=1470>, <Node id=1339>, <Node id=1237>, <Node id=1153>, <Node id=1250>, <Node id=1201>, <Node id=1289>, <Node id=1340>, <Node id=1429>, <Node id=1053>, <Node id=1204>, <Node id=1455>, <Node id=1393>, <Node id=1481>, <Node id=1240>], 'Max': 39, 'Temperature': 16, 'msgKey': 161}\n",
      "FLOODING\n",
      "39\n",
      "{'Neighbors': [<Node id=1456>, <Node id=1187>, <Node id=1355>, <Node id=1330>, <Node id=1139>, <Node id=1483>, <Node id=1067>, <Node id=1331>, <Node id=1525>, <Node id=1073>, <Node id=1123>, <Node id=1230>, <Node id=1406>, <Node id=1135>, <Node id=1318>, <Node id=1294>, <Node id=1089>, <Node id=1096>, <Node id=1060>, <Node id=1371>, <Node id=1336>, <Node id=1097>, <Node id=1524>, <Node id=1108>, <Node id=1398>, <Node id=1322>, <Node id=1538>, <Node id=1373>, <Node id=1213>, <Node id=1537>, <Node id=1234>, <Node id=1350>, <Node id=1247>, <Node id=1148>, <Node id=1099>, <Node id=1542>, <Node id=1124>, <Node id=1223>, <Node id=1274>, <Node id=1313>, <Node id=1304>, <Node id=1529>, <Node id=1288>, <Node id=1238>, <Node id=1112>, <Node id=1500>, <Node id=1145>, <Node id=1493>, <Node id=1544>, <Node id=1444>, <Node id=1357>, <Node id=1165>], 'Max': 39, 'Temperature': 3, 'msgKey': 205}\n",
      "FLOODING\n",
      "39\n",
      "{'Neighbors': [<Node id=1380>, <Node id=1348>, <Node id=1292>, <Node id=1047>, <Node id=1443>, <Node id=1344>, <Node id=1522>, <Node id=1539>, <Node id=1383>, <Node id=1231>, <Node id=1057>, <Node id=1258>, <Node id=1523>, <Node id=1309>, <Node id=1087>, <Node id=1273>, <Node id=1221>, <Node id=1489>, <Node id=1166>, <Node id=1349>, <Node id=1101>, <Node id=1235>, <Node id=1085>, <Node id=1439>, <Node id=1147>, <Node id=1440>, <Node id=1146>, <Node id=1327>, <Node id=1415>, <Node id=1159>, <Node id=1445>, <Node id=1156>, <Node id=1316>], 'Max': 39, 'Temperature': 4, 'msgKey': 161}\n",
      "FLOODING\n",
      "39\n",
      "{'Neighbors': [<Node id=1061>, <Node id=1058>, <Node id=1482>, <Node id=1164>, <Node id=1267>, <Node id=1496>, <Node id=1420>, <Node id=1051>, <Node id=1358>, <Node id=1520>, <Node id=1163>, <Node id=1412>, <Node id=1284>, <Node id=1132>, <Node id=1407>, <Node id=1171>, <Node id=1527>, <Node id=1324>, <Node id=1210>, <Node id=1094>, <Node id=1212>, <Node id=1521>, <Node id=1194>, <Node id=1517>, <Node id=1225>, <Node id=1291>, <Node id=1396>, <Node id=1518>, <Node id=1256>, <Node id=1317>, <Node id=1509>], 'Max': 39, 'Temperature': -8, 'msgKey': 301}\n",
      "FLOODING\n",
      "39\n",
      "{'Neighbors': [<Node id=1417>, <Node id=1365>, <Node id=1293>, <Node id=1100>, <Node id=1155>, <Node id=1084>, <Node id=1367>, <Node id=1131>, <Node id=1185>, <Node id=1426>, <Node id=1413>, <Node id=1244>, <Node id=1422>, <Node id=1140>, <Node id=1543>, <Node id=1448>, <Node id=1205>, <Node id=1169>, <Node id=1121>, <Node id=1273>, <Node id=1050>, <Node id=1489>, <Node id=1361>, <Node id=1374>, <Node id=1298>, <Node id=1168>, <Node id=1147>, <Node id=1085>, <Node id=1181>, <Node id=1262>, <Node id=1224>, <Node id=1441>, <Node id=1172>, <Node id=1492>, <Node id=1047>, <Node id=1415>, <Node id=1251>, <Node id=1388>, <Node id=1277>, <Node id=1115>, <Node id=1354>, <Node id=1177>], 'Max': 39, 'Temperature': 21, 'msgKey': 124}\n",
      "FLOODING\n",
      "39\n",
      "{'Neighbors': [<Node id=1403>, <Node id=1461>, <Node id=1110>, <Node id=1471>, <Node id=1254>, <Node id=1216>, <Node id=1318>, <Node id=1369>, <Node id=1404>, <Node id=1306>, <Node id=1268>, <Node id=1397>, <Node id=1103>, <Node id=1376>, <Node id=1096>, <Node id=1129>, <Node id=1182>, <Node id=1149>, <Node id=1315>, <Node id=1220>, <Node id=1505>, <Node id=1525>, <Node id=1459>, <Node id=1524>, <Node id=1283>, <Node id=1297>, <Node id=1421>, <Node id=1323>, <Node id=1336>, <Node id=1387>, <Node id=1531>, <Node id=1476>, <Node id=1062>, <Node id=1502>, <Node id=1451>, <Node id=1055>, <Node id=1161>, <Node id=1059>, <Node id=1056>, <Node id=1152>, <Node id=1314>, <Node id=1419>, <Node id=1154>, <Node id=1503>, <Node id=1065>, <Node id=1373>, <Node id=1352>, <Node id=1473>], 'Max': 39, 'Temperature': 5, 'msgKey': 189}\n",
      "FLOODING\n",
      "39\n",
      "{'Neighbors': [<Node id=1163>, <Node id=1061>, <Node id=1094>, <Node id=1482>, <Node id=1164>, <Node id=1267>, <Node id=1046>, <Node id=1255>, <Node id=1420>, <Node id=1051>, <Node id=1269>, <Node id=1520>, <Node id=1257>, <Node id=1412>, <Node id=1514>, <Node id=1194>, <Node id=1171>, <Node id=1132>, <Node id=1407>, <Node id=1120>, <Node id=1527>, <Node id=1212>, <Node id=1210>, <Node id=1058>, <Node id=1358>, <Node id=1284>, <Node id=1521>, <Node id=1225>, <Node id=1291>, <Node id=1396>, <Node id=1518>, <Node id=1256>, <Node id=1317>, <Node id=1509>, <Node id=1078>, <Node id=1496>], 'Max': 39, 'Temperature': 17, 'msgKey': 211}\n",
      "FLOODING\n",
      "39\n",
      "{'Neighbors': [<Node id=1163>, <Node id=1061>, <Node id=1267>, <Node id=1098>, <Node id=1090>, <Node id=1256>, <Node id=1257>, <Node id=1372>, <Node id=1111>, <Node id=1194>, <Node id=1463>, <Node id=1407>, <Node id=1171>, <Node id=1324>, <Node id=1210>, <Node id=1094>, <Node id=1514>, <Node id=1119>, <Node id=1428>, <Node id=1225>, <Node id=1517>, <Node id=1082>, <Node id=1264>, <Node id=1317>, <Node id=1496>], 'Max': 39, 'Temperature': 11, 'msgKey': 169}\n",
      "FLOODING\n",
      "39\n",
      "{'Neighbors': [<Node id=1434>, <Node id=1086>, <Node id=1366>, <Node id=1254>, <Node id=1280>, <Node id=1404>, <Node id=1268>, <Node id=1535>, <Node id=1135>, <Node id=1081>, <Node id=1075>, <Node id=1129>, <Node id=1477>, <Node id=1149>, <Node id=1461>, <Node id=1220>, <Node id=1233>, <Node id=1459>, <Node id=1161>, <Node id=1141>, <Node id=1400>, <Node id=1368>, <Node id=1336>, <Node id=1079>, <Node id=1072>, <Node id=1451>, <Node id=1312>, <Node id=1223>, <Node id=1525>, <Node id=1287>, <Node id=1066>, <Node id=1457>, <Node id=1056>, <Node id=1351>, <Node id=1529>, <Node id=1203>, <Node id=1154>, <Node id=1503>, <Node id=1480>, <Node id=1232>, <Node id=1314>, <Node id=1173>, <Node id=1430>, <Node id=1357>, <Node id=1278>], 'Max': 39, 'Temperature': 38, 'msgKey': 89}\n",
      "FLOODING\n",
      "39\n",
      "{'Neighbors': [<Node id=1061>, <Node id=1420>, <Node id=1482>, <Node id=1164>, <Node id=1521>, <Node id=1488>, <Node id=1046>, <Node id=1255>, <Node id=1344>, <Node id=1080>, <Node id=1051>, <Node id=1231>, <Node id=1137>, <Node id=1358>, <Node id=1163>, <Node id=1412>, <Node id=1359>, <Node id=1296>, <Node id=1309>, <Node id=1284>, <Node id=1386>, <Node id=1170>, <Node id=1272>, <Node id=1401>, <Node id=1132>, <Node id=1514>, <Node id=1120>, <Node id=1527>, <Node id=1212>, <Node id=1210>, <Node id=1058>, <Node id=1269>, <Node id=1517>, <Node id=1396>, <Node id=1171>, <Node id=1509>, <Node id=1078>, <Node id=1496>], 'Max': 39, 'Temperature': -3, 'msgKey': 260}\n",
      "FLOODING\n",
      "39\n",
      "{'Neighbors': [<Node id=1061>, <Node id=1420>, <Node id=1482>, <Node id=1164>, <Node id=1488>, <Node id=1046>, <Node id=1255>, <Node id=1344>, <Node id=1051>, <Node id=1231>, <Node id=1137>, <Node id=1358>, <Node id=1163>, <Node id=1412>, <Node id=1359>, <Node id=1284>, <Node id=1386>, <Node id=1272>, <Node id=1401>, <Node id=1132>, <Node id=1514>, <Node id=1120>, <Node id=1527>, <Node id=1212>, <Node id=1210>, <Node id=1058>, <Node id=1269>, <Node id=1517>, <Node id=1225>, <Node id=1291>, <Node id=1396>, <Node id=1520>, <Node id=1171>, <Node id=1509>, <Node id=1078>, <Node id=1496>], 'Max': 39, 'Temperature': -15, 'msgKey': 316}\n",
      "FLOODING\n",
      "39\n",
      "{'Neighbors': [<Node id=1380>, <Node id=1348>, <Node id=1279>, <Node id=1410>, <Node id=1211>, <Node id=1327>, <Node id=1125>, <Node id=1443>, <Node id=1484>, <Node id=1344>, <Node id=1332>, <Node id=1513>, <Node id=1383>, <Node id=1231>, <Node id=1057>, <Node id=1308>, <Node id=1258>, <Node id=1523>, <Node id=1309>, <Node id=1392>, <Node id=1221>, <Node id=1166>, <Node id=1193>, <Node id=1445>, <Node id=1349>, <Node id=1235>, <Node id=1147>, <Node id=1085>, <Node id=1439>, <Node id=1469>, <Node id=1282>, <Node id=1440>, <Node id=1146>, <Node id=1320>, <Node id=1047>, <Node id=1416>, <Node id=1226>, <Node id=1156>, <Node id=1539>, <Node id=1183>, <Node id=1415>, <Node id=1303>, <Node id=1532>], 'Max': 39, 'Temperature': 30, 'msgKey': 211}\n",
      "FLOODING\n",
      "39\n",
      "{'Neighbors': [<Node id=1380>, <Node id=1348>, <Node id=1279>, <Node id=1410>, <Node id=1211>, <Node id=1469>, <Node id=1125>, <Node id=1443>, <Node id=1484>, <Node id=1522>, <Node id=1183>, <Node id=1383>, <Node id=1282>, <Node id=1308>, <Node id=1332>, <Node id=1513>, <Node id=1221>, <Node id=1166>, <Node id=1445>, <Node id=1105>, <Node id=1528>, <Node id=1392>, <Node id=1320>, <Node id=1047>, <Node id=1416>, <Node id=1226>, <Node id=1156>, <Node id=1539>, <Node id=1303>, <Node id=1415>], 'Max': 39, 'Temperature': -4, 'msgKey': 233}\n",
      "FLOODING\n",
      "39\n",
      "{'Neighbors': [<Node id=1461>, <Node id=1228>, <Node id=1471>, <Node id=1254>, <Node id=1216>, <Node id=1318>, <Node id=1404>, <Node id=1073>, <Node id=1357>, <Node id=1535>, <Node id=1135>, <Node id=1103>, <Node id=1096>, <Node id=1060>, <Node id=1097>, <Node id=1149>, <Node id=1108>, <Node id=1315>, <Node id=1459>, <Node id=1220>, <Node id=1525>, <Node id=1451>, <Node id=1397>, <Node id=1373>, <Node id=1512>, <Node id=1067>, <Node id=1421>, <Node id=1336>, <Node id=1387>, <Node id=1544>, <Node id=1062>, <Node id=1055>, <Node id=1124>, <Node id=1223>, <Node id=1376>, <Node id=1516>, <Node id=1313>, <Node id=1152>, <Node id=1542>, <Node id=1497>, <Node id=1214>, <Node id=1129>, <Node id=1419>, <Node id=1154>, <Node id=1092>, <Node id=1531>, <Node id=1314>, <Node id=1379>, <Node id=1278>, <Node id=1136>], 'Max': 39, 'Temperature': 29, 'msgKey': 197}\n",
      "FLOODING\n",
      "39\n",
      "{'Neighbors': [<Node id=1228>, <Node id=1330>, <Node id=1254>, <Node id=1216>, <Node id=1529>, <Node id=1318>, <Node id=1404>, <Node id=1073>, <Node id=1357>, <Node id=1535>, <Node id=1135>, <Node id=1103>, <Node id=1096>, <Node id=1060>, <Node id=1149>, <Node id=1108>, <Node id=1461>, <Node id=1459>, <Node id=1220>, <Node id=1451>, <Node id=1397>, <Node id=1524>, <Node id=1161>, <Node id=1512>, <Node id=1067>, <Node id=1336>, <Node id=1531>, <Node id=1062>, <Node id=1136>, <Node id=1124>, <Node id=1223>, <Node id=1376>, <Node id=1516>, <Node id=1313>, <Node id=1152>, <Node id=1519>, <Node id=1471>, <Node id=1314>, <Node id=1129>, <Node id=1419>, <Node id=1154>, <Node id=1315>, <Node id=1373>, <Node id=1544>, <Node id=1278>, <Node id=1542>, <Node id=1165>], 'Max': 39, 'Temperature': 31, 'msgKey': 139}\n",
      "FLOODING\n",
      "39\n",
      "{'Neighbors': [<Node id=1511>, <Node id=1138>, <Node id=1495>, <Node id=1435>, <Node id=1382>, <Node id=1433>, <Node id=1196>, <Node id=1134>, <Node id=1447>, <Node id=1295>, <Node id=1219>, <Node id=1186>, <Node id=1201>, <Node id=1408>, <Node id=1178>, <Node id=1198>, <Node id=1541>, <Node id=1399>, <Node id=1095>, <Node id=1393>, <Node id=1452>, <Node id=1470>, <Node id=1375>, <Node id=1063>, <Node id=1289>, <Node id=1530>, <Node id=1340>, <Node id=1429>, <Node id=1353>, <Node id=1455>, <Node id=1394>, <Node id=1481>, <Node id=1240>], 'Max': 39, 'Temperature': 18, 'msgKey': 129}\n",
      "FLOODING\n",
      "39\n",
      "{'Neighbors': [<Node id=1061>, <Node id=1094>, <Node id=1164>, <Node id=1356>, <Node id=1521>, <Node id=1488>, <Node id=1046>, <Node id=1255>, <Node id=1420>, <Node id=1051>, <Node id=1269>, <Node id=1137>, <Node id=1257>, <Node id=1412>, <Node id=1359>, <Node id=1174>, <Node id=1284>, <Node id=1386>, <Node id=1170>, <Node id=1272>, <Node id=1401>, <Node id=1132>, <Node id=1514>, <Node id=1120>, <Node id=1210>, <Node id=1058>, <Node id=1389>, <Node id=1358>, <Node id=1517>, <Node id=1396>, <Node id=1520>, <Node id=1171>, <Node id=1509>, <Node id=1078>, <Node id=1496>], 'Max': 39, 'Temperature': -4, 'msgKey': 341}\n",
      "FLOODING\n",
      "39\n",
      "{'Neighbors': [<Node id=1417>, <Node id=1279>, <Node id=1410>, <Node id=1211>, <Node id=1308>, <Node id=1443>, <Node id=1293>, <Node id=1484>, <Node id=1534>, <Node id=1319>, <Node id=1332>, <Node id=1523>, <Node id=1282>, <Node id=1333>, <Node id=1543>, <Node id=1093>, <Node id=1446>, <Node id=1298>, <Node id=1392>, <Node id=1166>, <Node id=1105>, <Node id=1168>, <Node id=1273>, <Node id=1337>, <Node id=1085>, <Node id=1155>, <Node id=1469>, <Node id=1364>, <Node id=1183>, <Node id=1466>, <Node id=1320>, <Node id=1047>, <Node id=1415>, <Node id=1226>, <Node id=1156>, <Node id=1303>, <Node id=1354>], 'Max': 39, 'Temperature': 23, 'msgKey': 145}\n",
      "FLOODING\n",
      "39\n",
      "{'Neighbors': [<Node id=1434>, <Node id=1187>, <Node id=1430>, <Node id=1330>, <Node id=1254>, <Node id=1483>, <Node id=1280>, <Node id=1368>, <Node id=1073>, <Node id=1081>, <Node id=1535>, <Node id=1406>, <Node id=1135>, <Node id=1536>, <Node id=1307>, <Node id=1075>, <Node id=1060>, <Node id=1371>, <Node id=1247>, <Node id=1149>, <Node id=1456>, <Node id=1537>, <Node id=1461>, <Node id=1423>, <Node id=1519>, <Node id=1167>, <Node id=1459>, <Node id=1336>, <Node id=1512>, <Node id=1067>, <Node id=1130>, <Node id=1525>, <Node id=1260>, <Node id=1072>, <Node id=1099>, <Node id=1148>, <Node id=1542>, <Node id=1124>, <Node id=1223>, <Node id=1322>, <Node id=1287>, <Node id=1066>, <Node id=1457>, <Node id=1079>, <Node id=1096>, <Node id=1288>, <Node id=1203>, <Node id=1122>, <Node id=1112>, <Node id=1318>, <Node id=1232>, <Node id=1479>, <Node id=1278>, <Node id=1357>, <Node id=1165>], 'Max': 39, 'Temperature': -2, 'msgKey': 217}\n",
      "FLOODING\n",
      "39\n",
      "{'Neighbors': [<Node id=1063>, <Node id=1138>, <Node id=1190>, <Node id=1495>, <Node id=1432>, <Node id=1215>, <Node id=1526>, <Node id=1382>, <Node id=1196>, <Node id=1134>, <Node id=1447>, <Node id=1295>, <Node id=1219>, <Node id=1186>, <Node id=1209>, <Node id=1271>, <Node id=1408>, <Node id=1425>, <Node id=1375>, <Node id=1399>, <Node id=1452>, <Node id=1300>, <Node id=1435>, <Node id=1478>, <Node id=1201>, <Node id=1276>, <Node id=1340>, <Node id=1302>, <Node id=1353>, <Node id=1239>, <Node id=1455>, <Node id=1470>, <Node id=1394>, <Node id=1481>], 'Max': 39, 'Temperature': 2, 'msgKey': 166}\n",
      "FLOODING\n",
      "39\n",
      "{'Neighbors': [<Node id=1403>, <Node id=1110>, <Node id=1471>, <Node id=1254>, <Node id=1216>, <Node id=1369>, <Node id=1404>, <Node id=1306>, <Node id=1268>, <Node id=1397>, <Node id=1103>, <Node id=1376>, <Node id=1096>, <Node id=1129>, <Node id=1385>, <Node id=1182>, <Node id=1149>, <Node id=1516>, <Node id=1315>, <Node id=1220>, <Node id=1505>, <Node id=1360>, <Node id=1459>, <Node id=1524>, <Node id=1283>, <Node id=1297>, <Node id=1421>, <Node id=1323>, <Node id=1336>, <Node id=1387>, <Node id=1476>, <Node id=1062>, <Node id=1502>, <Node id=1451>, <Node id=1055>, <Node id=1525>, <Node id=1161>, <Node id=1059>, <Node id=1056>, <Node id=1152>, <Node id=1390>, <Node id=1314>, <Node id=1419>, <Node id=1154>, <Node id=1503>, <Node id=1065>, <Node id=1373>, <Node id=1352>, <Node id=1473>, <Node id=1143>], 'Max': 39, 'Temperature': 24, 'msgKey': 246}\n",
      "FLOODING\n",
      "39\n",
      "{'Neighbors': [<Node id=1348>, <Node id=1439>, <Node id=1380>, <Node id=1231>, <Node id=1193>, <Node id=1522>, <Node id=1291>, <Node id=1482>, <Node id=1164>, <Node id=1212>, <Node id=1125>, <Node id=1445>, <Node id=1383>, <Node id=1156>, <Node id=1309>, <Node id=1344>, <Node id=1235>, <Node id=1284>, <Node id=1443>, <Node id=1416>], 'Max': 39, 'Temperature': -4, 'msgKey': 134}\n",
      "FLOODING\n",
      "39\n",
      "{'Neighbors': [<Node id=1160>, <Node id=1492>, <Node id=1304>, <Node id=1091>, <Node id=1413>, <Node id=1206>, <Node id=1483>, <Node id=1145>, <Node id=1331>, <Node id=1338>, <Node id=1084>, <Node id=1230>, <Node id=1243>, <Node id=1294>, <Node id=1444>, <Node id=1089>, <Node id=1537>, <Node id=1244>, <Node id=1384>, <Node id=1140>, <Node id=1448>, <Node id=1205>, <Node id=1169>, <Node id=1322>, <Node id=1538>, <Node id=1213>, <Node id=1050>, <Node id=1234>, <Node id=1474>, <Node id=1148>, <Node id=1388>, <Node id=1350>, <Node id=1475>, <Node id=1274>, <Node id=1181>, <Node id=1200>, <Node id=1262>, <Node id=1224>, <Node id=1310>, <Node id=1288>, <Node id=1493>, <Node id=1441>, <Node id=1238>, <Node id=1100>, <Node id=1131>, <Node id=1442>, <Node id=1277>, <Node id=1328>, <Node id=1454>, <Node id=1341>, <Node id=1115>, <Node id=1367>], 'Max': 39, 'Temperature': 28, 'msgKey': 154}\n",
      "FLOODING\n",
      "39\n",
      "{'Neighbors': [<Node id=1364>, <Node id=1410>, <Node id=1166>, <Node id=1282>, <Node id=1105>, <Node id=1337>, <Node id=1320>, <Node id=1469>, <Node id=1211>, <Node id=1093>, <Node id=1308>, <Node id=1528>, <Node id=1226>, <Node id=1446>, <Node id=1333>, <Node id=1417>, <Node id=1484>, <Node id=1303>, <Node id=1466>, <Node id=1319>, <Node id=1332>], 'Max': 39, 'Temperature': 6, 'msgKey': 101}\n",
      "FLOODING\n",
      "39\n",
      "{'Neighbors': [<Node id=1434>, <Node id=1330>, <Node id=1254>, <Node id=1280>, <Node id=1404>, <Node id=1073>, <Node id=1268>, <Node id=1135>, <Node id=1081>, <Node id=1075>, <Node id=1060>, <Node id=1149>, <Node id=1461>, <Node id=1459>, <Node id=1220>, <Node id=1519>, <Node id=1525>, <Node id=1351>, <Node id=1524>, <Node id=1161>, <Node id=1529>, <Node id=1368>, <Node id=1336>, <Node id=1072>, <Node id=1124>, <Node id=1223>, <Node id=1287>, <Node id=1066>, <Node id=1457>, <Node id=1079>, <Node id=1096>, <Node id=1152>, <Node id=1430>, <Node id=1203>, <Node id=1129>, <Node id=1154>, <Node id=1503>, <Node id=1318>, <Node id=1232>, <Node id=1314>, <Node id=1376>, <Node id=1278>, <Node id=1357>, <Node id=1165>], 'Max': 39, 'Temperature': -14, 'msgKey': 216}\n",
      "FLOODING\n",
      "39\n",
      "{'Neighbors': [<Node id=1456>, <Node id=1384>, <Node id=1187>, <Node id=1091>, <Node id=1330>, <Node id=1381>, <Node id=1343>, <Node id=1483>, <Node id=1498>, <Node id=1368>, <Node id=1081>, <Node id=1453>, <Node id=1243>, <Node id=1294>, <Node id=1089>, <Node id=1060>, <Node id=1371>, <Node id=1130>, <Node id=1206>, <Node id=1537>, <Node id=1423>, <Node id=1474>, <Node id=1167>, <Node id=1370>, <Node id=1213>, <Node id=1437>, <Node id=1234>, <Node id=1450>, <Node id=1247>, <Node id=1260>, <Node id=1069>, <Node id=1099>, <Node id=1148>, <Node id=1508>, <Node id=1402>, <Node id=1307>, <Node id=1475>, <Node id=1322>, <Node id=1538>, <Node id=1338>, <Node id=1079>, <Node id=1529>, <Node id=1288>, <Node id=1479>, <Node id=1122>, <Node id=1112>, <Node id=1406>, <Node id=1493>, <Node id=1328>, <Node id=1341>, <Node id=1444>, <Node id=1158>, <Node id=1165>], 'Max': 39, 'Temperature': 39, 'msgKey': 53}\n",
      "FLOODING\n",
      "39\n",
      "{'Neighbors': [<Node id=1160>, <Node id=1122>, <Node id=1187>, <Node id=1091>, <Node id=1533>, <Node id=1330>, <Node id=1508>, <Node id=1343>, <Node id=1483>, <Node id=1067>, <Node id=1331>, <Node id=1230>, <Node id=1453>, <Node id=1406>, <Node id=1243>, <Node id=1536>, <Node id=1294>, <Node id=1444>, <Node id=1089>, <Node id=1060>, <Node id=1371>, <Node id=1247>, <Node id=1206>, <Node id=1456>, <Node id=1442>, <Node id=1423>, <Node id=1474>, <Node id=1167>, <Node id=1538>, <Node id=1213>, <Node id=1475>, <Node id=1234>, <Node id=1512>, <Node id=1158>, <Node id=1260>, <Node id=1069>, <Node id=1099>, <Node id=1148>, <Node id=1402>, <Node id=1124>, <Node id=1322>, <Node id=1338>, <Node id=1384>, <Node id=1304>, <Node id=1529>, <Node id=1288>, <Node id=1307>, <Node id=1479>, <Node id=1238>, <Node id=1112>, <Node id=1145>, <Node id=1493>, <Node id=1328>, <Node id=1310>, <Node id=1165>], 'Max': 39, 'Temperature': 8, 'msgKey': 163}\n",
      "FLOODING\n",
      "39\n",
      "{'Neighbors': [<Node id=1160>, <Node id=1122>, <Node id=1187>, <Node id=1091>, <Node id=1533>, <Node id=1330>, <Node id=1508>, <Node id=1343>, <Node id=1483>, <Node id=1145>, <Node id=1331>, <Node id=1338>, <Node id=1084>, <Node id=1230>, <Node id=1453>, <Node id=1243>, <Node id=1294>, <Node id=1444>, <Node id=1089>, <Node id=1536>, <Node id=1371>, <Node id=1247>, <Node id=1206>, <Node id=1456>, <Node id=1537>, <Node id=1512>, <Node id=1474>, <Node id=1167>, <Node id=1213>, <Node id=1437>, <Node id=1234>, <Node id=1158>, <Node id=1260>, <Node id=1069>, <Node id=1148>, <Node id=1099>, <Node id=1402>, <Node id=1406>, <Node id=1475>, <Node id=1322>, <Node id=1200>, <Node id=1384>, <Node id=1224>, <Node id=1304>, <Node id=1288>, <Node id=1493>, <Node id=1479>, <Node id=1238>, <Node id=1112>, <Node id=1131>, <Node id=1442>, <Node id=1277>, <Node id=1328>, <Node id=1341>, <Node id=1310>], 'Max': 39, 'Temperature': 18, 'msgKey': 109}\n",
      "FLOODING\n",
      "39\n",
      "{'Neighbors': [<Node id=1380>, <Node id=1348>, <Node id=1279>, <Node id=1047>, <Node id=1125>, <Node id=1443>, <Node id=1344>, <Node id=1416>, <Node id=1383>, <Node id=1522>, <Node id=1231>, <Node id=1057>, <Node id=1513>, <Node id=1258>, <Node id=1523>, <Node id=1309>, <Node id=1273>, <Node id=1392>, <Node id=1221>, <Node id=1166>, <Node id=1193>, <Node id=1445>, <Node id=1349>, <Node id=1235>, <Node id=1147>, <Node id=1085>, <Node id=1439>, <Node id=1469>, <Node id=1440>, <Node id=1146>, <Node id=1327>, <Node id=1415>, <Node id=1226>, <Node id=1156>, <Node id=1183>, <Node id=1316>], 'Max': 39, 'Temperature': 2, 'msgKey': 176}\n",
      "FLOODING\n",
      "39\n",
      "{'Neighbors': [<Node id=1052>, <Node id=1418>, <Node id=1107>, <Node id=1180>, <Node id=1242>, <Node id=1217>, <Node id=1504>, <Node id=1283>, <Node id=1151>, <Node id=1499>, <Node id=1360>, <Node id=1335>, <Node id=1106>, <Node id=1222>, <Node id=1088>, <Node id=1362>, <Node id=1427>, <Node id=1248>, <Node id=1506>, <Node id=1070>, <Node id=1143>, <Node id=1390>, <Node id=1068>, <Node id=1189>, <Node id=1468>, <Node id=1424>, <Node id=1391>, <Node id=1157>, <Node id=1290>, <Node id=1266>, <Node id=1199>], 'Max': 39, 'Temperature': 34, 'msgKey': 121}\n",
      "FLOODING\n",
      "39\n",
      "{'Neighbors': [<Node id=1465>, <Node id=1511>, <Node id=1054>, <Node id=1219>, <Node id=1229>, <Node id=1408>, <Node id=1382>, <Node id=1433>, <Node id=1467>, <Node id=1198>, <Node id=1150>, <Node id=1409>, <Node id=1077>, <Node id=1186>, <Node id=1353>, <Node id=1487>, <Node id=1526>, <Node id=1074>, <Node id=1178>, <Node id=1104>, <Node id=1095>, <Node id=1363>, <Node id=1452>, <Node id=1470>, <Node id=1435>, <Node id=1339>, <Node id=1153>, <Node id=1250>, <Node id=1201>, <Node id=1109>, <Node id=1289>, <Node id=1340>, <Node id=1429>, <Node id=1053>, <Node id=1455>, <Node id=1393>, <Node id=1481>, <Node id=1240>], 'Max': 39, 'Temperature': 14, 'msgKey': 186}\n",
      "FLOODING\n",
      "39\n",
      "{'Neighbors': [<Node id=1304>, <Node id=1228>, <Node id=1330>, <Node id=1139>, <Node id=1067>, <Node id=1331>, <Node id=1471>, <Node id=1525>, <Node id=1073>, <Node id=1123>, <Node id=1135>, <Node id=1254>, <Node id=1103>, <Node id=1230>, <Node id=1096>, <Node id=1060>, <Node id=1371>, <Node id=1355>, <Node id=1097>, <Node id=1524>, <Node id=1108>, <Node id=1334>, <Node id=1512>, <Node id=1322>, <Node id=1497>, <Node id=1373>, <Node id=1234>, <Node id=1336>, <Node id=1148>, <Node id=1062>, <Node id=1398>, <Node id=1124>, <Node id=1223>, <Node id=1274>, <Node id=1376>, <Node id=1313>, <Node id=1529>, <Node id=1288>, <Node id=1238>, <Node id=1500>, <Node id=1378>, <Node id=1318>, <Node id=1544>, <Node id=1165>, <Node id=1357>, <Node id=1136>], 'Max': 39, 'Temperature': 2, 'msgKey': 226}\n",
      "FLOODING\n",
      "39\n",
      "{'Neighbors': [<Node id=1417>, <Node id=1365>, <Node id=1515>, <Node id=1093>, <Node id=1293>, <Node id=1319>, <Node id=1181>, <Node id=1320>, <Node id=1244>, <Node id=1422>, <Node id=1140>, <Node id=1185>, <Node id=1169>, <Node id=1121>, <Node id=1361>, <Node id=1374>, <Node id=1298>, <Node id=1168>, <Node id=1273>, <Node id=1085>, <Node id=1528>, <Node id=1155>, <Node id=1364>, <Node id=1441>, <Node id=1172>, <Node id=1100>, <Node id=1251>, <Node id=1426>, <Node id=1446>, <Node id=1367>, <Node id=1354>, <Node id=1177>], 'Max': 39, 'Temperature': 9, 'msgKey': 125}\n",
      "FLOODING\n",
      "39\n",
      "{'Neighbors': [<Node id=1304>, <Node id=1228>, <Node id=1139>, <Node id=1318>, <Node id=1471>, <Node id=1073>, <Node id=1123>, <Node id=1497>, <Node id=1103>, <Node id=1357>, <Node id=1096>, <Node id=1060>, <Node id=1371>, <Node id=1355>, <Node id=1097>, <Node id=1208>, <Node id=1108>, <Node id=1334>, <Node id=1512>, <Node id=1436>, <Node id=1525>, <Node id=1373>, <Node id=1067>, <Node id=1350>, <Node id=1336>, <Node id=1062>, <Node id=1398>, <Node id=1124>, <Node id=1055>, <Node id=1274>, <Node id=1376>, <Node id=1313>, <Node id=1524>, <Node id=1542>, <Node id=1214>, <Node id=1238>, <Node id=1500>, <Node id=1378>, <Node id=1092>, <Node id=1379>, <Node id=1136>], 'Max': 39, 'Temperature': 26, 'msgKey': 161}\n",
      "FLOODING\n",
      "39\n",
      "{'Neighbors': [<Node id=1054>, <Node id=1180>, <Node id=1229>, <Node id=1242>, <Node id=1150>, <Node id=1409>, <Node id=1077>, <Node id=1427>, <Node id=1360>, <Node id=1191>, <Node id=1107>, <Node id=1222>, <Node id=1178>, <Node id=1088>, <Node id=1286>, <Node id=1104>, <Node id=1095>, <Node id=1363>, <Node id=1465>, <Node id=1143>, <Node id=1339>, <Node id=1237>, <Node id=1184>, <Node id=1250>, <Node id=1502>, <Node id=1342>, <Node id=1429>, <Node id=1157>, <Node id=1393>, <Node id=1227>, <Node id=1240>], 'Max': 39, 'Temperature': 8, 'msgKey': 121}\n",
      "FLOODING\n",
      "Number of nodes:\n",
      "500\n",
      "Number of edges:\n",
      "9333\n",
      "Total number of messages:\n",
      "83853\n"
     ]
    }
   ],
   "source": [
    "%load_ext autoreload\n",
    "%autoreload 2\n",
    "from pymote.networkgenerator import NetworkGenerator\n",
    "from pymote.simulation import Simulation\n",
    "#from pymote.algorithms.UpdateMax import MaxFind \n",
    "\n",
    "#net_gen = NetworkGenerator(3)\n",
    "#net_gen = NetworkGenerator(5)\n",
    "#net_gen = NetworkGenerator(15)\n",
    "net_gen = NetworkGenerator(500)\n",
    "\n",
    "net = net_gen.generate_random_network()\n",
    "net.algorithms = ( (MaxFind, {'dataKey':'D'}), )\n",
    "\n",
    "#nije potrebno, po algoritmu su svi init\n",
    "#for node in net.nodes():\n",
    "#    node.memory['D']='init'\n",
    "\n",
    "sim = Simulation(net)\n",
    "sim.run()\n",
    "\n",
    "suma=0\n",
    "\n",
    "for node in net.nodes():\n",
    "    print node.memory['Max']\n",
    "    print node.memory\n",
    "    print node.status\n",
    "    suma=suma+node.memory['msgKey']\n",
    "print \"Number of nodes:\"\n",
    "print len(list(net.nodes()))\n",
    "print \"Number of edges:\"\n",
    "print len(list(net.edges()))\n",
    "print \"Total number of messages:\"\n",
    "print suma"
   ]
  },
  {
   "cell_type": "code",
   "execution_count": 9,
   "metadata": {
    "collapsed": false
   },
   "outputs": [],
   "source": [
    "net.show() #po gašenju izaziva Dead Kernel"
   ]
  },
  {
   "cell_type": "code",
   "execution_count": null,
   "metadata": {
    "collapsed": false
   },
   "outputs": [],
   "source": [
    "from pymote.npickle import write_pickle, read_pickle\n",
    "write_pickle(net,'mrezaRandom.tar.gz')\n",
    "net_from_file = read_pickle('mrezaRandom.tar.gz') "
   ]
  },
  {
   "cell_type": "code",
   "execution_count": 21,
   "metadata": {
    "collapsed": false
   },
   "outputs": [
    {
     "name": "stdout",
     "output_type": "stream",
     "text": [
      "Number of nodes:\n",
      "15\n",
      "Number of edges:\n",
      "33\n"
     ]
    }
   ],
   "source": []
  },
  {
   "cell_type": "markdown",
   "metadata": {},
   "source": [
    "### Eksperimentalna analiza"
   ]
  },
  {
   "cell_type": "markdown",
   "metadata": {},
   "source": [
    "### Mreža Lista (n = 4, m = 5)"
   ]
  },
  {
   "cell_type": "code",
   "execution_count": null,
   "metadata": {
    "collapsed": false
   },
   "outputs": [],
   "source": [
    "from pymote.network import Network\n",
    "net = Network()\n",
    "n = 5\n",
    "u = 100\n",
    "\n",
    "for i in range(0,n*u,u):\n",
    "    node = net.add_node(pos=[1,i])\n",
    "    node.commRange=110\n",
    "#net.show()\n",
    "\n",
    "from pymote.npickle import write_pickle, read_pickle\n",
    "write_pickle(net,'mrezaList.tar.gz')\n",
    "net_from_file = read_pickle('mrezaList.tar.gz') "
   ]
  },
  {
   "cell_type": "markdown",
   "metadata": {},
   "source": [
    "### Mreža Zvijezda (n = 4, m = 5)"
   ]
  },
  {
   "cell_type": "code",
   "execution_count": null,
   "metadata": {
    "collapsed": false
   },
   "outputs": [],
   "source": [
    "from pymote.network import Network\n",
    "net = Network()\n",
    "n = 3\n",
    "for i in range(100,(n+1)*100,100):\n",
    "    node= net.add_node(pos=[i,i])\n",
    "    node.commRange=200\n",
    "\n",
    "node= net.add_node(pos=[100,300])\n",
    "node.commRange=200\n",
    "node= net.add_node(pos=[300,100])\n",
    "node.commRange=200\n",
    "\n",
    "net.show()\n",
    "\n",
    "from pymote.npickle import write_pickle, read_pickle\n",
    "write_pickle(net,'mrezaZvijezda.tar.gz')\n",
    "net_from_file = read_pickle('mrezaZvijezda.tar.gz') "
   ]
  },
  {
   "cell_type": "markdown",
   "metadata": {},
   "source": []
  },
  {
   "cell_type": "code",
   "execution_count": 33,
   "metadata": {
    "collapsed": false,
    "scrolled": true
   },
   "outputs": [
    {
     "name": "stdout",
     "output_type": "stream",
     "text": [
      "The autoreload extension is already loaded. To reload it, use:\n",
      "  %reload_ext autoreload\n",
      "DEBUG   [simulation.py]: Simulation 0x14c5b698 created successfully.\n"
     ]
    },
    {
     "name": "stderr",
     "output_type": "stream",
     "text": [
      "DEBUG:pymote.simulation:Simulation 0x14c5b698 created successfully.\n"
     ]
    },
    {
     "name": "stdout",
     "output_type": "stream",
     "text": [
      "DEBUG   [simulation.py]: [MaxFind] Step 1 finished\n"
     ]
    },
    {
     "name": "stderr",
     "output_type": "stream",
     "text": [
      "DEBUG:pymote.simulation:[MaxFind] Step 1 finished\n"
     ]
    },
    {
     "name": "stdout",
     "output_type": "stream",
     "text": [
      "DEBUG   [simulation.py]: [MaxFind] Step 2 finished\n"
     ]
    },
    {
     "name": "stderr",
     "output_type": "stream",
     "text": [
      "DEBUG:pymote.simulation:[MaxFind] Step 2 finished\n"
     ]
    },
    {
     "name": "stdout",
     "output_type": "stream",
     "text": [
      "DEBUG   [simulation.py]: [MaxFind] Step 3 finished\n"
     ]
    },
    {
     "name": "stderr",
     "output_type": "stream",
     "text": [
      "DEBUG:pymote.simulation:[MaxFind] Step 3 finished\n"
     ]
    },
    {
     "name": "stdout",
     "output_type": "stream",
     "text": [
      "DEBUG   [simulation.py]: [MaxFind] Step 4 finished\n"
     ]
    },
    {
     "name": "stderr",
     "output_type": "stream",
     "text": [
      "DEBUG:pymote.simulation:[MaxFind] Step 4 finished\n"
     ]
    },
    {
     "name": "stdout",
     "output_type": "stream",
     "text": [
      "DEBUG   [simulation.py]: [MaxFind] Step 5 finished\n"
     ]
    },
    {
     "name": "stderr",
     "output_type": "stream",
     "text": [
      "DEBUG:pymote.simulation:[MaxFind] Step 5 finished\n"
     ]
    },
    {
     "name": "stdout",
     "output_type": "stream",
     "text": [
      "DEBUG   [simulation.py]: [MaxFind] Step 6 finished\n"
     ]
    },
    {
     "name": "stderr",
     "output_type": "stream",
     "text": [
      "DEBUG:pymote.simulation:[MaxFind] Step 6 finished\n"
     ]
    },
    {
     "name": "stdout",
     "output_type": "stream",
     "text": [
      "DEBUG   [simulation.py]: [MaxFind] Step 7 finished\n"
     ]
    },
    {
     "name": "stderr",
     "output_type": "stream",
     "text": [
      "DEBUG:pymote.simulation:[MaxFind] Step 7 finished\n"
     ]
    },
    {
     "name": "stdout",
     "output_type": "stream",
     "text": [
      "DEBUG   [simulation.py]: [MaxFind] Step 8 finished\n"
     ]
    },
    {
     "name": "stderr",
     "output_type": "stream",
     "text": [
      "DEBUG:pymote.simulation:[MaxFind] Step 8 finished\n"
     ]
    },
    {
     "name": "stdout",
     "output_type": "stream",
     "text": [
      "DEBUG   [simulation.py]: [MaxFind] Step 9 finished\n"
     ]
    },
    {
     "name": "stderr",
     "output_type": "stream",
     "text": [
      "DEBUG:pymote.simulation:[MaxFind] Step 9 finished\n"
     ]
    },
    {
     "name": "stdout",
     "output_type": "stream",
     "text": [
      "DEBUG   [simulation.py]: [MaxFind] Step 10 finished\n"
     ]
    },
    {
     "name": "stderr",
     "output_type": "stream",
     "text": [
      "DEBUG:pymote.simulation:[MaxFind] Step 10 finished\n"
     ]
    },
    {
     "name": "stdout",
     "output_type": "stream",
     "text": [
      "DEBUG   [simulation.py]: [MaxFind] Algorithm finished\n"
     ]
    },
    {
     "name": "stderr",
     "output_type": "stream",
     "text": [
      "DEBUG:pymote.simulation:[MaxFind] Algorithm finished\n"
     ]
    },
    {
     "name": "stdout",
     "output_type": "stream",
     "text": [
      "INFO    [simulation.py]: Simulation has finished. There are no algorithms left to run. To run it from the start use sim.reset().\n"
     ]
    },
    {
     "name": "stderr",
     "output_type": "stream",
     "text": [
      "INFO:pymote.simulation:Simulation has finished. There are no algorithms left to run. To run it from the start use sim.reset().\n"
     ]
    },
    {
     "name": "stdout",
     "output_type": "stream",
     "text": [
      "39\n",
      "{'Neighbors': [<Node id=187>], 'Max': 39, 'Temperature': -11, 'msgKey': 1}\n",
      "FLOODING\n",
      "39\n",
      "{'Neighbors': [<Node id=186>, <Node id=188>], 'Max': 39, 'Temperature': 0, 'msgKey': 5}\n",
      "FLOODING\n",
      "39\n",
      "{'Neighbors': [<Node id=187>, <Node id=189>], 'Max': 39, 'Temperature': 1, 'msgKey': 4}\n",
      "FLOODING\n",
      "39\n",
      "{'Neighbors': [<Node id=188>, <Node id=190>], 'Max': 39, 'Temperature': 32, 'msgKey': 3}\n",
      "FLOODING\n",
      "39\n",
      "{'Neighbors': [<Node id=189>], 'Max': 39, 'Temperature': 39, 'msgKey': 1}\n",
      "FLOODING\n",
      "Number of nodes:\n",
      "5\n",
      "Number of edges:\n",
      "4\n",
      "Total number of messages:\n",
      "14\n"
     ]
    }
   ],
   "source": [
    "%load_ext autoreload\n",
    "%autoreload 2\n",
    "from pymote.networkgenerator import NetworkGenerator\n",
    "from pymote.simulation import Simulation\n",
    "from pymote.npickle import write_pickle, read_pickle\n",
    "\n",
    "#net = read_pickle('mrezaRandom.tar.gz') \n",
    "net = read_pickle('mrezaList.tar.gz')\n",
    "#net = read_pickle('mrezaZvijezda.tar.gz')\n",
    "\n",
    "net.algorithms = ( (MaxFind, {'dataKey':'D'}), )\n",
    "sim = Simulation(net)\n",
    "sim.run()\n",
    "\n",
    "suma=0\n",
    "\n",
    "for node in net.nodes():\n",
    "    print node.memory['Max']\n",
    "    print node.memory\n",
    "    print node.status\n",
    "    suma=suma+node.memory['msgKey']\n",
    "print \"Number of nodes:\"\n",
    "print len(list(net.nodes()))\n",
    "print \"Number of edges:\"\n",
    "print len(list(net.edges()))\n",
    "print \"Total number of messages:\"\n",
    "print suma"
   ]
  },
  {
   "cell_type": "code",
   "execution_count": null,
   "metadata": {
    "collapsed": true
   },
   "outputs": [],
   "source": [
    "net.show()"
   ]
  },
  {
   "cell_type": "code",
   "execution_count": null,
   "metadata": {
    "collapsed": true
   },
   "outputs": [],
   "source": []
  }
 ],
 "metadata": {
  "kernelspec": {
   "display_name": "Python 2",
   "language": "python",
   "name": "python2"
  },
  "language_info": {
   "codemirror_mode": {
    "name": "ipython",
    "version": 2
   },
   "file_extension": ".py",
   "mimetype": "text/x-python",
   "name": "python",
   "nbconvert_exporter": "python",
   "pygments_lexer": "ipython2",
   "version": "2.7.10"
  }
 },
 "nbformat": 4,
 "nbformat_minor": 0
}
