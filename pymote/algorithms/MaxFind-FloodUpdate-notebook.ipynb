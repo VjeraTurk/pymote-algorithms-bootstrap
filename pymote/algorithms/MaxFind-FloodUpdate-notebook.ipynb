{
 "cells": [
  {
   "cell_type": "markdown",
   "metadata": {},
   "source": [
    "# Maximum Find"
   ]
  },
  {
   "cell_type": "code",
   "execution_count": 2,
   "metadata": {
    "collapsed": false
   },
   "outputs": [
    {
     "name": "stdout",
     "output_type": "stream",
     "text": [
      "The autoreload extension is already loaded. To reload it, use:\n",
      "  %reload_ext autoreload\n"
     ]
    }
   ],
   "source": [
    "%load_ext autoreload\n",
    "%autoreload 2\n",
    "%reload_ext autoreload\n",
    "from pymote.message import Message\n",
    "from pymote.algorithm import NodeAlgorithm"
   ]
  },
  {
   "cell_type": "markdown",
   "metadata": {},
   "source": [
    "### Algoritmi\n",
    "\n",
    "### FloodingUpdate\n",
    "* *Raspodijeljeni* algoritmi se implementiraju kao podklase od `NodeAlgorithm`. Raspodijeljeni algoritmi mogu koristiti samo informacije spremljene u samoj memoriji čvora te one dobivene očitanjem osjetila koje pojeduje čvor.\n",
    "\n",
    "Svaki node prosljeđuje poruku svojim susjedima dokle god informacija koju primi osvježuju njegovo znanje odnosno zadovoljava uvijet prosljeđivanja. "
   ]
  },
  {
   "cell_type": "code",
   "execution_count": 3,
   "metadata": {
    "collapsed": false
   },
   "outputs": [],
   "source": [
    "class FloodingUpdate(NodeAlgorithm):\n",
    "    \"\"\"\n",
    "    This is modified Flooding algorithm (Santoro2007 p.13) so that every node\n",
    "    continues to forward flood messages as long as information gathered is updating its knowledge.\n",
    "    Note: does not have global termination detection\n",
    "    \"\"\"\n",
    "    required_params = ('dataKey',)\n",
    "    default_params = {'neighborsKey':'Neighbors','msgKey':'MessageCount'}\n",
    "    \n",
    "    def initializer(self):\n",
    "        \"\"\" Starts in every node satisfying initiator condition. \"\"\"\n",
    "        for node in self.network.nodes():\n",
    "            node.memory[self.neighborsKey] = node.compositeSensor.read()['Neighbors'] #removing sender from destination\n",
    "            if self.initiator_condition(node):\n",
    "                self.network.outbox.insert(0, Message(destination=node,\n",
    "                                                     header=NodeAlgorithm.INI))\n",
    "                node.memory['msgKey']=0\n",
    "                node.status = 'FLOODING'\n",
    "            \n",
    "            \n",
    "\n",
    "    def flooding(self, node, message):\n",
    "        if message.header == NodeAlgorithm.INI:\n",
    "            node.send(Message(header='Flood',\n",
    "                              data=self.initiator_data(node)))\n",
    "            node.memory['msgKey'] = node.memory['msgKey']+ len(list(node.memory[self.neighborsKey]))\n",
    "\n",
    "        if message.header == 'Flood':\n",
    "            updated_data = self.handle_flood_message(node, message)\n",
    "            if updated_data:\n",
    "                destination_nodes = list(node.memory[self.neighborsKey])\n",
    "                destination_nodes.remove(message.source) # send to every neighbor-sender\n",
    "                \n",
    "                node.memory['msgKey']=node.memory['msgKey']+len(destination_nodes)\n",
    "                node.send(Message(destination=destination_nodes,header='Flood',\n",
    "                                  data=updated_data))\n",
    "\n",
    "    def initiator_condition(self, node):\n",
    "        raise NotImplementedError\n",
    "\n",
    "    def initiator_data(self, node):\n",
    "        raise NotImplementedError\n",
    "\n",
    "    def handle_flood_message(self, node, message):\n",
    "        raise NotImplementedError\n",
    "\n",
    "    STATUS = {'FLOODING': flooding,  # init,term\n",
    "              }\n"
   ]
  },
  {
   "cell_type": "markdown",
   "metadata": {},
   "source": [
    "### MaxFind\n",
    "Ukoliko primi poruku s temperaturom većom od njemu trenutno poznate najveće temperature prosljeđuje poruku susjedima."
   ]
  },
  {
   "cell_type": "code",
   "execution_count": 4,
   "metadata": {
    "collapsed": true
   },
   "outputs": [],
   "source": [
    "# -*- coding: utf-8 -*-\n",
    "#from pymote.algorithms.floodingupdate import FloodingUpdate\n",
    "from pymote.sensor import TempSensor"
   ]
  },
  {
   "cell_type": "code",
   "execution_count": 5,
   "metadata": {
    "collapsed": false
   },
   "outputs": [],
   "source": [
    "\n",
    "class MaxFind(FloodingUpdate):\n",
    "    #required_params = ('dataKey',) \n",
    "    default_params = {'temperatureKey':'Temperature','neighborsKey': 'Neighbors','maxKey':'Max'}\n",
    "    def initiator_condition(self, node):\n",
    "        #svi će biti iniciatori        \n",
    "        node.compositeSensor=(TempSensor,'Temperature')\n",
    "        node.memory[self.temperatureKey]=node.compositeSensor.read()['Temperature']\n",
    "        node.memory[self.maxKey]=node.memory[self.temperatureKey]      \n",
    "        #trenutna najveća je njegova, jedina koju ima    \n",
    "        return node.memory[self.maxKey] is not None\n",
    "\n",
    "    def initiator_data(self, node):\n",
    "        #node.memory[self.msgKey] = 1\n",
    "        return node.memory[self.maxKey]\n",
    "        #ovdje ne smije biti read, jer bi svaki puta očitao drugačiju temperaturu\n",
    "                      \n",
    "    def handle_flood_message(self, node, message):\n",
    "        \n",
    "        if message.data > node.memory[self.maxKey]:\n",
    "            node.memory[self.maxKey]=message.data\n",
    "            #node.memory[self.msgKey]=node.memory[self.msgKey]+1\n",
    "            #node.memory[self.msgKey]=node.memory[self.msgKey]+\n",
    "            return message.data\n",
    "\n",
    "\n",
    "    STATUS = {'FLOODING':FloodingUpdate.STATUS.get('FLOODING'),  # init,term\n",
    "              \n",
    "             }"
   ]
  },
  {
   "cell_type": "markdown",
   "metadata": {},
   "source": [
    "### Random Mreža"
   ]
  },
  {
   "cell_type": "code",
   "execution_count": 7,
   "metadata": {
    "collapsed": false,
    "scrolled": true
   },
   "outputs": [
    {
     "name": "stdout",
     "output_type": "stream",
     "text": [
      "The autoreload extension is already loaded. To reload it, use:\n",
      "  %reload_ext autoreload\n",
      "DEBUG   [simulation.py]: Simulation 0x1133ff58 created successfully.\n"
     ]
    },
    {
     "name": "stderr",
     "output_type": "stream",
     "text": [
      "DEBUG:pymote.simulation:Simulation 0x1133ff58 created successfully.\n"
     ]
    },
    {
     "name": "stdout",
     "output_type": "stream",
     "text": [
      "DEBUG   [simulation.py]: [MaxFind] Step 1 finished\n"
     ]
    },
    {
     "name": "stderr",
     "output_type": "stream",
     "text": [
      "DEBUG:pymote.simulation:[MaxFind] Step 1 finished\n"
     ]
    },
    {
     "name": "stdout",
     "output_type": "stream",
     "text": [
      "DEBUG   [simulation.py]: [MaxFind] Step 2 finished\n"
     ]
    },
    {
     "name": "stderr",
     "output_type": "stream",
     "text": [
      "DEBUG:pymote.simulation:[MaxFind] Step 2 finished\n"
     ]
    },
    {
     "name": "stdout",
     "output_type": "stream",
     "text": [
      "DEBUG   [simulation.py]: [MaxFind] Step 3 finished\n"
     ]
    },
    {
     "name": "stderr",
     "output_type": "stream",
     "text": [
      "DEBUG:pymote.simulation:[MaxFind] Step 3 finished\n"
     ]
    },
    {
     "name": "stdout",
     "output_type": "stream",
     "text": [
      "DEBUG   [simulation.py]: [MaxFind] Step 4 finished\n"
     ]
    },
    {
     "name": "stderr",
     "output_type": "stream",
     "text": [
      "DEBUG:pymote.simulation:[MaxFind] Step 4 finished\n"
     ]
    },
    {
     "name": "stdout",
     "output_type": "stream",
     "text": [
      "DEBUG   [simulation.py]: [MaxFind] Step 5 finished\n"
     ]
    },
    {
     "name": "stderr",
     "output_type": "stream",
     "text": [
      "DEBUG:pymote.simulation:[MaxFind] Step 5 finished\n"
     ]
    },
    {
     "name": "stdout",
     "output_type": "stream",
     "text": [
      "DEBUG   [simulation.py]: [MaxFind] Step 6 finished\n"
     ]
    },
    {
     "name": "stderr",
     "output_type": "stream",
     "text": [
      "DEBUG:pymote.simulation:[MaxFind] Step 6 finished\n"
     ]
    },
    {
     "name": "stdout",
     "output_type": "stream",
     "text": [
      "DEBUG   [simulation.py]: [MaxFind] Step 7 finished\n"
     ]
    },
    {
     "name": "stderr",
     "output_type": "stream",
     "text": [
      "DEBUG:pymote.simulation:[MaxFind] Step 7 finished\n"
     ]
    },
    {
     "name": "stdout",
     "output_type": "stream",
     "text": [
      "DEBUG   [simulation.py]: [MaxFind] Step 8 finished\n"
     ]
    },
    {
     "name": "stderr",
     "output_type": "stream",
     "text": [
      "DEBUG:pymote.simulation:[MaxFind] Step 8 finished\n"
     ]
    },
    {
     "name": "stdout",
     "output_type": "stream",
     "text": [
      "DEBUG   [simulation.py]: [MaxFind] Step 9 finished\n"
     ]
    },
    {
     "name": "stderr",
     "output_type": "stream",
     "text": [
      "DEBUG:pymote.simulation:[MaxFind] Step 9 finished\n"
     ]
    },
    {
     "name": "stdout",
     "output_type": "stream",
     "text": [
      "DEBUG   [simulation.py]: [MaxFind] Step 10 finished\n"
     ]
    },
    {
     "name": "stderr",
     "output_type": "stream",
     "text": [
      "DEBUG:pymote.simulation:[MaxFind] Step 10 finished\n"
     ]
    },
    {
     "name": "stdout",
     "output_type": "stream",
     "text": [
      "DEBUG   [simulation.py]: [MaxFind] Step 11 finished\n"
     ]
    },
    {
     "name": "stderr",
     "output_type": "stream",
     "text": [
      "DEBUG:pymote.simulation:[MaxFind] Step 11 finished\n"
     ]
    },
    {
     "name": "stdout",
     "output_type": "stream",
     "text": [
      "DEBUG   [simulation.py]: [MaxFind] Step 12 finished\n"
     ]
    },
    {
     "name": "stderr",
     "output_type": "stream",
     "text": [
      "DEBUG:pymote.simulation:[MaxFind] Step 12 finished\n"
     ]
    },
    {
     "name": "stdout",
     "output_type": "stream",
     "text": [
      "DEBUG   [simulation.py]: [MaxFind] Step 13 finished\n"
     ]
    },
    {
     "name": "stderr",
     "output_type": "stream",
     "text": [
      "DEBUG:pymote.simulation:[MaxFind] Step 13 finished\n"
     ]
    },
    {
     "name": "stdout",
     "output_type": "stream",
     "text": [
      "DEBUG   [simulation.py]: [MaxFind] Step 14 finished\n"
     ]
    },
    {
     "name": "stderr",
     "output_type": "stream",
     "text": [
      "DEBUG:pymote.simulation:[MaxFind] Step 14 finished\n"
     ]
    },
    {
     "name": "stdout",
     "output_type": "stream",
     "text": [
      "DEBUG   [simulation.py]: [MaxFind] Step 15 finished\n"
     ]
    },
    {
     "name": "stderr",
     "output_type": "stream",
     "text": [
      "DEBUG:pymote.simulation:[MaxFind] Step 15 finished\n"
     ]
    },
    {
     "name": "stdout",
     "output_type": "stream",
     "text": [
      "DEBUG   [simulation.py]: [MaxFind] Step 16 finished\n"
     ]
    },
    {
     "name": "stderr",
     "output_type": "stream",
     "text": [
      "DEBUG:pymote.simulation:[MaxFind] Step 16 finished\n"
     ]
    },
    {
     "name": "stdout",
     "output_type": "stream",
     "text": [
      "DEBUG   [simulation.py]: [MaxFind] Step 17 finished\n"
     ]
    },
    {
     "name": "stderr",
     "output_type": "stream",
     "text": [
      "DEBUG:pymote.simulation:[MaxFind] Step 17 finished\n"
     ]
    },
    {
     "name": "stdout",
     "output_type": "stream",
     "text": [
      "DEBUG   [simulation.py]: [MaxFind] Step 18 finished\n"
     ]
    },
    {
     "name": "stderr",
     "output_type": "stream",
     "text": [
      "DEBUG:pymote.simulation:[MaxFind] Step 18 finished\n"
     ]
    },
    {
     "name": "stdout",
     "output_type": "stream",
     "text": [
      "DEBUG   [simulation.py]: [MaxFind] Step 19 finished\n"
     ]
    },
    {
     "name": "stderr",
     "output_type": "stream",
     "text": [
      "DEBUG:pymote.simulation:[MaxFind] Step 19 finished\n"
     ]
    },
    {
     "name": "stdout",
     "output_type": "stream",
     "text": [
      "DEBUG   [simulation.py]: [MaxFind] Step 20 finished\n"
     ]
    },
    {
     "name": "stderr",
     "output_type": "stream",
     "text": [
      "DEBUG:pymote.simulation:[MaxFind] Step 20 finished\n"
     ]
    },
    {
     "name": "stdout",
     "output_type": "stream",
     "text": [
      "DEBUG   [simulation.py]: [MaxFind] Step 21 finished\n"
     ]
    },
    {
     "name": "stderr",
     "output_type": "stream",
     "text": [
      "DEBUG:pymote.simulation:[MaxFind] Step 21 finished\n"
     ]
    },
    {
     "name": "stdout",
     "output_type": "stream",
     "text": [
      "DEBUG   [simulation.py]: [MaxFind] Algorithm finished\n"
     ]
    },
    {
     "name": "stderr",
     "output_type": "stream",
     "text": [
      "DEBUG:pymote.simulation:[MaxFind] Algorithm finished\n"
     ]
    },
    {
     "name": "stdout",
     "output_type": "stream",
     "text": [
      "INFO    [simulation.py]: Simulation has finished. There are no algorithms left to run. To run it from the start use sim.reset().\n"
     ]
    },
    {
     "name": "stderr",
     "output_type": "stream",
     "text": [
      "INFO:pymote.simulation:Simulation has finished. There are no algorithms left to run. To run it from the start use sim.reset().\n"
     ]
    },
    {
     "name": "stdout",
     "output_type": "stream",
     "text": [
      "36\n",
      "{'Neighbors': [<Node id=387>, <Node id=390>, <Node id=378>, <Node id=385>, <Node id=384>], 'Max': 36, 'Temperature': -11, 'msgKey': 13}\n",
      "FLOODING\n",
      "36\n",
      "{'Neighbors': [<Node id=379>, <Node id=377>, <Node id=380>, <Node id=390>, <Node id=387>, <Node id=384>], 'Max': 36, 'Temperature': 11, 'msgKey': 21}\n",
      "FLOODING\n",
      "36\n",
      "{'Neighbors': [<Node id=384>, <Node id=388>, <Node id=380>, <Node id=390>, <Node id=378>, <Node id=387>], 'Max': 36, 'Temperature': 16, 'msgKey': 16}\n",
      "FLOODING\n",
      "36\n",
      "{'Neighbors': [<Node id=379>, <Node id=388>, <Node id=390>, <Node id=381>, <Node id=384>, <Node id=378>, <Node id=387>], 'Max': 36, 'Temperature': 20, 'msgKey': 13}\n",
      "FLOODING\n",
      "36\n",
      "{'Neighbors': [<Node id=380>, <Node id=388>], 'Max': 36, 'Temperature': 30, 'msgKey': 3}\n",
      "FLOODING\n",
      "36\n",
      "{'Neighbors': [<Node id=389>, <Node id=383>, <Node id=391>, <Node id=386>], 'Max': 36, 'Temperature': 17, 'msgKey': 13}\n",
      "FLOODING\n",
      "36\n",
      "{'Neighbors': [<Node id=391>, <Node id=389>, <Node id=382>, <Node id=385>, <Node id=386>], 'Max': 36, 'Temperature': -3, 'msgKey': 17}\n",
      "FLOODING\n",
      "36\n",
      "{'Neighbors': [<Node id=379>, <Node id=377>, <Node id=380>, <Node id=390>, <Node id=378>, <Node id=387>], 'Max': 36, 'Temperature': 2, 'msgKey': 21}\n",
      "FLOODING\n",
      "36\n",
      "{'Neighbors': [<Node id=389>, <Node id=383>, <Node id=377>, <Node id=386>], 'Max': 36, 'Temperature': 8, 'msgKey': 10}\n",
      "FLOODING\n",
      "36\n",
      "{'Neighbors': [<Node id=391>, <Node id=383>, <Node id=382>, <Node id=385>, <Node id=389>], 'Max': 36, 'Temperature': 31, 'msgKey': 9}\n",
      "FLOODING\n",
      "36\n",
      "{'Neighbors': [<Node id=384>, <Node id=388>, <Node id=377>, <Node id=380>, <Node id=390>, <Node id=378>, <Node id=379>], 'Max': 36, 'Temperature': 17, 'msgKey': 19}\n",
      "FLOODING\n",
      "36\n",
      "{'Neighbors': [<Node id=379>, <Node id=387>, <Node id=380>, <Node id=381>], 'Max': 36, 'Temperature': 36, 'msgKey': 4}\n",
      "FLOODING\n",
      "36\n",
      "{'Neighbors': [<Node id=391>, <Node id=383>, <Node id=382>, <Node id=385>, <Node id=386>], 'Max': 36, 'Temperature': -6, 'msgKey': 17}\n",
      "FLOODING\n",
      "36\n",
      "{'Neighbors': [<Node id=379>, <Node id=377>, <Node id=380>, <Node id=384>, <Node id=378>, <Node id=387>], 'Max': 36, 'Temperature': 19, 'msgKey': 16}\n",
      "FLOODING\n",
      "36\n",
      "{'Neighbors': [<Node id=389>, <Node id=383>, <Node id=382>, <Node id=386>], 'Max': 36, 'Temperature': 27, 'msgKey': 10}\n",
      "FLOODING\n",
      "Number of nodes:\n",
      "15\n",
      "Number of edges:\n",
      "38\n",
      "Total number of messages:\n",
      "202\n"
     ]
    }
   ],
   "source": [
    "%load_ext autoreload\n",
    "%autoreload 2\n",
    "from pymote.networkgenerator import NetworkGenerator\n",
    "from pymote.simulation import Simulation\n",
    "#from pymote.algorithms.UpdateMax import MaxFind \n",
    "\n",
    "#net_gen = NetworkGenerator(3)\n",
    "#net_gen = NetworkGenerator(5)\n",
    "net_gen = NetworkGenerator(15)\n",
    "#net_gen = NetworkGenerator(500)\n",
    "\n",
    "net = net_gen.generate_random_network()\n",
    "net.algorithms = ( (MaxFind, {'dataKey':'D'}), )\n",
    "\n",
    "#nije potrebno, po algoritmu su svi init\n",
    "#for node in net.nodes():\n",
    "#    node.memory['D']='init'\n",
    "\n",
    "sim = Simulation(net)\n",
    "sim.run()\n",
    "\n",
    "suma=0\n",
    "\n",
    "for node in net.nodes():\n",
    "    print node.memory['Max']\n",
    "    print node.memory\n",
    "    print node.status\n",
    "    suma=suma+node.memory['msgKey']\n",
    "print \"Number of nodes:\"\n",
    "print len(list(net.nodes()))\n",
    "print \"Number of edges:\"\n",
    "print len(list(net.edges()))\n",
    "print \"Total number of messages:\"\n",
    "print suma"
   ]
  },
  {
   "cell_type": "code",
   "execution_count": null,
   "metadata": {
    "collapsed": false
   },
   "outputs": [],
   "source": [
    "net.show() #po gašenju izaziva Dead Kernel"
   ]
  },
  {
   "cell_type": "code",
   "execution_count": null,
   "metadata": {
    "collapsed": false
   },
   "outputs": [],
   "source": [
    "from pymote.npickle import write_pickle, read_pickle\n",
    "write_pickle(net,'mrezaRandom.tar.gz')\n",
    "net_from_file = read_pickle('mrezaRandom.tar.gz') "
   ]
  },
  {
   "cell_type": "code",
   "execution_count": null,
   "metadata": {
    "collapsed": false
   },
   "outputs": [],
   "source": []
  },
  {
   "cell_type": "markdown",
   "metadata": {},
   "source": [
    "### Eksperimentalna analiza"
   ]
  },
  {
   "cell_type": "markdown",
   "metadata": {},
   "source": [
    "### Mreža Lanac (n = 4, m = 5)"
   ]
  },
  {
   "cell_type": "code",
   "execution_count": null,
   "metadata": {
    "collapsed": false
   },
   "outputs": [],
   "source": [
    "from pymote.network import Network\n",
    "net = Network()\n",
    "n = 5\n",
    "u = 100\n",
    "\n",
    "for i in range(0,n*u,u):\n",
    "    node = net.add_node(pos=[1,i])\n",
    "    node.commRange=110\n",
    "#net.show()\n",
    "\n",
    "from pymote.npickle import write_pickle, read_pickle\n",
    "write_pickle(net,'mrezaList.tar.gz')\n",
    "net_from_file = read_pickle('mrezaList.tar.gz') "
   ]
  },
  {
   "cell_type": "markdown",
   "metadata": {},
   "source": [
    "### Mreža Zvijezda (n = 4, m = 5)"
   ]
  },
  {
   "cell_type": "code",
   "execution_count": null,
   "metadata": {
    "collapsed": false
   },
   "outputs": [],
   "source": [
    "from pymote.network import Network\n",
    "net = Network()\n",
    "n = 3\n",
    "for i in range(100,(n+1)*100,100):\n",
    "    node= net.add_node(pos=[i,i])\n",
    "    node.commRange=200\n",
    "\n",
    "node= net.add_node(pos=[100,300])\n",
    "node.commRange=200\n",
    "node= net.add_node(pos=[300,100])\n",
    "node.commRange=200\n",
    "\n",
    "net.show()\n",
    "\n",
    "from pymote.npickle import write_pickle, read_pickle\n",
    "write_pickle(net,'mrezaZvijezda.tar.gz')\n",
    "net_from_file = read_pickle('mrezaZvijezda.tar.gz') "
   ]
  },
  {
   "cell_type": "markdown",
   "metadata": {},
   "source": []
  },
  {
   "cell_type": "code",
   "execution_count": null,
   "metadata": {
    "collapsed": false,
    "scrolled": true
   },
   "outputs": [],
   "source": [
    "%load_ext autoreload\n",
    "%autoreload 2\n",
    "from pymote.networkgenerator import NetworkGenerator\n",
    "from pymote.simulation import Simulation\n",
    "from pymote.npickle import write_pickle, read_pickle\n",
    "\n",
    "#net = read_pickle('mrezaRandom.tar.gz') \n",
    "net = read_pickle('mrezaList.tar.gz')\n",
    "#net = read_pickle('mrezaZvijezda.tar.gz')\n",
    "\n",
    "net.algorithms = ( (MaxFind, {'dataKey':'D'}), )\n",
    "sim = Simulation(net)\n",
    "sim.run()\n",
    "\n",
    "suma=0\n",
    "\n",
    "for node in net.nodes():\n",
    "    print node.memory['Max']\n",
    "    print node.memory\n",
    "    print node.status\n",
    "    suma=suma+node.memory['msgKey']\n",
    "print \"Number of nodes:\"\n",
    "print len(list(net.nodes()))\n",
    "print \"Number of edges:\"\n",
    "print len(list(net.edges()))\n",
    "print \"Total number of messages:\"\n",
    "print suma"
   ]
  },
  {
   "cell_type": "code",
   "execution_count": null,
   "metadata": {
    "collapsed": true
   },
   "outputs": [],
   "source": [
    "net.show()"
   ]
  }
 ],
 "metadata": {
  "kernelspec": {
   "display_name": "Python 2",
   "language": "python",
   "name": "python2"
  },
  "language_info": {
   "codemirror_mode": {
    "name": "ipython",
    "version": 2
   },
   "file_extension": ".py",
   "mimetype": "text/x-python",
   "name": "python",
   "nbconvert_exporter": "python",
   "pygments_lexer": "ipython2",
   "version": "2.7.10"
  }
 },
 "nbformat": 4,
 "nbformat_minor": 0
}
