{
 "cells": [
  {
   "cell_type": "markdown",
   "metadata": {},
   "source": [
    "# 'Maximum Find'\n",
    "\n",
    "The goal of this tutorial is to setup a simulation and run it by using minimal example."
   ]
  },
  {
   "cell_type": "code",
   "execution_count": 29,
   "metadata": {
    "collapsed": false,
    "scrolled": true
   },
   "outputs": [
    {
     "name": "stdout",
     "output_type": "stream",
     "text": [
      "DEBUG   [simulation.py]: Simulation 0x10c39c60 created successfully.\n"
     ]
    },
    {
     "name": "stderr",
     "output_type": "stream",
     "text": [
      "DEBUG:pymote.simulation:Simulation 0x10c39c60 created successfully.\n"
     ]
    },
    {
     "name": "stdout",
     "output_type": "stream",
     "text": [
      "WARNING [simulation.py]: Initializer didn't send INI message\n"
     ]
    },
    {
     "name": "stderr",
     "output_type": "stream",
     "text": [
      "WARNING:pymote.simulation:Initializer didn't send INI message\n"
     ]
    },
    {
     "name": "stdout",
     "output_type": "stream",
     "text": [
      "DEBUG   [simulation.py]: [MaxFind] Algorithm finished\n"
     ]
    },
    {
     "name": "stderr",
     "output_type": "stream",
     "text": [
      "DEBUG:pymote.simulation:[MaxFind] Algorithm finished\n"
     ]
    },
    {
     "name": "stdout",
     "output_type": "stream",
     "text": [
      "{}\n",
      "FLOODING\n",
      "{}\n",
      "FLOODING\n",
      "{}\n",
      "FLOODING\n",
      "{}\n",
      "FLOODING\n",
      "{}\n",
      "FLOODING\n",
      "{}\n",
      "FLOODING\n",
      "{}\n",
      "FLOODING\n",
      "{}\n",
      "FLOODING\n",
      "{}\n",
      "FLOODING\n",
      "{}\n",
      "FLOODING\n",
      "{}\n",
      "FLOODING\n",
      "{}\n",
      "FLOODING\n",
      "{}\n",
      "FLOODING\n",
      "{}\n",
      "FLOODING\n",
      "{}\n",
      "FLOODING\n",
      "{}\n",
      "FLOODING\n",
      "{}\n",
      "FLOODING\n",
      "{}\n",
      "FLOODING\n",
      "{}\n",
      "FLOODING\n",
      "{}\n",
      "FLOODING\n",
      "{}\n",
      "FLOODING\n",
      "{}\n",
      "FLOODING\n",
      "{}\n",
      "FLOODING\n",
      "{}\n",
      "FLOODING\n",
      "{}\n",
      "FLOODING\n",
      "{}\n",
      "FLOODING\n",
      "{}\n",
      "FLOODING\n",
      "{}\n",
      "FLOODING\n",
      "{}\n",
      "FLOODING\n",
      "{}\n",
      "FLOODING\n",
      "{}\n",
      "FLOODING\n",
      "{}\n",
      "FLOODING\n",
      "{}\n",
      "FLOODING\n",
      "{}\n",
      "FLOODING\n",
      "{}\n",
      "FLOODING\n",
      "{}\n",
      "FLOODING\n",
      "{}\n",
      "FLOODING\n",
      "{}\n",
      "FLOODING\n",
      "{}\n",
      "FLOODING\n",
      "{}\n",
      "FLOODING\n",
      "{}\n",
      "FLOODING\n",
      "{}\n",
      "FLOODING\n",
      "{}\n",
      "FLOODING\n",
      "{}\n",
      "FLOODING\n",
      "{}\n",
      "FLOODING\n",
      "{}\n",
      "FLOODING\n",
      "{}\n",
      "FLOODING\n",
      "{}\n",
      "FLOODING\n",
      "{}\n",
      "FLOODING\n",
      "{}\n",
      "FLOODING\n",
      "{}\n",
      "FLOODING\n",
      "{}\n",
      "FLOODING\n",
      "{}\n",
      "FLOODING\n",
      "{}\n",
      "FLOODING\n",
      "{}\n",
      "FLOODING\n",
      "{}\n",
      "FLOODING\n",
      "{}\n",
      "FLOODING\n",
      "{}\n",
      "FLOODING\n",
      "{}\n",
      "FLOODING\n",
      "{}\n",
      "FLOODING\n",
      "{}\n",
      "FLOODING\n",
      "{}\n",
      "FLOODING\n",
      "{}\n",
      "FLOODING\n",
      "{}\n",
      "FLOODING\n",
      "{}\n",
      "FLOODING\n",
      "{}\n",
      "FLOODING\n",
      "{}\n",
      "FLOODING\n",
      "{}\n",
      "FLOODING\n",
      "{}\n",
      "FLOODING\n",
      "{}\n",
      "FLOODING\n",
      "{}\n",
      "FLOODING\n",
      "{}\n",
      "FLOODING\n",
      "{}\n",
      "FLOODING\n",
      "{}\n",
      "FLOODING\n",
      "{}\n",
      "FLOODING\n",
      "{}\n",
      "FLOODING\n",
      "{}\n",
      "FLOODING\n",
      "{}\n",
      "FLOODING\n",
      "{}\n",
      "FLOODING\n",
      "{}\n",
      "FLOODING\n",
      "{}\n",
      "FLOODING\n",
      "{}\n",
      "FLOODING\n",
      "{}\n",
      "FLOODING\n",
      "{}\n",
      "FLOODING\n",
      "{}\n",
      "FLOODING\n",
      "{}\n",
      "FLOODING\n",
      "{}\n",
      "FLOODING\n",
      "{}\n",
      "FLOODING\n",
      "{}\n",
      "FLOODING\n",
      "{}\n",
      "FLOODING\n",
      "{}\n",
      "FLOODING\n",
      "{}\n",
      "FLOODING\n",
      "{}\n",
      "FLOODING\n",
      "{}\n",
      "FLOODING\n",
      "{}\n",
      "FLOODING\n",
      "{}\n",
      "FLOODING\n",
      "{}\n",
      "FLOODING\n",
      "{}\n",
      "FLOODING\n",
      "{}\n",
      "FLOODING\n",
      "{}\n",
      "FLOODING\n"
     ]
    }
   ],
   "source": [
    "from pymote import *\n",
    "net_gen = NetworkGenerator(100)\n",
    "net = net_gen.generate_random_network()\n",
    "from pymote.algorithms.UpdateMax import MaxFind\n",
    "#from pymote.algorithms.turk2018.maxFind import MaxFind\n",
    "#from pymote.algorithms.turk2018.maxFind import MaxFind\n",
    "\n",
    "for node in net.nodes():\n",
    "    node.memory['D']='init'\n",
    "\n",
    "#for node in net.nodes():\n",
    "#    print node.memory\n",
    "    \n",
    "net.algorithms = ( (MaxFind, {'dataKey':'D'}), )\n",
    "\n",
    "\n",
    "for node in net.nodes():\n",
    "    node.memory['D']='init'\n",
    "\n",
    "#some_node = net.nodes()[0]\n",
    "#some_node.memory['I'] = 'mm'\n",
    "sim = Simulation(net)\n",
    "sim.run()\n",
    "\n",
    "for node in net.nodes():\n",
    "    print node.memory\n",
    "    print node.status"
   ]
  },
  {
   "cell_type": "markdown",
   "metadata": {},
   "source": [
    "That's it! For more elaborate description please continue reading."
   ]
  },
  {
   "cell_type": "markdown",
   "metadata": {},
   "source": [
    "In the example given above, the goal was to simulate distributed algorithm `Flood` on arbitrary network. Algorithm `Flood` solves *Broadcast* problem, i.e. the goal of the algorithm is to share information that is present in one or more nodes to all other nodes in the network."
   ]
  },
  {
   "cell_type": "markdown",
   "metadata": {},
   "source": [
    "In this example the IPython interactive console is started with `ipymote` or `ipython --profile=pymote`. This way certain names from Pymote package should already be available such as `Node` or `Network`."
   ]
  },
  {
   "cell_type": "markdown",
   "metadata": {},
   "source": [
    "### Generating network\n",
    "\n",
    "Networks are fundamental objects in the Pymote and they can be created by instantiating `Network` class or by using  `NetworkGenerator` class. `NetworkGenerator` can receive different parameters such as number of nodes (exact, min, max), average number of neighbors per node etc.\n",
    "\n",
    "In this example the only parametar that we want to have in control is number of nodes. which is set to 100."
   ]
  },
  {
   "cell_type": "code",
   "execution_count": null,
   "metadata": {
    "collapsed": false
   },
   "outputs": [],
   "source": [
    "net_gen = NetworkGenerator(100)"
   ]
  },
  {
   "cell_type": "markdown",
   "metadata": {},
   "source": [
    "Now generator's methods can be used to generate new networks with specified parameters, i.e. for generating network with random placement of nodes there is method `generate_random_network()`:"
   ]
  },
  {
   "cell_type": "code",
   "execution_count": null,
   "metadata": {
    "collapsed": false
   },
   "outputs": [],
   "source": [
    "net = net_gen.generate_random_network()"
   ]
  },
  {
   "cell_type": "markdown",
   "metadata": {},
   "source": [
    "*Note:* One of the `NetworkGenerator` parameters control if the generated network should be connected (which means  there are no isolated segments of the network). This parameter `connected` is by default set to `True` so if the number of nodes is set too low then some generator's methods  might not be able to produce the network."
   ]
  },
  {
   "cell_type": "markdown",
   "metadata": {},
   "source": [
    "The result is instance of the Network class:"
   ]
  },
  {
   "cell_type": "code",
   "execution_count": null,
   "metadata": {
    "collapsed": false
   },
   "outputs": [],
   "source": [
    "node.compositeSensor.read()"
   ]
  },
  {
   "cell_type": "markdown",
   "metadata": {},
   "source": [
    "which can be visualized with its `show()` method:"
   ]
  },
  {
   "cell_type": "code",
   "execution_count": null,
   "metadata": {
    "collapsed": false
   },
   "outputs": [],
   "source": [
    "net.show()"
   ]
  },
  {
   "cell_type": "markdown",
   "metadata": {},
   "source": [
    "### Algorithm\n",
    "\n",
    "Algorithm `Flood` is part of the `broadcast` module so it should be imported:"
   ]
  },
  {
   "cell_type": "code",
   "execution_count": null,
   "metadata": {
    "collapsed": false
   },
   "outputs": [],
   "source": [
    "from pymote.algorithms.broadcast import Flood"
   ]
  },
  {
   "cell_type": "markdown",
   "metadata": {},
   "source": [
    "and then assigned to the generated network:"
   ]
  },
  {
   "cell_type": "code",
   "execution_count": null,
   "metadata": {
    "collapsed": false
   },
   "outputs": [],
   "source": [
    "net.algorithms = ( (Flood, {'informationKey':'I'}), )"
   ]
  },
  {
   "cell_type": "markdown",
   "metadata": {},
   "source": [
    "Two things should be noted:\n",
    "\n",
    "* there can be multiple algorithms that are being assigned to the network so specific algorithms are elements of `tuple`. Since in this example there is only one algorithm we must append `,` so that Python knows it's a one element `tuple` i.e. `(1)` is `int`, but `(1,)` is `tuple`.\n",
    "* every algorithm element is `tuple` itself, consisting of two elements. Former is an algorithm class, in this example `Flood`. Later is a `dict` of keyword parameters, i.e. `Flood` must be given 'informationKey' as a required parameter: that is the name of the key under which the nodes should store broadcasted information in their memory.\n"
   ]
  },
  {
   "cell_type": "markdown",
   "metadata": {},
   "source": [
    "This algorithm demands that at least one node knows information to be broadcasted, so in this example at least one node should have some value stored under `I` key:"
   ]
  },
  {
   "cell_type": "code",
   "execution_count": null,
   "metadata": {
    "collapsed": false
   },
   "outputs": [],
   "source": [
    "some_node = net.nodes()[0]                         # take the first node, it can be any node\n",
    "some_node.memory['I'] = 'Hello distributed world'  # under key 'I' write the information to be boradcasted"
   ]
  },
  {
   "cell_type": "markdown",
   "metadata": {},
   "source": [
    " This way `some_node` has become algorithm initiator."
   ]
  },
  {
   "cell_type": "markdown",
   "metadata": {},
   "source": [
    "### Simulation\n",
    "\n",
    "After network creation and setup all that is left to do is to create and run simulation. Every simulation has its own network (sent as parameter) that it runs on:"
   ]
  },
  {
   "cell_type": "code",
   "execution_count": null,
   "metadata": {
    "collapsed": false
   },
   "outputs": [],
   "source": [
    "sim = Simulation(net)"
   ]
  },
  {
   "cell_type": "markdown",
   "metadata": {},
   "source": [
    "Finally, run simulation:"
   ]
  },
  {
   "cell_type": "code",
   "execution_count": null,
   "metadata": {
    "collapsed": false
   },
   "outputs": [],
   "source": [
    "sim.run()"
   ]
  },
  {
   "cell_type": "markdown",
   "metadata": {},
   "source": [
    "After the algorithm(s) execution is done we can check if the resullt is as expected, that is every node should have information in their memory:"
   ]
  },
  {
   "cell_type": "code",
   "execution_count": null,
   "metadata": {
    "collapsed": false
   },
   "outputs": [],
   "source": [
    "for node in net.nodes():\n",
    "    print node.memory['I'],"
   ]
  },
  {
   "cell_type": "markdown",
   "metadata": {},
   "source": [
    "During simulation execution, network and its nodes are changing their status, memory content etc. To memorize the currently running algorithm and current step of the simulation, network has a special attribute `algorithmsState`:"
   ]
  },
  {
   "cell_type": "code",
   "execution_count": null,
   "metadata": {
    "collapsed": false
   },
   "outputs": [],
   "source": [
    "net.algorithmState"
   ]
  },
  {
   "cell_type": "markdown",
   "metadata": {},
   "source": [
    "If simulation is going to be run again, it must be reset:"
   ]
  },
  {
   "cell_type": "code",
   "execution_count": null,
   "metadata": {
    "collapsed": false
   },
   "outputs": [],
   "source": [
    "sim.reset()"
   ]
  },
  {
   "cell_type": "markdown",
   "metadata": {},
   "source": [
    "whereby:\n",
    "\n",
    "* `algorithmState` is returned to the initial value:"
   ]
  },
  {
   "cell_type": "code",
   "execution_count": null,
   "metadata": {
    "collapsed": false
   },
   "outputs": [],
   "source": [
    "net.algorithmState"
   ]
  },
  {
   "cell_type": "markdown",
   "metadata": {},
   "source": [
    "* memory content of all node's is deleted (as long as some other attributes)"
   ]
  },
  {
   "cell_type": "code",
   "execution_count": null,
   "metadata": {
    "collapsed": false
   },
   "outputs": [],
   "source": [
    "for node in net.nodes():\n",
    "    print node.memory,"
   ]
  },
  {
   "cell_type": "code",
   "execution_count": null,
   "metadata": {
    "collapsed": false
   },
   "outputs": [],
   "source": [
    "some_node.memory['I'] = 'Hello again'\n",
    "sim.run()"
   ]
  }
 ],
 "metadata": {
  "kernelspec": {
   "display_name": "Python 2",
   "language": "python",
   "name": "python2"
  },
  "language_info": {
   "codemirror_mode": {
    "name": "ipython",
    "version": 2
   },
   "file_extension": ".py",
   "mimetype": "text/x-python",
   "name": "python",
   "nbconvert_exporter": "python",
   "pygments_lexer": "ipython2",
   "version": "2.7.10"
  }
 },
 "nbformat": 4,
 "nbformat_minor": 0
}
